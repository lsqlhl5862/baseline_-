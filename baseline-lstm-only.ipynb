{
 "cells": [
  {
   "cell_type": "markdown",
   "metadata": {},
   "source": [
    "# 导入相关包"
   ]
  },
  {
   "cell_type": "code",
   "execution_count": 6,
   "metadata": {},
   "outputs": [],
   "source": [
    "# 导入相关包\n",
    "import os\n",
    "import pathlib as pl\n",
    "import pandas as pd\n",
    "import numpy as np\n",
    "import re\n",
    "from io import StringIO\n",
    "from datetime import datetime,timedelta\n",
    "import time\n",
    "from IPython.core.interactiveshell import InteractiveShell\n",
    "from tqdm.autonotebook import *\n",
    "import pdfplumber\n",
    "import collections\n",
    "tqdm.pandas()\n",
    "InteractiveShell.ast_node_interactivity = \"all\"\n",
    "sys.path.append(\"..\")\n",
    "\n",
    "from tgrocery import Grocery\n",
    "import jieba"
   ]
  },
  {
   "cell_type": "markdown",
   "metadata": {},
   "source": [
    "# PDF解析原始数据 \n",
    "## 加载数据并采用pdfplumber抽取PDF中的文字和表格\n"
   ]
  },
  {
   "cell_type": "code",
   "execution_count": 7,
   "metadata": {},
   "outputs": [
    {
     "output_type": "execute_result",
     "data": {
      "text/plain": "   sample_id       认购日期        理财产品名称     产品发行方名称    理财类型  认购金额(万元)  \\\n0          1 2019-03-27         汇聚金1号  中融国际信托有限公司      信托   10000.0   \n1          1 2019-03-27  招商银行步步生金8699        招商银行  银行理财产品     200.0   \n\n       产品起息日      产品到息日  产品期限  资金来源    实际购买公司名称 实际购买公司和上市公司关系 买卖方是否有关联关系  \\\n0 2019-03-27 2019-09-23  180天  自有资金  恒生电子股份有限公司          公司本身          否   \n1 2019-03-27        NaT   NaN  自有资金  恒生电子股份有限公司          公司本身          否   \n\n        公告日期  \n0 2019-04-25  \n1 2019-04-25  ",
      "text/html": "<div>\n<style scoped>\n    .dataframe tbody tr th:only-of-type {\n        vertical-align: middle;\n    }\n\n    .dataframe tbody tr th {\n        vertical-align: top;\n    }\n\n    .dataframe thead th {\n        text-align: right;\n    }\n</style>\n<table border=\"1\" class=\"dataframe\">\n  <thead>\n    <tr style=\"text-align: right;\">\n      <th></th>\n      <th>sample_id</th>\n      <th>认购日期</th>\n      <th>理财产品名称</th>\n      <th>产品发行方名称</th>\n      <th>理财类型</th>\n      <th>认购金额(万元)</th>\n      <th>产品起息日</th>\n      <th>产品到息日</th>\n      <th>产品期限</th>\n      <th>资金来源</th>\n      <th>实际购买公司名称</th>\n      <th>实际购买公司和上市公司关系</th>\n      <th>买卖方是否有关联关系</th>\n      <th>公告日期</th>\n    </tr>\n  </thead>\n  <tbody>\n    <tr>\n      <th>0</th>\n      <td>1</td>\n      <td>2019-03-27</td>\n      <td>汇聚金1号</td>\n      <td>中融国际信托有限公司</td>\n      <td>信托</td>\n      <td>10000.0</td>\n      <td>2019-03-27</td>\n      <td>2019-09-23</td>\n      <td>180天</td>\n      <td>自有资金</td>\n      <td>恒生电子股份有限公司</td>\n      <td>公司本身</td>\n      <td>否</td>\n      <td>2019-04-25</td>\n    </tr>\n    <tr>\n      <th>1</th>\n      <td>1</td>\n      <td>2019-03-27</td>\n      <td>招商银行步步生金8699</td>\n      <td>招商银行</td>\n      <td>银行理财产品</td>\n      <td>200.0</td>\n      <td>2019-03-27</td>\n      <td>NaT</td>\n      <td>NaN</td>\n      <td>自有资金</td>\n      <td>恒生电子股份有限公司</td>\n      <td>公司本身</td>\n      <td>否</td>\n      <td>2019-04-25</td>\n    </tr>\n  </tbody>\n</table>\n</div>"
     },
     "metadata": {},
     "execution_count": 7
    },
    {
     "output_type": "execute_result",
     "data": {
      "text/plain": "   sample_id                  file_path  \\\n0          1  datasets/train_data/1.PDF   \n1          2  datasets/train_data/2.PDF   \n\n                                                text  \\\n0  ['                                            ...   \n1  ['                                            ...   \n\n                                               tabel  \n0  [[['', None, None, '', None, None, '', None, N...  \n1  [[['', None, None, '', None, None, '', None, N...  ",
      "text/html": "<div>\n<style scoped>\n    .dataframe tbody tr th:only-of-type {\n        vertical-align: middle;\n    }\n\n    .dataframe tbody tr th {\n        vertical-align: top;\n    }\n\n    .dataframe thead th {\n        text-align: right;\n    }\n</style>\n<table border=\"1\" class=\"dataframe\">\n  <thead>\n    <tr style=\"text-align: right;\">\n      <th></th>\n      <th>sample_id</th>\n      <th>file_path</th>\n      <th>text</th>\n      <th>tabel</th>\n    </tr>\n  </thead>\n  <tbody>\n    <tr>\n      <th>0</th>\n      <td>1</td>\n      <td>datasets/train_data/1.PDF</td>\n      <td>['                                            ...</td>\n      <td>[[['', None, None, '', None, None, '', None, N...</td>\n    </tr>\n    <tr>\n      <th>1</th>\n      <td>2</td>\n      <td>datasets/train_data/2.PDF</td>\n      <td>['                                            ...</td>\n      <td>[[['', None, None, '', None, None, '', None, N...</td>\n    </tr>\n  </tbody>\n</table>\n</div>"
     },
     "metadata": {},
     "execution_count": 7
    },
    {
     "output_type": "execute_result",
     "data": {
      "text/plain": "   sample_id                     file_path  \\\n0      11188  datasets/test_data/11188.PDF   \n1      11189  datasets/test_data/11189.PDF   \n\n                                                text tabel  \n0  ['北京京西文化旅游股份有限公司监事会\\n \\n \\n关于使用部分闲置募集资金购买理财产品的...    []  \n1  ['北京京西文化旅游股份有限公司 \\n监事会关于使用部分自有资金购买理财产品的意见 \\n根据...    []  ",
      "text/html": "<div>\n<style scoped>\n    .dataframe tbody tr th:only-of-type {\n        vertical-align: middle;\n    }\n\n    .dataframe tbody tr th {\n        vertical-align: top;\n    }\n\n    .dataframe thead th {\n        text-align: right;\n    }\n</style>\n<table border=\"1\" class=\"dataframe\">\n  <thead>\n    <tr style=\"text-align: right;\">\n      <th></th>\n      <th>sample_id</th>\n      <th>file_path</th>\n      <th>text</th>\n      <th>tabel</th>\n    </tr>\n  </thead>\n  <tbody>\n    <tr>\n      <th>0</th>\n      <td>11188</td>\n      <td>datasets/test_data/11188.PDF</td>\n      <td>['北京京西文化旅游股份有限公司监事会\\n \\n \\n关于使用部分闲置募集资金购买理财产品的...</td>\n      <td>[]</td>\n    </tr>\n    <tr>\n      <th>1</th>\n      <td>11189</td>\n      <td>datasets/test_data/11189.PDF</td>\n      <td>['北京京西文化旅游股份有限公司 \\n监事会关于使用部分自有资金购买理财产品的意见 \\n根据...</td>\n      <td>[]</td>\n    </tr>\n  </tbody>\n</table>\n</div>"
     },
     "metadata": {},
     "execution_count": 7
    }
   ],
   "source": [
    "# 数据准备(train_output文件中格式有点问题，需要提前用excel或者wps打开然后另存为excel文件)\n",
    "train_outputs = pd.read_excel('datasets/train_output.xlsx')\n",
    "\n",
    "# 获取pdf中文字和表格\n",
    "def extract_pdf_content(pdf_path):\n",
    "    text_list = []\n",
    "    table_list = []\n",
    "    with pdfplumber.open(pdf_path) as pdf:\n",
    "        for index_page in np.arange(0, len(pdf.pages), 1):\n",
    "            # 读取多页\n",
    "            page = pdf.pages[index_page]   # 第n页的信息\n",
    "            text = page.extract_text()\n",
    "            text_list.append(text)\n",
    "            table = page.extract_tables()\n",
    "            for t in table:\n",
    "                table_list.append(t)\n",
    "    return text_list, table_list\n",
    "\n",
    "def get_dir_file(path):\n",
    "    '''\n",
    "    输入文件夹位置，输出整理好的dataframe\n",
    "    '''\n",
    "    path_list = os.listdir(path)\n",
    "    id_list = []\n",
    "    file_path_list = []\n",
    "    text_list = []\n",
    "    table_list = []\n",
    "    for i in tqdm(path_list):\n",
    "        if '.PDF' in i:\n",
    "            file_path = path + i\n",
    "            id_list.append(int(i.split('.')[0]))\n",
    "            file_path_list.append(file_path)\n",
    "            try:\n",
    "                text_temp, table_temp = extract_pdf_content(file_path)\n",
    "            except Exception:\n",
    "                print('此pdf无法读取')\n",
    "                text_temp, table_temp = [], []\n",
    "            text_list.append(text_temp)\n",
    "            table_list.append(table_temp)\n",
    "            \n",
    "    df = pd.DataFrame()\n",
    "    df['sample_id'] = id_list\n",
    "    df['file_path'] = file_path_list\n",
    "    df['text'] = text_list\n",
    "    df['tabel'] = table_list\n",
    "    df = df.sort_values('sample_id')\n",
    "    return df\n",
    "\n",
    "# 文件处理太慢，可持续化保存文件\n",
    "train_path = 'datasets/train.csv'\n",
    "if os.path.exists(train_path):\n",
    "    train_df = pd.read_csv(train_path)\n",
    "else:\n",
    "    train_df = get_dir_file('datasets/train_data/')\n",
    "    train_df.to_csv(train_path,index=False)\n",
    "    train_df = pd.read_csv(train_path)\n",
    "\n",
    "test_path =  'datasets/test.csv'\n",
    "if os.path.exists(test_path):\n",
    "    test_df = pd.read_csv(test_path)\n",
    "else:\n",
    "    test_df = get_dir_file('datasets/test_data/')\n",
    "    test_df.to_csv(test_path,index=False)\n",
    "    test_df = pd.read_csv(test_path)\n",
    "\n",
    "train_outputs.head(2)\n",
    "train_df.head(2)\n",
    "test_df.head(2)"
   ]
  },
  {
   "cell_type": "code",
   "execution_count": 11,
   "metadata": {},
   "outputs": [],
   "source": [
    "# 构造训练集验证集\n",
    "train_df = train_df.sample(frac=1, random_state=1017)\n",
    "\n",
    "val_df = train_df[:1800]\n",
    "# val_df = train_df[:1800].head(20)\n",
    "train_df = train_df[1800:]\n",
    "# test_df=test_df.head(20)\n",
    "\n",
    "train_outputs[\"sample_id\"]=train_outputs[\"sample_id\"].astype(str)\n",
    "val_df[\"sample_id\"]=val_df[\"sample_id\"].astype(str)\n",
    "train_df[\"sample_id\"]=train_df[\"sample_id\"].astype(str)\n",
    "test_df[\"sample_id\"]=test_df[\"sample_id\"].astype(str)"
   ]
  },
  {
   "cell_type": "code",
   "execution_count": 9,
   "metadata": {
    "tags": []
   },
   "outputs": [
    {
     "output_type": "stream",
     "name": "stderr",
     "text": "100%|██████████| 1800/1800 [00:20<00:00, 89.70it/s]\n100%|██████████| 7217/7217 [01:38<00:00, 73.53it/s]\n100%|██████████| 8660/8660 [02:37<00:00, 54.97it/s]\n"
    }
   ],
   "source": [
    "#text=text.replace(r'[ ]+',' ').replace('\\r','^')\n",
    "def get_title(text):\n",
    "    global title_num_char\n",
    "    title_list=[]\n",
    "    title_type_list=[]\n",
    "    text_start_iter_list=[]\n",
    "    text_end_iter_list=[]\n",
    " \n",
    "    for item in title_num_char:\n",
    "        pattern = re.compile(item+\"[0-9A-Za-z\\u4e00-\\u9fa5 ()\\[\\]（）【】：:]*?[\\^]\")\n",
    "        #pattern = re.compile(item+r\"[ ]*?[^ ]+?[ ]\")\n",
    "        #pattern = re.compile(item+\"[0-9A-Za-z\\u4e00-\\u9fa5 ()[]（）【】][]\")#*?[\\^]\n",
    "        tmp=pattern.finditer(text)\n",
    "        for i in tmp:\n",
    "            title_list.append(i.group())\n",
    "            text_start_iter_list.append(i.span(0)[0])\n",
    "            title_type_list.append(1)\n",
    "            text_end_iter_list.append(i.span(0)[1])\n",
    "\n",
    "    # for item in title_list:\n",
    "    for item in s_title_num_char:\n",
    "        # pattern = re.compile(item+r\"[ ]*?[ ]*?[\\d][^ ]+?:?[ ]?\") \n",
    "        # pattern = re.compile(item+\"[0-9A-Za-z\\u4e00-\\u9fa5\\^ ]*\")\n",
    "        # pattern = re.compile(item+'[0-9\\u4e00-\\u9fa5()[]（）【】*?[\\^]]')*?[\\^]\n",
    "    #    pattern = re.compile(item+r\"[\\d]*?\\u4e00-\\u9fa5+[ ]\")\n",
    "        pattern = re.compile(item+\"[0-9A-Za-z\\u4e00-\\u9fa5 ()\\[\\]（）【】：:]*?[ ][\\^]\")\n",
    "        tmp=pattern.finditer(text)\n",
    "        for i in tmp:\n",
    "            title_list.append(i.group())\n",
    "            text_start_iter_list.append(i.span(0)[0])\n",
    "            title_type_list.append(1)\n",
    "            text_end_iter_list.append(i.span(0)[1])\n",
    "\n",
    "    title_list.append(\"引言\")\n",
    "    title_type_list.append(1)\n",
    "    text_start_iter_list.append(0)\n",
    "    text_end_iter_list.append(0)\n",
    "\n",
    "    result_df=pd.DataFrame([title_list,title_type_list,text_start_iter_list,text_end_iter_list]).T.sort_values(by=2).reset_index(drop=True)\n",
    "    # print(result_df)\n",
    "    return result_df\n",
    "\n",
    "def get_title_text(text,title_df):\n",
    "    # print(title_df)\n",
    "    title_1_df=title_df[title_df[1]==1]\n",
    "    text_iter_list=[]\n",
    "    text_list=[]\n",
    "    # print(title_1_df)\n",
    "    for iter1,iter2 in title_1_df[[2,3]].values:\n",
    "        # print(iter1)\n",
    "        if(len(text_iter_list)!=0):\n",
    "            text_iter_list.append(iter1)\n",
    "        text_iter_list.append(iter2)\n",
    "    # text_iter_list.append(text_iter_list[len(text_iter_list)-1])\n",
    "    text_iter_list.append(len(text))\n",
    "    for index in range(int(len(text_iter_list)/2)):\n",
    "        text_list.append(text[text_iter_list[2*index]:text_iter_list[2*index+1]])\n",
    "    \n",
    "    title_1_df[4]=text_list\n",
    "\n",
    "    return title_1_df.reset_index(drop=True)\n",
    "\n",
    "#from fuzzywuzzy import fuzz\n",
    "def judge_title(sample_id=0,text=r\"test\\n\"):\n",
    "    # print(text)\n",
    "    text=text.replace(r\"\\n\",\"^\").replace(r'[ ]+',' ')\n",
    "    title_df=get_title(text)\n",
    "    title_df[\"sample_id\"]=[sample_id for x in range(title_df.shape[0])]\n",
    "    # print(title_df)`\n",
    "    title_1_df=get_title_text(text,title_df)[[\"sample_id\",0,1,2,3,4]]\n",
    "\n",
    "    \n",
    "\n",
    "    global val_df\n",
    "    global train_outputs\n",
    "    val_true_name=train_outputs[train_outputs[\"sample_id\"]==sample_id][\"理财产品名称\"]\n",
    "    \n",
    "    index=0\n",
    "    neg_index=[]\n",
    "    for title_des in title_1_df[0].values:\n",
    "        for item in title_neg_words:\n",
    "            if re.search(item,title_des) is not None:\n",
    "                neg_index.append(index)\n",
    "                break\n",
    "        index+=1\n",
    "\n",
    "\n",
    "    return title_1_df.drop(neg_index)\n",
    "    # print(title_list)\n",
    "\n",
    "def get_judge_title_result(val_df):\n",
    "\n",
    "    judge_title_result=None\n",
    "\n",
    "\n",
    "    for sample_id,text in tqdm(val_df[[\"sample_id\",\"text\"]].values):\n",
    "        # print(sample_id)\n",
    "        # print(text)\n",
    "        judge_title_result= judge_title(sample_id,text) if judge_title_result is None else pd.concat([judge_title_result,judge_title(sample_id,text)])\n",
    "\n",
    "        judge_title_result[\"sample_id\"]=judge_title_result[\"sample_id\"].astype(str)        \n",
    "    return judge_title_result\n",
    "\n",
    "title_num_char=[\"一、\",\"二、\",\"三、\",\"四、\",\"五、\",\"六、\",\"七、\",\"八、\",\"九、\",\"十、\",\"十一、\",\"十二、\",\"十三、\",\"十四、\",\"十五、\"]\n",
    "s_title_num_char=[\"（一）\",\"（二）\",\"（三）\",\"（四）\",\"（五）\",\"（六）\",\"（七）\",\"（八）\",\"（九）\",\"（十）\",\"（十一）\",\"（十二）\",\"（十三）\",\"（十四）\",\"（十五）\"]\n",
    "s_title_num_char.extend([\"[(]一[)]\",\"[(]二[)]\",\"[(]三[)]\",\"[(]四[)]\",\"[(]五[)]\",\"[(]六[)]\",\"[(]七[)]\",\"[(]八[)]\",\"[(]九[)]\",\"[(]十[)]\",\"[(]十一[)]\",\"[(]十二[)]\",\"[(]十三[)]\",\"[(]十四[)]\",\"[(]十五[)]\"])\n",
    "\n",
    "title_pos_words=[]\n",
    "title_neg_words=[]\n",
    "title_neg_words=[\"备查\",\"日前\",\"过去\",\"履行\",\"审批\",\"程序\",\"风险\",\"措施\",\"影响\",\"累计\",\"赎回\",\"到期[^日].*[^2][^0]\",\"到期.{0,2}[/^]\",\"截至\",\"意见\",\"十二个月内\",\"公告前\",\"报备文件\",\"前期\"]\n",
    "\n",
    "val_judge_title_result=get_judge_title_result(val_df)\n",
    "train_judge_title_result=get_judge_title_result(train_df)\n",
    "test_judge_title_result=get_judge_title_result(test_df)\n",
    "# judge_title_result.to_excel(\"训练集段落标题分类结果.xlsx\",index=None)"
   ]
  },
  {
   "cell_type": "code",
   "execution_count": 12,
   "metadata": {
    "tags": []
   },
   "outputs": [
    {
     "output_type": "stream",
     "name": "stderr",
     "text": "100%|██████████| 1800/1800 [00:02<00:00, 885.42it/s]\n100%|██████████| 7217/7217 [00:15<00:00, 463.82it/s]\n100%|██████████| 8660/8660 [00:23<00:00, 365.25it/s]\n"
    }
   ],
   "source": [
    "###9月11日\n",
    "#val_judge_title_result.head(100)\n",
    "def get_content_df(val_judge_title_result):\n",
    "    sample_id=val_judge_title_result['sample_id'].drop_duplicates() \n",
    "    text_list=[]\n",
    "    text_sampleid_list=[]\n",
    "    content_df=pd.DataFrame()\n",
    "    for i in tqdm(sample_id):\n",
    "        text_df=val_judge_title_result[val_judge_title_result['sample_id']==i]\n",
    "    #  text_df.iloc[0,5]\n",
    "        #text_df\n",
    "        n=len(text_df)\n",
    "        text_sampleid_list.append(i)\n",
    "        text=''\n",
    "        for y in range(0,n):\n",
    "            text=text+text_df.iloc[y,1]+text_df.iloc[y,5]\n",
    "            text=re.sub(\"[ ]+\",\" \",text).replace(\"（\",\"(\").replace(\"）\",\")\")\n",
    "        #text\n",
    "        text_list.append(text)\n",
    "    content_df[\"sample_id\"]=text_sampleid_list\n",
    "    content_df[\"text\"]=text_list\n",
    "    return content_df.reset_index(drop=True)\n",
    "\n",
    "\n",
    "val_content_df=get_content_df(val_judge_title_result)\n",
    "train_content_df=get_content_df(train_judge_title_result)\n",
    "test_content_df=get_content_df(test_judge_title_result)\n",
    "\n",
    "val_content_df=pd.merge(val_content_df,val_df[[\"sample_id\",\"tabel\"]],on=\"sample_id\")\n",
    "train_content_df=pd.merge(train_content_df,train_df[[\"sample_id\",\"tabel\"]],on=\"sample_id\")\n",
    "test_content_df=pd.merge(test_content_df,test_df[[\"sample_id\",\"tabel\"]],on=\"sample_id\")"
   ]
  },
  {
   "cell_type": "markdown",
   "metadata": {},
   "source": [
    "### 1.采用LSTM网络用提取好的部分跟pdf中的text做交互预测\n",
    "#### 理财类型、资金来源、实际购买公司和上市公司关系、买卖方是否有关联关系"
   ]
  },
  {
   "cell_type": "code",
   "execution_count": 13,
   "metadata": {},
   "outputs": [],
   "source": [
    "val_df=val_content_df\n",
    "train_df=train_content_df\n",
    "test_df=test_content_df"
   ]
  },
  {
   "cell_type": "code",
   "execution_count": 14,
   "metadata": {},
   "outputs": [],
   "source": [
    "# 最后一部分字段采用预测好的部分，跟提取的text做交互采用双输入lstm在dense层做交互预测最后几个字段\n",
    "train_lstm_input = pd.merge(train_df, train_outputs, on='sample_id', how='left')\n",
    "train_lstm_input = train_lstm_input.fillna('否')\n",
    "# label_1理财类型-10  label_2资金来源-3 label_3实际购买公司和上市公司关系-3 label_4买卖方是否有关联关系-2\n",
    "from sklearn.preprocessing import LabelEncoder\n",
    "label_1 = LabelEncoder()\n",
    "label_2 = LabelEncoder()\n",
    "label_3 = LabelEncoder()\n",
    "label_4 = LabelEncoder()\n",
    "\n",
    "train_data = pd.DataFrame()\n",
    "train_data['text_1'] = train_lstm_input['理财产品名称'].astype(str) + '_' + train_lstm_input['产品发行方名称'].astype(str)\n",
    "\n",
    "train_data['text_2'] = train_lstm_input['text'].astype(str)\n",
    "\n",
    "train_data['text_2'] = train_lstm_input['实际购买公司'].astype(str)\n",
    "\n",
    "train_data['label_1'] = label_1.fit_transform(train_lstm_input['理财类型'])\n",
    "train_data['label_2'] = label_2.fit_transform(train_lstm_input['资金来源'])\n",
    "train_data['label_3'] = label_3.fit_transform(train_lstm_input['实际购买公司和上市公司关系'])\n",
    "train_data['label_4'] = label_4.fit_transform(train_lstm_input['买卖方是否有关联关系'])\n"
   ]
  },
  {
   "cell_type": "code",
   "execution_count": 15,
   "metadata": {},
   "outputs": [],
   "source": [
    "# 导入相关库\n",
    "import os\n",
    "import pandas as pd\n",
    "from tqdm.autonotebook import *\n",
    "from sklearn.decomposition import LatentDirichletAllocation\n",
    "from sklearn.metrics import accuracy_score\n",
    "import time\n",
    "from sklearn.feature_extraction.text import TfidfTransformer\n",
    "from sklearn.feature_extraction.text import CountVectorizer\n",
    "from sklearn.feature_extraction.text import TfidfVectorizer\n",
    "from scipy.sparse import hstack\n",
    "from sklearn.model_selection import StratifiedKFold\n",
    "from gensim.models import FastText, Word2Vec\n",
    "import re\n",
    "from keras.layers import *\n",
    "from keras.models import *\n",
    "from keras.preprocessing.text import Tokenizer, text_to_word_sequence\n",
    "from keras.preprocessing.sequence import pad_sequences\n",
    "from keras.preprocessing import text, sequence\n",
    "from keras.callbacks import *\n",
    "from keras.layers.advanced_activations import LeakyReLU, PReLU\n",
    "import keras.backend as K\n",
    "from keras.optimizers import *\n",
    "from keras.utils import to_categorical\n",
    "import tensorflow as tf\n",
    "import random as rn\n",
    "import gc\n",
    "import logging\n",
    "import gensim\n",
    "import jieba\n",
    "tqdm.pandas()\n",
    "os.environ['PYTHONHASHSEED'] = '0'\n",
    "# 显卡使用（如没显卡需要注释掉）\n",
    "os.environ['CUDA_VISIBLE_DEVICES'] = \"0\"\n",
    "np.random.seed(1024)\n",
    "rn.seed(1024)\n",
    "tf.random.set_seed(1024)"
   ]
  },
  {
   "cell_type": "code",
   "execution_count": 16,
   "metadata": {
    "tags": []
   },
   "outputs": [
    {
     "output_type": "stream",
     "name": "stderr",
     "text": "0%|          | 0/20165 [00:00<?, ?it/s]Building prefix dict from the default dictionary ...\nDumping model to file cache C:\\Users\\lsqlh\\AppData\\Local\\Temp\\jieba.cache\nLoading model cost 1.112 seconds.\nPrefix dict has been built successfully.\n100%|██████████| 20165/20165 [00:04<00:00, 4993.96it/s]\n100%|██████████| 20165/20165 [04:28<00:00, 75.07it/s]\n"
    },
    {
     "output_type": "execute_result",
     "data": {
      "text/plain": "                                              text_1  \\\n0  中银 保本 理财 - 人民币 按期 开放 理财产品 _ 中国银行 股份 有限公司 广州 东山 支行   \n1  中银 保本 理财 - 人民币 按期 开放 理财产品 _ 中国银行 股份 有限公司 广州 东山 支行   \n2                  与 利率 挂钩 的 结构性 产品 _ 中国民生银行 股份 有限公司   \n3  广发 银行 “ 薪 加薪 ” 16 号 XJXCKJ2578 _ 广发 银行 股份 有限公司...   \n4  兴业银行 “ 金 雪球 - 优悦 ” 保本 开放式 人民币 理财产品 ( 2M ) _ 兴业...   \n\n                                              text_2  label_1  label_2  \\\n0  引言 [ ' 证券 代码 ： 600728   证券 简称 ： 佳 都 科技   公告 编号...        9        1   \n1  引言 [ ' 证券 代码 ： 600728   证券 简称 ： 佳 都 科技   公告 编号...        9        1   \n2  引言 [ ' 证券 代码 ： 600211   证券 简称 ： 西藏药业   公告 编号 ：...        9        0   \n3  引言 [ ' 证券 代码 ： 002171   证券 简称 ： 楚江 新材   公告 编号 ...        9        1   \n4  引言 [ ' 证券 代码 ： 002171   证券 简称 ： 楚江 新材   公告 编号 ...        9        1   \n\n   label_3  label_4  \n0        0        0  \n1        0        0  \n2        0        0  \n3        2        0  \n4        0        0  ",
      "text/html": "<div>\n<style scoped>\n    .dataframe tbody tr th:only-of-type {\n        vertical-align: middle;\n    }\n\n    .dataframe tbody tr th {\n        vertical-align: top;\n    }\n\n    .dataframe thead th {\n        text-align: right;\n    }\n</style>\n<table border=\"1\" class=\"dataframe\">\n  <thead>\n    <tr style=\"text-align: right;\">\n      <th></th>\n      <th>text_1</th>\n      <th>text_2</th>\n      <th>label_1</th>\n      <th>label_2</th>\n      <th>label_3</th>\n      <th>label_4</th>\n    </tr>\n  </thead>\n  <tbody>\n    <tr>\n      <th>0</th>\n      <td>中银 保本 理财 - 人民币 按期 开放 理财产品 _ 中国银行 股份 有限公司 广州 东山 支行</td>\n      <td>引言 [ ' 证券 代码 ： 600728   证券 简称 ： 佳 都 科技   公告 编号...</td>\n      <td>9</td>\n      <td>1</td>\n      <td>0</td>\n      <td>0</td>\n    </tr>\n    <tr>\n      <th>1</th>\n      <td>中银 保本 理财 - 人民币 按期 开放 理财产品 _ 中国银行 股份 有限公司 广州 东山 支行</td>\n      <td>引言 [ ' 证券 代码 ： 600728   证券 简称 ： 佳 都 科技   公告 编号...</td>\n      <td>9</td>\n      <td>1</td>\n      <td>0</td>\n      <td>0</td>\n    </tr>\n    <tr>\n      <th>2</th>\n      <td>与 利率 挂钩 的 结构性 产品 _ 中国民生银行 股份 有限公司</td>\n      <td>引言 [ ' 证券 代码 ： 600211   证券 简称 ： 西藏药业   公告 编号 ：...</td>\n      <td>9</td>\n      <td>0</td>\n      <td>0</td>\n      <td>0</td>\n    </tr>\n    <tr>\n      <th>3</th>\n      <td>广发 银行 “ 薪 加薪 ” 16 号 XJXCKJ2578 _ 广发 银行 股份 有限公司...</td>\n      <td>引言 [ ' 证券 代码 ： 002171   证券 简称 ： 楚江 新材   公告 编号 ...</td>\n      <td>9</td>\n      <td>1</td>\n      <td>2</td>\n      <td>0</td>\n    </tr>\n    <tr>\n      <th>4</th>\n      <td>兴业银行 “ 金 雪球 - 优悦 ” 保本 开放式 人民币 理财产品 ( 2M ) _ 兴业...</td>\n      <td>引言 [ ' 证券 代码 ： 002171   证券 简称 ： 楚江 新材   公告 编号 ...</td>\n      <td>9</td>\n      <td>1</td>\n      <td>0</td>\n      <td>0</td>\n    </tr>\n  </tbody>\n</table>\n</div>"
     },
     "metadata": {},
     "execution_count": 16
    }
   ],
   "source": [
    "train_data['text_1'] = train_data['text_1'].progress_apply(lambda row:' '.join(jieba.lcut(str(row))))\n",
    "train_data['text_2'] = train_data['text_2'].progress_apply(lambda row:' '.join(jieba.lcut(str(row))))\n",
    "train_data.head(5)"
   ]
  },
  {
   "cell_type": "code",
   "execution_count": 17,
   "metadata": {},
   "outputs": [],
   "source": [
    "### Tokenizer 序列化文本\n",
    "def set_tokenizer(docs, split_char=' ', max_len=100):\n",
    "    '''\n",
    "    输入\n",
    "    docs:文本列表\n",
    "    split_char:按什么字符切割\n",
    "    max_len:截取的最大长度\n",
    "    \n",
    "    输出\n",
    "    X:序列化后的数据\n",
    "    word_index:文本和数字对应的索引\n",
    "    '''\n",
    "    tokenizer = Tokenizer(lower=False, char_level=False, split=split_char)\n",
    "    tokenizer.fit_on_texts(docs)\n",
    "    X = tokenizer.texts_to_sequences(docs)\n",
    "    maxlen = max_len\n",
    "    X = pad_sequences(X, maxlen=maxlen, value=0)\n",
    "    word_index=tokenizer.word_index\n",
    "    return X, word_index, tokenizer\n",
    "\n",
    "### 做embedding 这里采用word2vec 可以换成其他例如（glove词向量）\n",
    "def trian_save_word2vec(docs, embed_size=300, save_name='w2v.txt', split_char=' '):\n",
    "    '''\n",
    "    输入\n",
    "    docs:输入的文本列表\n",
    "    embed_size:embed长度\n",
    "    save_name:保存的word2vec位置\n",
    "    \n",
    "    输出\n",
    "    w2v:返回的模型\n",
    "    '''\n",
    "    input_docs = []\n",
    "    for i in docs:\n",
    "        input_docs.append(i.split(split_char))\n",
    "    logging.basicConfig(\n",
    "    format='%(asctime)s:%(levelname)s:%(message)s', level=logging.INFO)\n",
    "    w2v = Word2Vec(input_docs, size=embed_size, sg=1, window=8, seed=1017, workers=24, min_count=1, iter=10)\n",
    "    w2v.save(save_name)\n",
    "    print(\"w2v model done\")\n",
    "    return w2v\n",
    "\n",
    "# 得到embedding矩阵\n",
    "def get_embedding_matrix(word_index, embed_size=300, Emed_path=\"w2v_300.txt\"):\n",
    "    embeddings_index = Word2Vec.load(Emed_path)\n",
    "    nb_words = len(word_index)+1\n",
    "    embedding_matrix = np.zeros((nb_words, embed_size))\n",
    "    count = 0\n",
    "    for word, i in tqdm(word_index.items()):\n",
    "        if i >= nb_words:\n",
    "            continue\n",
    "        try:\n",
    "            embedding_vector = embeddings_index[word]\n",
    "        except:\n",
    "            embedding_vector = np.zeros(embed_size)\n",
    "            count += 1\n",
    "        if embedding_vector is not None:\n",
    "            embedding_matrix[i] = embedding_vector  \n",
    "    print(\"null cnt\",count)\n",
    "    return embedding_matrix\n",
    "\n",
    "# 得到fasttext矩阵\n",
    "def load_fasttext(word_index, path):  \n",
    "    count=0\n",
    "    null_list=[]\n",
    "    def get_coefs(word,*arr): return word, np.asarray(arr, dtype='float32')\n",
    "    embeddings_index = dict(get_coefs(*o.split(\" \")) for o in open(path, encoding='utf-8') if len(o)>100)\n",
    "\n",
    "    all_embs = np.stack(embeddings_index.values())\n",
    "    emb_mean,emb_std = all_embs.mean(), all_embs.std()\n",
    "    embed_size = all_embs.shape[1]\n",
    "\n",
    "    # word_index = tokenizer.word_index\n",
    "    nb_words =  len(word_index)+1\n",
    "    embedding_matrix = np.random.normal(emb_mean, emb_std, (nb_words, embed_size))\n",
    "    for word, i in word_index.items():\n",
    "        if i >= nb_words: continue\n",
    "        embedding_vector = embeddings_index.get(word)\n",
    "        if embedding_vector is not None: \n",
    "            embedding_matrix[i] = embedding_vector\n",
    "        else:\n",
    "            null_list.append(word)\n",
    "            count+=1\n",
    "    print(\"null cnt:\",count)\n",
    "    return embedding_matrix\n",
    "\n",
    "def get_embedding_matrix_txt(word_index,embed_size=200,Emed_path=\"w2v_300.txt\"):\n",
    "    embeddings_index = gensim.models.KeyedVectors.load_word2vec_format(\n",
    "        Emed_path, binary=False)\n",
    "    nb_words = len(word_index)+1\n",
    "    embedding_matrix = np.zeros((nb_words, embed_size))\n",
    "    count = 0\n",
    "    for word, i in tqdm(word_index.items()):\n",
    "        if i >= nb_words:\n",
    "            continue\n",
    "        try:\n",
    "            embedding_vector = embeddings_index[word]\n",
    "        except:\n",
    "            embedding_vector = np.zeros(embed_size)\n",
    "            count += 1\n",
    "        if embedding_vector is not None:\n",
    "            embedding_matrix[i] = embedding_vector\n",
    "    print(\"null cnt\",count)\n",
    "    return embedding_matrix"
   ]
  },
  {
   "cell_type": "markdown",
   "metadata": {},
   "source": [
    "### 2.训练得到word2vec"
   ]
  },
  {
   "cell_type": "code",
   "execution_count": 18,
   "metadata": {
    "tags": []
   },
   "outputs": [
    {
     "output_type": "stream",
     "name": "stdout",
     "text": "开始序列化\n序列化完成\n"
    },
    {
     "output_type": "execute_result",
     "data": {
      "text/plain": "22"
     },
     "metadata": {},
     "execution_count": 18
    },
    {
     "output_type": "stream",
     "name": "stderr",
     "text": "12:18:27,263:INFO:worker thread finished; awaiting finish of 16 more threads\n2020-09-12 12:18:27,268:INFO:worker thread finished; awaiting finish of 15 more threads\n2020-09-12 12:18:27,270:INFO:worker thread finished; awaiting finish of 14 more threads\n2020-09-12 12:18:27,313:INFO:worker thread finished; awaiting finish of 13 more threads\n2020-09-12 12:18:27,375:INFO:worker thread finished; awaiting finish of 12 more threads\n2020-09-12 12:18:27,381:INFO:worker thread finished; awaiting finish of 11 more threads\n2020-09-12 12:18:27,390:INFO:worker thread finished; awaiting finish of 10 more threads\n2020-09-12 12:18:27,399:INFO:worker thread finished; awaiting finish of 9 more threads\n2020-09-12 12:18:27,402:INFO:worker thread finished; awaiting finish of 8 more threads\n2020-09-12 12:18:27,405:INFO:worker thread finished; awaiting finish of 7 more threads\n2020-09-12 12:18:27,409:INFO:worker thread finished; awaiting finish of 6 more threads\n2020-09-12 12:18:27,419:INFO:worker thread finished; awaiting finish of 5 more threads\n2020-09-12 12:18:27,429:INFO:worker thread finished; awaiting finish of 4 more threads\n2020-09-12 12:18:27,433:INFO:worker thread finished; awaiting finish of 3 more threads\n2020-09-12 12:18:27,437:INFO:worker thread finished; awaiting finish of 2 more threads\n2020-09-12 12:18:27,440:INFO:worker thread finished; awaiting finish of 1 more threads\n2020-09-12 12:18:27,448:INFO:worker thread finished; awaiting finish of 0 more threads\n2020-09-12 12:18:27,450:INFO:EPOCH - 2 : training on 132145 raw words (79590 effective words) took 0.3s, 300501 effective words/s\n2020-09-12 12:18:27,487:INFO:worker thread finished; awaiting finish of 23 more threads\n2020-09-12 12:18:27,488:INFO:worker thread finished; awaiting finish of 22 more threads\n2020-09-12 12:18:27,497:INFO:worker thread finished; awaiting finish of 21 more threads\n2020-09-12 12:18:27,533:INFO:worker thread finished; awaiting finish of 20 more threads\n2020-09-12 12:18:27,536:INFO:worker thread finished; awaiting finish of 19 more threads\n2020-09-12 12:18:27,569:INFO:worker thread finished; awaiting finish of 18 more threads\n2020-09-12 12:18:27,589:INFO:worker thread finished; awaiting finish of 17 more threads\n2020-09-12 12:18:27,599:INFO:worker thread finished; awaiting finish of 16 more threads\n2020-09-12 12:18:27,604:INFO:worker thread finished; awaiting finish of 15 more threads\n2020-09-12 12:18:27,606:INFO:worker thread finished; awaiting finish of 14 more threads\n2020-09-12 12:18:27,609:INFO:worker thread finished; awaiting finish of 13 more threads\n2020-09-12 12:18:27,632:INFO:worker thread finished; awaiting finish of 12 more threads\n2020-09-12 12:18:27,654:INFO:worker thread finished; awaiting finish of 11 more threads\n2020-09-12 12:18:27,658:INFO:worker thread finished; awaiting finish of 10 more threads\n2020-09-12 12:18:27,665:INFO:worker thread finished; awaiting finish of 9 more threads\n2020-09-12 12:18:27,686:INFO:worker thread finished; awaiting finish of 8 more threads\n2020-09-12 12:18:27,694:INFO:worker thread finished; awaiting finish of 7 more threads\n2020-09-12 12:18:27,698:INFO:worker thread finished; awaiting finish of 6 more threads\n2020-09-12 12:18:27,700:INFO:worker thread finished; awaiting finish of 5 more threads\n2020-09-12 12:18:27,716:INFO:worker thread finished; awaiting finish of 4 more threads\n2020-09-12 12:18:27,719:INFO:worker thread finished; awaiting finish of 3 more threads\n2020-09-12 12:18:27,731:INFO:worker thread finished; awaiting finish of 2 more threads\n2020-09-12 12:18:27,735:INFO:worker thread finished; awaiting finish of 1 more threads\n2020-09-12 12:18:27,738:INFO:worker thread finished; awaiting finish of 0 more threads\n2020-09-12 12:18:27,738:INFO:EPOCH - 3 : training on 132145 raw words (79670 effective words) took 0.3s, 299594 effective words/s\n2020-09-12 12:18:27,772:INFO:worker thread finished; awaiting finish of 23 more threads\n2020-09-12 12:18:27,773:INFO:worker thread finished; awaiting finish of 22 more threads\n2020-09-12 12:18:27,774:INFO:worker thread finished; awaiting finish of 21 more threads\n2020-09-12 12:18:27,778:INFO:worker thread finished; awaiting finish of 20 more threads\n2020-09-12 12:18:27,796:INFO:worker thread finished; awaiting finish of 19 more threads\n2020-09-12 12:18:27,813:INFO:worker thread finished; awaiting finish of 18 more threads\n2020-09-12 12:18:27,817:INFO:worker thread finished; awaiting finish of 17 more threads\n2020-09-12 12:18:27,826:INFO:worker thread finished; awaiting finish of 16 more threads\n2020-09-12 12:18:27,840:INFO:worker thread finished; awaiting finish of 15 more threads\n2020-09-12 12:18:27,862:INFO:worker thread finished; awaiting finish of 14 more threads\n2020-09-12 12:18:27,877:INFO:worker thread finished; awaiting finish of 13 more threads\n2020-09-12 12:18:27,907:INFO:worker thread finished; awaiting finish of 12 more threads\n2020-09-12 12:18:27,916:INFO:worker thread finished; awaiting finish of 11 more threads\n2020-09-12 12:18:27,927:INFO:worker thread finished; awaiting finish of 10 more threads\n2020-09-12 12:18:27,948:INFO:worker thread finished; awaiting finish of 9 more threads\n2020-09-12 12:18:27,952:INFO:worker thread finished; awaiting finish of 8 more threads\n2020-09-12 12:18:27,967:INFO:worker thread finished; awaiting finish of 7 more threads\n2020-09-12 12:18:27,972:INFO:worker thread finished; awaiting finish of 6 more threads\n2020-09-12 12:18:27,993:INFO:worker thread finished; awaiting finish of 5 more threads\n2020-09-12 12:18:27,996:INFO:worker thread finished; awaiting finish of 4 more threads\n2020-09-12 12:18:28,002:INFO:worker thread finished; awaiting finish of 3 more threads\n2020-09-12 12:18:28,005:INFO:worker thread finished; awaiting finish of 2 more threads\n2020-09-12 12:18:28,009:INFO:worker thread finished; awaiting finish of 1 more threads\n2020-09-12 12:18:28,012:INFO:worker thread finished; awaiting finish of 0 more threads\n2020-09-12 12:18:28,012:INFO:EPOCH - 4 : training on 132145 raw words (79861 effective words) took 0.3s, 318873 effective words/s\n2020-09-12 12:18:28,046:INFO:worker thread finished; awaiting finish of 23 more threads\n2020-09-12 12:18:28,050:INFO:worker thread finished; awaiting finish of 22 more threads\n2020-09-12 12:18:28,054:INFO:worker thread finished; awaiting finish of 21 more threads\n2020-09-12 12:18:28,078:INFO:worker thread finished; awaiting finish of 20 more threads\n2020-09-12 12:18:28,085:INFO:worker thread finished; awaiting finish of 19 more threads\n2020-09-12 12:18:28,115:INFO:worker thread finished; awaiting finish of 18 more threads\n2020-09-12 12:18:28,133:INFO:worker thread finished; awaiting finish of 17 more threads\n2020-09-12 12:18:28,135:INFO:worker thread finished; awaiting finish of 16 more threads\n2020-09-12 12:18:28,137:INFO:worker thread finished; awaiting finish of 15 more threads\n2020-09-12 12:18:28,145:INFO:worker thread finished; awaiting finish of 14 more threads\n2020-09-12 12:18:28,158:INFO:worker thread finished; awaiting finish of 13 more threads\n2020-09-12 12:18:28,209:INFO:worker thread finished; awaiting finish of 12 more threads\n2020-09-12 12:18:28,218:INFO:worker thread finished; awaiting finish of 11 more threads\n2020-09-12 12:18:28,222:INFO:worker thread finished; awaiting finish of 10 more threads\n2020-09-12 12:18:28,239:INFO:worker thread finished; awaiting finish of 9 more threads\n2020-09-12 12:18:28,243:INFO:worker thread finished; awaiting finish of 8 more threads\n2020-09-12 12:18:28,251:INFO:worker thread finished; awaiting finish of 7 more threads\n2020-09-12 12:18:28,254:INFO:worker thread finished; awaiting finish of 6 more threads\n2020-09-12 12:18:28,258:INFO:worker thread finished; awaiting finish of 5 more threads\n2020-09-12 12:18:28,262:INFO:worker thread finished; awaiting finish of 4 more threads\n2020-09-12 12:18:28,272:INFO:worker thread finished; awaiting finish of 3 more threads\n2020-09-12 12:18:28,275:INFO:worker thread finished; awaiting finish of 2 more threads\n2020-09-12 12:18:28,276:INFO:worker thread finished; awaiting finish of 1 more threads\n2020-09-12 12:18:28,284:INFO:worker thread finished; awaiting finish of 0 more threads\n2020-09-12 12:18:28,286:INFO:EPOCH - 5 : training on 132145 raw words (79859 effective words) took 0.3s, 314671 effective words/s\n2020-09-12 12:18:28,314:INFO:worker thread finished; awaiting finish of 23 more threads\n2020-09-12 12:18:28,316:INFO:worker thread finished; awaiting finish of 22 more threads\n2020-09-12 12:18:28,317:INFO:worker thread finished; awaiting finish of 21 more threads\n2020-09-12 12:18:28,352:INFO:worker thread finished; awaiting finish of 20 more threads\n2020-09-12 12:18:28,354:INFO:worker thread finished; awaiting finish of 19 more threads\n2020-09-12 12:18:28,361:INFO:worker thread finished; awaiting finish of 18 more threads\n2020-09-12 12:18:28,380:INFO:worker thread finished; awaiting finish of 17 more threads\n2020-09-12 12:18:28,391:INFO:worker thread finished; awaiting finish of 16 more threads\n2020-09-12 12:18:28,400:INFO:worker thread finished; awaiting finish of 15 more threads\n2020-09-12 12:18:28,402:INFO:worker thread finished; awaiting finish of 14 more threads\n2020-09-12 12:18:28,425:INFO:worker thread finished; awaiting finish of 13 more threads\n2020-09-12 12:18:28,470:INFO:worker thread finished; awaiting finish of 12 more threads\n2020-09-12 12:18:28,489:INFO:worker thread finished; awaiting finish of 11 more threads\n2020-09-12 12:18:28,495:INFO:worker thread finished; awaiting finish of 10 more threads\n2020-09-12 12:18:28,498:INFO:worker thread finished; awaiting finish of 9 more threads\n2020-09-12 12:18:28,506:INFO:worker thread finished; awaiting finish of 8 more threads\n2020-09-12 12:18:28,514:INFO:worker thread finished; awaiting finish of 7 more threads\n2020-09-12 12:18:28,521:INFO:worker thread finished; awaiting finish of 6 more threads\n2020-09-12 12:18:28,524:INFO:worker thread finished; awaiting finish of 5 more threads\n2020-09-12 12:18:28,525:INFO:worker thread finished; awaiting finish of 4 more threads\n2020-09-12 12:18:28,535:INFO:worker thread finished; awaiting finish of 3 more threads\n2020-09-12 12:18:28,538:INFO:worker thread finished; awaiting finish of 2 more threads\n2020-09-12 12:18:28,542:INFO:worker thread finished; awaiting finish of 1 more threads\n2020-09-12 12:18:28,545:INFO:worker thread finished; awaiting finish of 0 more threads\n2020-09-12 12:18:28,546:INFO:EPOCH - 6 : training on 132145 raw words (79456 effective words) took 0.2s, 330820 effective words/s\n2020-09-12 12:18:28,575:INFO:worker thread finished; awaiting finish of 23 more threads\n2020-09-12 12:18:28,576:INFO:worker thread finished; awaiting finish of 22 more threads\n2020-09-12 12:18:28,577:INFO:worker thread finished; awaiting finish of 21 more threads\n2020-09-12 12:18:28,615:INFO:worker thread finished; awaiting finish of 20 more threads\n2020-09-12 12:18:28,620:INFO:worker thread finished; awaiting finish of 19 more threads\n2020-09-12 12:18:28,651:INFO:worker thread finished; awaiting finish of 18 more threads\n2020-09-12 12:18:28,690:INFO:worker thread finished; awaiting finish of 17 more threads\n2020-09-12 12:18:28,695:INFO:worker thread finished; awaiting finish of 16 more threads\n2020-09-12 12:18:28,698:INFO:worker thread finished; awaiting finish of 15 more threads\n2020-09-12 12:18:28,700:INFO:worker thread finished; awaiting finish of 14 more threads\n2020-09-12 12:18:28,703:INFO:worker thread finished; awaiting finish of 13 more threads\n2020-09-12 12:18:28,705:INFO:worker thread finished; awaiting finish of 12 more threads\n2020-09-12 12:18:28,728:INFO:worker thread finished; awaiting finish of 11 more threads\n2020-09-12 12:18:28,739:INFO:worker thread finished; awaiting finish of 10 more threads\n2020-09-12 12:18:28,747:INFO:worker thread finished; awaiting finish of 9 more threads\n2020-09-12 12:18:28,749:INFO:worker thread finished; awaiting finish of 8 more threads\n2020-09-12 12:18:28,767:INFO:worker thread finished; awaiting finish of 7 more threads\n2020-09-12 12:18:28,770:INFO:worker thread finished; awaiting finish of 6 more threads\n2020-09-12 12:18:28,785:INFO:worker thread finished; awaiting finish of 5 more threads\n2020-09-12 12:18:28,803:INFO:worker thread finished; awaiting finish of 4 more threads\n2020-09-12 12:18:28,807:INFO:worker thread finished; awaiting finish of 3 more threads\n2020-09-12 12:18:28,810:INFO:worker thread finished; awaiting finish of 2 more threads\n2020-09-12 12:18:28,813:INFO:worker thread finished; awaiting finish of 1 more threads\n2020-09-12 12:18:28,827:INFO:worker thread finished; awaiting finish of 0 more threads\n2020-09-12 12:18:28,829:INFO:EPOCH - 7 : training on 132145 raw words (79668 effective words) took 0.3s, 301635 effective words/s\n2020-09-12 12:18:28,880:INFO:worker thread finished; awaiting finish of 23 more threads\n2020-09-12 12:18:28,884:INFO:worker thread finished; awaiting finish of 22 more threads\n2020-09-12 12:18:28,885:INFO:worker thread finished; awaiting finish of 21 more threads\n2020-09-12 12:18:28,890:INFO:worker thread finished; awaiting finish of 20 more threads\n2020-09-12 12:18:28,924:INFO:worker thread finished; awaiting finish of 19 more threads\n2020-09-12 12:18:28,937:INFO:worker thread finished; awaiting finish of 18 more threads\n2020-09-12 12:18:28,951:INFO:worker thread finished; awaiting finish of 17 more threads\n2020-09-12 12:18:28,963:INFO:worker thread finished; awaiting finish of 16 more threads\n2020-09-12 12:18:28,983:INFO:worker thread finished; awaiting finish of 15 more threads\n2020-09-12 12:18:28,992:INFO:worker thread finished; awaiting finish of 14 more threads\n2020-09-12 12:18:28,995:INFO:worker thread finished; awaiting finish of 13 more threads\n2020-09-12 12:18:29,034:INFO:worker thread finished; awaiting finish of 12 more threads\n2020-09-12 12:18:29,057:INFO:worker thread finished; awaiting finish of 11 more threads\n2020-09-12 12:18:29,059:INFO:worker thread finished; awaiting finish of 10 more threads\n2020-09-12 12:18:29,074:INFO:worker thread finished; awaiting finish of 9 more threads\n2020-09-12 12:18:29,077:INFO:worker thread finished; awaiting finish of 8 more threads\n2020-09-12 12:18:29,081:INFO:worker thread finished; awaiting finish of 7 more threads\n2020-09-12 12:18:29,086:INFO:worker thread finished; awaiting finish of 6 more threads\n2020-09-12 12:18:29,099:INFO:worker thread finished; awaiting finish of 5 more threads\n2020-09-12 12:18:29,101:INFO:worker thread finished; awaiting finish of 4 more threads\n2020-09-12 12:18:29,109:INFO:worker thread finished; awaiting finish of 3 more threads\n2020-09-12 12:18:29,112:INFO:worker thread finished; awaiting finish of 2 more threads\n2020-09-12 12:18:29,113:INFO:worker thread finished; awaiting finish of 1 more threads\n2020-09-12 12:18:29,115:INFO:worker thread finished; awaiting finish of 0 more threads\n2020-09-12 12:18:29,117:INFO:EPOCH - 8 : training on 132145 raw words (79611 effective words) took 0.3s, 309476 effective words/s\n2020-09-12 12:18:29,152:INFO:worker thread finished; awaiting finish of 23 more threads\n2020-09-12 12:18:29,153:INFO:worker thread finished; awaiting finish of 22 more threads\n2020-09-12 12:18:29,162:INFO:worker thread finished; awaiting finish of 21 more threads\n2020-09-12 12:18:29,192:INFO:worker thread finished; awaiting finish of 20 more threads\n2020-09-12 12:18:29,205:INFO:worker thread finished; awaiting finish of 19 more threads\n2020-09-12 12:18:29,208:INFO:worker thread finished; awaiting finish of 18 more threads\n2020-09-12 12:18:29,215:INFO:worker thread finished; awaiting finish of 17 more threads\n2020-09-12 12:18:29,223:INFO:worker thread finished; awaiting finish of 16 more threads\n2020-09-12 12:18:29,234:INFO:worker thread finished; awaiting finish of 15 more threads\n2020-09-12 12:18:29,240:INFO:worker thread finished; awaiting finish of 14 more threads\n2020-09-12 12:18:29,274:INFO:worker thread finished; awaiting finish of 13 more threads\n2020-09-12 12:18:29,286:INFO:worker thread finished; awaiting finish of 12 more threads\n2020-09-12 12:18:29,360:INFO:worker thread finished; awaiting finish of 11 more threads\n2020-09-12 12:18:29,364:INFO:worker thread finished; awaiting finish of 10 more threads\n2020-09-12 12:18:29,375:INFO:worker thread finished; awaiting finish of 9 more threads\n2020-09-12 12:18:29,378:INFO:worker thread finished; awaiting finish of 8 more threads\n2020-09-12 12:18:29,381:INFO:worker thread finished; awaiting finish of 7 more threads\n2020-09-12 12:18:29,389:INFO:worker thread finished; awaiting finish of 6 more threads\n2020-09-12 12:18:29,393:INFO:worker thread finished; awaiting finish of 5 more threads\n2020-09-12 12:18:29,395:INFO:worker thread finished; awaiting finish of 4 more threads\n2020-09-12 12:18:29,398:INFO:worker thread finished; awaiting finish of 3 more threads\n2020-09-12 12:18:29,403:INFO:worker thread finished; awaiting finish of 2 more threads\n2020-09-12 12:18:29,407:INFO:worker thread finished; awaiting finish of 1 more threads\n2020-09-12 12:18:29,412:INFO:worker thread finished; awaiting finish of 0 more threads\n2020-09-12 12:18:29,414:INFO:EPOCH - 9 : training on 132145 raw words (79837 effective words) took 0.3s, 290152 effective words/s\n2020-09-12 12:18:29,445:INFO:worker thread finished; awaiting finish of 23 more threads\n2020-09-12 12:18:29,446:INFO:worker thread finished; awaiting finish of 22 more threads\n2020-09-12 12:18:29,450:INFO:worker thread finished; awaiting finish of 21 more threads\n2020-09-12 12:18:29,479:INFO:worker thread finished; awaiting finish of 20 more threads\n2020-09-12 12:18:29,485:INFO:worker thread finished; awaiting finish of 19 more threads\n2020-09-12 12:18:29,492:INFO:worker thread finished; awaiting finish of 18 more threads\n2020-09-12 12:18:29,508:INFO:worker thread finished; awaiting finish of 17 more threads\n2020-09-12 12:18:29,514:INFO:worker thread finished; awaiting finish of 16 more threads\n2020-09-12 12:18:29,526:INFO:worker thread finished; awaiting finish of 15 more threads\n2020-09-12 12:18:29,533:INFO:worker thread finished; awaiting finish of 14 more threads\n2020-09-12 12:18:29,561:INFO:worker thread finished; awaiting finish of 13 more threads\n2020-09-12 12:18:29,578:INFO:worker thread finished; awaiting finish of 12 more threads\n2020-09-12 12:18:29,637:INFO:worker thread finished; awaiting finish of 11 more threads\n2020-09-12 12:18:29,641:INFO:worker thread finished; awaiting finish of 10 more threads\n2020-09-12 12:18:29,645:INFO:worker thread finished; awaiting finish of 9 more threads\n2020-09-12 12:18:29,653:INFO:worker thread finished; awaiting finish of 8 more threads\n2020-09-12 12:18:29,659:INFO:worker thread finished; awaiting finish of 7 more threads\n2020-09-12 12:18:29,663:INFO:worker thread finished; awaiting finish of 6 more threads\n2020-09-12 12:18:29,669:INFO:worker thread finished; awaiting finish of 5 more threads\n2020-09-12 12:18:29,674:INFO:worker thread finished; awaiting finish of 4 more threads\n2020-09-12 12:18:29,681:INFO:worker thread finished; awaiting finish of 3 more threads\n2020-09-12 12:18:29,692:INFO:worker thread finished; awaiting finish of 2 more threads\n2020-09-12 12:18:29,696:INFO:worker thread finished; awaiting finish of 1 more threads\n2020-09-12 12:18:29,698:INFO:worker thread finished; awaiting finish of 0 more threads\n2020-09-12 12:18:29,700:INFO:EPOCH - 10 : training on 132145 raw words (79610 effective words) took 0.3s, 301898 effective words/s\n2020-09-12 12:18:29,701:INFO:training on a 1321450 raw words (796893 effective words) took 2.8s, 284000 effective words/s\n2020-09-12 12:18:29,703:WARNING:under 10 jobs per worker: consider setting a smaller `batch_words' for smoother alpha decay\n2020-09-12 12:18:29,704:INFO:saving Word2Vec object under models/w2v_300_1.txt, separately None\n2020-09-12 12:18:29,706:INFO:not storing attribute vectors_norm\n2020-09-12 12:18:29,707:INFO:not storing attribute cum_table\n2020-09-12 12:18:29,879:INFO:saved models/w2v_300_1.txt\nw2v model done\n"
    },
    {
     "output_type": "execute_result",
     "data": {
      "text/plain": "<gensim.models.word2vec.Word2Vec at 0x2af6b2c06a0>"
     },
     "metadata": {},
     "execution_count": 18
    },
    {
     "output_type": "execute_result",
     "data": {
      "text/plain": "0"
     },
     "metadata": {},
     "execution_count": 18
    },
    {
     "output_type": "stream",
     "name": "stderr",
     "text": ":INFO:worker thread finished; awaiting finish of 22 more threads\n2020-09-12 12:19:38,796:INFO:worker thread finished; awaiting finish of 21 more threads\n2020-09-12 12:19:38,800:INFO:worker thread finished; awaiting finish of 20 more threads\n2020-09-12 12:19:38,805:INFO:worker thread finished; awaiting finish of 19 more threads\n2020-09-12 12:19:38,812:INFO:worker thread finished; awaiting finish of 18 more threads\n2020-09-12 12:19:38,817:INFO:worker thread finished; awaiting finish of 17 more threads\n2020-09-12 12:19:38,830:INFO:worker thread finished; awaiting finish of 16 more threads\n2020-09-12 12:19:38,878:INFO:worker thread finished; awaiting finish of 15 more threads\n2020-09-12 12:19:38,892:INFO:worker thread finished; awaiting finish of 14 more threads\n2020-09-12 12:19:38,953:INFO:worker thread finished; awaiting finish of 13 more threads\n2020-09-12 12:19:38,955:INFO:worker thread finished; awaiting finish of 12 more threads\n2020-09-12 12:19:38,956:INFO:worker thread finished; awaiting finish of 11 more threads\n2020-09-12 12:19:38,964:INFO:worker thread finished; awaiting finish of 10 more threads\n2020-09-12 12:19:38,977:INFO:worker thread finished; awaiting finish of 9 more threads\n2020-09-12 12:19:38,982:INFO:worker thread finished; awaiting finish of 8 more threads\n2020-09-12 12:19:39,023:INFO:worker thread finished; awaiting finish of 7 more threads\n2020-09-12 12:19:39,032:INFO:worker thread finished; awaiting finish of 6 more threads\n2020-09-12 12:19:39,046:INFO:worker thread finished; awaiting finish of 5 more threads\n2020-09-12 12:19:39,051:INFO:worker thread finished; awaiting finish of 4 more threads\n2020-09-12 12:19:39,055:INFO:worker thread finished; awaiting finish of 3 more threads\n2020-09-12 12:19:39,063:INFO:worker thread finished; awaiting finish of 2 more threads\n2020-09-12 12:19:39,085:INFO:worker thread finished; awaiting finish of 1 more threads\n2020-09-12 12:19:39,093:INFO:worker thread finished; awaiting finish of 0 more threads\n2020-09-12 12:19:39,095:INFO:EPOCH - 5 : training on 5518737 raw words (3301149 effective words) took 12.2s, 269683 effective words/s\n2020-09-12 12:19:40,159:INFO:EPOCH 6 - PROGRESS: at 5.69% examples, 198609 words/s, in_qsize 47, out_qsize 0\n2020-09-12 12:19:41,162:INFO:EPOCH 6 - PROGRESS: at 14.79% examples, 240308 words/s, in_qsize 47, out_qsize 0\n2020-09-12 12:19:42,225:INFO:EPOCH 6 - PROGRESS: at 21.18% examples, 235490 words/s, in_qsize 45, out_qsize 2\n2020-09-12 12:19:43,242:INFO:EPOCH 6 - PROGRESS: at 32.63% examples, 261560 words/s, in_qsize 47, out_qsize 0\n2020-09-12 12:19:44,290:INFO:EPOCH 6 - PROGRESS: at 38.88% examples, 258306 words/s, in_qsize 47, out_qsize 0\n2020-09-12 12:19:45,312:INFO:EPOCH 6 - PROGRESS: at 43.02% examples, 258224 words/s, in_qsize 47, out_qsize 0\n2020-09-12 12:19:46,368:INFO:EPOCH 6 - PROGRESS: at 52.95% examples, 260048 words/s, in_qsize 48, out_qsize 3\n2020-09-12 12:19:47,378:INFO:EPOCH 6 - PROGRESS: at 61.63% examples, 260158 words/s, in_qsize 47, out_qsize 0\n2020-09-12 12:19:48,430:INFO:EPOCH 6 - PROGRESS: at 70.24% examples, 261529 words/s, in_qsize 48, out_qsize 0\n2020-09-12 12:19:49,498:INFO:EPOCH 6 - PROGRESS: at 80.24% examples, 265423 words/s, in_qsize 47, out_qsize 0\n2020-09-12 12:19:50,580:INFO:EPOCH 6 - PROGRESS: at 89.73% examples, 263916 words/s, in_qsize 47, out_qsize 4\n2020-09-12 12:19:51,009:INFO:worker thread finished; awaiting finish of 23 more threads\n2020-09-12 12:19:51,030:INFO:worker thread finished; awaiting finish of 22 more threads\n2020-09-12 12:19:51,045:INFO:worker thread finished; awaiting finish of 21 more threads\n2020-09-12 12:19:51,053:INFO:worker thread finished; awaiting finish of 20 more threads\n2020-09-12 12:19:51,087:INFO:worker thread finished; awaiting finish of 19 more threads\n2020-09-12 12:19:51,089:INFO:worker thread finished; awaiting finish of 18 more threads\n2020-09-12 12:19:51,100:INFO:worker thread finished; awaiting finish of 17 more threads\n2020-09-12 12:19:51,107:INFO:worker thread finished; awaiting finish of 16 more threads\n2020-09-12 12:19:51,112:INFO:worker thread finished; awaiting finish of 15 more threads\n2020-09-12 12:19:51,114:INFO:worker thread finished; awaiting finish of 14 more threads\n2020-09-12 12:19:51,131:INFO:worker thread finished; awaiting finish of 13 more threads\n2020-09-12 12:19:51,137:INFO:worker thread finished; awaiting finish of 12 more threads\n2020-09-12 12:19:51,166:INFO:worker thread finished; awaiting finish of 11 more threads\n2020-09-12 12:19:51,181:INFO:worker thread finished; awaiting finish of 10 more threads\n2020-09-12 12:19:51,190:INFO:worker thread finished; awaiting finish of 9 more threads\n2020-09-12 12:19:51,192:INFO:worker thread finished; awaiting finish of 8 more threads\n2020-09-12 12:19:51,205:INFO:worker thread finished; awaiting finish of 7 more threads\n2020-09-12 12:19:51,216:INFO:worker thread finished; awaiting finish of 6 more threads\n2020-09-12 12:19:51,230:INFO:worker thread finished; awaiting finish of 5 more threads\n2020-09-12 12:19:51,236:INFO:worker thread finished; awaiting finish of 4 more threads\n2020-09-12 12:19:51,240:INFO:worker thread finished; awaiting finish of 3 more threads\n2020-09-12 12:19:51,242:INFO:worker thread finished; awaiting finish of 2 more threads\n2020-09-12 12:19:51,247:INFO:worker thread finished; awaiting finish of 1 more threads\n2020-09-12 12:19:51,368:INFO:worker thread finished; awaiting finish of 0 more threads\n2020-09-12 12:19:51,370:INFO:EPOCH - 6 : training on 5518737 raw words (3300939 effective words) took 12.2s, 269757 effective words/s\n2020-09-12 12:19:52,449:INFO:EPOCH 7 - PROGRESS: at 5.23% examples, 172485 words/s, in_qsize 47, out_qsize 0\n2020-09-12 12:19:53,459:INFO:EPOCH 7 - PROGRESS: at 15.29% examples, 244885 words/s, in_qsize 47, out_qsize 0\n2020-09-12 12:19:54,476:INFO:EPOCH 7 - PROGRESS: at 22.82% examples, 250473 words/s, in_qsize 47, out_qsize 0\n2020-09-12 12:19:55,476:INFO:EPOCH 7 - PROGRESS: at 31.91% examples, 255861 words/s, in_qsize 46, out_qsize 1\n2020-09-12 12:19:56,506:INFO:EPOCH 7 - PROGRESS: at 37.89% examples, 254526 words/s, in_qsize 48, out_qsize 0\n2020-09-12 12:19:57,541:INFO:EPOCH 7 - PROGRESS: at 42.21% examples, 255888 words/s, in_qsize 47, out_qsize 0\n2020-09-12 12:19:58,546:INFO:EPOCH 7 - PROGRESS: at 53.19% examples, 263719 words/s, in_qsize 47, out_qsize 0\n2020-09-12 12:19:59,552:INFO:EPOCH 7 - PROGRESS: at 61.80% examples, 264077 words/s, in_qsize 47, out_qsize 0\n2020-09-12 12:20:00,560:INFO:EPOCH 7 - PROGRESS: at 69.59% examples, 263216 words/s, in_qsize 47, out_qsize 0\n2020-09-12 12:20:01,569:INFO:EPOCH 7 - PROGRESS: at 78.55% examples, 265543 words/s, in_qsize 47, out_qsize 0\n2020-09-12 12:20:02,617:INFO:EPOCH 7 - PROGRESS: at 86.32% examples, 261978 words/s, in_qsize 48, out_qsize 0\n2020-09-12 12:20:03,426:INFO:worker thread finished; awaiting finish of 23 more threads\n2020-09-12 12:20:03,456:INFO:worker thread finished; awaiting finish of 22 more threads\n2020-09-12 12:20:03,479:INFO:worker thread finished; awaiting finish of 21 more threads\n2020-09-12 12:20:03,509:INFO:worker thread finished; awaiting finish of 20 more threads\n2020-09-12 12:20:03,511:INFO:worker thread finished; awaiting finish of 19 more threads\n2020-09-12 12:20:03,523:INFO:worker thread finished; awaiting finish of 18 more threads\n2020-09-12 12:20:03,536:INFO:worker thread finished; awaiting finish of 17 more threads\n2020-09-12 12:20:03,546:INFO:worker thread finished; awaiting finish of 16 more threads\n2020-09-12 12:20:03,556:INFO:worker thread finished; awaiting finish of 15 more threads\n2020-09-12 12:20:03,558:INFO:worker thread finished; awaiting finish of 14 more threads\n2020-09-12 12:20:03,591:INFO:worker thread finished; awaiting finish of 13 more threads\n2020-09-12 12:20:03,598:INFO:worker thread finished; awaiting finish of 12 more threads\n2020-09-12 12:20:03,603:INFO:worker thread finished; awaiting finish of 11 more threads\n2020-09-12 12:20:03,605:INFO:worker thread finished; awaiting finish of 10 more threads\n2020-09-12 12:20:03,616:INFO:worker thread finished; awaiting finish of 9 more threads\n2020-09-12 12:20:03,621:INFO:EPOCH 7 - PROGRESS: at 98.95% examples, 266161 words/s, in_qsize 8, out_qsize 1\n2020-09-12 12:20:03,623:INFO:worker thread finished; awaiting finish of 8 more threads\n2020-09-12 12:20:03,632:INFO:worker thread finished; awaiting finish of 7 more threads\n2020-09-12 12:20:03,639:INFO:worker thread finished; awaiting finish of 6 more threads\n2020-09-12 12:20:03,661:INFO:worker thread finished; awaiting finish of 5 more threads\n2020-09-12 12:20:03,681:INFO:worker thread finished; awaiting finish of 4 more threads\n2020-09-12 12:20:03,687:INFO:worker thread finished; awaiting finish of 3 more threads\n2020-09-12 12:20:03,695:INFO:worker thread finished; awaiting finish of 2 more threads\n2020-09-12 12:20:03,698:INFO:worker thread finished; awaiting finish of 1 more threads\n2020-09-12 12:20:03,700:INFO:worker thread finished; awaiting finish of 0 more threads\n2020-09-12 12:20:03,701:INFO:EPOCH - 7 : training on 5518737 raw words (3300762 effective words) took 12.3s, 268379 effective words/s\n2020-09-12 12:20:04,821:INFO:EPOCH 8 - PROGRESS: at 5.47% examples, 177472 words/s, in_qsize 47, out_qsize 0\n2020-09-12 12:20:05,854:INFO:EPOCH 8 - PROGRESS: at 14.99% examples, 228586 words/s, in_qsize 47, out_qsize 0\n2020-09-12 12:20:06,930:INFO:EPOCH 8 - PROGRESS: at 21.90% examples, 233249 words/s, in_qsize 48, out_qsize 0\n2020-09-12 12:20:07,943:INFO:EPOCH 8 - PROGRESS: at 32.13% examples, 250472 words/s, in_qsize 47, out_qsize 0\n2020-09-12 12:20:08,996:INFO:EPOCH 8 - PROGRESS: at 38.79% examples, 251950 words/s, in_qsize 48, out_qsize 1\n2020-09-12 12:20:10,039:INFO:EPOCH 8 - PROGRESS: at 43.04% examples, 253040 words/s, in_qsize 47, out_qsize 2\n2020-09-12 12:20:11,052:INFO:EPOCH 8 - PROGRESS: at 53.47% examples, 259474 words/s, in_qsize 47, out_qsize 0\n2020-09-12 12:20:12,116:INFO:EPOCH 8 - PROGRESS: at 63.40% examples, 263377 words/s, in_qsize 47, out_qsize 0\n2020-09-12 12:20:13,189:INFO:EPOCH 8 - PROGRESS: at 71.88% examples, 261996 words/s, in_qsize 48, out_qsize 0\n2020-09-12 12:20:14,200:INFO:EPOCH 8 - PROGRESS: at 80.30% examples, 263958 words/s, in_qsize 47, out_qsize 0\n2020-09-12 12:20:15,232:INFO:EPOCH 8 - PROGRESS: at 91.58% examples, 266555 words/s, in_qsize 43, out_qsize 0\n2020-09-12 12:20:15,635:INFO:worker thread finished; awaiting finish of 23 more threads\n2020-09-12 12:20:15,640:INFO:worker thread finished; awaiting finish of 22 more threads\n2020-09-12 12:20:15,642:INFO:worker thread finished; awaiting finish of 21 more threads\n2020-09-12 12:20:15,662:INFO:worker thread finished; awaiting finish of 20 more threads\n2020-09-12 12:20:15,672:INFO:worker thread finished; awaiting finish of 19 more threads\n2020-09-12 12:20:15,674:INFO:worker thread finished; awaiting finish of 18 more threads\n2020-09-12 12:20:15,714:INFO:worker thread finished; awaiting finish of 17 more threads\n2020-09-12 12:20:15,729:INFO:worker thread finished; awaiting finish of 16 more threads\n2020-09-12 12:20:15,735:INFO:worker thread finished; awaiting finish of 15 more threads\n2020-09-12 12:20:15,752:INFO:worker thread finished; awaiting finish of 14 more threads\n2020-09-12 12:20:15,765:INFO:worker thread finished; awaiting finish of 13 more threads\n2020-09-12 12:20:15,770:INFO:worker thread finished; awaiting finish of 12 more threads\n2020-09-12 12:20:15,801:INFO:worker thread finished; awaiting finish of 11 more threads\n2020-09-12 12:20:15,803:INFO:worker thread finished; awaiting finish of 10 more threads\n2020-09-12 12:20:15,827:INFO:worker thread finished; awaiting finish of 9 more threads\n2020-09-12 12:20:15,831:INFO:worker thread finished; awaiting finish of 8 more threads\n2020-09-12 12:20:15,835:INFO:worker thread finished; awaiting finish of 7 more threads\n2020-09-12 12:20:15,856:INFO:worker thread finished; awaiting finish of 6 more threads\n2020-09-12 12:20:15,863:INFO:worker thread finished; awaiting finish of 5 more threads\n2020-09-12 12:20:15,875:INFO:worker thread finished; awaiting finish of 4 more threads\n2020-09-12 12:20:15,900:INFO:worker thread finished; awaiting finish of 3 more threads\n2020-09-12 12:20:15,931:INFO:worker thread finished; awaiting finish of 2 more threads\n2020-09-12 12:20:15,948:INFO:worker thread finished; awaiting finish of 1 more threads\n2020-09-12 12:20:15,968:INFO:worker thread finished; awaiting finish of 0 more threads\n2020-09-12 12:20:15,969:INFO:EPOCH - 8 : training on 5518737 raw words (3299950 effective words) took 12.2s, 269746 effective words/s\n2020-09-12 12:20:17,052:INFO:EPOCH 9 - PROGRESS: at 5.00% examples, 169053 words/s, in_qsize 47, out_qsize 0\n2020-09-12 12:20:18,162:INFO:EPOCH 9 - PROGRESS: at 14.62% examples, 225864 words/s, in_qsize 47, out_qsize 0\n2020-09-12 12:20:19,203:INFO:EPOCH 9 - PROGRESS: at 22.75% examples, 241389 words/s, in_qsize 47, out_qsize 0\n2020-09-12 12:20:20,210:INFO:EPOCH 9 - PROGRESS: at 32.33% examples, 253429 words/s, in_qsize 47, out_qsize 0\n2020-09-12 12:20:21,214:INFO:EPOCH 9 - PROGRESS: at 38.18% examples, 252126 words/s, in_qsize 47, out_qsize 0\n2020-09-12 12:20:22,296:INFO:EPOCH 9 - PROGRESS: at 42.01% examples, 249360 words/s, in_qsize 47, out_qsize 0\n2020-09-12 12:20:23,308:INFO:EPOCH 9 - PROGRESS: at 50.50% examples, 247757 words/s, in_qsize 47, out_qsize 0\n2020-09-12 12:20:24,326:INFO:EPOCH 9 - PROGRESS: at 58.95% examples, 248003 words/s, in_qsize 47, out_qsize 0\n2020-09-12 12:20:25,372:INFO:EPOCH 9 - PROGRESS: at 66.56% examples, 245505 words/s, in_qsize 48, out_qsize 1\n2020-09-12 12:20:26,425:INFO:EPOCH 9 - PROGRESS: at 73.02% examples, 241570 words/s, in_qsize 47, out_qsize 0\n2020-09-12 12:20:27,493:INFO:EPOCH 9 - PROGRESS: at 81.09% examples, 242452 words/s, in_qsize 47, out_qsize 1\n2020-09-12 12:20:28,499:INFO:EPOCH 9 - PROGRESS: at 89.42% examples, 241665 words/s, in_qsize 47, out_qsize 0\n2020-09-12 12:20:29,082:INFO:worker thread finished; awaiting finish of 23 more threads\n2020-09-12 12:20:29,087:INFO:worker thread finished; awaiting finish of 22 more threads\n2020-09-12 12:20:29,098:INFO:worker thread finished; awaiting finish of 21 more threads\n2020-09-12 12:20:29,107:INFO:worker thread finished; awaiting finish of 20 more threads\n2020-09-12 12:20:29,115:INFO:worker thread finished; awaiting finish of 19 more threads\n2020-09-12 12:20:29,123:INFO:worker thread finished; awaiting finish of 18 more threads\n2020-09-12 12:20:29,228:INFO:worker thread finished; awaiting finish of 17 more threads\n2020-09-12 12:20:29,231:INFO:worker thread finished; awaiting finish of 16 more threads\n2020-09-12 12:20:29,232:INFO:worker thread finished; awaiting finish of 15 more threads\n2020-09-12 12:20:29,233:INFO:worker thread finished; awaiting finish of 14 more threads\n2020-09-12 12:20:29,235:INFO:worker thread finished; awaiting finish of 13 more threads\n2020-09-12 12:20:29,236:INFO:worker thread finished; awaiting finish of 12 more threads\n2020-09-12 12:20:29,237:INFO:worker thread finished; awaiting finish of 11 more threads\n2020-09-12 12:20:29,239:INFO:worker thread finished; awaiting finish of 10 more threads\n2020-09-12 12:20:29,263:INFO:worker thread finished; awaiting finish of 9 more threads\n2020-09-12 12:20:29,295:INFO:worker thread finished; awaiting finish of 8 more threads\n2020-09-12 12:20:29,312:INFO:worker thread finished; awaiting finish of 7 more threads\n2020-09-12 12:20:29,316:INFO:worker thread finished; awaiting finish of 6 more threads\n2020-09-12 12:20:29,340:INFO:worker thread finished; awaiting finish of 5 more threads\n2020-09-12 12:20:29,364:INFO:worker thread finished; awaiting finish of 4 more threads\n2020-09-12 12:20:29,375:INFO:worker thread finished; awaiting finish of 3 more threads\n2020-09-12 12:20:29,408:INFO:worker thread finished; awaiting finish of 2 more threads\n2020-09-12 12:20:29,423:INFO:worker thread finished; awaiting finish of 1 more threads\n2020-09-12 12:20:29,431:INFO:worker thread finished; awaiting finish of 0 more threads\n2020-09-12 12:20:29,433:INFO:EPOCH - 9 : training on 5518737 raw words (3301769 effective words) took 13.4s, 246194 effective words/s\n2020-09-12 12:20:30,594:INFO:EPOCH 10 - PROGRESS: at 4.73% examples, 145475 words/s, in_qsize 48, out_qsize 0\n2020-09-12 12:20:31,605:INFO:EPOCH 10 - PROGRESS: at 11.65% examples, 179622 words/s, in_qsize 47, out_qsize 0\n2020-09-12 12:20:32,612:INFO:EPOCH 10 - PROGRESS: at 18.11% examples, 200919 words/s, in_qsize 46, out_qsize 1\n2020-09-12 12:20:33,617:INFO:EPOCH 10 - PROGRESS: at 29.17% examples, 231537 words/s, in_qsize 47, out_qsize 0\n2020-09-12 12:20:34,662:INFO:EPOCH 10 - PROGRESS: at 36.78% examples, 241895 words/s, in_qsize 47, out_qsize 0\n2020-09-12 12:20:35,679:INFO:EPOCH 10 - PROGRESS: at 41.38% examples, 244785 words/s, in_qsize 47, out_qsize 0\n2020-09-12 12:20:36,687:INFO:EPOCH 10 - PROGRESS: at 51.00% examples, 254579 words/s, in_qsize 47, out_qsize 0\n2020-09-12 12:20:37,759:INFO:EPOCH 10 - PROGRESS: at 60.75% examples, 256948 words/s, in_qsize 48, out_qsize 0\n2020-09-12 12:20:38,769:INFO:EPOCH 10 - PROGRESS: at 69.77% examples, 260863 words/s, in_qsize 47, out_qsize 0\n2020-09-12 12:20:39,771:INFO:EPOCH 10 - PROGRESS: at 78.75% examples, 264125 words/s, in_qsize 47, out_qsize 0\n2020-09-12 12:20:40,781:INFO:EPOCH 10 - PROGRESS: at 88.55% examples, 265128 words/s, in_qsize 47, out_qsize 0\n2020-09-12 12:20:41,479:INFO:worker thread finished; awaiting finish of 23 more threads\n2020-09-12 12:20:41,481:INFO:worker thread finished; awaiting finish of 22 more threads\n2020-09-12 12:20:41,496:INFO:worker thread finished; awaiting finish of 21 more threads\n2020-09-12 12:20:41,501:INFO:worker thread finished; awaiting finish of 20 more threads\n2020-09-12 12:20:41,512:INFO:worker thread finished; awaiting finish of 19 more threads\n2020-09-12 12:20:41,542:INFO:worker thread finished; awaiting finish of 18 more threads\n2020-09-12 12:20:41,556:INFO:worker thread finished; awaiting finish of 17 more threads\n2020-09-12 12:20:41,572:INFO:worker thread finished; awaiting finish of 16 more threads\n2020-09-12 12:20:41,583:INFO:worker thread finished; awaiting finish of 15 more threads\n2020-09-12 12:20:41,589:INFO:worker thread finished; awaiting finish of 14 more threads\n2020-09-12 12:20:41,600:INFO:worker thread finished; awaiting finish of 13 more threads\n2020-09-12 12:20:41,601:INFO:worker thread finished; awaiting finish of 12 more threads\n2020-09-12 12:20:41,604:INFO:worker thread finished; awaiting finish of 11 more threads\n2020-09-12 12:20:41,622:INFO:worker thread finished; awaiting finish of 10 more threads\n2020-09-12 12:20:41,628:INFO:worker thread finished; awaiting finish of 9 more threads\n2020-09-12 12:20:41,663:INFO:worker thread finished; awaiting finish of 8 more threads\n2020-09-12 12:20:41,674:INFO:worker thread finished; awaiting finish of 7 more threads\n2020-09-12 12:20:41,701:INFO:worker thread finished; awaiting finish of 6 more threads\n2020-09-12 12:20:41,725:INFO:worker thread finished; awaiting finish of 5 more threads\n2020-09-12 12:20:41,733:INFO:worker thread finished; awaiting finish of 4 more threads\n2020-09-12 12:20:41,736:INFO:worker thread finished; awaiting finish of 3 more threads\n2020-09-12 12:20:41,744:INFO:worker thread finished; awaiting finish of 2 more threads\n2020-09-12 12:20:41,756:INFO:worker thread finished; awaiting finish of 1 more threads\n2020-09-12 12:20:41,758:INFO:worker thread finished; awaiting finish of 0 more threads\n2020-09-12 12:20:41,760:INFO:EPOCH - 10 : training on 5518737 raw words (3300104 effective words) took 12.3s, 269342 effective words/s\n2020-09-12 12:20:41,762:INFO:training on a 55187370 raw words (33007545 effective words) took 123.8s, 266682 effective words/s\n2020-09-12 12:20:41,764:INFO:saving Word2Vec object under models/w2v_300_3.txt, separately None\n2020-09-12 12:20:41,765:INFO:not storing attribute vectors_norm\n2020-09-12 12:20:41,766:INFO:not storing attribute cum_table\n2020-09-12 12:20:42,738:INFO:saved models/w2v_300_3.txt\nw2v model done\n"
    },
    {
     "output_type": "execute_result",
     "data": {
      "text/plain": "<gensim.models.word2vec.Word2Vec at 0x2af38d19a60>"
     },
     "metadata": {},
     "execution_count": 18
    },
    {
     "output_type": "execute_result",
     "data": {
      "text/plain": "0"
     },
     "metadata": {},
     "execution_count": 18
    },
    {
     "output_type": "stream",
     "name": "stderr",
     "text": "2020-09-12 12:20:43,028:INFO:loading Word2Vec object from models/w2v_300_1.txt\n2020-09-12 12:20:43,138:INFO:loading wv recursively from models/w2v_300_1.txt.wv.* with mmap=None\n2020-09-12 12:20:43,139:INFO:setting ignored attribute vectors_norm to None\n2020-09-12 12:20:43,139:INFO:loading vocabulary recursively from models/w2v_300_1.txt.vocabulary.* with mmap=None\n2020-09-12 12:20:43,140:INFO:loading trainables recursively from models/w2v_300_1.txt.trainables.* with mmap=None\n2020-09-12 12:20:43,141:INFO:setting ignored attribute cum_table to None\n2020-09-12 12:20:43,142:INFO:loaded models/w2v_300_1.txt\n100%|██████████| 5998/5998 [00:00<00:00, 73222.33it/s]\n2020-09-12 12:20:43,247:INFO:loading Word2Vec object from models/w2v_300_3.txt\nnull cnt 0\n2020-09-12 12:20:43,712:INFO:loading wv recursively from models/w2v_300_3.txt.wv.* with mmap=None\n2020-09-12 12:20:43,712:INFO:setting ignored attribute vectors_norm to None\n2020-09-12 12:20:43,713:INFO:loading vocabulary recursively from models/w2v_300_3.txt.vocabulary.* with mmap=None\n2020-09-12 12:20:43,714:INFO:loading trainables recursively from models/w2v_300_3.txt.trainables.* with mmap=None\n2020-09-12 12:20:43,714:INFO:setting ignored attribute cum_table to None\n2020-09-12 12:20:43,715:INFO:loaded models/w2v_300_3.txt\n100%|██████████| 19465/19465 [00:00<00:00, 86986.49it/s]null cnt 399\n\n"
    },
    {
     "output_type": "execute_result",
     "data": {
      "text/plain": "9"
     },
     "metadata": {},
     "execution_count": 18
    }
   ],
   "source": [
    "text_1_list = np.unique(train_data['text_1'])\n",
    "text_3_list = np.unique(train_data['text_2'])\n",
    "\n",
    "print('开始序列化')\n",
    "x1, index_1, token_1 = set_tokenizer(train_data['text_1'], split_char=' ', max_len=30)\n",
    "x3, index_3, token_3 = set_tokenizer(train_data['text_2'], split_char=' ', max_len=600)\n",
    "print('序列化完成')\n",
    "gc.collect()\n",
    "\n",
    "trian_save_word2vec(text_1_list, save_name='models/w2v_300_1.txt', split_char=' ')\n",
    "gc.collect()\n",
    "trian_save_word2vec(text_3_list, save_name='models/w2v_300_3.txt', split_char=' ')\n",
    "gc.collect()\n",
    "\n",
    "# 得到emb矩阵\n",
    "emb1 = get_embedding_matrix(index_1, Emed_path='models/w2v_300_1.txt')\n",
    "emb3 = get_embedding_matrix(index_3, Emed_path='models/w2v_300_3.txt')\n",
    "gc.collect()"
   ]
  },
  {
   "cell_type": "markdown",
   "metadata": {},
   "source": [
    "# 构建抽取模型"
   ]
  },
  {
   "cell_type": "markdown",
   "metadata": {},
   "source": [
    "#### 1.网络结构"
   ]
  },
  {
   "cell_type": "code",
   "execution_count": 19,
   "metadata": {},
   "outputs": [
    {
     "output_type": "execute_result",
     "data": {
      "text/plain": "0"
     },
     "metadata": {},
     "execution_count": 19
    }
   ],
   "source": [
    "from keras.initializers import *\n",
    "\n",
    "def model_conv(emb1, emb3):\n",
    "    '''\n",
    "    注意这个inputs\n",
    "    seq1、seq2分别是两个输入\n",
    "    是否做emb可选可不选，\n",
    "    这个就是我们之前训练已经得到的用于embedding的（embedding_matrix1， embedding_matrix2）\n",
    "    '''\n",
    "    K.clear_session()\n",
    "\n",
    "    emb_layer_1 = Embedding(\n",
    "        input_dim=emb1.shape[0],\n",
    "        output_dim=emb1.shape[1],\n",
    "        weights=[emb1],\n",
    "        input_length=30,\n",
    "        trainable=False\n",
    "    )\n",
    "    \n",
    "    emb_layer_3 = Embedding(\n",
    "        input_dim=emb3.shape[0],\n",
    "        output_dim=emb3.shape[1],\n",
    "        weights=[emb3],\n",
    "        input_length=600,\n",
    "        trainable=False\n",
    "    )\n",
    "    \n",
    "    \n",
    "    seq1 = Input(shape=(30,))\n",
    "    seq3 = Input(shape=(600,))    \n",
    "    \n",
    "    x1 = emb_layer_1(seq1)\n",
    "    x3 = emb_layer_3(seq3)\n",
    "    \n",
    "    sdrop=SpatialDropout1D(rate=0.2)\n",
    "\n",
    "    x1 = sdrop(x1)\n",
    "    x3 = sdrop(x3)\n",
    "     \n",
    "    x = Dropout(0.2)(Bidirectional(GRU(128, return_sequences=True))(x1))\n",
    "    semantic = TimeDistributed(Dense(100, activation=\"tanh\"))(x)\n",
    "    merged_1 = Lambda(lambda x: K.max(x, axis=1), output_shape=(100,))(semantic)\n",
    "    \n",
    "    x = Dropout(0.2)(Bidirectional(GRU(128, return_sequences=True))(x3))\n",
    "    semantic = TimeDistributed(Dense(100, activation=\"tanh\"))(x)\n",
    "    merged_3 = Lambda(lambda x: K.max(x, axis=1), output_shape=(100,))(semantic)\n",
    "    \n",
    "    \n",
    "    x = Multiply()([merged_1, merged_3])\n",
    "    \n",
    "    x = Dropout(0.2)(Activation(activation=\"relu\")(BatchNormalization()(Dense(1000)(x))))\n",
    "    x = Activation(activation=\"relu\")(BatchNormalization()(Dense(500)(x)))\n",
    "    pred_1 = Dense(10, activation='softmax')(x)\n",
    "    pred_2 = Dense(3, activation='softmax')(x)\n",
    "    pred_3 = Dense(3, activation='softmax')(x)\n",
    "    pred_4 = Dense(2, activation='softmax')(x)\n",
    "    model = Model(inputs=[seq1, seq3], outputs=[pred_1, pred_2, pred_3, pred_4])\n",
    "    model.compile(loss='categorical_crossentropy',\n",
    "                  optimizer=Adam(lr=0.0001),metrics=[\"accuracy\"])\n",
    "    return model\n",
    "gc.collect()"
   ]
  },
  {
   "cell_type": "code",
   "execution_count": 10,
   "metadata": {
    "scrolled": true,
    "tags": []
   },
   "outputs": [
    {
     "output_type": "stream",
     "name": "stdout",
     "text": "Model: \"functional_1\"\n__________________________________________________________________________________________________\nLayer (type)                    Output Shape         Param #     Connected to                     \n==================================================================================================\ninput_1 (InputLayer)            [(None, 30)]         0                                            \n__________________________________________________________________________________________________\ninput_2 (InputLayer)            [(None, 600)]        0                                            \n__________________________________________________________________________________________________\nembedding (Embedding)           (None, 30, 300)      2157000     input_1[0][0]                    \n__________________________________________________________________________________________________\nembedding_1 (Embedding)         (None, 600, 300)     8537700     input_2[0][0]                    \n__________________________________________________________________________________________________\nspatial_dropout1d (SpatialDropo multiple             0           embedding[0][0]                  \n                                                                 embedding_1[0][0]                \n__________________________________________________________________________________________________\nbidirectional (Bidirectional)   (None, 30, 256)      330240      spatial_dropout1d[0][0]          \n__________________________________________________________________________________________________\nbidirectional_1 (Bidirectional) (None, 600, 256)     330240      spatial_dropout1d[1][0]          \n__________________________________________________________________________________________________\ndropout (Dropout)               (None, 30, 256)      0           bidirectional[0][0]              \n__________________________________________________________________________________________________\ndropout_1 (Dropout)             (None, 600, 256)     0           bidirectional_1[0][0]            \n__________________________________________________________________________________________________\ntime_distributed (TimeDistribut (None, 30, 100)      25700       dropout[0][0]                    \n__________________________________________________________________________________________________\ntime_distributed_1 (TimeDistrib (None, 600, 100)     25700       dropout_1[0][0]                  \n__________________________________________________________________________________________________\nlambda (Lambda)                 (None, 100)          0           time_distributed[0][0]           \n__________________________________________________________________________________________________\nlambda_1 (Lambda)               (None, 100)          0           time_distributed_1[0][0]         \n__________________________________________________________________________________________________\nmultiply (Multiply)             (None, 100)          0           lambda[0][0]                     \n                                                                 lambda_1[0][0]                   \n__________________________________________________________________________________________________\ndense_2 (Dense)                 (None, 1000)         101000      multiply[0][0]                   \n__________________________________________________________________________________________________\nbatch_normalization (BatchNorma (None, 1000)         4000        dense_2[0][0]                    \n__________________________________________________________________________________________________\nactivation (Activation)         (None, 1000)         0           batch_normalization[0][0]        \n__________________________________________________________________________________________________\ndropout_2 (Dropout)             (None, 1000)         0           activation[0][0]                 \n__________________________________________________________________________________________________\ndense_3 (Dense)                 (None, 500)          500500      dropout_2[0][0]                  \n__________________________________________________________________________________________________\nbatch_normalization_1 (BatchNor (None, 500)          2000        dense_3[0][0]                    \n__________________________________________________________________________________________________\nactivation_1 (Activation)       (None, 500)          0           batch_normalization_1[0][0]      \n__________________________________________________________________________________________________\ndense_4 (Dense)                 (None, 10)           5010        activation_1[0][0]               \n__________________________________________________________________________________________________\ndense_5 (Dense)                 (None, 3)            1503        activation_1[0][0]               \n__________________________________________________________________________________________________\ndense_6 (Dense)                 (None, 3)            1503        activation_1[0][0]               \n__________________________________________________________________________________________________\ndense_7 (Dense)                 (None, 2)            1002        activation_1[0][0]               \n==================================================================================================\nTotal params: 12,023,098\nTrainable params: 1,325,398\nNon-trainable params: 10,697,700\n__________________________________________________________________________________________________\n"
    }
   ],
   "source": [
    "model = model_conv(emb1, emb3)\n",
    "model.summary()\n",
    "l1 = to_categorical(train_data['label_1'], 10)\n",
    "l2 = to_categorical(train_data['label_2'], 3)\n",
    "l3 = to_categorical(train_data['label_3'], 3)\n",
    "l4 = to_categorical(train_data['label_4'], 2)\n",
    "model.fit([x1, x3],[l1, l2, l3, l4], batch_size=256, epochs=8, verbose=1, shuffle=True)\n",
    "# model.load_weights('models\\lstm_model.h5')"
   ]
  },
  {
   "cell_type": "code",
   "execution_count": 21,
   "metadata": {},
   "outputs": [],
   "source": [
    "#保存权重\n",
    "model.save_weights('models/lstm_valid_text_model.h5')"
   ]
  },
  {
   "cell_type": "markdown",
   "metadata": {},
   "source": [
    "#### 2.保存结果"
   ]
  },
  {
   "cell_type": "code",
   "execution_count": 11,
   "metadata": {
    "tags": []
   },
   "outputs": [
    {
     "output_type": "error",
     "ename": "NameError",
     "evalue": "name 'val_result' is not defined",
     "traceback": [
      "\u001b[1;31m---------------------------------------------------------------------------\u001b[0m",
      "\u001b[1;31mNameError\u001b[0m                                 Traceback (most recent call last)",
      "\u001b[1;32m<ipython-input-11-26ce19f84820>\u001b[0m in \u001b[0;36m<module>\u001b[1;34m\u001b[0m\n\u001b[0;32m      1\u001b[0m \u001b[1;31m# 预测验证集\u001b[0m\u001b[1;33m\u001b[0m\u001b[1;33m\u001b[0m\u001b[1;33m\u001b[0m\u001b[0m\n\u001b[0;32m      2\u001b[0m \u001b[0mval_df\u001b[0m\u001b[1;33m[\u001b[0m\u001b[1;34m\"sample_id\"\u001b[0m\u001b[1;33m]\u001b[0m\u001b[1;33m=\u001b[0m\u001b[0mval_df\u001b[0m\u001b[1;33m[\u001b[0m\u001b[1;34m\"sample_id\"\u001b[0m\u001b[1;33m]\u001b[0m\u001b[1;33m.\u001b[0m\u001b[0mastype\u001b[0m\u001b[1;33m(\u001b[0m\u001b[0mstr\u001b[0m\u001b[1;33m)\u001b[0m\u001b[1;33m\u001b[0m\u001b[1;33m\u001b[0m\u001b[0m\n\u001b[1;32m----> 3\u001b[1;33m \u001b[0mval_result_for_pred\u001b[0m \u001b[1;33m=\u001b[0m \u001b[0mpd\u001b[0m\u001b[1;33m.\u001b[0m\u001b[0mmerge\u001b[0m\u001b[1;33m(\u001b[0m\u001b[0mval_result\u001b[0m\u001b[1;33m,\u001b[0m \u001b[0mval_df\u001b[0m\u001b[1;33m,\u001b[0m \u001b[0mon\u001b[0m\u001b[1;33m=\u001b[0m\u001b[1;34m'sample_id'\u001b[0m\u001b[1;33m,\u001b[0m \u001b[0mhow\u001b[0m\u001b[1;33m=\u001b[0m\u001b[1;34m'left'\u001b[0m\u001b[1;33m)\u001b[0m\u001b[1;33m\u001b[0m\u001b[1;33m\u001b[0m\u001b[0m\n\u001b[0m\u001b[0;32m      4\u001b[0m \u001b[0mval_result_for_pred\u001b[0m\u001b[1;33m[\u001b[0m\u001b[1;34m'text_1'\u001b[0m\u001b[1;33m]\u001b[0m \u001b[1;33m=\u001b[0m \u001b[0mval_result_for_pred\u001b[0m\u001b[1;33m[\u001b[0m\u001b[1;34m'理财产品名称'\u001b[0m\u001b[1;33m]\u001b[0m\u001b[1;33m.\u001b[0m\u001b[0mastype\u001b[0m\u001b[1;33m(\u001b[0m\u001b[0mstr\u001b[0m\u001b[1;33m)\u001b[0m \u001b[1;33m+\u001b[0m \u001b[1;34m'_'\u001b[0m \u001b[1;33m+\u001b[0m \u001b[0mval_result_for_pred\u001b[0m\u001b[1;33m[\u001b[0m\u001b[1;34m'产品发行方名称'\u001b[0m\u001b[1;33m]\u001b[0m\u001b[1;33m.\u001b[0m\u001b[0mastype\u001b[0m\u001b[1;33m(\u001b[0m\u001b[0mstr\u001b[0m\u001b[1;33m)\u001b[0m\u001b[1;33m\u001b[0m\u001b[1;33m\u001b[0m\u001b[0m\n\u001b[0;32m      5\u001b[0m \u001b[0mval_result_for_pred\u001b[0m\u001b[1;33m[\u001b[0m\u001b[1;34m'text_2'\u001b[0m\u001b[1;33m]\u001b[0m \u001b[1;33m=\u001b[0m \u001b[0mval_result_for_pred\u001b[0m\u001b[1;33m[\u001b[0m\u001b[1;34m'text'\u001b[0m\u001b[1;33m]\u001b[0m\u001b[1;33m.\u001b[0m\u001b[0mastype\u001b[0m\u001b[1;33m(\u001b[0m\u001b[0mstr\u001b[0m\u001b[1;33m)\u001b[0m\u001b[1;33m\u001b[0m\u001b[1;33m\u001b[0m\u001b[0m\n",
      "\u001b[1;31mNameError\u001b[0m: name 'val_result' is not defined"
     ]
    }
   ],
   "source": [
    "# 预测验证集\n",
    "val_df[\"sample_id\"]=val_df[\"sample_id\"].astype(str)\n",
    "val_result_for_pred = pd.merge(val_result, val_df, on='sample_id', how='left')\n",
    "val_result_for_pred['text_1'] = val_result_for_pred['理财产品名称'].astype(str) + '_' + val_result_for_pred['产品发行方名称'].astype(str)\n",
    "val_result_for_pred['text_2'] = val_result_for_pred['text'].astype(str)\n",
    "\n",
    "val_result_for_pred['text_1'] = val_result_for_pred['text_1'].progress_apply(lambda row:' '.join(jieba.lcut(str(row))))\n",
    "val_result_for_pred['text_2'] = val_result_for_pred['text_2'].progress_apply(lambda row:' '.join(jieba.lcut(str(row))))\n",
    "\n",
    "x1 = token_1.texts_to_sequences(val_result_for_pred['text_1'])\n",
    "x1 = pad_sequences(x1, maxlen=30, value=0)\n",
    "x3 = token_3.texts_to_sequences(val_result_for_pred['text_2'])\n",
    "x3 = pad_sequences(x3, maxlen=600, value=0)\n",
    "pred_result = model.predict([x1, x3], batch_size=1024, verbose=1)\n",
    "pred_1 = label_1.inverse_transform(np.argmax(pred_result[0], axis=1))\n",
    "pred_2 = label_2.inverse_transform(np.argmax(pred_result[1], axis=1))\n",
    "pred_3 = label_3.inverse_transform(np.argmax(pred_result[2], axis=1))\n",
    "pred_4 = label_4.inverse_transform(np.argmax(pred_result[3], axis=1))\n"
   ]
  },
  {
   "cell_type": "code",
   "execution_count": 23,
   "metadata": {},
   "outputs": [
    {
     "output_type": "error",
     "ename": "NameError",
     "evalue": "name 'pred_1' is not defined",
     "traceback": [
      "\u001b[1;31m---------------------------------------------------------------------------\u001b[0m",
      "\u001b[1;31mNameError\u001b[0m                                 Traceback (most recent call last)",
      "\u001b[1;32m<ipython-input-23-33bb5074b888>\u001b[0m in \u001b[0;36m<module>\u001b[1;34m\u001b[0m\n\u001b[1;32m----> 1\u001b[1;33m \u001b[0mval_result\u001b[0m\u001b[1;33m[\u001b[0m\u001b[1;34m'理财类型'\u001b[0m\u001b[1;33m]\u001b[0m \u001b[1;33m=\u001b[0m \u001b[0mpred_1\u001b[0m\u001b[1;33m\u001b[0m\u001b[1;33m\u001b[0m\u001b[0m\n\u001b[0m\u001b[0;32m      2\u001b[0m \u001b[0mval_result\u001b[0m\u001b[1;33m[\u001b[0m\u001b[1;34m'资金来源'\u001b[0m\u001b[1;33m]\u001b[0m \u001b[1;33m=\u001b[0m \u001b[0mpred_2\u001b[0m\u001b[1;33m\u001b[0m\u001b[1;33m\u001b[0m\u001b[0m\n\u001b[0;32m      3\u001b[0m \u001b[0mval_result\u001b[0m\u001b[1;33m[\u001b[0m\u001b[1;34m'实际购买公司和上市公司关系'\u001b[0m\u001b[1;33m]\u001b[0m \u001b[1;33m=\u001b[0m \u001b[0mpred_3\u001b[0m\u001b[1;33m\u001b[0m\u001b[1;33m\u001b[0m\u001b[0m\n\u001b[0;32m      4\u001b[0m \u001b[0mval_result\u001b[0m\u001b[1;33m[\u001b[0m\u001b[1;34m'买卖方是否有关联关系'\u001b[0m\u001b[1;33m]\u001b[0m \u001b[1;33m=\u001b[0m \u001b[0mpred_4\u001b[0m\u001b[1;33m\u001b[0m\u001b[1;33m\u001b[0m\u001b[0m\n",
      "\u001b[1;31mNameError\u001b[0m: name 'pred_1' is not defined"
     ]
    }
   ],
   "source": [
    "val_result['理财类型'] = pred_1\n",
    "val_result['资金来源'] = pred_2\n",
    "val_result['实际购买公司和上市公司关系'] = pred_3\n",
    "val_result['买卖方是否有关联关系'] = pred_4"
   ]
  },
  {
   "cell_type": "markdown",
   "metadata": {},
   "source": [
    "#### 3.离线验证评估"
   ]
  },
  {
   "cell_type": "code",
   "execution_count": 24,
   "metadata": {},
   "outputs": [
    {
     "output_type": "error",
     "ename": "KeyError",
     "evalue": "'认购日期'",
     "traceback": [
      "\u001b[1;31m---------------------------------------------------------------------------\u001b[0m",
      "\u001b[1;31mKeyError\u001b[0m                                  Traceback (most recent call last)",
      "\u001b[1;32mC:\\Anaconda3\\lib\\site-packages\\pandas\\core\\indexes\\base.py\u001b[0m in \u001b[0;36mget_loc\u001b[1;34m(self, key, method, tolerance)\u001b[0m\n\u001b[0;32m   2645\u001b[0m             \u001b[1;32mtry\u001b[0m\u001b[1;33m:\u001b[0m\u001b[1;33m\u001b[0m\u001b[1;33m\u001b[0m\u001b[0m\n\u001b[1;32m-> 2646\u001b[1;33m                 \u001b[1;32mreturn\u001b[0m \u001b[0mself\u001b[0m\u001b[1;33m.\u001b[0m\u001b[0m_engine\u001b[0m\u001b[1;33m.\u001b[0m\u001b[0mget_loc\u001b[0m\u001b[1;33m(\u001b[0m\u001b[0mkey\u001b[0m\u001b[1;33m)\u001b[0m\u001b[1;33m\u001b[0m\u001b[1;33m\u001b[0m\u001b[0m\n\u001b[0m\u001b[0;32m   2647\u001b[0m             \u001b[1;32mexcept\u001b[0m \u001b[0mKeyError\u001b[0m\u001b[1;33m:\u001b[0m\u001b[1;33m\u001b[0m\u001b[1;33m\u001b[0m\u001b[0m\n",
      "\u001b[1;32mpandas\\_libs\\index.pyx\u001b[0m in \u001b[0;36mpandas._libs.index.IndexEngine.get_loc\u001b[1;34m()\u001b[0m\n",
      "\u001b[1;32mpandas\\_libs\\index.pyx\u001b[0m in \u001b[0;36mpandas._libs.index.IndexEngine.get_loc\u001b[1;34m()\u001b[0m\n",
      "\u001b[1;32mpandas\\_libs\\hashtable_class_helper.pxi\u001b[0m in \u001b[0;36mpandas._libs.hashtable.PyObjectHashTable.get_item\u001b[1;34m()\u001b[0m\n",
      "\u001b[1;32mpandas\\_libs\\hashtable_class_helper.pxi\u001b[0m in \u001b[0;36mpandas._libs.hashtable.PyObjectHashTable.get_item\u001b[1;34m()\u001b[0m\n",
      "\u001b[1;31mKeyError\u001b[0m: '认购日期'",
      "\nDuring handling of the above exception, another exception occurred:\n",
      "\u001b[1;31mKeyError\u001b[0m                                  Traceback (most recent call last)",
      "\u001b[1;32m<ipython-input-24-9836af1d8ef2>\u001b[0m in \u001b[0;36m<module>\u001b[1;34m\u001b[0m\n\u001b[0;32m     15\u001b[0m \u001b[1;33m\u001b[0m\u001b[0m\n\u001b[0;32m     16\u001b[0m \u001b[0mr\u001b[0m \u001b[1;33m=\u001b[0m \u001b[0mval_result\u001b[0m\u001b[1;33m\u001b[0m\u001b[1;33m\u001b[0m\u001b[0m\n\u001b[1;32m---> 17\u001b[1;33m \u001b[0mval_pred\u001b[0m \u001b[1;33m=\u001b[0m \u001b[0mr\u001b[0m\u001b[1;33m[\u001b[0m\u001b[1;34m'sample_id'\u001b[0m\u001b[1;33m]\u001b[0m\u001b[1;33m.\u001b[0m\u001b[0mastype\u001b[0m\u001b[1;33m(\u001b[0m\u001b[0mstr\u001b[0m\u001b[1;33m)\u001b[0m \u001b[1;33m+\u001b[0m \u001b[0mr\u001b[0m\u001b[1;33m[\u001b[0m\u001b[1;34m'认购日期'\u001b[0m\u001b[1;33m]\u001b[0m\u001b[1;33m.\u001b[0m\u001b[0mastype\u001b[0m\u001b[1;33m(\u001b[0m\u001b[0mstr\u001b[0m\u001b[1;33m)\u001b[0m \u001b[1;33m+\u001b[0m \u001b[0mr\u001b[0m\u001b[1;33m[\u001b[0m\u001b[1;34m'理财产品名称'\u001b[0m\u001b[1;33m]\u001b[0m\u001b[1;33m.\u001b[0m\u001b[0mastype\u001b[0m\u001b[1;33m(\u001b[0m\u001b[0mstr\u001b[0m\u001b[1;33m)\u001b[0m \u001b[1;33m+\u001b[0m \u001b[0mr\u001b[0m\u001b[1;33m[\u001b[0m\u001b[1;34m'理财类型'\u001b[0m\u001b[1;33m]\u001b[0m\u001b[1;33m.\u001b[0m\u001b[0mastype\u001b[0m\u001b[1;33m(\u001b[0m\u001b[0mstr\u001b[0m\u001b[1;33m)\u001b[0m \u001b[1;33m+\u001b[0m \u001b[0mr\u001b[0m\u001b[1;33m[\u001b[0m\u001b[1;34m'认购金额(万元)'\u001b[0m\u001b[1;33m]\u001b[0m\u001b[1;33m.\u001b[0m\u001b[0mastype\u001b[0m\u001b[1;33m(\u001b[0m\u001b[0mstr\u001b[0m\u001b[1;33m)\u001b[0m \u001b[1;33m+\u001b[0m \u001b[0mr\u001b[0m\u001b[1;33m[\u001b[0m\u001b[1;34m'产品起息日'\u001b[0m\u001b[1;33m]\u001b[0m\u001b[1;33m.\u001b[0m\u001b[0mastype\u001b[0m\u001b[1;33m(\u001b[0m\u001b[0mstr\u001b[0m\u001b[1;33m)\u001b[0m\u001b[1;33m+\u001b[0m \u001b[0mr\u001b[0m\u001b[1;33m[\u001b[0m\u001b[1;34m'产品到息日'\u001b[0m\u001b[1;33m]\u001b[0m\u001b[1;33m.\u001b[0m\u001b[0mastype\u001b[0m\u001b[1;33m(\u001b[0m\u001b[0mstr\u001b[0m\u001b[1;33m)\u001b[0m \u001b[1;33m+\u001b[0m \u001b[0mr\u001b[0m\u001b[1;33m[\u001b[0m\u001b[1;34m'产品期限'\u001b[0m\u001b[1;33m]\u001b[0m\u001b[1;33m.\u001b[0m\u001b[0mastype\u001b[0m\u001b[1;33m(\u001b[0m\u001b[0mstr\u001b[0m\u001b[1;33m)\u001b[0m \u001b[1;33m+\u001b[0m \u001b[0mr\u001b[0m\u001b[1;33m[\u001b[0m\u001b[1;34m'资金来源'\u001b[0m\u001b[1;33m]\u001b[0m\u001b[1;33m.\u001b[0m\u001b[0mastype\u001b[0m\u001b[1;33m(\u001b[0m\u001b[0mstr\u001b[0m\u001b[1;33m)\u001b[0m \u001b[1;33m+\u001b[0m \u001b[0mr\u001b[0m\u001b[1;33m[\u001b[0m\u001b[1;34m'实际购买公司名称'\u001b[0m\u001b[1;33m]\u001b[0m\u001b[1;33m.\u001b[0m\u001b[0mastype\u001b[0m\u001b[1;33m(\u001b[0m\u001b[0mstr\u001b[0m\u001b[1;33m)\u001b[0m \u001b[1;33m+\u001b[0m \u001b[0mr\u001b[0m\u001b[1;33m[\u001b[0m\u001b[1;34m'实际购买公司和上市公司关系'\u001b[0m\u001b[1;33m]\u001b[0m\u001b[1;33m.\u001b[0m\u001b[0mastype\u001b[0m\u001b[1;33m(\u001b[0m\u001b[0mstr\u001b[0m\u001b[1;33m)\u001b[0m \u001b[1;33m+\u001b[0m \u001b[0mr\u001b[0m\u001b[1;33m[\u001b[0m\u001b[1;34m'买卖方是否有关联关系'\u001b[0m\u001b[1;33m]\u001b[0m\u001b[1;33m.\u001b[0m\u001b[0mastype\u001b[0m\u001b[1;33m(\u001b[0m\u001b[0mstr\u001b[0m\u001b[1;33m)\u001b[0m \u001b[1;33m+\u001b[0m \u001b[0mr\u001b[0m\u001b[1;33m[\u001b[0m\u001b[1;34m'公告日期'\u001b[0m\u001b[1;33m]\u001b[0m\u001b[1;33m.\u001b[0m\u001b[0mastype\u001b[0m\u001b[1;33m(\u001b[0m\u001b[0mstr\u001b[0m\u001b[1;33m)\u001b[0m\u001b[1;33m\u001b[0m\u001b[1;33m\u001b[0m\u001b[0m\n\u001b[0m\u001b[0;32m     18\u001b[0m \u001b[1;33m\u001b[0m\u001b[0m\n\u001b[0;32m     19\u001b[0m \u001b[0mscore\u001b[0m \u001b[1;33m=\u001b[0m \u001b[0mget_F1\u001b[0m\u001b[1;33m(\u001b[0m\u001b[0mval_pred\u001b[0m\u001b[1;33m,\u001b[0m \u001b[0mval_true\u001b[0m\u001b[1;33m)\u001b[0m\u001b[1;33m\u001b[0m\u001b[1;33m\u001b[0m\u001b[0m\n",
      "\u001b[1;32mC:\\Anaconda3\\lib\\site-packages\\pandas\\core\\frame.py\u001b[0m in \u001b[0;36m__getitem__\u001b[1;34m(self, key)\u001b[0m\n\u001b[0;32m   2798\u001b[0m             \u001b[1;32mif\u001b[0m \u001b[0mself\u001b[0m\u001b[1;33m.\u001b[0m\u001b[0mcolumns\u001b[0m\u001b[1;33m.\u001b[0m\u001b[0mnlevels\u001b[0m \u001b[1;33m>\u001b[0m \u001b[1;36m1\u001b[0m\u001b[1;33m:\u001b[0m\u001b[1;33m\u001b[0m\u001b[1;33m\u001b[0m\u001b[0m\n\u001b[0;32m   2799\u001b[0m                 \u001b[1;32mreturn\u001b[0m \u001b[0mself\u001b[0m\u001b[1;33m.\u001b[0m\u001b[0m_getitem_multilevel\u001b[0m\u001b[1;33m(\u001b[0m\u001b[0mkey\u001b[0m\u001b[1;33m)\u001b[0m\u001b[1;33m\u001b[0m\u001b[1;33m\u001b[0m\u001b[0m\n\u001b[1;32m-> 2800\u001b[1;33m             \u001b[0mindexer\u001b[0m \u001b[1;33m=\u001b[0m \u001b[0mself\u001b[0m\u001b[1;33m.\u001b[0m\u001b[0mcolumns\u001b[0m\u001b[1;33m.\u001b[0m\u001b[0mget_loc\u001b[0m\u001b[1;33m(\u001b[0m\u001b[0mkey\u001b[0m\u001b[1;33m)\u001b[0m\u001b[1;33m\u001b[0m\u001b[1;33m\u001b[0m\u001b[0m\n\u001b[0m\u001b[0;32m   2801\u001b[0m             \u001b[1;32mif\u001b[0m \u001b[0mis_integer\u001b[0m\u001b[1;33m(\u001b[0m\u001b[0mindexer\u001b[0m\u001b[1;33m)\u001b[0m\u001b[1;33m:\u001b[0m\u001b[1;33m\u001b[0m\u001b[1;33m\u001b[0m\u001b[0m\n\u001b[0;32m   2802\u001b[0m                 \u001b[0mindexer\u001b[0m \u001b[1;33m=\u001b[0m \u001b[1;33m[\u001b[0m\u001b[0mindexer\u001b[0m\u001b[1;33m]\u001b[0m\u001b[1;33m\u001b[0m\u001b[1;33m\u001b[0m\u001b[0m\n",
      "\u001b[1;32mC:\\Anaconda3\\lib\\site-packages\\pandas\\core\\indexes\\base.py\u001b[0m in \u001b[0;36mget_loc\u001b[1;34m(self, key, method, tolerance)\u001b[0m\n\u001b[0;32m   2646\u001b[0m                 \u001b[1;32mreturn\u001b[0m \u001b[0mself\u001b[0m\u001b[1;33m.\u001b[0m\u001b[0m_engine\u001b[0m\u001b[1;33m.\u001b[0m\u001b[0mget_loc\u001b[0m\u001b[1;33m(\u001b[0m\u001b[0mkey\u001b[0m\u001b[1;33m)\u001b[0m\u001b[1;33m\u001b[0m\u001b[1;33m\u001b[0m\u001b[0m\n\u001b[0;32m   2647\u001b[0m             \u001b[1;32mexcept\u001b[0m \u001b[0mKeyError\u001b[0m\u001b[1;33m:\u001b[0m\u001b[1;33m\u001b[0m\u001b[1;33m\u001b[0m\u001b[0m\n\u001b[1;32m-> 2648\u001b[1;33m                 \u001b[1;32mreturn\u001b[0m \u001b[0mself\u001b[0m\u001b[1;33m.\u001b[0m\u001b[0m_engine\u001b[0m\u001b[1;33m.\u001b[0m\u001b[0mget_loc\u001b[0m\u001b[1;33m(\u001b[0m\u001b[0mself\u001b[0m\u001b[1;33m.\u001b[0m\u001b[0m_maybe_cast_indexer\u001b[0m\u001b[1;33m(\u001b[0m\u001b[0mkey\u001b[0m\u001b[1;33m)\u001b[0m\u001b[1;33m)\u001b[0m\u001b[1;33m\u001b[0m\u001b[1;33m\u001b[0m\u001b[0m\n\u001b[0m\u001b[0;32m   2649\u001b[0m         \u001b[0mindexer\u001b[0m \u001b[1;33m=\u001b[0m \u001b[0mself\u001b[0m\u001b[1;33m.\u001b[0m\u001b[0mget_indexer\u001b[0m\u001b[1;33m(\u001b[0m\u001b[1;33m[\u001b[0m\u001b[0mkey\u001b[0m\u001b[1;33m]\u001b[0m\u001b[1;33m,\u001b[0m \u001b[0mmethod\u001b[0m\u001b[1;33m=\u001b[0m\u001b[0mmethod\u001b[0m\u001b[1;33m,\u001b[0m \u001b[0mtolerance\u001b[0m\u001b[1;33m=\u001b[0m\u001b[0mtolerance\u001b[0m\u001b[1;33m)\u001b[0m\u001b[1;33m\u001b[0m\u001b[1;33m\u001b[0m\u001b[0m\n\u001b[0;32m   2650\u001b[0m         \u001b[1;32mif\u001b[0m \u001b[0mindexer\u001b[0m\u001b[1;33m.\u001b[0m\u001b[0mndim\u001b[0m \u001b[1;33m>\u001b[0m \u001b[1;36m1\u001b[0m \u001b[1;32mor\u001b[0m \u001b[0mindexer\u001b[0m\u001b[1;33m.\u001b[0m\u001b[0msize\u001b[0m \u001b[1;33m>\u001b[0m \u001b[1;36m1\u001b[0m\u001b[1;33m:\u001b[0m\u001b[1;33m\u001b[0m\u001b[1;33m\u001b[0m\u001b[0m\n",
      "\u001b[1;32mpandas\\_libs\\index.pyx\u001b[0m in \u001b[0;36mpandas._libs.index.IndexEngine.get_loc\u001b[1;34m()\u001b[0m\n",
      "\u001b[1;32mpandas\\_libs\\index.pyx\u001b[0m in \u001b[0;36mpandas._libs.index.IndexEngine.get_loc\u001b[1;34m()\u001b[0m\n",
      "\u001b[1;32mpandas\\_libs\\hashtable_class_helper.pxi\u001b[0m in \u001b[0;36mpandas._libs.hashtable.PyObjectHashTable.get_item\u001b[1;34m()\u001b[0m\n",
      "\u001b[1;32mpandas\\_libs\\hashtable_class_helper.pxi\u001b[0m in \u001b[0;36mpandas._libs.hashtable.PyObjectHashTable.get_item\u001b[1;34m()\u001b[0m\n",
      "\u001b[1;31mKeyError\u001b[0m: '认购日期'"
     ]
    }
   ],
   "source": [
    "# 计算线下f1\n",
    "# R（召回率）=抽取正确的记录数量/（抽取正确的目标数量+漏抽取的记录数量）\n",
    "# P（准确率）=抽取正确的记录数量/（抽取错误的记录数量+抽取正确的记录数量）\n",
    "def get_F1(val_pred, val_true):\n",
    "    val_pred = list(val_pred)\n",
    "    val_true = list(val_true)\n",
    "    curr = list(set(val_pred).intersection(set(val_true)))\n",
    "    R = len(curr)/len(val_true)\n",
    "    P = len(curr)/len(val_pred)\n",
    "    return 2*P*R/(P+R)\n",
    "\n",
    "train_outputs[\"sample_id\"]=train_outputs[\"sample_id\"].astype(str)\n",
    "r = pd.merge(val_df[['sample_id']], train_outputs, on='sample_id', how='left')\n",
    "val_true = r['sample_id'].astype(str) + r['认购日期'].astype(str) + r['理财产品名称'].astype(str) + r['理财类型'].astype(str) + r['认购金额(万元)'].astype(str) + r['产品起息日'].astype(str)+ r['产品到息日'].astype(str) + r['产品期限'].astype(str) + r['资金来源'].astype(str) + r['实际购买公司名称'].astype(str) + r['实际购买公司和上市公司关系'].astype(str) + r['买卖方是否有关联关系'].astype(str) + r['公告日期'].astype(str)\n",
    "\n",
    "r = val_result\n",
    "val_pred = r['sample_id'].astype(str) + r['认购日期'].astype(str) + r['理财产品名称'].astype(str) + r['理财类型'].astype(str) + r['认购金额(万元)'].astype(str) + r['产品起息日'].astype(str)+ r['产品到息日'].astype(str) + r['产品期限'].astype(str) + r['资金来源'].astype(str) + r['实际购买公司名称'].astype(str) + r['实际购买公司和上市公司关系'].astype(str) + r['买卖方是否有关联关系'].astype(str) + r['公告日期'].astype(str)\n",
    "\n",
    "score = get_F1(val_pred, val_true)\n",
    "score\n"
   ]
  },
  {
   "cell_type": "code",
   "execution_count": 25,
   "metadata": {},
   "outputs": [
    {
     "output_type": "error",
     "ename": "ValueError",
     "evalue": "You are trying to merge on int64 and object columns. If you wish to proceed you should use pd.concat",
     "traceback": [
      "\u001b[1;31m---------------------------------------------------------------------------\u001b[0m",
      "\u001b[1;31mValueError\u001b[0m                                Traceback (most recent call last)",
      "\u001b[1;32m<ipython-input-25-24e817b98e00>\u001b[0m in \u001b[0;36m<module>\u001b[1;34m\u001b[0m\n\u001b[0;32m      5\u001b[0m \u001b[0mval_result\u001b[0m\u001b[1;33m.\u001b[0m\u001b[0mcopy\u001b[0m\u001b[1;33m(\u001b[0m\u001b[1;33m)\u001b[0m\u001b[1;33m.\u001b[0m\u001b[0msort_values\u001b[0m\u001b[1;33m(\u001b[0m\u001b[0mby\u001b[0m\u001b[1;33m=\u001b[0m\u001b[1;34m\"sample_id\"\u001b[0m\u001b[1;33m)\u001b[0m\u001b[1;33m.\u001b[0m\u001b[0msort_index\u001b[0m\u001b[1;33m(\u001b[0m\u001b[0maxis\u001b[0m\u001b[1;33m=\u001b[0m\u001b[1;36m1\u001b[0m\u001b[1;33m)\u001b[0m\u001b[1;33m.\u001b[0m\u001b[0mto_csv\u001b[0m\u001b[1;33m(\u001b[0m\u001b[0mval_pred_file\u001b[0m\u001b[1;33m,\u001b[0m\u001b[0mindex\u001b[0m\u001b[1;33m=\u001b[0m\u001b[1;32mNone\u001b[0m\u001b[1;33m)\u001b[0m\u001b[1;33m\u001b[0m\u001b[1;33m\u001b[0m\u001b[0m\n\u001b[0;32m      6\u001b[0m \u001b[0mpd\u001b[0m\u001b[1;33m.\u001b[0m\u001b[0mmerge\u001b[0m\u001b[1;33m(\u001b[0m\u001b[0mval_df\u001b[0m\u001b[1;33m[\u001b[0m\u001b[1;33m[\u001b[0m\u001b[1;34m'sample_id'\u001b[0m\u001b[1;33m]\u001b[0m\u001b[1;33m]\u001b[0m\u001b[1;33m,\u001b[0m \u001b[0mtrain_outputs\u001b[0m\u001b[1;33m,\u001b[0m \u001b[0mon\u001b[0m\u001b[1;33m=\u001b[0m\u001b[1;34m'sample_id'\u001b[0m\u001b[1;33m,\u001b[0m \u001b[0mhow\u001b[0m\u001b[1;33m=\u001b[0m\u001b[1;34m'left'\u001b[0m\u001b[1;33m)\u001b[0m\u001b[1;33m.\u001b[0m\u001b[0msort_index\u001b[0m\u001b[1;33m(\u001b[0m\u001b[0maxis\u001b[0m\u001b[1;33m=\u001b[0m\u001b[1;36m1\u001b[0m\u001b[1;33m)\u001b[0m\u001b[1;33m.\u001b[0m\u001b[0msort_values\u001b[0m\u001b[1;33m(\u001b[0m\u001b[0mby\u001b[0m\u001b[1;33m=\u001b[0m\u001b[1;34m\"sample_id\"\u001b[0m\u001b[1;33m)\u001b[0m\u001b[1;33m.\u001b[0m\u001b[0mto_csv\u001b[0m\u001b[1;33m(\u001b[0m\u001b[0mval_true_file\u001b[0m\u001b[1;33m,\u001b[0m\u001b[0mindex\u001b[0m\u001b[1;33m=\u001b[0m\u001b[1;32mNone\u001b[0m\u001b[1;33m)\u001b[0m\u001b[1;33m\u001b[0m\u001b[1;33m\u001b[0m\u001b[0m\n\u001b[1;32m----> 7\u001b[1;33m \u001b[0mpd\u001b[0m\u001b[1;33m.\u001b[0m\u001b[0mmerge\u001b[0m\u001b[1;33m(\u001b[0m\u001b[0mtrain_df\u001b[0m\u001b[1;33m[\u001b[0m\u001b[1;33m[\u001b[0m\u001b[1;34m'sample_id'\u001b[0m\u001b[1;33m]\u001b[0m\u001b[1;33m]\u001b[0m\u001b[1;33m,\u001b[0m \u001b[0mtrain_outputs\u001b[0m\u001b[1;33m,\u001b[0m \u001b[0mon\u001b[0m\u001b[1;33m=\u001b[0m\u001b[1;34m'sample_id'\u001b[0m\u001b[1;33m,\u001b[0m \u001b[0mhow\u001b[0m\u001b[1;33m=\u001b[0m\u001b[1;34m'left'\u001b[0m\u001b[1;33m)\u001b[0m\u001b[1;33m.\u001b[0m\u001b[0msort_index\u001b[0m\u001b[1;33m(\u001b[0m\u001b[0maxis\u001b[0m\u001b[1;33m=\u001b[0m\u001b[1;36m1\u001b[0m\u001b[1;33m)\u001b[0m\u001b[1;33m.\u001b[0m\u001b[0msort_values\u001b[0m\u001b[1;33m(\u001b[0m\u001b[0mby\u001b[0m\u001b[1;33m=\u001b[0m\u001b[1;34m\"sample_id\"\u001b[0m\u001b[1;33m)\u001b[0m\u001b[1;33m.\u001b[0m\u001b[0mto_csv\u001b[0m\u001b[1;33m(\u001b[0m\u001b[0mtr_true_file\u001b[0m\u001b[1;33m,\u001b[0m\u001b[0mindex\u001b[0m\u001b[1;33m=\u001b[0m\u001b[1;32mNone\u001b[0m\u001b[1;33m)\u001b[0m\u001b[1;33m\u001b[0m\u001b[1;33m\u001b[0m\u001b[0m\n\u001b[0m",
      "\u001b[1;32mC:\\Anaconda3\\lib\\site-packages\\pandas\\core\\reshape\\merge.py\u001b[0m in \u001b[0;36mmerge\u001b[1;34m(left, right, how, on, left_on, right_on, left_index, right_index, sort, suffixes, copy, indicator, validate)\u001b[0m\n\u001b[0;32m     71\u001b[0m     \u001b[0mvalidate\u001b[0m\u001b[1;33m=\u001b[0m\u001b[1;32mNone\u001b[0m\u001b[1;33m,\u001b[0m\u001b[1;33m\u001b[0m\u001b[1;33m\u001b[0m\u001b[0m\n\u001b[0;32m     72\u001b[0m ) -> \"DataFrame\":\n\u001b[1;32m---> 73\u001b[1;33m     op = _MergeOperation(\n\u001b[0m\u001b[0;32m     74\u001b[0m         \u001b[0mleft\u001b[0m\u001b[1;33m,\u001b[0m\u001b[1;33m\u001b[0m\u001b[1;33m\u001b[0m\u001b[0m\n\u001b[0;32m     75\u001b[0m         \u001b[0mright\u001b[0m\u001b[1;33m,\u001b[0m\u001b[1;33m\u001b[0m\u001b[1;33m\u001b[0m\u001b[0m\n",
      "\u001b[1;32mC:\\Anaconda3\\lib\\site-packages\\pandas\\core\\reshape\\merge.py\u001b[0m in \u001b[0;36m__init__\u001b[1;34m(self, left, right, how, on, left_on, right_on, axis, left_index, right_index, sort, suffixes, copy, indicator, validate)\u001b[0m\n\u001b[0;32m    629\u001b[0m         \u001b[1;31m# validate the merge keys dtypes. We may need to coerce\u001b[0m\u001b[1;33m\u001b[0m\u001b[1;33m\u001b[0m\u001b[1;33m\u001b[0m\u001b[0m\n\u001b[0;32m    630\u001b[0m         \u001b[1;31m# to avoid incompat dtypes\u001b[0m\u001b[1;33m\u001b[0m\u001b[1;33m\u001b[0m\u001b[1;33m\u001b[0m\u001b[0m\n\u001b[1;32m--> 631\u001b[1;33m         \u001b[0mself\u001b[0m\u001b[1;33m.\u001b[0m\u001b[0m_maybe_coerce_merge_keys\u001b[0m\u001b[1;33m(\u001b[0m\u001b[1;33m)\u001b[0m\u001b[1;33m\u001b[0m\u001b[1;33m\u001b[0m\u001b[0m\n\u001b[0m\u001b[0;32m    632\u001b[0m \u001b[1;33m\u001b[0m\u001b[0m\n\u001b[0;32m    633\u001b[0m         \u001b[1;31m# If argument passed to validate,\u001b[0m\u001b[1;33m\u001b[0m\u001b[1;33m\u001b[0m\u001b[1;33m\u001b[0m\u001b[0m\n",
      "\u001b[1;32mC:\\Anaconda3\\lib\\site-packages\\pandas\\core\\reshape\\merge.py\u001b[0m in \u001b[0;36m_maybe_coerce_merge_keys\u001b[1;34m(self)\u001b[0m\n\u001b[0;32m   1144\u001b[0m                     \u001b[0minferred_right\u001b[0m \u001b[1;32min\u001b[0m \u001b[0mstring_types\u001b[0m \u001b[1;32mand\u001b[0m \u001b[0minferred_left\u001b[0m \u001b[1;32mnot\u001b[0m \u001b[1;32min\u001b[0m \u001b[0mstring_types\u001b[0m\u001b[1;33m\u001b[0m\u001b[1;33m\u001b[0m\u001b[0m\n\u001b[0;32m   1145\u001b[0m                 ):\n\u001b[1;32m-> 1146\u001b[1;33m                     \u001b[1;32mraise\u001b[0m \u001b[0mValueError\u001b[0m\u001b[1;33m(\u001b[0m\u001b[0mmsg\u001b[0m\u001b[1;33m)\u001b[0m\u001b[1;33m\u001b[0m\u001b[1;33m\u001b[0m\u001b[0m\n\u001b[0m\u001b[0;32m   1147\u001b[0m \u001b[1;33m\u001b[0m\u001b[0m\n\u001b[0;32m   1148\u001b[0m             \u001b[1;31m# datetimelikes must match exactly\u001b[0m\u001b[1;33m\u001b[0m\u001b[1;33m\u001b[0m\u001b[1;33m\u001b[0m\u001b[0m\n",
      "\u001b[1;31mValueError\u001b[0m: You are trying to merge on int64 and object columns. If you wish to proceed you should use pd.concat"
     ]
    }
   ],
   "source": [
    "val_true_file=pl.Path(\"results/val_true.csv\")\n",
    "val_pred_file=pl.Path(\"results/val_pred.csv\")\n",
    "\n",
    "tr_true_file=pl.Path(\"results/tr_true.csv\")\n",
    "val_result.copy().sort_values(by=\"sample_id\").sort_index(axis=1).to_csv(val_pred_file,index=None)\n",
    "pd.merge(val_df[['sample_id']], train_outputs, on='sample_id', how='left').sort_index(axis=1).sort_values(by=\"sample_id\").to_csv(val_true_file,index=None)\n",
    "pd.merge(train_df[['sample_id']], train_outputs, on='sample_id', how='left').sort_index(axis=1).sort_values(by=\"sample_id\").to_csv(tr_true_file,index=None)"
   ]
  },
  {
   "cell_type": "markdown",
   "metadata": {},
   "source": [
    "#### 4.最终输出结果"
   ]
  },
  {
   "cell_type": "code",
   "execution_count": 26,
   "metadata": {
    "tags": []
   },
   "outputs": [
    {
     "output_type": "error",
     "ename": "NameError",
     "evalue": "name 'test_result' is not defined",
     "traceback": [
      "\u001b[1;31m---------------------------------------------------------------------------\u001b[0m",
      "\u001b[1;31mNameError\u001b[0m                                 Traceback (most recent call last)",
      "\u001b[1;32m<ipython-input-26-2e1b40a56c0b>\u001b[0m in \u001b[0;36m<module>\u001b[1;34m\u001b[0m\n\u001b[0;32m      1\u001b[0m \u001b[1;31m# 预测测试集\u001b[0m\u001b[1;33m\u001b[0m\u001b[1;33m\u001b[0m\u001b[1;33m\u001b[0m\u001b[0m\n\u001b[0;32m      2\u001b[0m \u001b[0mtest_df\u001b[0m\u001b[1;33m[\u001b[0m\u001b[1;34m\"sample_id\"\u001b[0m\u001b[1;33m]\u001b[0m\u001b[1;33m=\u001b[0m\u001b[0mtest_df\u001b[0m\u001b[1;33m[\u001b[0m\u001b[1;34m\"sample_id\"\u001b[0m\u001b[1;33m]\u001b[0m\u001b[1;33m.\u001b[0m\u001b[0mastype\u001b[0m\u001b[1;33m(\u001b[0m\u001b[0mstr\u001b[0m\u001b[1;33m)\u001b[0m\u001b[1;33m\u001b[0m\u001b[1;33m\u001b[0m\u001b[0m\n\u001b[1;32m----> 3\u001b[1;33m \u001b[0mtest_result_for_pred\u001b[0m \u001b[1;33m=\u001b[0m \u001b[0mpd\u001b[0m\u001b[1;33m.\u001b[0m\u001b[0mmerge\u001b[0m\u001b[1;33m(\u001b[0m\u001b[0mtest_result\u001b[0m\u001b[1;33m,\u001b[0m \u001b[0mtest_df\u001b[0m\u001b[1;33m,\u001b[0m \u001b[0mon\u001b[0m\u001b[1;33m=\u001b[0m\u001b[1;34m'sample_id'\u001b[0m\u001b[1;33m,\u001b[0m \u001b[0mhow\u001b[0m\u001b[1;33m=\u001b[0m\u001b[1;34m'left'\u001b[0m\u001b[1;33m)\u001b[0m\u001b[1;33m\u001b[0m\u001b[1;33m\u001b[0m\u001b[0m\n\u001b[0m\u001b[0;32m      4\u001b[0m \u001b[0mtest_result_for_pred\u001b[0m\u001b[1;33m[\u001b[0m\u001b[1;34m'text_1'\u001b[0m\u001b[1;33m]\u001b[0m \u001b[1;33m=\u001b[0m \u001b[0mtest_result_for_pred\u001b[0m\u001b[1;33m[\u001b[0m\u001b[1;34m'理财产品名称'\u001b[0m\u001b[1;33m]\u001b[0m\u001b[1;33m.\u001b[0m\u001b[0mastype\u001b[0m\u001b[1;33m(\u001b[0m\u001b[0mstr\u001b[0m\u001b[1;33m)\u001b[0m \u001b[1;33m+\u001b[0m \u001b[1;34m'_'\u001b[0m \u001b[1;33m+\u001b[0m \u001b[0mtest_result_for_pred\u001b[0m\u001b[1;33m[\u001b[0m\u001b[1;34m'产品发行方名称'\u001b[0m\u001b[1;33m]\u001b[0m\u001b[1;33m.\u001b[0m\u001b[0mastype\u001b[0m\u001b[1;33m(\u001b[0m\u001b[0mstr\u001b[0m\u001b[1;33m)\u001b[0m\u001b[1;33m\u001b[0m\u001b[1;33m\u001b[0m\u001b[0m\n\u001b[0;32m      5\u001b[0m \u001b[0mtest_result_for_pred\u001b[0m\u001b[1;33m[\u001b[0m\u001b[1;34m'text_2'\u001b[0m\u001b[1;33m]\u001b[0m \u001b[1;33m=\u001b[0m \u001b[0mtest_result_for_pred\u001b[0m\u001b[1;33m[\u001b[0m\u001b[1;34m'text'\u001b[0m\u001b[1;33m]\u001b[0m\u001b[1;33m.\u001b[0m\u001b[0mastype\u001b[0m\u001b[1;33m(\u001b[0m\u001b[0mstr\u001b[0m\u001b[1;33m)\u001b[0m\u001b[1;33m\u001b[0m\u001b[1;33m\u001b[0m\u001b[0m\n",
      "\u001b[1;31mNameError\u001b[0m: name 'test_result' is not defined"
     ]
    }
   ],
   "source": [
    "# 预测测试集\n",
    "test_df[\"sample_id\"]=test_df[\"sample_id\"].astype(str)\n",
    "test_result_for_pred = pd.merge(test_result, test_df, on='sample_id', how='left')\n",
    "test_result_for_pred['text_1'] = test_result_for_pred['理财产品名称'].astype(str) + '_' + test_result_for_pred['产品发行方名称'].astype(str)\n",
    "test_result_for_pred['text_2'] = test_result_for_pred['text'].astype(str)\n",
    "\n",
    "test_result_for_pred['text_1'] = test_result_for_pred['text_1'].progress_apply(lambda row:' '.join(jieba.lcut(str(row))))\n",
    "test_result_for_pred['text_2'] = test_result_for_pred['text_2'].progress_apply(lambda row:' '.join(jieba.lcut(str(row))))\n",
    "\n",
    "x1 = token_1.texts_to_sequences(test_result_for_pred['text_1'])\n",
    "x1 = pad_sequences(x1, maxlen=30, value=0)\n",
    "x3 = token_3.texts_to_sequences(test_result_for_pred['text_2'])\n",
    "x3 = pad_sequences(x3, maxlen=600, value=0)\n",
    "pred_result = model.predict([x1, x3], batch_size=1024, verbose=1)\n",
    "pred_1 = label_1.inverse_transform(np.argmax(pred_result[0], axis=1))\n",
    "pred_2 = label_2.inverse_transform(np.argmax(pred_result[1], axis=1))\n",
    "pred_3 = label_3.inverse_transform(np.argmax(pred_result[2], axis=1))\n",
    "pred_4 = label_4.inverse_transform(np.argmax(pred_result[3], axis=1))\n",
    "\n",
    "test_result['理财类型'] = pred_1\n",
    "test_result['资金来源'] = pred_2\n",
    "test_result['实际购买公司和上市公司关系'] = pred_3\n",
    "test_result['买卖方是否有关联关系'] = pred_4"
   ]
  },
  {
   "cell_type": "code",
   "execution_count": 27,
   "metadata": {},
   "outputs": [
    {
     "output_type": "error",
     "ename": "NameError",
     "evalue": "name 'test_result' is not defined",
     "traceback": [
      "\u001b[1;31m---------------------------------------------------------------------------\u001b[0m",
      "\u001b[1;31mNameError\u001b[0m                                 Traceback (most recent call last)",
      "\u001b[1;32m<ipython-input-27-8d62d995a84d>\u001b[0m in \u001b[0;36m<module>\u001b[1;34m\u001b[0m\n\u001b[1;32m----> 1\u001b[1;33m \u001b[0mtest_result\u001b[0m\u001b[1;33m.\u001b[0m\u001b[0mto_csv\u001b[0m\u001b[1;33m(\u001b[0m\u001b[1;34m'results/re_lstm_base.csv'\u001b[0m\u001b[1;33m,\u001b[0m\u001b[0mencoding\u001b[0m\u001b[1;33m=\u001b[0m\u001b[1;34m\"utf8\"\u001b[0m\u001b[1;33m,\u001b[0m \u001b[0mindex\u001b[0m\u001b[1;33m=\u001b[0m\u001b[1;32mFalse\u001b[0m\u001b[1;33m)\u001b[0m\u001b[1;33m\u001b[0m\u001b[1;33m\u001b[0m\u001b[0m\n\u001b[0m\u001b[0;32m      2\u001b[0m \u001b[0mtest_result\u001b[0m\u001b[1;33m.\u001b[0m\u001b[0mto_excel\u001b[0m\u001b[1;33m(\u001b[0m\u001b[1;34m'results/re_lstm_base.xlsx'\u001b[0m\u001b[1;33m,\u001b[0m\u001b[0mencoding\u001b[0m\u001b[1;33m=\u001b[0m\u001b[1;34m\"gb18030\"\u001b[0m\u001b[1;33m,\u001b[0m \u001b[0mindex\u001b[0m\u001b[1;33m=\u001b[0m\u001b[1;32mFalse\u001b[0m\u001b[1;33m)\u001b[0m\u001b[1;33m\u001b[0m\u001b[1;33m\u001b[0m\u001b[0m\n",
      "\u001b[1;31mNameError\u001b[0m: name 'test_result' is not defined"
     ]
    }
   ],
   "source": [
    "test_result.to_csv('results/re_lstm_base.csv',encoding=\"utf8\", index=False)\n",
    "test_result.to_excel('results/re_lstm_base.xlsx',encoding=\"gb18030\", index=False)"
   ]
  },
  {
   "cell_type": "markdown",
   "metadata": {
    "tags": []
   },
   "source": [
    "files_num=int(test_df.shape[0]/4)\n",
    "test_time[\"sample_id\"]=test_time[\"sample_id\"].astype(str)\n",
    "\n",
    "# test_time.shape\n",
    "# test_time.dropna(subset=[\"公告日期\"]).shape\n",
    "import random\n",
    "for i in range(1,20):\n",
    "    random_seed=random.randint(0,10000)\n",
    "    random_test_df = test_df.sample(frac=1, random_state=random_seed)\n",
    "    change_df=random_test_df[:files_num]\n",
    "    stable_df=random_test_df[files_num:]\n",
    "    random_test_time=pd.merge(change_df,test_time,on=[\"sample_id\"])\n",
    "    random_test_time.shape\n",
    "    random_test_time=random_test_time.dropna(subset=[\"公告日期\"])\n",
    "    random_test_time.shape\n",
    "    random_test_time[\"公告日期\"]=random_test_time[\"公告日期\"].map(lambda x:datetime.datetime.strftime(datetime.datetime.strptime(str(x.replace(\"\\r\",\"\")), '%Y-%m-%d'),'%Y-%m-%d'))\n"
   ]
  },
  {
   "cell_type": "code",
   "execution_count": 37,
   "metadata": {},
   "outputs": [
    {
     "output_type": "error",
     "ename": "IndexError",
     "evalue": "single positional indexer is out-of-bounds",
     "traceback": [
      "\u001b[1;31m---------------------------------------------------------------------------\u001b[0m",
      "\u001b[1;31mIndexError\u001b[0m                                Traceback (most recent call last)",
      "\u001b[1;32m<ipython-input-37-340577d4a7ad>\u001b[0m in \u001b[0;36m<module>\u001b[1;34m\u001b[0m\n\u001b[0;32m      1\u001b[0m \u001b[0msample_id\u001b[0m\u001b[1;33m=\u001b[0m\u001b[1;36m4663\u001b[0m\u001b[1;33m\u001b[0m\u001b[1;33m\u001b[0m\u001b[0m\n\u001b[0;32m      2\u001b[0m \u001b[1;31m# sample_id=7123\u001b[0m\u001b[1;33m\u001b[0m\u001b[1;33m\u001b[0m\u001b[1;33m\u001b[0m\u001b[0m\n\u001b[1;32m----> 3\u001b[1;33m \u001b[0mtabel\u001b[0m\u001b[1;33m=\u001b[0m\u001b[0mtrain_df\u001b[0m\u001b[1;33m[\u001b[0m\u001b[0mtrain_df\u001b[0m\u001b[1;33m[\u001b[0m\u001b[1;34m\"sample_id\"\u001b[0m\u001b[1;33m]\u001b[0m\u001b[1;33m==\u001b[0m\u001b[0msample_id\u001b[0m\u001b[1;33m]\u001b[0m\u001b[1;33m[\u001b[0m\u001b[1;34m\"tabel\"\u001b[0m\u001b[1;33m]\u001b[0m\u001b[1;33m.\u001b[0m\u001b[0miloc\u001b[0m\u001b[1;33m[\u001b[0m\u001b[1;36m0\u001b[0m\u001b[1;33m]\u001b[0m\u001b[1;33m\u001b[0m\u001b[1;33m\u001b[0m\u001b[0m\n\u001b[0m\u001b[0;32m      4\u001b[0m \u001b[0mtable_result\u001b[0m\u001b[1;33m,\u001b[0m\u001b[0mstart_rows_list\u001b[0m\u001b[1;33m,\u001b[0m\u001b[0mfirst_line_list\u001b[0m\u001b[1;33m,\u001b[0m\u001b[0mproduct_df_list\u001b[0m\u001b[1;33m=\u001b[0m\u001b[0mrow_combine\u001b[0m\u001b[1;33m(\u001b[0m\u001b[0msample_id\u001b[0m\u001b[1;33m,\u001b[0m\u001b[0mtabel\u001b[0m\u001b[1;33m)\u001b[0m\u001b[1;33m\u001b[0m\u001b[1;33m\u001b[0m\u001b[0m\n\u001b[0;32m      5\u001b[0m \u001b[0mindex\u001b[0m\u001b[1;33m=\u001b[0m\u001b[1;36m0\u001b[0m\u001b[1;33m\u001b[0m\u001b[1;33m\u001b[0m\u001b[0m\n",
      "\u001b[1;32mC:\\Anaconda3\\lib\\site-packages\\pandas\\core\\indexing.py\u001b[0m in \u001b[0;36m__getitem__\u001b[1;34m(self, key)\u001b[0m\n\u001b[0;32m   1766\u001b[0m \u001b[1;33m\u001b[0m\u001b[0m\n\u001b[0;32m   1767\u001b[0m             \u001b[0mmaybe_callable\u001b[0m \u001b[1;33m=\u001b[0m \u001b[0mcom\u001b[0m\u001b[1;33m.\u001b[0m\u001b[0mapply_if_callable\u001b[0m\u001b[1;33m(\u001b[0m\u001b[0mkey\u001b[0m\u001b[1;33m,\u001b[0m \u001b[0mself\u001b[0m\u001b[1;33m.\u001b[0m\u001b[0mobj\u001b[0m\u001b[1;33m)\u001b[0m\u001b[1;33m\u001b[0m\u001b[1;33m\u001b[0m\u001b[0m\n\u001b[1;32m-> 1768\u001b[1;33m             \u001b[1;32mreturn\u001b[0m \u001b[0mself\u001b[0m\u001b[1;33m.\u001b[0m\u001b[0m_getitem_axis\u001b[0m\u001b[1;33m(\u001b[0m\u001b[0mmaybe_callable\u001b[0m\u001b[1;33m,\u001b[0m \u001b[0maxis\u001b[0m\u001b[1;33m=\u001b[0m\u001b[0maxis\u001b[0m\u001b[1;33m)\u001b[0m\u001b[1;33m\u001b[0m\u001b[1;33m\u001b[0m\u001b[0m\n\u001b[0m\u001b[0;32m   1769\u001b[0m \u001b[1;33m\u001b[0m\u001b[0m\n\u001b[0;32m   1770\u001b[0m     \u001b[1;32mdef\u001b[0m \u001b[0m_is_scalar_access\u001b[0m\u001b[1;33m(\u001b[0m\u001b[0mself\u001b[0m\u001b[1;33m,\u001b[0m \u001b[0mkey\u001b[0m\u001b[1;33m:\u001b[0m \u001b[0mTuple\u001b[0m\u001b[1;33m)\u001b[0m\u001b[1;33m:\u001b[0m\u001b[1;33m\u001b[0m\u001b[1;33m\u001b[0m\u001b[0m\n",
      "\u001b[1;32mC:\\Anaconda3\\lib\\site-packages\\pandas\\core\\indexing.py\u001b[0m in \u001b[0;36m_getitem_axis\u001b[1;34m(self, key, axis)\u001b[0m\n\u001b[0;32m   2136\u001b[0m \u001b[1;33m\u001b[0m\u001b[0m\n\u001b[0;32m   2137\u001b[0m             \u001b[1;31m# validate the location\u001b[0m\u001b[1;33m\u001b[0m\u001b[1;33m\u001b[0m\u001b[1;33m\u001b[0m\u001b[0m\n\u001b[1;32m-> 2138\u001b[1;33m             \u001b[0mself\u001b[0m\u001b[1;33m.\u001b[0m\u001b[0m_validate_integer\u001b[0m\u001b[1;33m(\u001b[0m\u001b[0mkey\u001b[0m\u001b[1;33m,\u001b[0m \u001b[0maxis\u001b[0m\u001b[1;33m)\u001b[0m\u001b[1;33m\u001b[0m\u001b[1;33m\u001b[0m\u001b[0m\n\u001b[0m\u001b[0;32m   2139\u001b[0m \u001b[1;33m\u001b[0m\u001b[0m\n\u001b[0;32m   2140\u001b[0m             \u001b[1;32mreturn\u001b[0m \u001b[0mself\u001b[0m\u001b[1;33m.\u001b[0m\u001b[0m_get_loc\u001b[0m\u001b[1;33m(\u001b[0m\u001b[0mkey\u001b[0m\u001b[1;33m,\u001b[0m \u001b[0maxis\u001b[0m\u001b[1;33m=\u001b[0m\u001b[0maxis\u001b[0m\u001b[1;33m)\u001b[0m\u001b[1;33m\u001b[0m\u001b[1;33m\u001b[0m\u001b[0m\n",
      "\u001b[1;32mC:\\Anaconda3\\lib\\site-packages\\pandas\\core\\indexing.py\u001b[0m in \u001b[0;36m_validate_integer\u001b[1;34m(self, key, axis)\u001b[0m\n\u001b[0;32m   2061\u001b[0m         \u001b[0mlen_axis\u001b[0m \u001b[1;33m=\u001b[0m \u001b[0mlen\u001b[0m\u001b[1;33m(\u001b[0m\u001b[0mself\u001b[0m\u001b[1;33m.\u001b[0m\u001b[0mobj\u001b[0m\u001b[1;33m.\u001b[0m\u001b[0m_get_axis\u001b[0m\u001b[1;33m(\u001b[0m\u001b[0maxis\u001b[0m\u001b[1;33m)\u001b[0m\u001b[1;33m)\u001b[0m\u001b[1;33m\u001b[0m\u001b[1;33m\u001b[0m\u001b[0m\n\u001b[0;32m   2062\u001b[0m         \u001b[1;32mif\u001b[0m \u001b[0mkey\u001b[0m \u001b[1;33m>=\u001b[0m \u001b[0mlen_axis\u001b[0m \u001b[1;32mor\u001b[0m \u001b[0mkey\u001b[0m \u001b[1;33m<\u001b[0m \u001b[1;33m-\u001b[0m\u001b[0mlen_axis\u001b[0m\u001b[1;33m:\u001b[0m\u001b[1;33m\u001b[0m\u001b[1;33m\u001b[0m\u001b[0m\n\u001b[1;32m-> 2063\u001b[1;33m             \u001b[1;32mraise\u001b[0m \u001b[0mIndexError\u001b[0m\u001b[1;33m(\u001b[0m\u001b[1;34m\"single positional indexer is out-of-bounds\"\u001b[0m\u001b[1;33m)\u001b[0m\u001b[1;33m\u001b[0m\u001b[1;33m\u001b[0m\u001b[0m\n\u001b[0m\u001b[0;32m   2064\u001b[0m \u001b[1;33m\u001b[0m\u001b[0m\n\u001b[0;32m   2065\u001b[0m     \u001b[1;32mdef\u001b[0m \u001b[0m_getitem_tuple\u001b[0m\u001b[1;33m(\u001b[0m\u001b[0mself\u001b[0m\u001b[1;33m,\u001b[0m \u001b[0mtup\u001b[0m\u001b[1;33m:\u001b[0m \u001b[0mTuple\u001b[0m\u001b[1;33m)\u001b[0m\u001b[1;33m:\u001b[0m\u001b[1;33m\u001b[0m\u001b[1;33m\u001b[0m\u001b[0m\n",
      "\u001b[1;31mIndexError\u001b[0m: single positional indexer is out-of-bounds"
     ]
    }
   ],
   "source": [
    "sample_id=4663\n",
    "# sample_id=7123\n",
    "tabel=val_df[val_df[\"sample_id\"]==sample_id][\"tabel\"].iloc[0]\n",
    "table_result,start_rows_list,first_line_list,product_df_list=row_combine(sample_id,tabel)\n",
    "index=0\n",
    "table_result[index]\n",
    "product_df_list_ele=product_df_list[index].reset_index(drop=True)\n",
    "product_df_list_ele\n",
    "# product_df_list_ele\n",
    "each_sum_rows=get_each_product_row(table_result[index],product_df_list_ele.reset_index(drop=True))\n",
    "\n",
    "each_sum_rows2=result_matrix[result_matrix[\"sample_id\"]==sample_id][\"product_df\"].iloc[0]\n",
    "# # each_sum_rows\n",
    "each_sum_rows"
   ]
  }
 ],
 "metadata": {
  "kernelspec": {
   "display_name": "Python 3",
   "language": "python",
   "name": "python3"
  },
  "language_info": {
   "codemirror_mode": {
    "name": "ipython",
    "version": 3
   },
   "file_extension": ".py",
   "mimetype": "text/x-python",
   "name": "python",
   "nbconvert_exporter": "python",
   "pygments_lexer": "ipython3",
   "version": "3.8.5-final"
  }
 },
 "nbformat": 4,
 "nbformat_minor": 4
}