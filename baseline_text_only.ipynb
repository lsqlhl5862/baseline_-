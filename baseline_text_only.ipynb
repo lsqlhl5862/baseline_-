{
 "metadata": {
  "language_info": {
   "codemirror_mode": {
    "name": "ipython",
    "version": 3
   },
   "file_extension": ".py",
   "mimetype": "text/x-python",
   "name": "python",
   "nbconvert_exporter": "python",
   "pygments_lexer": "ipython3",
   "version": "3.8.5-final"
  },
  "orig_nbformat": 2,
  "kernelspec": {
   "name": "python3",
   "display_name": "Python 3"
  }
 },
 "nbformat": 4,
 "nbformat_minor": 2,
 "cells": [
  {
   "cell_type": "code",
   "execution_count": 86,
   "metadata": {},
   "outputs": [],
   "source": [
    "# 导入相关包\n",
    "import os\n",
    "import pathlib as pl\n",
    "import pandas as pd\n",
    "import numpy as np\n",
    "import re\n",
    "from io import StringIO\n",
    "from datetime import datetime,timedelta\n",
    "import time\n",
    "from IPython.core.interactiveshell import InteractiveShell\n",
    "from tqdm.autonotebook import *\n",
    "import pdfplumber\n",
    "import collections\n",
    "tqdm.pandas()\n",
    "InteractiveShell.ast_node_interactivity = \"all\"\n",
    "sys.path.append(\"..\")\n",
    "\n",
    "from tgrocery import Grocery\n",
    "import jieba"
   ]
  },
  {
   "cell_type": "code",
   "execution_count": 28,
   "metadata": {},
   "outputs": [
    {
     "output_type": "execute_result",
     "data": {
      "text/plain": "   sample_id       认购日期        理财产品名称     产品发行方名称    理财类型  认购金额(万元)  \\\n0          1 2019-03-27         汇聚金1号  中融国际信托有限公司      信托   10000.0   \n1          1 2019-03-27  招商银行步步生金8699        招商银行  银行理财产品     200.0   \n\n       产品起息日      产品到息日  产品期限  资金来源    实际购买公司名称 实际购买公司和上市公司关系 买卖方是否有关联关系  \\\n0 2019-03-27 2019-09-23  180天  自有资金  恒生电子股份有限公司          公司本身          否   \n1 2019-03-27        NaT   NaN  自有资金  恒生电子股份有限公司          公司本身          否   \n\n        公告日期  \n0 2019-04-25  \n1 2019-04-25  ",
      "text/html": "<div>\n<style scoped>\n    .dataframe tbody tr th:only-of-type {\n        vertical-align: middle;\n    }\n\n    .dataframe tbody tr th {\n        vertical-align: top;\n    }\n\n    .dataframe thead th {\n        text-align: right;\n    }\n</style>\n<table border=\"1\" class=\"dataframe\">\n  <thead>\n    <tr style=\"text-align: right;\">\n      <th></th>\n      <th>sample_id</th>\n      <th>认购日期</th>\n      <th>理财产品名称</th>\n      <th>产品发行方名称</th>\n      <th>理财类型</th>\n      <th>认购金额(万元)</th>\n      <th>产品起息日</th>\n      <th>产品到息日</th>\n      <th>产品期限</th>\n      <th>资金来源</th>\n      <th>实际购买公司名称</th>\n      <th>实际购买公司和上市公司关系</th>\n      <th>买卖方是否有关联关系</th>\n      <th>公告日期</th>\n    </tr>\n  </thead>\n  <tbody>\n    <tr>\n      <th>0</th>\n      <td>1</td>\n      <td>2019-03-27</td>\n      <td>汇聚金1号</td>\n      <td>中融国际信托有限公司</td>\n      <td>信托</td>\n      <td>10000.0</td>\n      <td>2019-03-27</td>\n      <td>2019-09-23</td>\n      <td>180天</td>\n      <td>自有资金</td>\n      <td>恒生电子股份有限公司</td>\n      <td>公司本身</td>\n      <td>否</td>\n      <td>2019-04-25</td>\n    </tr>\n    <tr>\n      <th>1</th>\n      <td>1</td>\n      <td>2019-03-27</td>\n      <td>招商银行步步生金8699</td>\n      <td>招商银行</td>\n      <td>银行理财产品</td>\n      <td>200.0</td>\n      <td>2019-03-27</td>\n      <td>NaT</td>\n      <td>NaN</td>\n      <td>自有资金</td>\n      <td>恒生电子股份有限公司</td>\n      <td>公司本身</td>\n      <td>否</td>\n      <td>2019-04-25</td>\n    </tr>\n  </tbody>\n</table>\n</div>"
     },
     "metadata": {},
     "execution_count": 28
    },
    {
     "output_type": "execute_result",
     "data": {
      "text/plain": "   sample_id                  file_path  \\\n0          1  datasets/train_data/1.PDF   \n1          2  datasets/train_data/2.PDF   \n\n                                                text  \\\n0  ['                                            ...   \n1  ['                                            ...   \n\n                                               tabel  \n0  [[['', None, None, '', None, None, '', None, N...  \n1  [[['', None, None, '', None, None, '', None, N...  ",
      "text/html": "<div>\n<style scoped>\n    .dataframe tbody tr th:only-of-type {\n        vertical-align: middle;\n    }\n\n    .dataframe tbody tr th {\n        vertical-align: top;\n    }\n\n    .dataframe thead th {\n        text-align: right;\n    }\n</style>\n<table border=\"1\" class=\"dataframe\">\n  <thead>\n    <tr style=\"text-align: right;\">\n      <th></th>\n      <th>sample_id</th>\n      <th>file_path</th>\n      <th>text</th>\n      <th>tabel</th>\n    </tr>\n  </thead>\n  <tbody>\n    <tr>\n      <th>0</th>\n      <td>1</td>\n      <td>datasets/train_data/1.PDF</td>\n      <td>['                                            ...</td>\n      <td>[[['', None, None, '', None, None, '', None, N...</td>\n    </tr>\n    <tr>\n      <th>1</th>\n      <td>2</td>\n      <td>datasets/train_data/2.PDF</td>\n      <td>['                                            ...</td>\n      <td>[[['', None, None, '', None, None, '', None, N...</td>\n    </tr>\n  </tbody>\n</table>\n</div>"
     },
     "metadata": {},
     "execution_count": 28
    },
    {
     "output_type": "execute_result",
     "data": {
      "text/plain": "   sample_id                     file_path  \\\n0      11188  datasets/test_data/11188.PDF   \n1      11189  datasets/test_data/11189.PDF   \n\n                                                text tabel  \n0  ['北京京西文化旅游股份有限公司监事会\\n \\n \\n关于使用部分闲置募集资金购买理财产品的...    []  \n1  ['北京京西文化旅游股份有限公司 \\n监事会关于使用部分自有资金购买理财产品的意见 \\n根据...    []  ",
      "text/html": "<div>\n<style scoped>\n    .dataframe tbody tr th:only-of-type {\n        vertical-align: middle;\n    }\n\n    .dataframe tbody tr th {\n        vertical-align: top;\n    }\n\n    .dataframe thead th {\n        text-align: right;\n    }\n</style>\n<table border=\"1\" class=\"dataframe\">\n  <thead>\n    <tr style=\"text-align: right;\">\n      <th></th>\n      <th>sample_id</th>\n      <th>file_path</th>\n      <th>text</th>\n      <th>tabel</th>\n    </tr>\n  </thead>\n  <tbody>\n    <tr>\n      <th>0</th>\n      <td>11188</td>\n      <td>datasets/test_data/11188.PDF</td>\n      <td>['北京京西文化旅游股份有限公司监事会\\n \\n \\n关于使用部分闲置募集资金购买理财产品的...</td>\n      <td>[]</td>\n    </tr>\n    <tr>\n      <th>1</th>\n      <td>11189</td>\n      <td>datasets/test_data/11189.PDF</td>\n      <td>['北京京西文化旅游股份有限公司 \\n监事会关于使用部分自有资金购买理财产品的意见 \\n根据...</td>\n      <td>[]</td>\n    </tr>\n  </tbody>\n</table>\n</div>"
     },
     "metadata": {},
     "execution_count": 28
    }
   ],
   "source": [
    "# 数据准备(train_output文件中格式有点问题，需要提前用excel或者wps打开然后另存为excel文件)\n",
    "train_outputs = pd.read_excel('datasets/train_output.xlsx')\n",
    "\n",
    "# 获取pdf中文字和表格\n",
    "def extract_pdf_content(pdf_path):\n",
    "    text_list = []\n",
    "    table_list = []\n",
    "    with pdfplumber.open(pdf_path) as pdf:\n",
    "        for index_page in np.arange(0, len(pdf.pages), 1):\n",
    "            # 读取多页\n",
    "            page = pdf.pages[index_page]   # 第n页的信息\n",
    "            text = page.extract_text()\n",
    "            text_list.append(text)\n",
    "            table = page.extract_tables()\n",
    "            for t in table:\n",
    "                table_list.append(t)\n",
    "    return text_list, table_list\n",
    "\n",
    "def get_dir_file(path):\n",
    "    '''\n",
    "    输入文件夹位置，输出整理好的dataframe\n",
    "    '''\n",
    "    path_list = os.listdir(path)\n",
    "    id_list = []\n",
    "    file_path_list = []\n",
    "    text_list = []\n",
    "    table_list = []\n",
    "    for i in tqdm(path_list):\n",
    "        if '.PDF' in i:\n",
    "            file_path = path + i\n",
    "            id_list.append(int(i.split('.')[0]))\n",
    "            file_path_list.append(file_path)\n",
    "            try:\n",
    "                text_temp, table_temp = extract_pdf_content(file_path)\n",
    "            except Exception:\n",
    "                print('此pdf无法读取')\n",
    "                text_temp, table_temp = [], []\n",
    "            text_list.append(text_temp)\n",
    "            table_list.append(table_temp)\n",
    "            \n",
    "    df = pd.DataFrame()\n",
    "    df['sample_id'] = id_list\n",
    "    df['file_path'] = file_path_list\n",
    "    df['text'] = text_list\n",
    "    df['tabel'] = table_list\n",
    "    df = df.sort_values('sample_id')\n",
    "    return df\n",
    "\n",
    "# 文件处理太慢，可持续化保存文件\n",
    "train_path = 'datasets/train.csv'\n",
    "if os.path.exists(train_path):\n",
    "    train_df = pd.read_csv(train_path)\n",
    "else:\n",
    "    train_df = get_dir_file('datasets/train_data/')\n",
    "    train_df.to_csv(train_path,index=False)\n",
    "    train_df = pd.read_csv(train_path)\n",
    "\n",
    "test_path =  'datasets/test.csv'\n",
    "if os.path.exists(test_path):\n",
    "    test_df = pd.read_csv(test_path)\n",
    "else:\n",
    "    test_df = get_dir_file('datasets/test_data/')\n",
    "    test_df.to_csv(test_path,index=False)\n",
    "    test_df = pd.read_csv(test_path)\n",
    "\n",
    "train_outputs.head(2)\n",
    "train_df.head(2)\n",
    "test_df.head(2)"
   ]
  },
  {
   "cell_type": "code",
   "execution_count": 29,
   "metadata": {},
   "outputs": [],
   "source": [
    "# 构造训练集验证集\n",
    "train_df = train_df.sample(frac=1, random_state=1017)\n",
    "\n",
    "val_df = train_df[:1800].head(20)\n",
    "train_df = train_df[1800:].head(20)\n",
    "test_df=test_df.head(20)\n",
    "\n",
    "train_outputs[\"sample_id\"]=train_outputs[\"sample_id\"].astype(str)\n",
    "val_df[\"sample_id\"]=val_df[\"sample_id\"].astype(str)\n",
    "train_df[\"sample_id\"]=train_df[\"sample_id\"].astype(str)\n",
    "test_df[\"sample_id\"]=test_df[\"sample_id\"].astype(str)\n"
   ]
  },
  {
   "cell_type": "markdown",
   "metadata": {},
   "source": [
    "# 有效文本挖掘"
   ]
  },
  {
   "cell_type": "code",
   "execution_count": 37,
   "metadata": {
    "tags": []
   },
   "outputs": [
    {
     "output_type": "stream",
     "name": "stderr",
     "text": "100%|██████████| 20/20 [00:00<00:00, 62.11it/s]\n100%|██████████| 20/20 [00:00<00:00, 62.30it/s]\n100%|██████████| 20/20 [00:00<00:00, 33.67it/s]\n"
    }
   ],
   "source": [
    "#text=text.replace(r'[ ]+',' ').replace('\\r','^')\n",
    "def get_title(text):\n",
    "    global title_num_char\n",
    "    title_list=[]\n",
    "    title_type_list=[]\n",
    "    text_start_iter_list=[]\n",
    "    text_end_iter_list=[]\n",
    " \n",
    "    for item in title_num_char:\n",
    "        pattern = re.compile(item+\"[0-9A-Za-z\\u4e00-\\u9fa5 ()\\[\\]（）【】：:]*?[\\^]\")\n",
    "        #pattern = re.compile(item+r\"[ ]*?[^ ]+?[ ]\")\n",
    "        #pattern = re.compile(item+\"[0-9A-Za-z\\u4e00-\\u9fa5 ()[]（）【】][]\")#*?[\\^]\n",
    "        tmp=pattern.finditer(text)\n",
    "        for i in tmp:\n",
    "            title_list.append(i.group())\n",
    "            text_start_iter_list.append(i.span(0)[0])\n",
    "            title_type_list.append(1)\n",
    "            text_end_iter_list.append(i.span(0)[1])\n",
    "\n",
    "    # for item in title_list:\n",
    "    for item in s_title_num_char:\n",
    "        # pattern = re.compile(item+r\"[ ]*?[ ]*?[\\d][^ ]+?:?[ ]?\") \n",
    "        # pattern = re.compile(item+\"[0-9A-Za-z\\u4e00-\\u9fa5\\^ ]*\")\n",
    "        # pattern = re.compile(item+'[0-9\\u4e00-\\u9fa5()[]（）【】*?[\\^]]')*?[\\^]\n",
    "    #    pattern = re.compile(item+r\"[\\d]*?\\u4e00-\\u9fa5+[ ]\")\n",
    "        pattern = re.compile(item+\"[0-9A-Za-z\\u4e00-\\u9fa5 ()\\[\\]（）【】：:]*?[ ][\\^]\")\n",
    "        tmp=pattern.finditer(text)\n",
    "        for i in tmp:\n",
    "            title_list.append(i.group())\n",
    "            text_start_iter_list.append(i.span(0)[0])\n",
    "            title_type_list.append(1)\n",
    "            text_end_iter_list.append(i.span(0)[1])\n",
    "\n",
    "    title_list.append(\"引言\")\n",
    "    title_type_list.append(1)\n",
    "    text_start_iter_list.append(0)\n",
    "    text_end_iter_list.append(0)\n",
    "\n",
    "    result_df=pd.DataFrame([title_list,title_type_list,text_start_iter_list,text_end_iter_list]).T.sort_values(by=2).reset_index(drop=True)\n",
    "    # print(result_df)\n",
    "    return result_df\n",
    "\n",
    "def get_title_text(text,title_df):\n",
    "    # print(title_df)\n",
    "    title_1_df=title_df[title_df[1]==1]\n",
    "    text_iter_list=[]\n",
    "    text_list=[]\n",
    "    # print(title_1_df)\n",
    "    for iter1,iter2 in title_1_df[[2,3]].values:\n",
    "        # print(iter1)\n",
    "        if(len(text_iter_list)!=0):\n",
    "            text_iter_list.append(iter1)\n",
    "        text_iter_list.append(iter2)\n",
    "    # text_iter_list.append(text_iter_list[len(text_iter_list)-1])\n",
    "    text_iter_list.append(len(text))\n",
    "    for index in range(int(len(text_iter_list)/2)):\n",
    "        text_list.append(text[text_iter_list[2*index]:text_iter_list[2*index+1]])\n",
    "    \n",
    "    title_1_df[4]=text_list\n",
    "\n",
    "    return title_1_df.reset_index(drop=True)\n",
    "\n",
    "#from fuzzywuzzy import fuzz\n",
    "def judge_title(sample_id=0,text=r\"test\\n\"):\n",
    "    # print(text)\n",
    "    text=text.replace(r\"\\n\",\"^\").replace(r'[ ]+',' ')\n",
    "    title_df=get_title(text)\n",
    "    title_df[\"sample_id\"]=[sample_id for x in range(title_df.shape[0])]\n",
    "    # print(title_df)`\n",
    "    title_1_df=get_title_text(text,title_df)[[\"sample_id\",0,1,2,3,4]]\n",
    "\n",
    "    \n",
    "\n",
    "    global val_df\n",
    "    global train_outputs\n",
    "    val_true_name=train_outputs[train_outputs[\"sample_id\"]==sample_id][\"理财产品名称\"]\n",
    "    \n",
    "    index=0\n",
    "    neg_index=[]\n",
    "    for title_des in title_1_df[0].values:\n",
    "        for item in title_neg_words:\n",
    "            if re.search(item,title_des) is not None:\n",
    "                neg_index.append(index)\n",
    "                break\n",
    "        index+=1\n",
    "\n",
    "\n",
    "    return title_1_df.drop(neg_index)\n",
    "    # print(title_list)\n",
    "\n",
    "def get_judge_title_result(val_df):\n",
    "\n",
    "    judge_title_result=None\n",
    "\n",
    "\n",
    "    for sample_id,text in tqdm(val_df[[\"sample_id\",\"text\"]].values):\n",
    "        # print(sample_id)\n",
    "        # print(text)\n",
    "        judge_title_result= judge_title(sample_id,text) if judge_title_result is None else pd.concat([judge_title_result,judge_title(sample_id,text)])\n",
    "\n",
    "        judge_title_result[\"sample_id\"]=judge_title_result[\"sample_id\"].astype(str)        \n",
    "    return judge_title_result\n",
    "\n",
    "title_num_char=[\"一、\",\"二、\",\"三、\",\"四、\",\"五、\",\"六、\",\"七、\",\"八、\",\"九、\",\"十、\",\"十一、\",\"十二、\",\"十三、\",\"十四、\",\"十五、\"]\n",
    "s_title_num_char=[\"（一）\",\"（二）\",\"（三）\",\"（四）\",\"（五）\",\"（六）\",\"（七）\",\"（八）\",\"（九）\",\"（十）\",\"（十一）\",\"（十二）\",\"（十三）\",\"（十四）\",\"（十五）\"]\n",
    "s_title_num_char.extend([\"[(]一[)]\",\"[(]二[)]\",\"[(]三[)]\",\"[(]四[)]\",\"[(]五[)]\",\"[(]六[)]\",\"[(]七[)]\",\"[(]八[)]\",\"[(]九[)]\",\"[(]十[)]\",\"[(]十一[)]\",\"[(]十二[)]\",\"[(]十三[)]\",\"[(]十四[)]\",\"[(]十五[)]\"])\n",
    "\n",
    "title_pos_words=[]\n",
    "title_neg_words=[\"备查\",\"日前\",\"过去\",\"履行\",\"审批\",\"程序\",\"风险\",\"措施\",\"影响\",\"累计\",\"赎回\",\"到期\",\"截至\",\"意见\",\"十二个月内\",\"公告前\",\"报备文件\",\"前期\"]\n",
    "\n",
    "val_judge_title_result=get_judge_title_result(val_df)\n",
    "train_judge_title_result=get_judge_title_result(train_df)\n",
    "test_judge_title_result=get_judge_title_result(test_df)\n",
    "# judge_title_result.to_excel(\"训练集段落标题分类结果.xlsx\",index=None)"
   ]
  },
  {
   "cell_type": "code",
   "execution_count": 99,
   "metadata": {
    "tags": []
   },
   "outputs": [
    {
     "output_type": "stream",
     "name": "stderr",
     "text": "100%|██████████| 20/20 [00:00<00:00, 487.81it/s]\n100%|██████████| 20/20 [00:00<00:00, 588.18it/s]\n100%|██████████| 20/20 [00:00<00:00, 624.90it/s]\n"
    }
   ],
   "source": [
    "###9月11日\n",
    "#val_judge_title_result.head(100)\n",
    "def get_content_df(val_judge_title_result):\n",
    "    sample_id=val_judge_title_result['sample_id'].drop_duplicates() \n",
    "    text_list=[]\n",
    "    text_sampleid_list=[]\n",
    "    content_df=pd.DataFrame()\n",
    "    for i in tqdm(sample_id):\n",
    "        text_df=val_judge_title_result[val_judge_title_result['sample_id']==i]\n",
    "    #  text_df.iloc[0,5]\n",
    "        #text_df\n",
    "        n=len(text_df)\n",
    "        text_sampleid_list.append(i)\n",
    "        text=''\n",
    "        for y in range(0,n):\n",
    "            text=text+text_df.iloc[y,1]+text_df.iloc[y,5]\n",
    "            text=re.sub(\"[ ]+\",\" \",text).replace(\"（\",\"(\").replace(\"）\",\")\")\n",
    "        #text\n",
    "        text_list.append(text)\n",
    "    content_df[\"sample_id\"]=text_sampleid_list\n",
    "    content_df[\"text\"]=text_list\n",
    "    return content_df.reset_index(drop=True)\n",
    "\n",
    "\n",
    "val_content_df=get_content_df(val_judge_title_result)\n",
    "train_content_df=get_content_df(train_judge_title_result)\n",
    "test_content_df=get_content_df(test_judge_title_result)\n",
    "\n",
    "# val_content_df['sample_id']=val_content_df['sample_id'].astype(str)\n",
    "# train_content_df['sample_id']=train_content_df['sample_id']\n",
    "# test_content_df['sample_id']=test_content_df['sample_id']\n",
    "# val_content_df[[\"sample_id\",\"text\"]]\n",
    "# test_judge_title_result.shape\n",
    "# val_content_df[\"sample_id\"]\n",
    "# test_content_df\n",
    "# val_content_df=pd.merge(val_judge_title_result,val_judge_title_result)\n",
    "val_content_df=pd.merge(val_content_df,val_df[[\"sample_id\",\"tabel\"]],on=\"sample_id\")\n",
    "train_content_df=pd.merge(train_content_df,train_df[[\"sample_id\",\"tabel\"]],on=\"sample_id\")\n",
    "test_content_df=pd.merge(test_content_df,test_df[[\"sample_id\",\"tabel\"]],on=\"sample_id\")"
   ]
  },
  {
   "cell_type": "markdown",
   "metadata": {},
   "source": [
    "# 名称提取"
   ]
  },
  {
   "cell_type": "code",
   "execution_count": 76,
   "metadata": {},
   "outputs": [],
   "source": [
    "######计算文本位置长度#############\n",
    "def len_count(my_list,my_str):\n",
    "    my_len=0\n",
    "    for i in my_list:\n",
    "        my_len=my_len+len(i)\n",
    "    my_len=my_len+(len(my_list)-1)*len(my_str)\n",
    "    return my_len\n",
    "\n",
    "\n",
    "######基于冒号做文本拼接与分割####效果优\n",
    "def maohao_cat(text):\n",
    "    text=text.replace(r\"\\n\",\"^\")\n",
    "    text=text.replace(r\"', '\",\"^\")\n",
    "    text=text.replace(' ','')\n",
    "    text=text.replace('（','(').replace('）',')').replace('；','^')     ###############;直接去掉,有极个别答案(答案中出现了引号)将会收到负反馈，多数正反馈\n",
    "    text=re.sub('\\^[1-9]\\^','^',text)\n",
    "    text=re.sub('\\^\\-[1-9]\\-\\^','^',text)\n",
    "    text=re.sub(\"[（][^）]*?[\\^]*$\",'',text)\n",
    "    text=re.sub('[，]*$','',text)\n",
    "    pos_word=[\"名称\",\"期限\",\"年\",\"月\",\"日\",\"时间\",\"产品\",\"资金\",\"金额\",\"天\",\"来源\",\"总额\",\"类型\",\"元\",\"关系\",\"无关\",\"不存在关\"]\n",
    "    if '^' not in text:\n",
    "        return \n",
    "    my_list=text.split(\"^\")\n",
    "    my_str=''\n",
    "    str_list=[]\n",
    "    # for i in my_list:\n",
    "    #     if \"：\" not in i and \":\" not in i and \"无关\" not in i and \"不存在关\" not in i and \"名称\" not in my_str:\n",
    "    #         my_str=my_str+i\n",
    "    #         # if len(i)<=6:\n",
    "    #         #     str_list.append(my_str)      #############解决最后一行被后函数因字数过长舍弃的办法\n",
    "    #         #     continue\n",
    "    #     else:\n",
    "    #         str_list.append(my_str)\n",
    "    #         my_str=i\n",
    "    \n",
    "    for i in my_list:\n",
    "        if \"：\" not in i and \":\" not in i and len(re.sub('[^\\u4e00-\\u9fa5]*','',i))<5:\n",
    "            my_str=my_str+i\n",
    "            # if \"不存在关\" in my_str:\n",
    "            #     str_list.append(my_str)\n",
    "            #     my_str=''\n",
    "            # if len(i)<=6:\n",
    "            #     str_list.append(my_str)      #############解决最后一行被后函数因字数过长舍弃的办法\n",
    "            #     continue\n",
    "        else:\n",
    "            str_list.append(my_str)\n",
    "            my_str=i\n",
    "    \n",
    "    str_list.append(my_str)\n",
    "    # print(my_list)\n",
    "    # print('-----')\n",
    "    # print(str_list)\n",
    "    # print('-----')\n",
    "    cat_text=''\n",
    "    # print(str_list)\n",
    "    for i in str_list:\n",
    "        cat_text=cat_text+i+r'^'\n",
    "        # print(cat_text)\n",
    "    # print(cat_text.replace(r'^','\\n'))\n",
    "    return cat_text\n",
    "\n",
    "    \n",
    "\n",
    "        \n",
    "\n",
    "\n",
    "\n",
    "\n",
    "\n",
    "######寻找文本中的答案##############\n",
    "####以如下及冒号行做切片#############\n",
    "def wjc_spl(text):\n",
    "    spl1=[]      ###如下切片\n",
    "    maohao=3  ####设定冒号出现次数阈值\n",
    "    zishu=30   ####设定单行冒号后字数阈值\n",
    "    my_str=\"\"\n",
    "    text=maohao_cat(text)    #########调用函数做text正规化\n",
    "    spl2=[]      ###行切片\n",
    "    spl3=[]\n",
    "    neg_word=[]\n",
    "    pos_word=[\"名称\",\"期限\",\"年\",\"月\",\"日\",\"时间\",\"产品\",\"资金\",\"金额\",\"天\",\"来源\",\"总额\",\"类型\",\"元\",\"关系\",\"额\",\"金\",\"受托\",\"签约银行\"]\n",
    "    # pos_word=[\"名称\"]\n",
    "    # print(len(text))\n",
    "    if text==None:\n",
    "        return -1,-1,-1\n",
    "    text=text.replace(r\"\\n\",\"^\")\n",
    "    # print(len(text))\n",
    "    text=text.replace(r\"', '\",\"^\")    ######解决换页符被置为', '的问题\n",
    "    # print(len(text))\n",
    "    text=text.replace(' ','')\n",
    "    text=text.replace('（','(').replace('）',')').replace(':','：').replace('如^下：','如下：').replace('如下^：','如下：')\n",
    "    # print(len(text))\n",
    "    # print(text[:10000])\n",
    "    if \"如下：\" not in text:\n",
    "        return -1,-1,-1\n",
    "    else:\n",
    "        move=[]\n",
    "        spl1=text.split(\"如下：\")   #####首次切割####\n",
    "        # print(len_count(spl1,'如下：'))\n",
    "        # print(len(spl1[0])+len(spl1[1]))\n",
    "        my_len=len(spl1[0])+len('如下：')\n",
    "        spl1=spl1[1:]              ######第一次如下前的内容不关心##########\n",
    "        len_list=[]\n",
    "        tag1=[]\n",
    "        # print(spl1)\n",
    "        for i in spl1:\n",
    "            len_list.append(len(i))\n",
    "            if i.count(\"：\")<=maohao:\n",
    "                # print('aaaaaaa',len(len_list))\n",
    "                tag1.append(len(len_list))\n",
    "                move.append(i)\n",
    "        # move=list(set(move))\n",
    "        for x in move:\n",
    "            # print('pppppppppppppppppppppppppppp')\n",
    "            # print(x)\n",
    "            spl1.remove(x)    ####去除冒号过少的部分切片\n",
    "                \n",
    "        # print(my_len+0)\n",
    "        # print(spl1)\n",
    "        for i in spl1:\n",
    "            test=i.split('^')\n",
    "            #print(test[10])\n",
    "            for j in test:\n",
    "                spl2.append(j)\n",
    "            \n",
    "        # print(spl2[100])\n",
    "        move=[]\n",
    "        for i in spl2:\n",
    "            #print(i)\n",
    "            if i.count(\"：\")!=1 and i.count(\":\")!=1:\n",
    "                # print(i.count(\"：\"))\n",
    "                move.append(i)    ####以行做切片，去除单行里非只有一个冒号的行\n",
    "        for x in move:\n",
    "            # print(x)\n",
    "            spl2.remove(x)\n",
    "        # print(spl2[0])\n",
    "        move=[]\n",
    "        for i in spl2:\n",
    "            judge1=re.sub('[a-zA-Z]','',i.split(\"：\")[-1])\n",
    "            judge1=re.sub(r\"\\d\",'',judge1)\n",
    "            judge1=re.sub(r'”','',judge1)\n",
    "            judge1=re.sub(r'“','',judge1)\n",
    "            judge1=re.sub(r'（','',judge1)\n",
    "            judge1=re.sub(r'）','',judge1)\n",
    "            # print(len(judge1))\n",
    "            if len(judge1)>=zishu or len(judge1)<1:     #######去除冒号后关心字段所提中文内容过长或过短的行\n",
    "                move.append(i)\n",
    "                # print(i)\n",
    "        for x in move:\n",
    "            # print(x)\n",
    "            spl2.remove(x)\n",
    "        # print(spl2)\n",
    "        move=[]\n",
    "        # print(spl2)\n",
    "        # print('-----------')\n",
    "\n",
    "        # print(spl2)\n",
    "        if spl2==[]:\n",
    "            # print('该文本变量做行切片结果为空')\n",
    "            return -1,-1,-1\n",
    "\n",
    "        for i in spl2:\n",
    "            x=0\n",
    "            for j in pos_word:\n",
    "                judge2=i.split(\"：\")[0]      ########舍弃冒号前（分类字段）不包含pos_word的行\n",
    "                if j not in judge2:\n",
    "                    x=x+1\n",
    "                if x==len(pos_word):\n",
    "                    # print(i)\n",
    "                    move.append(i)\n",
    "            new_move=list(set(move))\n",
    "            # print(new_move)\n",
    "        for x in new_move:\n",
    "            # print(x)\n",
    "            spl2.remove(x)\n",
    "            \n",
    "        # print(spl2)\n",
    "\n",
    "        \n",
    "\n",
    "\n",
    "    \n",
    "    tag1=0\n",
    "    key_pos_word=['名称']                 ############计算一个pdf生成的dataframe一共需要几行，及每行需要多少列###########\n",
    "    x=1\n",
    "    ele_times=[]\n",
    "    judge3=0\n",
    "    for i in spl2:\n",
    "        for j in key_pos_word:\n",
    "            if j not in i:\n",
    "                x=x+1                     ############若不含名称字段则结果会是实际+1###############\n",
    "            else:\n",
    "                ele_times.append(x)\n",
    "                x=1\n",
    "    \n",
    "            # print(i)\n",
    "            # print(x)\n",
    "    ele_times.append(x)\n",
    "\n",
    "    \n",
    "    # print(ele_times)\n",
    "    if len(ele_times)>1:\n",
    "        mo_times=ele_times[0]+ele_times[-1]-1\n",
    "        # print(type(mo_times))\n",
    "        ele_times=ele_times[1:-1]\n",
    "        ele_times.append(mo_times)\n",
    "    else:\n",
    "        test=0\n",
    "        # print(len(spl2))\n",
    "        # print(ele_times[0])\n",
    "        if len(ele_times)==1 and ele_times[0]==len(spl2)+1:\n",
    "            # print(\"不含名称字段\")                              ##############此处需处理，或者返回一个标记以后处理  冒号行不包含名称字段的情况\n",
    "            tag1=1\n",
    "    \n",
    "\n",
    "    ele_times1=ele_times\n",
    "    # print(ele_times)\n",
    "    # print(type(ele_times))\n",
    "\n",
    "    tag2=0\n",
    "    key_pos_word=['金额']                 ############计算一个pdf生成的dataframe一共需要几行，及每行需要多少列###########\n",
    "    x=1\n",
    "    ele_times=[]\n",
    "    judge3=0\n",
    "    for i in spl2:\n",
    "        for j in key_pos_word:\n",
    "            if j not in i:\n",
    "                x=x+1                     ############若不含金额字段则结果会是实际+1###############\n",
    "            else:\n",
    "                ele_times.append(x)\n",
    "                x=1\n",
    "    \n",
    "            # print(i)\n",
    "            # print(x)\n",
    "    ele_times.append(x)\n",
    "    # print(ele_times)\n",
    "    if len(ele_times)>1:\n",
    "        mo_times=ele_times[0]+ele_times[-1]-1\n",
    "        # print(type(mo_times))\n",
    "        ele_times=ele_times[1:-1]\n",
    "        ele_times.append(mo_times)\n",
    "    else:\n",
    "        test=0\n",
    "        # print(len(spl2))\n",
    "        # print(ele_times[0])\n",
    "        if len(ele_times)==1 and ele_times[0]==len(spl2)+1:\n",
    "            # print(\"不含金额字段\")                              ##############此处需处理，或者返回一个标记以后处理  冒号行不包含金额字段的情况\n",
    "            tag2=1\n",
    "    \n",
    "    ele_times2=ele_times\n",
    "    # print(ele_times2)\n",
    "\n",
    "    # print('---')\n",
    "\n",
    "    \n",
    "\n",
    "    if len(spl2)<=2:\n",
    "        return -1,-1,-1\n",
    "\n",
    "    \n",
    "\n",
    "    # print(ele_times2)\n",
    "    # if len(spl2)==1 and spl2[0]=='':\n",
    "    #     return\n",
    "    # if len(spl2)==1:\n",
    "    #     spl2[0].replace(' ','')\n",
    "   \n",
    "    return spl2,ele_times1,tag1     ######仅返回“关心”的行切片    #############注意返回变量可能造成函数无法执行\n",
    "\n",
    "\n",
    "\n",
    "def cut_list(text):\n",
    "    spl2,ele_times1,tag1=wjc_spl(text)\n",
    "    # print(spl2)\n",
    "    # print(ele_times1)\n",
    "    # print(tag1)\n",
    "    my_list=[]\n",
    "    if tag1==0:\n",
    "        for i in ele_times1:\n",
    "            # print(i)\n",
    "            get=spl2[0:i]\n",
    "            my_list.append(get)\n",
    "            spl2=spl2[i:]\n",
    "    else:\n",
    "        return 0\n",
    "    # print(my_list)\n",
    "    return my_list\n",
    "\n",
    "\n",
    "\n",
    "def get_mc(text):\n",
    "    # my_list=cut_list(text)\n",
    "    mc_list=[]\n",
    "    my_list=cut_list(text)\n",
    "    if my_list==0:\n",
    "        return \n",
    "    else:\n",
    "        my_list=cut_list(text)\n",
    "\n",
    "        for i in my_list:\n",
    "            this_str=i[0]\n",
    "            if \"名\" not in this_str or \"受托方\" in this_str or \"公司名称\" in this_str:\n",
    "                continue\n",
    "            index=this_str.index(\"：\")\n",
    "            this_str=this_str[index+1:].replace('。','').replace('；','').replace(';','').replace('、','')\n",
    "            mc_list.append(this_str)\n",
    "            # print(mc_list)\n",
    "    if mc_list ==[]:\n",
    "        return\n",
    "    return mc_list\n",
    "\n",
    "\n",
    "\n",
    "def spl2_iswm(text):\n",
    "    spl2,ele_times1,tag1=wjc_spl(text)\n",
    "    # print(spl2)\n",
    "    # print(ele_times1)\n",
    "    # print(tag1)\n",
    "    my_list=[]\n",
    "    if tag1==1:\n",
    "        return \"无名称\"\n",
    "    else:\n",
    "        return \n",
    "\n"
   ]
  },
  {
   "cell_type": "markdown",
   "metadata": {},
   "source": [
    "# 位置定位"
   ]
  },
  {
   "cell_type": "code",
   "execution_count": 77,
   "metadata": {},
   "outputs": [],
   "source": [
    "# 找到关键字在文本中的位置\n",
    "def find_pos_in_text(text, keys, sample_id = 0):\n",
    "    ret = []\n",
    "\n",
    "    if not keys or len(keys) == 0 or not text:\n",
    "        return None\n",
    "\n",
    "    textWithArrow = re.sub(' +', ' ', text).replace(r'\\n', '^').replace(' ', '^')\n",
    "    textWithoutWhite = textWithArrow.replace('^', '')\n",
    "\n",
    "    # 每个非空词的前缀空格个数\n",
    "    seq, totalSpace = 0, 0\n",
    "    preleadingSpaceDict = collections.defaultdict(int)\n",
    "    for i in range(len(textWithArrow)):\n",
    "        if (textWithArrow[i]) == '^':\n",
    "            totalSpace += 1\n",
    "            preleadingSpaceDict[seq] = totalSpace\n",
    "        else:\n",
    "            preleadingSpaceDict[seq] = totalSpace\n",
    "            seq += 1        \n",
    "\n",
    "    for key in keys:\n",
    "        nkey = str(key).replace('(', r'\\(').replace(')', r'\\)').replace('[', r'\\[').replace(']', r'\\]')\n",
    "        for it in re.finditer(nkey, textWithoutWhite):\n",
    "            ret.append([key, it.span()[0]+preleadingSpaceDict[it.span()[0]], \\\n",
    "                it.span()[1]+preleadingSpaceDict[it.span()[1]], sample_id])\n",
    "\n",
    "    if not len(ret):\n",
    "        return None\n",
    "\n",
    "    ret.sort(key = lambda x: x[1])\n",
    "\n",
    "    return ret"
   ]
  },
  {
   "cell_type": "markdown",
   "metadata": {},
   "source": [
    "# 理财名称提取"
   ]
  },
  {
   "cell_type": "code",
   "execution_count": 123,
   "metadata": {
    "tags": []
   },
   "outputs": [
    {
     "output_type": "stream",
     "name": "stderr",
     "text": "0%|          | 0/20 [00:00<?, ?it/s]"
    },
    {
     "output_type": "execute_result",
     "data": {
      "text/plain": "Empty DataFrame\nColumns: [0, 1, 2, 3, sanple_id, 4]\nIndex: []",
      "text/html": "<div>\n<style scoped>\n    .dataframe tbody tr th:only-of-type {\n        vertical-align: middle;\n    }\n\n    .dataframe tbody tr th {\n        vertical-align: top;\n    }\n\n    .dataframe thead th {\n        text-align: right;\n    }\n</style>\n<table border=\"1\" class=\"dataframe\">\n  <thead>\n    <tr style=\"text-align: right;\">\n      <th></th>\n      <th>0</th>\n      <th>1</th>\n      <th>2</th>\n      <th>3</th>\n      <th>sanple_id</th>\n      <th>4</th>\n    </tr>\n  </thead>\n  <tbody>\n  </tbody>\n</table>\n</div>"
     },
     "metadata": {},
     "execution_count": 123
    },
    {
     "output_type": "execute_result",
     "data": {
      "text/plain": "Empty DataFrame\nColumns: [0, 1, 2, 3, sanple_id, 4]\nIndex: []",
      "text/html": "<div>\n<style scoped>\n    .dataframe tbody tr th:only-of-type {\n        vertical-align: middle;\n    }\n\n    .dataframe tbody tr th {\n        vertical-align: top;\n    }\n\n    .dataframe thead th {\n        text-align: right;\n    }\n</style>\n<table border=\"1\" class=\"dataframe\">\n  <thead>\n    <tr style=\"text-align: right;\">\n      <th></th>\n      <th>0</th>\n      <th>1</th>\n      <th>2</th>\n      <th>3</th>\n      <th>sanple_id</th>\n      <th>4</th>\n    </tr>\n  </thead>\n  <tbody>\n  </tbody>\n</table>\n</div>"
     },
     "metadata": {},
     "execution_count": 123
    },
    {
     "output_type": "execute_result",
     "data": {
      "text/plain": "Empty DataFrame\nColumns: [0, 1, 2, 3, sanple_id, 4]\nIndex: []",
      "text/html": "<div>\n<style scoped>\n    .dataframe tbody tr th:only-of-type {\n        vertical-align: middle;\n    }\n\n    .dataframe tbody tr th {\n        vertical-align: top;\n    }\n\n    .dataframe thead th {\n        text-align: right;\n    }\n</style>\n<table border=\"1\" class=\"dataframe\">\n  <thead>\n    <tr style=\"text-align: right;\">\n      <th></th>\n      <th>0</th>\n      <th>1</th>\n      <th>2</th>\n      <th>3</th>\n      <th>sanple_id</th>\n      <th>4</th>\n    </tr>\n  </thead>\n  <tbody>\n  </tbody>\n</table>\n</div>"
     },
     "metadata": {},
     "execution_count": 123
    },
    {
     "output_type": "execute_result",
     "data": {
      "text/plain": "                                0  1     2     3 sanple_id  \\\n0  中国建设银行河南分行“乾元”保本型2017年第41期理财产品  1   617   617      2974   \n1                     蕴通财富•日增利60天  1   841   841      2974   \n2                     蕴通财富•日增利60天  1  1045  1045      2974   \n\n                                                   4  \n0  中国建设银行河南分行“乾元”保本型2017年第41期理财产品 ^产品类型： 保本浮动收益型 ...  \n1  蕴通财富•日增利60天 ^产品类型： 保证收益型 投资币种： 人民币 ^认购金额： 2,00...  \n2  蕴通财富•日增利60天 ^产品类型： 保证收益型 投资币种： 人民币 ^认购金额： 2,00...  ",
      "text/html": "<div>\n<style scoped>\n    .dataframe tbody tr th:only-of-type {\n        vertical-align: middle;\n    }\n\n    .dataframe tbody tr th {\n        vertical-align: top;\n    }\n\n    .dataframe thead th {\n        text-align: right;\n    }\n</style>\n<table border=\"1\" class=\"dataframe\">\n  <thead>\n    <tr style=\"text-align: right;\">\n      <th></th>\n      <th>0</th>\n      <th>1</th>\n      <th>2</th>\n      <th>3</th>\n      <th>sanple_id</th>\n      <th>4</th>\n    </tr>\n  </thead>\n  <tbody>\n    <tr>\n      <th>0</th>\n      <td>中国建设银行河南分行“乾元”保本型2017年第41期理财产品</td>\n      <td>1</td>\n      <td>617</td>\n      <td>617</td>\n      <td>2974</td>\n      <td>中国建设银行河南分行“乾元”保本型2017年第41期理财产品 ^产品类型： 保本浮动收益型 ...</td>\n    </tr>\n    <tr>\n      <th>1</th>\n      <td>蕴通财富•日增利60天</td>\n      <td>1</td>\n      <td>841</td>\n      <td>841</td>\n      <td>2974</td>\n      <td>蕴通财富•日增利60天 ^产品类型： 保证收益型 投资币种： 人民币 ^认购金额： 2,00...</td>\n    </tr>\n    <tr>\n      <th>2</th>\n      <td>蕴通财富•日增利60天</td>\n      <td>1</td>\n      <td>1045</td>\n      <td>1045</td>\n      <td>2974</td>\n      <td>蕴通财富•日增利60天 ^产品类型： 保证收益型 投资币种： 人民币 ^认购金额： 2,00...</td>\n    </tr>\n  </tbody>\n</table>\n</div>"
     },
     "metadata": {},
     "execution_count": 123
    },
    {
     "output_type": "execute_result",
     "data": {
      "text/plain": "Empty DataFrame\nColumns: [0, 1, 2, 3, sanple_id, 4]\nIndex: []",
      "text/html": "<div>\n<style scoped>\n    .dataframe tbody tr th:only-of-type {\n        vertical-align: middle;\n    }\n\n    .dataframe tbody tr th {\n        vertical-align: top;\n    }\n\n    .dataframe thead th {\n        text-align: right;\n    }\n</style>\n<table border=\"1\" class=\"dataframe\">\n  <thead>\n    <tr style=\"text-align: right;\">\n      <th></th>\n      <th>0</th>\n      <th>1</th>\n      <th>2</th>\n      <th>3</th>\n      <th>sanple_id</th>\n      <th>4</th>\n    </tr>\n  </thead>\n  <tbody>\n  </tbody>\n</table>\n</div>"
     },
     "metadata": {},
     "execution_count": 123
    },
    {
     "output_type": "stream",
     "name": "stderr",
     "text": "25%|██▌       | 5/20 [00:00<00:00, 44.64it/s]"
    },
    {
     "output_type": "execute_result",
     "data": {
      "text/plain": "                       0  1      2      3 sanple_id  \\\n0     兴业银行企业金融结构性存款(封闭式)  1   1428   1428       446   \n1                 单位大额存单  1   2190   2190       446   \n2                 单位大额存单  1   2207   2207       446   \n3                 单位大额存单  1   2355   2355       446   \n4   “乾元-福顺盈”开放式资产组合型理财产品  1   2850   2850       446   \n5   “乾元-福顺盈”开放式资产组合型理财产品  1   2879   2879       446   \n6   “乾元-福顺盈”开放式资产组合型理财产品  1   2988   2988       446   \n7           现金丰利集合资金信托计划  1   3583   3583       446   \n8           现金丰利集合资金信托计划  1   3604   3604       446   \n9           现金丰利集合资金信托计划  1   4481   4481       446   \n10                单位大额存单  1   6997   6997       446   \n11          现金丰利集合资金信托计划  1   7172   7172       446   \n12          现金丰利集合资金信托计划  1  11063  11063       446   \n\n                                                    4  \n0   兴业银行企业金融结构性存款(封闭式) ^2、币种：人民币 ^3、资金来源：闲置募集资金。 ^...  \n1                                   单位大额存单产品 ^1、产品名称：  \n2   单位大额存单 ^2、币种：人民币 ^3、资金来源：闲置募集资金。 ^4、产品类型：记账式大额...  \n3   单位大额存单，起息日为 2018^年 12 月 28 日，该产品可提前支取并拆分存单金额，公...  \n4                       “乾元-福顺盈”开放式资产组合型理财产品 ^1、产品名称：  \n5   “乾元-福顺盈”开放式资产组合型理财产品 ^2、币种：人民币 ^3、资金来源：闲置自有资金。...  \n6   “乾元-福顺盈”开^放式资产组合型理财产品。成立日为2018年12月28日，可提前支取，公司...  \n7                               现金丰利集合资金信托计划 ^1、产品名称：  \n8   现金丰利集合资金信托计划 ^2、参与信托计划金额及信托期限：本信托计划为开放式，公司可在股东...  \n9   现金丰利集 合^资金信托计划加入、退出、追加操作及其收益情况。 ^9、资金来源：闲置自有资金...  \n10  单位大额存单 50,000 ^份有限公司 资金 月28日 个月 收益型 ^中国建设银 “乾元...  \n11  现金丰利集合资金信托计划 ^单位：万元 ', '投资期限 ^投资金额 投资盈亏 是否涉^委托...  \n12  现金丰利集合资金信托计划信托合同》关于“退出时信托资金的计算”约定，部^分赎回的为有效的部分...  ",
      "text/html": "<div>\n<style scoped>\n    .dataframe tbody tr th:only-of-type {\n        vertical-align: middle;\n    }\n\n    .dataframe tbody tr th {\n        vertical-align: top;\n    }\n\n    .dataframe thead th {\n        text-align: right;\n    }\n</style>\n<table border=\"1\" class=\"dataframe\">\n  <thead>\n    <tr style=\"text-align: right;\">\n      <th></th>\n      <th>0</th>\n      <th>1</th>\n      <th>2</th>\n      <th>3</th>\n      <th>sanple_id</th>\n      <th>4</th>\n    </tr>\n  </thead>\n  <tbody>\n    <tr>\n      <th>0</th>\n      <td>兴业银行企业金融结构性存款(封闭式)</td>\n      <td>1</td>\n      <td>1428</td>\n      <td>1428</td>\n      <td>446</td>\n      <td>兴业银行企业金融结构性存款(封闭式) ^2、币种：人民币 ^3、资金来源：闲置募集资金。 ^...</td>\n    </tr>\n    <tr>\n      <th>1</th>\n      <td>单位大额存单</td>\n      <td>1</td>\n      <td>2190</td>\n      <td>2190</td>\n      <td>446</td>\n      <td>单位大额存单产品 ^1、产品名称：</td>\n    </tr>\n    <tr>\n      <th>2</th>\n      <td>单位大额存单</td>\n      <td>1</td>\n      <td>2207</td>\n      <td>2207</td>\n      <td>446</td>\n      <td>单位大额存单 ^2、币种：人民币 ^3、资金来源：闲置募集资金。 ^4、产品类型：记账式大额...</td>\n    </tr>\n    <tr>\n      <th>3</th>\n      <td>单位大额存单</td>\n      <td>1</td>\n      <td>2355</td>\n      <td>2355</td>\n      <td>446</td>\n      <td>单位大额存单，起息日为 2018^年 12 月 28 日，该产品可提前支取并拆分存单金额，公...</td>\n    </tr>\n    <tr>\n      <th>4</th>\n      <td>“乾元-福顺盈”开放式资产组合型理财产品</td>\n      <td>1</td>\n      <td>2850</td>\n      <td>2850</td>\n      <td>446</td>\n      <td>“乾元-福顺盈”开放式资产组合型理财产品 ^1、产品名称：</td>\n    </tr>\n    <tr>\n      <th>5</th>\n      <td>“乾元-福顺盈”开放式资产组合型理财产品</td>\n      <td>1</td>\n      <td>2879</td>\n      <td>2879</td>\n      <td>446</td>\n      <td>“乾元-福顺盈”开放式资产组合型理财产品 ^2、币种：人民币 ^3、资金来源：闲置自有资金。...</td>\n    </tr>\n    <tr>\n      <th>6</th>\n      <td>“乾元-福顺盈”开放式资产组合型理财产品</td>\n      <td>1</td>\n      <td>2988</td>\n      <td>2988</td>\n      <td>446</td>\n      <td>“乾元-福顺盈”开^放式资产组合型理财产品。成立日为2018年12月28日，可提前支取，公司...</td>\n    </tr>\n    <tr>\n      <th>7</th>\n      <td>现金丰利集合资金信托计划</td>\n      <td>1</td>\n      <td>3583</td>\n      <td>3583</td>\n      <td>446</td>\n      <td>现金丰利集合资金信托计划 ^1、产品名称：</td>\n    </tr>\n    <tr>\n      <th>8</th>\n      <td>现金丰利集合资金信托计划</td>\n      <td>1</td>\n      <td>3604</td>\n      <td>3604</td>\n      <td>446</td>\n      <td>现金丰利集合资金信托计划 ^2、参与信托计划金额及信托期限：本信托计划为开放式，公司可在股东...</td>\n    </tr>\n    <tr>\n      <th>9</th>\n      <td>现金丰利集合资金信托计划</td>\n      <td>1</td>\n      <td>4481</td>\n      <td>4481</td>\n      <td>446</td>\n      <td>现金丰利集 合^资金信托计划加入、退出、追加操作及其收益情况。 ^9、资金来源：闲置自有资金...</td>\n    </tr>\n    <tr>\n      <th>10</th>\n      <td>单位大额存单</td>\n      <td>1</td>\n      <td>6997</td>\n      <td>6997</td>\n      <td>446</td>\n      <td>单位大额存单 50,000 ^份有限公司 资金 月28日 个月 收益型 ^中国建设银 “乾元...</td>\n    </tr>\n    <tr>\n      <th>11</th>\n      <td>现金丰利集合资金信托计划</td>\n      <td>1</td>\n      <td>7172</td>\n      <td>7172</td>\n      <td>446</td>\n      <td>现金丰利集合资金信托计划 ^单位：万元 ', '投资期限 ^投资金额 投资盈亏 是否涉^委托...</td>\n    </tr>\n    <tr>\n      <th>12</th>\n      <td>现金丰利集合资金信托计划</td>\n      <td>1</td>\n      <td>11063</td>\n      <td>11063</td>\n      <td>446</td>\n      <td>现金丰利集合资金信托计划信托合同》关于“退出时信托资金的计算”约定，部^分赎回的为有效的部分...</td>\n    </tr>\n  </tbody>\n</table>\n</div>"
     },
     "metadata": {},
     "execution_count": 123
    },
    {
     "output_type": "execute_result",
     "data": {
      "text/plain": "Empty DataFrame\nColumns: [0, 1, 2, 3, sanple_id, 4]\nIndex: []",
      "text/html": "<div>\n<style scoped>\n    .dataframe tbody tr th:only-of-type {\n        vertical-align: middle;\n    }\n\n    .dataframe tbody tr th {\n        vertical-align: top;\n    }\n\n    .dataframe thead th {\n        text-align: right;\n    }\n</style>\n<table border=\"1\" class=\"dataframe\">\n  <thead>\n    <tr style=\"text-align: right;\">\n      <th></th>\n      <th>0</th>\n      <th>1</th>\n      <th>2</th>\n      <th>3</th>\n      <th>sanple_id</th>\n      <th>4</th>\n    </tr>\n  </thead>\n  <tbody>\n  </tbody>\n</table>\n</div>"
     },
     "metadata": {},
     "execution_count": 123
    },
    {
     "output_type": "execute_result",
     "data": {
      "text/plain": "Empty DataFrame\nColumns: [0, 1, 2, 3, sanple_id, 4]\nIndex: []",
      "text/html": "<div>\n<style scoped>\n    .dataframe tbody tr th:only-of-type {\n        vertical-align: middle;\n    }\n\n    .dataframe tbody tr th {\n        vertical-align: top;\n    }\n\n    .dataframe thead th {\n        text-align: right;\n    }\n</style>\n<table border=\"1\" class=\"dataframe\">\n  <thead>\n    <tr style=\"text-align: right;\">\n      <th></th>\n      <th>0</th>\n      <th>1</th>\n      <th>2</th>\n      <th>3</th>\n      <th>sanple_id</th>\n      <th>4</th>\n    </tr>\n  </thead>\n  <tbody>\n  </tbody>\n</table>\n</div>"
     },
     "metadata": {},
     "execution_count": 123
    },
    {
     "output_type": "stream",
     "name": "stderr",
     "text": "40%|████      | 8/20 [00:00<00:00, 38.20it/s]"
    },
    {
     "output_type": "execute_result",
     "data": {
      "text/plain": "Empty DataFrame\nColumns: [0, 1, 2, 3, sanple_id, 4]\nIndex: []",
      "text/html": "<div>\n<style scoped>\n    .dataframe tbody tr th:only-of-type {\n        vertical-align: middle;\n    }\n\n    .dataframe tbody tr th {\n        vertical-align: top;\n    }\n\n    .dataframe thead th {\n        text-align: right;\n    }\n</style>\n<table border=\"1\" class=\"dataframe\">\n  <thead>\n    <tr style=\"text-align: right;\">\n      <th></th>\n      <th>0</th>\n      <th>1</th>\n      <th>2</th>\n      <th>3</th>\n      <th>sanple_id</th>\n      <th>4</th>\n    </tr>\n  </thead>\n  <tbody>\n  </tbody>\n</table>\n</div>"
     },
     "metadata": {},
     "execution_count": 123
    },
    {
     "output_type": "execute_result",
     "data": {
      "text/plain": "                       0  1    2    3 sanple_id  \\\n0  招商银行单位大额存单2016年第1767期  1  582  582      7237   \n\n                                                   4  \n0  招商银行单位大额存单 2016 年第1767期 ^2、存单代码：CMBC20161767 ^...  ",
      "text/html": "<div>\n<style scoped>\n    .dataframe tbody tr th:only-of-type {\n        vertical-align: middle;\n    }\n\n    .dataframe tbody tr th {\n        vertical-align: top;\n    }\n\n    .dataframe thead th {\n        text-align: right;\n    }\n</style>\n<table border=\"1\" class=\"dataframe\">\n  <thead>\n    <tr style=\"text-align: right;\">\n      <th></th>\n      <th>0</th>\n      <th>1</th>\n      <th>2</th>\n      <th>3</th>\n      <th>sanple_id</th>\n      <th>4</th>\n    </tr>\n  </thead>\n  <tbody>\n    <tr>\n      <th>0</th>\n      <td>招商银行单位大额存单2016年第1767期</td>\n      <td>1</td>\n      <td>582</td>\n      <td>582</td>\n      <td>7237</td>\n      <td>招商银行单位大额存单 2016 年第1767期 ^2、存单代码：CMBC20161767 ^...</td>\n    </tr>\n  </tbody>\n</table>\n</div>"
     },
     "metadata": {},
     "execution_count": 123
    },
    {
     "output_type": "execute_result",
     "data": {
      "text/plain": "Empty DataFrame\nColumns: [0, 1, 2, 3, sanple_id, 4]\nIndex: []",
      "text/html": "<div>\n<style scoped>\n    .dataframe tbody tr th:only-of-type {\n        vertical-align: middle;\n    }\n\n    .dataframe tbody tr th {\n        vertical-align: top;\n    }\n\n    .dataframe thead th {\n        text-align: right;\n    }\n</style>\n<table border=\"1\" class=\"dataframe\">\n  <thead>\n    <tr style=\"text-align: right;\">\n      <th></th>\n      <th>0</th>\n      <th>1</th>\n      <th>2</th>\n      <th>3</th>\n      <th>sanple_id</th>\n      <th>4</th>\n    </tr>\n  </thead>\n  <tbody>\n  </tbody>\n</table>\n</div>"
     },
     "metadata": {},
     "execution_count": 123
    },
    {
     "output_type": "execute_result",
     "data": {
      "text/plain": "                         0  1    2    3 sanple_id  \\\n0  中国工商银行保本型法人91天稳利人民币理财产品  1  706  706      4791   \n1  中国工商银行保本型法人91天稳利人民币理财产品  1  910  910      4791   \n\n                                                   4  \n0  中国工商银行保本型法人91天稳利人民币理财产品； ^2、发行人：中国工商银行股份有限公司； ...  \n1  中国工商银行保本型法人91天稳利人民币理财产品； ^2、发行人：中国工商银行股份有限公司； ...  ",
      "text/html": "<div>\n<style scoped>\n    .dataframe tbody tr th:only-of-type {\n        vertical-align: middle;\n    }\n\n    .dataframe tbody tr th {\n        vertical-align: top;\n    }\n\n    .dataframe thead th {\n        text-align: right;\n    }\n</style>\n<table border=\"1\" class=\"dataframe\">\n  <thead>\n    <tr style=\"text-align: right;\">\n      <th></th>\n      <th>0</th>\n      <th>1</th>\n      <th>2</th>\n      <th>3</th>\n      <th>sanple_id</th>\n      <th>4</th>\n    </tr>\n  </thead>\n  <tbody>\n    <tr>\n      <th>0</th>\n      <td>中国工商银行保本型法人91天稳利人民币理财产品</td>\n      <td>1</td>\n      <td>706</td>\n      <td>706</td>\n      <td>4791</td>\n      <td>中国工商银行保本型法人91天稳利人民币理财产品； ^2、发行人：中国工商银行股份有限公司； ...</td>\n    </tr>\n    <tr>\n      <th>1</th>\n      <td>中国工商银行保本型法人91天稳利人民币理财产品</td>\n      <td>1</td>\n      <td>910</td>\n      <td>910</td>\n      <td>4791</td>\n      <td>中国工商银行保本型法人91天稳利人民币理财产品； ^2、发行人：中国工商银行股份有限公司； ...</td>\n    </tr>\n  </tbody>\n</table>\n</div>"
     },
     "metadata": {},
     "execution_count": 123
    },
    {
     "output_type": "execute_result",
     "data": {
      "text/plain": "                        0  1    2    3 sanple_id  \\\n0  兴业银行金雪球2017年第二期封闭3309款  1  504  504      9075   \n\n                                                   4  \n0  兴业银行金雪球 2017年第二期封闭3309款 ^2、产品类型：保本浮动收益型 ^3、理财产...  ",
      "text/html": "<div>\n<style scoped>\n    .dataframe tbody tr th:only-of-type {\n        vertical-align: middle;\n    }\n\n    .dataframe tbody tr th {\n        vertical-align: top;\n    }\n\n    .dataframe thead th {\n        text-align: right;\n    }\n</style>\n<table border=\"1\" class=\"dataframe\">\n  <thead>\n    <tr style=\"text-align: right;\">\n      <th></th>\n      <th>0</th>\n      <th>1</th>\n      <th>2</th>\n      <th>3</th>\n      <th>sanple_id</th>\n      <th>4</th>\n    </tr>\n  </thead>\n  <tbody>\n    <tr>\n      <th>0</th>\n      <td>兴业银行金雪球2017年第二期封闭3309款</td>\n      <td>1</td>\n      <td>504</td>\n      <td>504</td>\n      <td>9075</td>\n      <td>兴业银行金雪球 2017年第二期封闭3309款 ^2、产品类型：保本浮动收益型 ^3、理财产...</td>\n    </tr>\n  </tbody>\n</table>\n</div>"
     },
     "metadata": {},
     "execution_count": 123
    },
    {
     "output_type": "stream",
     "name": "stderr",
     "text": "65%|██████▌   | 13/20 [00:00<00:00, 38.99it/s]"
    },
    {
     "output_type": "execute_result",
     "data": {
      "text/plain": "                              0  1     2     3 sanple_id  \\\n0           农业银行“本利丰90天”人民币理财产品  1   513   513      9004   \n1         宁波银行稳健型861053号单位结构性存款  1   838   838      9004   \n2         宁波银行稳健型861056号单位结构性存款  1  1072  1072      9004   \n3         宁波银行稳健型861057号单位结构性存款  1  1309  1309      9004   \n4     浦发银行利多多对公结构性存款2016年JG426期  1  1546  1546      9004   \n5         宁波银行单位结构性存款稳健型861073号  1  1812  1812      9004   \n6                  浦发银行利多多惠至28天  1  2051  2051      9004   \n7                  浦发银行利多多惠至28天  1  2401  2401      9004   \n8                  浦发银行利多多惠至28天  1  2753  2753      9004   \n9                宁波银行启盈智能定期理财2号  1  3105  3105      9004   \n10  农业银行“汇利丰”2016年第144期金制通结构性存款  1  3366  3366      9004   \n11      宁波银行启盈理财第三百五十一期(稳健型82号)  1  3544  3544      9004   \n12       浦发银行利多多对公结构性存款16JG674期  1  3716  3716      9004   \n13                   浦发银行财富班车1号  1  3896  3896      9004   \n14               宁波银行启盈智能定期理财2号  1  4186  4186      9004   \n15                   浦发银行财富班车1号  1  4348  4348      9004   \n16               宁波银行启盈智能定期理财2号  1  4635  4635      9004   \n\n                                                    4  \n0   农业银行“本利丰 90天”人民币理财产品 ^购买额度：254万元人民币 ^期限及起始、到期日...  \n1   宁波银行 稳健型861053号 单位结构性存款 ^购买额度：3,000万元人民币 ^期限及起...  \n2   宁波银行 稳健型861056号 单位结构性存款 ^购买额度：5,000万元人民币 ^期限及起...  \n3   宁波银行 稳健型861057号 单位结构性存款 ^购买额度：4,686万元人民币 ^期限及起...  \n4   浦发银行利多多对公结构性存款2016年JG426期 ^购买额度：2,521万元人民币 ^期限...  \n5   宁波银行单位结构性存款 稳健型 861073号 ^购买额度：3,264万元人民币 ^期限及起...  \n6   浦发银行利多多惠至28天 ^购买额度：5,000万元人民币 ^期限及起始、到期日：28天，2...  \n7   浦发银行利多多惠至28天 ^购买额度：3,238万元人民币 ', '期限及起始、到期日：28...  \n8   浦发银行利多多惠至28天 ^购买额度：6,943万元人民币 ^期限及起始、到期日：28天，2...  \n9   宁波银行启盈智能定期理财 2 号 ^购买额度：1,341万元人民币 ^期限及起始、到期日：4...  \n10  农业银行“汇利丰”2016年第144期金制通结构性存款 ^购买额度：7,722万元人民币 ^...  \n11  宁波银行启盈理财第三百五十一期(稳健型 82号) ^购买额度：4,000万元人民币 ^期限及...  \n12  浦发银行利多多对公结构性存款16JG674期 ^购买额度：3,246万元人民币 ^期限及起始...  \n13  浦发银行财富班车1号 ^购买额度：2,000万元人民币 ^期限及起始、到期日：30天，201...  \n14  宁波银行启盈智能定期理财 2 号 ^购买额度：3,577万元人民币 ^期限及起始、到期日：4...  \n15  浦发银行财富班车1号 ^购买额度：1,383万元人民币 ^期限及起始、到期日：30天，201...  \n16  宁波银行启盈智能定期理财 2 号 ^购买额度：1,345万元人民币 ^期限及起始、到期日：4...  ",
      "text/html": "<div>\n<style scoped>\n    .dataframe tbody tr th:only-of-type {\n        vertical-align: middle;\n    }\n\n    .dataframe tbody tr th {\n        vertical-align: top;\n    }\n\n    .dataframe thead th {\n        text-align: right;\n    }\n</style>\n<table border=\"1\" class=\"dataframe\">\n  <thead>\n    <tr style=\"text-align: right;\">\n      <th></th>\n      <th>0</th>\n      <th>1</th>\n      <th>2</th>\n      <th>3</th>\n      <th>sanple_id</th>\n      <th>4</th>\n    </tr>\n  </thead>\n  <tbody>\n    <tr>\n      <th>0</th>\n      <td>农业银行“本利丰90天”人民币理财产品</td>\n      <td>1</td>\n      <td>513</td>\n      <td>513</td>\n      <td>9004</td>\n      <td>农业银行“本利丰 90天”人民币理财产品 ^购买额度：254万元人民币 ^期限及起始、到期日...</td>\n    </tr>\n    <tr>\n      <th>1</th>\n      <td>宁波银行稳健型861053号单位结构性存款</td>\n      <td>1</td>\n      <td>838</td>\n      <td>838</td>\n      <td>9004</td>\n      <td>宁波银行 稳健型861053号 单位结构性存款 ^购买额度：3,000万元人民币 ^期限及起...</td>\n    </tr>\n    <tr>\n      <th>2</th>\n      <td>宁波银行稳健型861056号单位结构性存款</td>\n      <td>1</td>\n      <td>1072</td>\n      <td>1072</td>\n      <td>9004</td>\n      <td>宁波银行 稳健型861056号 单位结构性存款 ^购买额度：5,000万元人民币 ^期限及起...</td>\n    </tr>\n    <tr>\n      <th>3</th>\n      <td>宁波银行稳健型861057号单位结构性存款</td>\n      <td>1</td>\n      <td>1309</td>\n      <td>1309</td>\n      <td>9004</td>\n      <td>宁波银行 稳健型861057号 单位结构性存款 ^购买额度：4,686万元人民币 ^期限及起...</td>\n    </tr>\n    <tr>\n      <th>4</th>\n      <td>浦发银行利多多对公结构性存款2016年JG426期</td>\n      <td>1</td>\n      <td>1546</td>\n      <td>1546</td>\n      <td>9004</td>\n      <td>浦发银行利多多对公结构性存款2016年JG426期 ^购买额度：2,521万元人民币 ^期限...</td>\n    </tr>\n    <tr>\n      <th>5</th>\n      <td>宁波银行单位结构性存款稳健型861073号</td>\n      <td>1</td>\n      <td>1812</td>\n      <td>1812</td>\n      <td>9004</td>\n      <td>宁波银行单位结构性存款 稳健型 861073号 ^购买额度：3,264万元人民币 ^期限及起...</td>\n    </tr>\n    <tr>\n      <th>6</th>\n      <td>浦发银行利多多惠至28天</td>\n      <td>1</td>\n      <td>2051</td>\n      <td>2051</td>\n      <td>9004</td>\n      <td>浦发银行利多多惠至28天 ^购买额度：5,000万元人民币 ^期限及起始、到期日：28天，2...</td>\n    </tr>\n    <tr>\n      <th>7</th>\n      <td>浦发银行利多多惠至28天</td>\n      <td>1</td>\n      <td>2401</td>\n      <td>2401</td>\n      <td>9004</td>\n      <td>浦发银行利多多惠至28天 ^购买额度：3,238万元人民币 ', '期限及起始、到期日：28...</td>\n    </tr>\n    <tr>\n      <th>8</th>\n      <td>浦发银行利多多惠至28天</td>\n      <td>1</td>\n      <td>2753</td>\n      <td>2753</td>\n      <td>9004</td>\n      <td>浦发银行利多多惠至28天 ^购买额度：6,943万元人民币 ^期限及起始、到期日：28天，2...</td>\n    </tr>\n    <tr>\n      <th>9</th>\n      <td>宁波银行启盈智能定期理财2号</td>\n      <td>1</td>\n      <td>3105</td>\n      <td>3105</td>\n      <td>9004</td>\n      <td>宁波银行启盈智能定期理财 2 号 ^购买额度：1,341万元人民币 ^期限及起始、到期日：4...</td>\n    </tr>\n    <tr>\n      <th>10</th>\n      <td>农业银行“汇利丰”2016年第144期金制通结构性存款</td>\n      <td>1</td>\n      <td>3366</td>\n      <td>3366</td>\n      <td>9004</td>\n      <td>农业银行“汇利丰”2016年第144期金制通结构性存款 ^购买额度：7,722万元人民币 ^...</td>\n    </tr>\n    <tr>\n      <th>11</th>\n      <td>宁波银行启盈理财第三百五十一期(稳健型82号)</td>\n      <td>1</td>\n      <td>3544</td>\n      <td>3544</td>\n      <td>9004</td>\n      <td>宁波银行启盈理财第三百五十一期(稳健型 82号) ^购买额度：4,000万元人民币 ^期限及...</td>\n    </tr>\n    <tr>\n      <th>12</th>\n      <td>浦发银行利多多对公结构性存款16JG674期</td>\n      <td>1</td>\n      <td>3716</td>\n      <td>3716</td>\n      <td>9004</td>\n      <td>浦发银行利多多对公结构性存款16JG674期 ^购买额度：3,246万元人民币 ^期限及起始...</td>\n    </tr>\n    <tr>\n      <th>13</th>\n      <td>浦发银行财富班车1号</td>\n      <td>1</td>\n      <td>3896</td>\n      <td>3896</td>\n      <td>9004</td>\n      <td>浦发银行财富班车1号 ^购买额度：2,000万元人民币 ^期限及起始、到期日：30天，201...</td>\n    </tr>\n    <tr>\n      <th>14</th>\n      <td>宁波银行启盈智能定期理财2号</td>\n      <td>1</td>\n      <td>4186</td>\n      <td>4186</td>\n      <td>9004</td>\n      <td>宁波银行启盈智能定期理财 2 号 ^购买额度：3,577万元人民币 ^期限及起始、到期日：4...</td>\n    </tr>\n    <tr>\n      <th>15</th>\n      <td>浦发银行财富班车1号</td>\n      <td>1</td>\n      <td>4348</td>\n      <td>4348</td>\n      <td>9004</td>\n      <td>浦发银行财富班车1号 ^购买额度：1,383万元人民币 ^期限及起始、到期日：30天，201...</td>\n    </tr>\n    <tr>\n      <th>16</th>\n      <td>宁波银行启盈智能定期理财2号</td>\n      <td>1</td>\n      <td>4635</td>\n      <td>4635</td>\n      <td>9004</td>\n      <td>宁波银行启盈智能定期理财 2 号 ^购买额度：1,345万元人民币 ^期限及起始、到期日：4...</td>\n    </tr>\n  </tbody>\n</table>\n</div>"
     },
     "metadata": {},
     "execution_count": 123
    },
    {
     "output_type": "execute_result",
     "data": {
      "text/plain": "Empty DataFrame\nColumns: [0, 1, 2, 3, sanple_id, 4]\nIndex: []",
      "text/html": "<div>\n<style scoped>\n    .dataframe tbody tr th:only-of-type {\n        vertical-align: middle;\n    }\n\n    .dataframe tbody tr th {\n        vertical-align: top;\n    }\n\n    .dataframe thead th {\n        text-align: right;\n    }\n</style>\n<table border=\"1\" class=\"dataframe\">\n  <thead>\n    <tr style=\"text-align: right;\">\n      <th></th>\n      <th>0</th>\n      <th>1</th>\n      <th>2</th>\n      <th>3</th>\n      <th>sanple_id</th>\n      <th>4</th>\n    </tr>\n  </thead>\n  <tbody>\n  </tbody>\n</table>\n</div>"
     },
     "metadata": {},
     "execution_count": 123
    },
    {
     "output_type": "execute_result",
     "data": {
      "text/plain": "                         0  1     2     3 sanple_id  \\\n0  本理财产品无名义存续期限(受提前终止条款约束)  1  1742  1742      4028   \n\n                                                   4  \n0  本理财产品无名义存续期限(受提前终止条款约束)。 ^ 4、认购理财产品资金总金额：人民币12...  ",
      "text/html": "<div>\n<style scoped>\n    .dataframe tbody tr th:only-of-type {\n        vertical-align: middle;\n    }\n\n    .dataframe tbody tr th {\n        vertical-align: top;\n    }\n\n    .dataframe thead th {\n        text-align: right;\n    }\n</style>\n<table border=\"1\" class=\"dataframe\">\n  <thead>\n    <tr style=\"text-align: right;\">\n      <th></th>\n      <th>0</th>\n      <th>1</th>\n      <th>2</th>\n      <th>3</th>\n      <th>sanple_id</th>\n      <th>4</th>\n    </tr>\n  </thead>\n  <tbody>\n    <tr>\n      <th>0</th>\n      <td>本理财产品无名义存续期限(受提前终止条款约束)</td>\n      <td>1</td>\n      <td>1742</td>\n      <td>1742</td>\n      <td>4028</td>\n      <td>本理财产品无名义存续期限(受提前终止条款约束)。 ^ 4、认购理财产品资金总金额：人民币12...</td>\n    </tr>\n  </tbody>\n</table>\n</div>"
     },
     "metadata": {},
     "execution_count": 123
    },
    {
     "output_type": "stream",
     "name": "stderr",
     "text": "80%|████████  | 16/20 [00:00<00:00, 34.07it/s]"
    },
    {
     "output_type": "execute_result",
     "data": {
      "text/plain": "Empty DataFrame\nColumns: [0, 1, 2, 3, sanple_id, 4]\nIndex: []",
      "text/html": "<div>\n<style scoped>\n    .dataframe tbody tr th:only-of-type {\n        vertical-align: middle;\n    }\n\n    .dataframe tbody tr th {\n        vertical-align: top;\n    }\n\n    .dataframe thead th {\n        text-align: right;\n    }\n</style>\n<table border=\"1\" class=\"dataframe\">\n  <thead>\n    <tr style=\"text-align: right;\">\n      <th></th>\n      <th>0</th>\n      <th>1</th>\n      <th>2</th>\n      <th>3</th>\n      <th>sanple_id</th>\n      <th>4</th>\n    </tr>\n  </thead>\n  <tbody>\n  </tbody>\n</table>\n</div>"
     },
     "metadata": {},
     "execution_count": 123
    },
    {
     "output_type": "execute_result",
     "data": {
      "text/plain": "                               0  1     2     3 sanple_id  \\\n0  长江证券超越理财乐享1天集合资产管理计划半年期118号产品  1   430   430      2996   \n1                中国中投证券安享56号收益凭证  1   752   752      2996   \n2                        机构理财季季盈  1  1011  1011      2996   \n3                中国中投证券安享22号收益凭证  1  1401  1401      2996   \n4                 国元元赢3号集合资产管理计划  1  1669  1669      2996   \n5               银泰3号稳健收益集合资产管理计划  1  2101  2101      2996   \n6              中邮证券鸿利来2号集合资产管理计划  1  2442  2442      2996   \n7  长江证券超越理财乐享1天集合资产管理计划270天38号产品  1  2873  2873      2996   \n\n                                                   4  \n0  长江证券超越理财乐享 1天集合资产管理计划半年期 118号^产品 ^2、理财币种：人民币 ^...  \n1  中国中投证券安享 56号收益凭证 ^2、理财币种：人民币 ^3、产品代码：SAW756 ^4...  \n2  机构理财季季盈 ^2、理财币种：人民币 ^3、产品代码：EB4324 ^4、产品主要投资范围...  \n3  中国中投证券安享 22号收益凭证 ^2、理财币种：人民币 ^3、产品代码：SAR922 ^4...  \n4  国元元赢3 号集合资产管理计划 ^2、理财币种：人民币 ^3、产品主要投资范围为：主要投资于...  \n5  银泰3号稳健收益集合资产管理计划 ^2、理财币种：人民币 ^3、产品代码：CD0003 ^4...  \n6  中邮证券鸿利来 2号集合资产管理计划 ^2、理财币种：人民币 ^3、产品代码：E40012 ...  \n7  长江证券超越理财乐享 1天集合资产管理计划 270天38号产^品 ^2、理财币种：人民币 ^...  ",
      "text/html": "<div>\n<style scoped>\n    .dataframe tbody tr th:only-of-type {\n        vertical-align: middle;\n    }\n\n    .dataframe tbody tr th {\n        vertical-align: top;\n    }\n\n    .dataframe thead th {\n        text-align: right;\n    }\n</style>\n<table border=\"1\" class=\"dataframe\">\n  <thead>\n    <tr style=\"text-align: right;\">\n      <th></th>\n      <th>0</th>\n      <th>1</th>\n      <th>2</th>\n      <th>3</th>\n      <th>sanple_id</th>\n      <th>4</th>\n    </tr>\n  </thead>\n  <tbody>\n    <tr>\n      <th>0</th>\n      <td>长江证券超越理财乐享1天集合资产管理计划半年期118号产品</td>\n      <td>1</td>\n      <td>430</td>\n      <td>430</td>\n      <td>2996</td>\n      <td>长江证券超越理财乐享 1天集合资产管理计划半年期 118号^产品 ^2、理财币种：人民币 ^...</td>\n    </tr>\n    <tr>\n      <th>1</th>\n      <td>中国中投证券安享56号收益凭证</td>\n      <td>1</td>\n      <td>752</td>\n      <td>752</td>\n      <td>2996</td>\n      <td>中国中投证券安享 56号收益凭证 ^2、理财币种：人民币 ^3、产品代码：SAW756 ^4...</td>\n    </tr>\n    <tr>\n      <th>2</th>\n      <td>机构理财季季盈</td>\n      <td>1</td>\n      <td>1011</td>\n      <td>1011</td>\n      <td>2996</td>\n      <td>机构理财季季盈 ^2、理财币种：人民币 ^3、产品代码：EB4324 ^4、产品主要投资范围...</td>\n    </tr>\n    <tr>\n      <th>3</th>\n      <td>中国中投证券安享22号收益凭证</td>\n      <td>1</td>\n      <td>1401</td>\n      <td>1401</td>\n      <td>2996</td>\n      <td>中国中投证券安享 22号收益凭证 ^2、理财币种：人民币 ^3、产品代码：SAR922 ^4...</td>\n    </tr>\n    <tr>\n      <th>4</th>\n      <td>国元元赢3号集合资产管理计划</td>\n      <td>1</td>\n      <td>1669</td>\n      <td>1669</td>\n      <td>2996</td>\n      <td>国元元赢3 号集合资产管理计划 ^2、理财币种：人民币 ^3、产品主要投资范围为：主要投资于...</td>\n    </tr>\n    <tr>\n      <th>5</th>\n      <td>银泰3号稳健收益集合资产管理计划</td>\n      <td>1</td>\n      <td>2101</td>\n      <td>2101</td>\n      <td>2996</td>\n      <td>银泰3号稳健收益集合资产管理计划 ^2、理财币种：人民币 ^3、产品代码：CD0003 ^4...</td>\n    </tr>\n    <tr>\n      <th>6</th>\n      <td>中邮证券鸿利来2号集合资产管理计划</td>\n      <td>1</td>\n      <td>2442</td>\n      <td>2442</td>\n      <td>2996</td>\n      <td>中邮证券鸿利来 2号集合资产管理计划 ^2、理财币种：人民币 ^3、产品代码：E40012 ...</td>\n    </tr>\n    <tr>\n      <th>7</th>\n      <td>长江证券超越理财乐享1天集合资产管理计划270天38号产品</td>\n      <td>1</td>\n      <td>2873</td>\n      <td>2873</td>\n      <td>2996</td>\n      <td>长江证券超越理财乐享 1天集合资产管理计划 270天38号产^品 ^2、理财币种：人民币 ^...</td>\n    </tr>\n  </tbody>\n</table>\n</div>"
     },
     "metadata": {},
     "execution_count": 123
    },
    {
     "output_type": "execute_result",
     "data": {
      "text/plain": "Empty DataFrame\nColumns: [0, 1, 2, 3, sanple_id, 4]\nIndex: []",
      "text/html": "<div>\n<style scoped>\n    .dataframe tbody tr th:only-of-type {\n        vertical-align: middle;\n    }\n\n    .dataframe tbody tr th {\n        vertical-align: top;\n    }\n\n    .dataframe thead th {\n        text-align: right;\n    }\n</style>\n<table border=\"1\" class=\"dataframe\">\n  <thead>\n    <tr style=\"text-align: right;\">\n      <th></th>\n      <th>0</th>\n      <th>1</th>\n      <th>2</th>\n      <th>3</th>\n      <th>sanple_id</th>\n      <th>4</th>\n    </tr>\n  </thead>\n  <tbody>\n  </tbody>\n</table>\n</div>"
     },
     "metadata": {},
     "execution_count": 123
    },
    {
     "output_type": "execute_result",
     "data": {
      "text/plain": "Empty DataFrame\nColumns: [0, 1, 2, 3, sanple_id, 4]\nIndex: []",
      "text/html": "<div>\n<style scoped>\n    .dataframe tbody tr th:only-of-type {\n        vertical-align: middle;\n    }\n\n    .dataframe tbody tr th {\n        vertical-align: top;\n    }\n\n    .dataframe thead th {\n        text-align: right;\n    }\n</style>\n<table border=\"1\" class=\"dataframe\">\n  <thead>\n    <tr style=\"text-align: right;\">\n      <th></th>\n      <th>0</th>\n      <th>1</th>\n      <th>2</th>\n      <th>3</th>\n      <th>sanple_id</th>\n      <th>4</th>\n    </tr>\n  </thead>\n  <tbody>\n  </tbody>\n</table>\n</div>"
     },
     "metadata": {},
     "execution_count": 123
    },
    {
     "output_type": "stream",
     "name": "stderr",
     "text": "100%|██████████| 20/20 [00:00<00:00, 34.90it/s]\n"
    }
   ],
   "source": [
    "def get_product_text(val_content_df):\n",
    "    result_df=None\n",
    "    for sample_id,text in tqdm(val_content_df[[\"sample_id\",\"text\"]].values):\n",
    "        mc_list=get_mc(text)\n",
    "        if mc_list is not None:\n",
    "            mc_list=list(set(mc_list))\n",
    "            # print(mc_list)\n",
    "        # print(\"-----------\")\n",
    "        # sample_id\n",
    "        tmp_df=pd.DataFrame(find_pos_in_text(text,mc_list),columns=[0,1,2,3])\n",
    "        tmp_df[[0,1,2,3]]=tmp_df[[0,3,1,2]]\n",
    "        tmp_df[1]=1\n",
    "        tmp_df[3]=tmp_df[2]\n",
    "        tmp_df[\"sanple_id\"]=sample_id\n",
    "        result_df=get_title_text(text,tmp_df) if result_df is None else pd.concat([result_df,get_title_text(text,tmp_df)])\n",
    "    return result_df.reset_index(drop=True)\n",
    "    \n",
    "val_product_text=get_product_text(val_content_df)\n",
    "train_product_text=get_product_text(train_content_df)\n",
    "test_product_text=get_product_text(test_content_df)"
   ]
  },
  {
   "cell_type": "code",
   "execution_count": 98,
   "metadata": {
    "tags": []
   },
   "outputs": [
    {
     "output_type": "stream",
     "name": "stdout",
     "text": "['引言[\\'证券代码：002429 证券简称：兆驰股份 公告编号：2018-081 ^深圳市兆驰股份有限公司 ^关于使用部分闲置募集资金进行现金管理及部分自有资金投资 ^银行理财产品的进展公告 ^ ^本公司及董事会全体成员保证信息披露内容的真实、准确和完整，没有虚假记^载、误导性陈述或重大遗漏。 ^ ^深圳市兆驰股份有限公司（以下简称“公司”）于 2017 年 3 月 10 日召开 2017^年第一次临时股东大会，审议通过《关于使用闲置自有资金进行委托理财的议案》，^同意公司使用闲置自有资金不超过人民币 400,000万元进行委托理财（含2016 年第^二次临时股东大会批准的额度），该额度可由公司及纳入合并报表范围内的子公司^共同滚动使用，有效期自相关股东大会通过之日起两年内有效，并授权公司管理层^具体实施相关事宜。公司于 2017 年 11 月 30日召开 2017 年第四次临时股东大会，^审议通过《关于使用闲置自有资金进行委托理财的议案》，同意公司增加不超过人^民币 200,000万元的闲置自有资金进行委托理财（不含 2017年第一次临时股东大会^批准的额度）。详细内容分别参见 2017 年2月22日、2017年11月15日刊载于《证^券时报》、《中国证券报》、《上海证券报》、《证券日报》及巨潮资讯网^（http://www.cninfo.com.cn）的《关于使用闲置自有资金进行委托理财的公告》（公^告编号：2017-011）、《关于使用闲置自有资金进行委托理财的公告》（公告编号：^2017-069）。 ^公司于 2017 年 11 月 30 日召开 2017 年第四次临时股东大会，审议通过《关于^使用部分闲置募集资金购买银行理财产品的议案》，同意公司及子公司江西兆驰半^导体有限公司使用额度不超过人民币 210,000.00万元（含）暂时闲置募集资金购买^短期保本型银行理财产品，使用期限自股东大会审议通过之日起不超过 12 个月，在^上述额度范围及使用期限内，资金可以滚动使用，同时授权公司董事长行使该项投^资决策权并签署相关合同，公司财务负责人负责组织实施。详细内容参见 2017 年\\', \\'11 月15日刊载于《证券时报》、《中国证券报》、《上海证券报》、《证券日报》^及巨潮资讯网（http://www.cninfo.com.cn）的《关于使用部分闲置募集资金购买银行^理财产品的公告》（公告编号：2017-070）。 ^公司于2018年7月6日召开2018年第四次临时股东大会，审议通过《关于使^用闲置募集资金进行现金管理的议案》，同意公司及子公司江西兆驰半导体有限公^司合计使用最高不超过人民币180,000.00 万元（含）的闲置募集资金进行现金管理，^单个产品的投资期限不超过 12 个月，授权公司董事长在股东大会审议通过之日起^12 个月内行使该项投资决策权并签署相关合同文件，上述资金额度在决议有效期内^可滚动使用。详细内容参见2018年6 月20日刊载于《证券时报》、《中国证券报》、^《上海证券报》、《证券日报》及巨潮资讯网（http://www.cninfo.com.cn）的《关于^使用部分闲置募集资金进行现金管理的公告》（公告编号：2018-043）。 ^根据上述决议，公司现将近期使用闲置募集资金及闲置自有资金投资理财产品^的有关情况公告如下： ^一、兴业银行企业金融结构性存款 ^1、产品名称：兴业银行企业金融结构性存款（封闭式） ^2、币种：人民币 ^3、资金来源：闲置募集资金。 ^4、产品类型：保本浮动收益型。 ^5、购买金额和期限： ^子公司江西兆驰半导体有限公司以中国建设银行股份有限公司南昌火车站支行^的募集资金专户 20,000万元办理兴业银行企业金融结构性存款业务（封闭式）。 ^成立日为2018年8月22日，到期日为 2018年11月22日。 ^6、收益计算方式： ^产品收益=固定收益+浮动收益。 \\', \\'（1）固定收益=本金金额×2.61%×产品存续天数÷365 ^（2）浮动收益与上海黄金交易所之上海金上午基准价的波动变化情况挂钩，浮^动收益=本金金额×【1.78%~1.82%】×产品存续天数÷365。 ^如期间本存款产品未提前终止，产品存续天数为起息日至到期日（不含该日）^的天数；如本存款产品提前终止，产品存续天数为起息日至提前终止日（不含该日）^的天数。 ^7、提前终止：如果兴业银行提前终止本产品，将提前 2个工作日通过营业网点^或官方网站公布提前终止日并指定支付日（一般为提前终止日之后的3个工作日以^内）。提前终止日公司所持有的产品金额相对应的本金与收益，兴业银行将划转至^协议中的活期账户或一本通账户，无须为本产品的提前终止承担任何其它赔偿、补^偿及其它任何责任。 ^8、关联关系说明：公司与兴业银行股份有限公司无关联关系。 ^9、风险揭示：本存款产品属于保本浮动收益型，产品有投资风险，可能面临各^种风险，如利率风险、提前终止风险、法律风险等，公司所预期的规避风险、获利^等交易目的不一定能够实现。 ^10、信息披露：如出现产品发行主体财务状况恶化、所投资的产品面临亏损等^重大不利因素时，公司将及时披露，提示风险，并披露为确保资金安全所采取的风^险控制措施。 ^二、中国银行单位大额存单产品 ^1、产品名称：单位大额存单 ^2、币种：人民币 ^3、资金来源：闲置募集资金。 ^4、产品类型：记账式大额存款凭证，是银行存款类金融产品，属一般性存款。 ^5、购买金额和期限： \\', \\'子公司江西兆驰半导体有限公司以中国银行股份有限公司南昌市天泽园支行的^募集资金专户 50,000万元办理中国银行股份有限公司单位大额存单，起息日为 2018^年 12 月 28 日，该产品可提前支取并拆分存单金额，公司持有期限最长不超过 12^个月。 ^6、本金及利息计付方式： ^到期支取，计算公式为：利息=本金×年（月）数×年（月）利率，月利率=年^利率÷12，一次性还本付息； ^提前支取，计算公式为：利息=本金×实际天数×日利率，日利率=对应期限提^支利率÷360，兑付提支部分本金及利息。 ^7、到期利率/提支利率：3.10%（年化利率） ^8、提前支取：本期大额存单可提前支取，提前支取的本金及相应利息当日划转^至公司大额存单签约账户中，留存金额应不低于 1000万元人民币，否则须全部提前^支取；提前支取部分按起息日约定利率计息，从起息日起计算存期，提前支取利率^按约定执行活期存款利率或靠档计息。 ^9、关联关系说明：公司与中国银行股份有限公司无关联关系。 ^10、风险揭示：本产品为保本保证收益型产品。 ^11、信息披露：如出现产品发行主体财务状况恶化、所投资的产品面临亏损等^重大不利因素时，公司将及时披露，提示风险，并披露为确保资金安全所采取的风^险控制措施。 ^三、中国建设银行股份有限公司“乾元-福顺盈”开放式资产组合型理财产品 ^1、产品名称：“乾元-福顺盈”开放式资产组合型理财产品 ^2、币种：人民币 ^3、资金来源：闲置自有资金。 ^4、产品类型：非保本浮动收益型。 \\', \\'5、购买金额和期限： ^公司以自有资金8,000万元购买中国建设银行股份有限公司“乾元-福顺盈”开^放式资产组合型理财产品。成立日为2018年12月28日，可提前支取，公司持有期^限最长不超过 12个月。 ^6、投资范围：本产品所募集的全部资金归集一并运用，投资于股权类资产、债^权类资产、债券和货币市场工具类资产及其他符合监管要求的资产组合。各类资产^的投资比例为：股权类资产 0%~70%、债权类资产 0%~70%、债券和货币市场工具^类资产 30%~100%、其他符合监管要求的资产组合 0%~70%。 ^7、预期年化收益率：3.70% ^8、提前终止：如果中国建设银行深圳市分行提前终止本产品时，将至少于提前^终止日之前 2个产品工作日进行公告，并在提前终止日后 5个产品工作日内将客户^投资本金和应得收益返还至客户指定账户，如遇中国大陆法定节假日和公休日则顺^延，应得收益根据每笔投资本金实际参与理财的天数及对应的实际年化收益率计算。 ^9、关联关系说明：公司与中国建设银行股份有限公司无关联关系。 ^10、风险揭示：本存款产品属于非保本浮动收益型，产品有投资风险，可能面^临各种风险，如利率风险、提前终止风险、法律风险等，公司所预期的规避风险、^获利等交易目的不一定能够实现。 ^11、信息披露：如出现产品发行主体财务状况恶化、所投资的产品面临亏损等^重大不利因素时，公司将及时披露，提示风险，并披露为确保资金安全所采取的风^险控制措施。 ^四、上海国际信托现金丰利集合资金信托计划 ^1、产品名称：现金丰利集合资金信托计划 ^2、参与信托计划金额及信托期限：本信托计划为开放式，公司可在股东大会批^准的额度有效期内根据需要进行加入、退出、追加操作。 ^3、产品类型：本信托计划主要是进行短期风险较低的货币市场的投资运作。 \\', \\'4、投资范围：本信托主要投资于价格波动幅度低、信用风险低并且流动性良好^的短期货币市场金融工具，包括：（1）金融同业存款；（2）期限在3年以内的短^期固定利率债券，包括上市流通的短期国债、金融债、企业债、央行票据、商业银^行次级债和企业短期融资券等等；（3）上市流通的浮动利率债券；（4）期限 1年^以内的债券回购；（5）货币市场基金；（6）期限6个月以内的银行定期存款、协^议存款或大额存单；（7）为高资信等级的企业提供期限在 6个月以内的短期流动资^金贷款；（8）期限6个月以内的有银行回购承诺的资产包；（9）剩余期限在 3年^以内的信托计划；（10）法律法规允许投资的其它流动性良好的短期金融工具。 ^5、信托收益说明：（1）委托人的投资收益根据每日记录的“每万份 A 类信托^单位收益”、“每万份 B 类信托单位收益”、“每万份 C 类信托单位收益”、“每万份 D^类信托单位收益”和委托人的投资额度以及投资天数进行加总计算。（2）受托人于^每一个工作日在其公司网站公布前一日的“每万份 A 类信托单位收益”、“每万份 B^类信托单位收益”、“每万份 C 类信托单位收益”、“每万份 D 类信托单位收益”。上^海国际信托网址为 http://www.shanghaitrust.com/index.html。 ^6、加入和退出：加入和追加实行 T 日计算收益，投资者认购资金到账的当天^即开始享有投资收益。赎回资金预计可于 T+1个工作日内划付，但由于通讯或电脑^系统故障、信托利益指定账户的开户行操作系统的差异等因素，有可能导致赎回资^金延迟到账。 ^7、信托利益的分配： 委托人的全部投资收益在其全部退出该信托计划时结算，^并与其委托本金一并提取。 ^8、信息披露：公司将在以后的定期报告中披露参与上海国际信托现金丰利集 合^资金信托计划加入、退出、追加操作及其收益情况。 ^9、资金来源：闲置自有资金。 ^10、关联关系说明：公司与上海国际信托无关联关系。 ^11、风险揭示： ^受托人管理、运用或处分信托财产过程中可能面临多种风险，包括但不限于利\\', \\'率风险、流动性风险、政策风险、信用风险、再投资风险、操作或技术风险、大额^退出风险、顺延或暂停退出风险、受托人浮动信托报酬风险及其他风险等。受托人^根据合同的规定管理、运用或处分信托财产导致信托财产受到损失的，其损失由信^托财产承担；受托人违反合同的规定处理信托事务，致使信托财产遭受损失的，受^托人应予以赔偿，不足赔偿的，由信托财产承担。 ^（一）银行理财产品或现金管理 ^单位：万元 ^委托理财 本期实际收^资金 报酬确定 预计收益 实际损益 ^受托人名称 产品类型 金额 起始日期 终止日期 回本金 ^来源 方式 （万元） （万元） ^（万元） （万元） ^兴业银行“金雪^兴业银行股 球优先5号 募集 2016年12 2017年12 保本浮动^21,700 21,700 857.15 861.85 ^份有限公司 3300B款”人民 资金 月23日 月23日 收益型 ^币理财产品 ^兴业银行“金雪^球”2017年第四^兴业银行股 募集 2017年12 2018年6 保本浮动^期保本浮动收益 50,000 50,000 1,324.11 1,324.11 ^份有限公司 资金 月25日 月22日 收益型 ^封闭式人民币理^财产品 ^兴业银行股 募集 2017年12 2018年1 保本浮动^结构性存款 10,000 10,000 42.81 42.81 ^份有限公司 资金 月26日 月26日 收益型 ^广东华兴银^募集 2017年12 2018年2 保本浮动^行股份有限 结构性存款 10,000 10,000 84.93 84.93 ^资金 月26日 月26日 收益型 ^公司 ^兴业银行“金雪^兴业银行股 球”保本浮动收 募集 2017年12 2018年3 保本浮动^30,000 30,000 399.45 399.45 ^份有限公司 益封闭式人民币 资金 月27日 月27日 收益型 ^理财产品 \\', \\'中国工商银行^中国工商银 “易加益2号 自有 2017年12 2018年1 非保本浮^2,500 2,500 2.47 2.73 ^行 PLUS\"法人人民 资金 月27日 月5日 动收益型 ^币理财产品 ^兴业银行股 募集 2017年12 2018年2 保本浮动^结构性存款 20,000 20,000 183.84 183.84 ^份有限公司 资金 月29日 月28日 收益型 ^广东华兴银^募集 2018年1 2018年3 保本浮动^行股份有限 结构性存款 46,000 46,000 384.38 384.38 ^资金 月11日 月13日 收益型 ^公司 ^中银保本理财人^中国银行股 募集 2018年1 2018年3 保本保证^民币按期开放理 16,000 16,000 106.96 106.96 ^份有限公司 资金 月11日 月13日 收益型 ^财产品 ^广发银行股 募集 2018年3 2018年6 保本浮动^结构性存款 20,000 20,000 129.64 241.84 ^份有限公司 资金 月5日 月4日 收益型 ^广发银行股 募集 2018年3 2018年6 保本浮动^结构性存款 26,000 26,000 168.54 324.11 ^份有限公司 资金 月15日 月14日 收益型 ^广东华兴银^募集 2018年3 2018年6 保本浮动^行股份有限 结构性存款 26,000 26,000 330.59 330.59 ^资金 月15日 月14日 收益型 ^公司 ^中银保本理财人^中国银行股 募集 2018年3 2018年4 保本保证^民币按期开放理 10,000 10,000 14.79 14.79 ^份有限公司 资金 月15日 月2日 收益型 ^财产品 ^兴业银行股 企业金融结构性 募集 2018年3 2018年7 保本浮动^30,000 30,000 533.59 533.59 ^份有限公司 存款 资金 月28日 月26日 收益型 ^广东华兴银^募集 2018年4 2018年7 保本浮动^行股份有限 结构性存款 10,000 10,000 125.90 125.90 ^资金 月3日 月3日 收益型 ^公司 ^兴业银行股 企业金融结构性 募集 2018年4 2018年7 保本浮动^5,700 5,700 71.05 71.05 ^份有限公司 存款 资金 月9日 月9日 收益型 ^宁波银行股 募集 2018年6 2018年12 保本保证^定期存款 20,000 20,000 531.45 530.17 ^份有限公司 资金 月5日 月5日 收益型 ^宁波银行股 募集 2018年6 2018年9 保本保证^定期存款 20,000 20,000 267.18 265.51 ^份有限公司 资金 月15日 月15日 收益型 ^宁波银行股 募集 2018年6 2018年12 保本保证^定期存款 6,000 6,000 159.44 159.15 ^份有限公司 资金 月15日 月15日 收益型 ^兴业银行股 企业金融结构性 募集 2018年6 2018年12 保本浮动^40,000 40,000 1,002.74 1,002.74 ^份有限公司 存款 资金 月25日 月25日 收益型 ^兴业银行股 企业金融结构性 募集 2018年7 2018年10 保本浮动^10,000 10,000 121.24 121.24 ^份有限公司 存款 资金 月16日 月16日 收益型 ^兴业银行股 企业金融结构性 募集 2018年8 2018年11 保本浮动^20,000 20,000 221.81 221.81 ^份有限公司 存款 资金 月22日 月22日 收益型 ^中国银行股 募集 2018年12 不超过12 保本保证^单位大额存单 50,000 ^份有限公司 资金 月28日 个月 收益型 ^中国建设银 “乾元-福顺盈” ^自有 2018年12 不超过12 非保本浮^行股份有限 开放式资产组合 8,000 ^资金 月28日 个月 动收益型 ^公司 型理财产品 ^合计 507,900 -- -- -- 449,900 7,064.06 7,333.55 ^ ^（二）现金丰利集合资金信托计划 ^单位：万元 \\', \\'投资期限 ^投资金额 投资盈亏 是否涉^委托方 资金来源 产品类型 ^（万元） （万元） 讼 ^购买日期 赎回日期 ^2018年1^10,000.00 否 ^月15日 ^2018年1^10,000.00 否 ^月19日 ^2018年1^14,000.00 否 ^月22日 ^2018年1^6,000.00 否 ^月22日 ^2018年1^-10,000.00 否 ^月25日 ^2018年2^-25,000.00 否 ^月7日 ^2018年3^24,000.00 否 ^月8日 ^2018年3^-20,000.00 否 ^月13日 ^2018年3^12,000.00 否 ^月15日 ^2018年3^-7,000.00 否 ^月20日 ^400.55 ^2018年4^10,000.00 否 ^月4日 ^2018年4^-10,000.00 否 ^月9日 ^深圳市兆驰股份 现金丰利^上海国际信托有 2018年4^有限公司公司闲 18,000.00 集合资金 否 ^限公司 月23日 ^置自有资金 信托计划 ^2018年5^-5,000.00 否 ^月8日 ^2018年6^10,000.00 否 ^月1日 ^2018年6^-7,000.00 否 ^月13日 ^2018年6^-2,000.00 否 ^月15日 ^2018年6^-5,000.00 否 ^月20日 ^2018年6^-10,000.00 否 ^月21日 ^2018年6^-13,000.00 否 ^月28日 ^2018年7^20,000.00 否 ^月4日 ^2018年7^10,000.00 否 ^月6日 ^2018年7^-5,000.00 517.45 否 ^月11日 ^2018年7^-5,000.00 否 ^月13日 ^2018年7^50,000.00 否 ^月26日 \\', \\'2018年8^-30,000.00 否 ^月14日 ^2018年8^-10,000.00 否 ^月28日 ^2018年9^-5,000.00 否 ^月11日 ^2018年9^-10,000.00 否 ^月27日 ^2018年10^10,000.00 否 ^月30日 ^2018年11^-20,000.00 否 ^月13日 ^2018年11^30,000.00 否 ^月22日 ^2018年11^-20,000.00 否 ^月28日 ^2018年12^50,000.00 否 ^月4日 ^2018年12^-50,000.00 否 ^月13日 ^2018年12^-10,000.00 否 ^月14日 ^2018年12^-5,000.00 否 ^月27日 ^2018年7^3,500.00 否 ^月6日 ^2018年7^深圳市兆驰节能 -1,500.00 现金丰利 否 ^上海国际信托有 月20日 ^照明股份有限公 集合资金 17.82 ^限公司 2018年8^司闲置自有资金 -1,000.00 信托计划 否 ^月23日 ^2018年10^-1,000.00 否 ^月10日 ^2017年12^8,000.00 否 ^月27日 ^29.51 ^2018年1^-8,000.00 否 ^月25日 ^2018年3^2,000.00 否 ^月14日 ^2018年4^4,000.00 否 ^月4日 ^2018年4^8,000.00 91.49 否 ^月12日 ^江西省兆驰光电 现金丰利^上海国际信托有 2018年5^有限公司闲置自 -4,000.00 集合资金 否 ^限公司 月17日 ^有资金 信托计划 ^2018年6^-10,000.00 否 ^月7日 ^2018年6^10,000.00 否 ^月13日 ^16.84 ^2018年6^-10,000.00 否 ^月28日 ^2018年7^15,000.00 否 ^月4日 ^265.03 ^2018年8^12,000.00 否 ^月7日 \\', \\'2018年8^-10,000.00 否 ^月29日 ^2018年10^-7,000.00 否 ^月23日 ^2018年11^6,000.00 否 ^月14日 ^2018年11^15,000.00 否 ^月20日 ^2018年11^-31,000.00 否 ^月28日 ^2018年12^30,000.00 否 ^月10日 ^2018年8^3,500.00 否 ^月6日 ^2018年9^500.00 现金丰利 否 ^上海国际信托有 南昌市兆驰科技 月5日 ^集合资金 30.86 ^限公司 有限公司 2018年9^1,500.00 信托计划 否 ^月6日 ^2018年10^-5,500.00 否 ^月10日 ^2017年7^1,500.00 否 ^月12日 ^2017年7^600.00 否 ^月24日 ^2017年7^1,000.00 否 ^月27日 ^2017年10^-2,800.00 否 ^月19日 ^2017年11^600.00 否 ^月7日 ^2017年12^1,200.00 否 ^月5日 ^2018 年1^-500.00 否 ^月18日 ^2018年3^1,000.00 119.02 否 ^月8日 ^深圳市兆驰光电 现金丰利^上海国际信托有 2018年3^有限公司闲置自 1,000.00 集合资金 否 ^限公司 月23日 ^有资金 信托计划 ^2018年4^3,000.00 否 ^月4日 ^2018年4^-800.00 否 ^月24日 ^2018年4^1,500.00 否 ^月27日 ^2018年5^-5,000.00 否 ^月10日 ^2018年6^1,000.00 否 ^月8日 ^2018年6^-3,300.00 否 ^月28日 ^2018年7^3,000.00 否 ^月6日 ^24.19 ^2018年7^-1,000.00 否 ^月30日 \\', \\'2018年8^1,600.00 否 ^月6日 ^2018年9^1,500.00 否 ^月7日 ^2018年9^-5,100.00 否 ^月11日 ^2018年11^700.00 否 ^月12日 ^3.04 ^2018年12^-700.00 否 ^ 月28日 ^2018年1^2,000.00 否 ^月4日 ^2018年3^-1,000.00 否 ^月20日 ^现金丰利 26.28 ^上海国际信托有 江西兆驰半导体 2018年5^-400.00 集合资金 否 ^限公司 有限公司 月28日 ^信托计划 ^2018年6^-600.00 否 ^月6日 ^2018年12^30,000.00 否 ^月10日 ^2018年3^5,000.00 否 ^月8日 ^10.65 ^2018年3^-5,000.00 否 ^月27日 ^2018年7^1,000.00 否 ^月9日 ^1.23 ^2018年7^-1,000.00 否 ^月19日 ^2018年7^10,000.00 否 ^月30日 ^2018年8^-2,500.00 否 ^月6日 ^2018年8^-2,000.00 否 ^月14日 ^深圳市兆驰数码 现金丰利^上海国际信托有 2018年8^科技股份有限公 -1,500.00 集合资金 34.01 否 ^限公司 月23日 ^司 信托计划 ^2018年8^4,500.00 否 ^月31日 ^2018年9^-2,000.00 否 ^月10日 ^2018年9^-6,500.00 否 ^月14日 ^2018年11^1,000.00 否 ^月1日 ^2018年11^1,500.00 否 ^月12日 ^2.74 ^2018 年11^-500.00 否 ^ 月15日 ^2018年11^-2,000.00 否 ^ 月20日 ^2018年3^深圳市佳视百科 3,000.00 现金丰利 否 ^上海国际信托有 月8日 ^技有限责任公司 集合资金 23.92 ^限公司 2018 年5^闲置自有资金 -3,000.00 信托计划 否 ^月15日 \\', \\'2018年7^1,800.00 否 ^月4日 ^3.21 ^2018年7^-1,800.00 否 ^月20日 ^2018年1^3,000.00 否 ^月12日 ^2018年2^-2,000.00 10.98 否 ^月5日 ^2018年2^-1,000.00 否 ^月27日 ^2018年4^2,000.00 否 ^月19日 ^1.80 ^2018年4^-2,000.00 否 ^月26日 ^2018年5^1,000.00 否 ^月18日 ^现金丰利 1.23 ^上海国际信托有 北京风行在线技 2018年5^-1,000.00 集合资金 否 ^限公司 术有限公司 月29日 ^信托计划 ^2018年7^3,000.00 否 ^月6日 ^2018年7^-1,000.00 否 ^月16日 ^2018年8^-1,000.00 否 ^月3日 ^11.47 ^2018年8^1,000.00 否 ^月23日 ^2018年8^-1,000.00 否 ^月29日 ^2018年9^-1,000.00 否 ^月6日 ^2018年2^1,000.00 现金丰利 否 ^上海国际信托有 深圳风行多媒体 月8日 ^集合资金 2.10 ^限公司 有限公司 2018年2^-1,000.00 信托计划 否 ^月27日 ^合计 60,000.00 — — — 1,645.42 — ^注：根据《现金丰利集合资金信托计划信托合同》关于“退出时信托资金的计算”约定，部^分赎回的为有效的部分退出申请，只退出所申请的这部分投资本金，未结息，收益在全部退出^时一并结清。 ^（三）信托产品 ^单位：万元 ^本期实际^关联 报酬确 预计收益 实际损益 是否 ^受托人名称 产品类型 购买金额 起始日期 终止日期 收回本金 ^关系 定方式 （万元） （万元） 涉讼 ^（万元） ^中建投·建泉36号^中建投信托有 2016年1 2018年1 浮动收^无 （榆林城投）集合 6,560 6,560 1,116.73 1,116.73 否 ^限责任公司 月12日 月12日 益 ^资金信托计划 \\', \\'中信基业39号巴^中信信托有限 2016年6 2018年6 浮动收^无 中新城应收账款 2,880 2,880 374.40 370.98 否 ^责任公司 月27日 月27日 益 ^流动化信托项目 ^安信乾盛财富^安信乾盛遵乾专 2016年8 2018年8 浮动收^管理（深圳）有 无 20,100 20,100 2,974.80 2,942.36 否 ^项资产管理计划 月31日 月31日 益 ^限公司 ^安信乾盛财富 安信乾盛乾红1^2016年11 2018年11 浮动收^管理（深圳）有 无 号专项资产管理 6,600 6,600 950.40 936.95 否 ^月1日 月1日 益 ^限公司 计划 ^安信乾盛财富 安信乾盛乾红1^2016年9 2018年9 浮动收^管理（深圳）有 无 号专项资产管理 4,500 4,500 585.00 576.83 否 ^月29日 月29日 益 ^限公司 计划（深圳光电） ^外贸信托•五行汇^中国对外经济^金小微基金集合 2016年12 2018年12 浮动收^贸易信托有限 无 1,400 1,400 196.00 196.00 否 ^资金信托计划三 月7日 月7日 益 ^公司 ^期-10 ^外贸信托•五行汇^中国对外经济^金小微基金集合 2016年12 2018年6 浮动收^贸易信托有限 无 2,900 2,900 286.84 286.84 否 ^资金信托计划三 月7日 月7日 益 ^公司 ^期-10 ^外贸信托•汇金2^中国对外经济 号消费信贷集合^2016年12 2018年12 浮动收^贸易信托有限 无 资金信托计划68 8,800 8,800 1,232.00 1,232.00 否 ^月14日 月14日 益 ^公司 期-20（捷信消费^贷款项目） ^平安财富*宏泰八^平安信托有限 2017年1 2018年1 浮动收^无 十九号集合资金 14,000 14,000 812.00 812.00 否 ^责任公司 月19日 月19日 益 ^信托计划 ^外贸信托•五行汇^中国对外经济^金小微基金集合 2017年1 2018年7 浮动收^贸易信托有限 无 5,000 5,000 493.64 493.64 否 ^资金信托计划四 月25日 月25日 益 ^公司 ^期-4 ^五矿信托-基建3^五矿国际信托 2017年4 2018年12 浮动收^无 号投资集合资金 6,200 6,200 639.94 639.94 否 ^有限公司 月21日 月10日 益 ^信托计划 ^中建投信托•安泉^中建投信托有 136号（中洲无锡） 2017年4 2018年4 浮动收^无 9,040 9,040 579.33 486.44 否 ^限责任公司 集合资金信托计 月28日 月2日 益 ^划 ^外贸信托•汇金3^中国对外经济 号集合资金信托^2017年5 2018年5 浮动收^贸易信托有限 无 计划五十期-4（维 5,000 5,000 315.00 205.40 否 ^月11日 月11日 益 ^公司 信消费贷款系列^融资项目） ^外贸信托•汇金2^中国对外经济 号消费信贷集合^2017年5 2018年2 浮动收^贸易信托有限 无 资金信托计划66 10,000 10,000 529.32 529.32 否 ^月18日 月18日 益 ^公司 期-4（捷信消费贷^款项目） ^外贸信托•五行汇^中国对外经济^诚资产配置集合 2017年6 2018年12 浮动收^贸易信托有限 无 15,000 15,000 1,531.40 1,509.04 否 ^资金信托计划18 月7日 月7日 益 ^公司 ^期-22 \\', \\'上信•合景泰富债^上海国际信托 2017年7 2019年7 浮动收^无 权投资集合资金 4,000 512.00 306.50 否 ^有限公司 月11日 月11日 益 ^信托计划 ^五矿信托-基建6^五矿国际信托 2017年7 2019年7 浮动收^无 号投资集合资金 6,000 840.00 604.11 否 ^有限公司 月14日 月14日 益 ^信托计划 ^中建投信托•安泉^中建投信托有 174号（阳光城萧 2017年7 2018年7 浮动收^无 5,000 5,000 347.12 354.86 否 ^限责任公司 山）集合资金信托 月28日 月25日 益 ^计划 ^华润信托•鼎鑫^华润深国投信 2017年8 2018年5 浮动收^无 158号正荣合肥项 5,000 5,000 251.48 251.48 否 ^托有限公司 月2日 月3日 益 ^目集合信托计划 ^五矿信托-融金2^五矿国际信托 2017年8 2019年8 浮动收^无 号信托贷款集合 5,000 700.00 482.42 否 ^有限公司 月2日 月2日 益 ^资金信托计划 ^中融-汇聚金1号^中融国际信托 2017年10 2018年3 浮动收^无 货币基金集合资 5,000 5,000 129.45 129.45 否 ^有限公司 月17日 月16日 益 ^金信托计划 ^外贸信托•汇金2^中国对外经济 号消费信贷集合^2017年10 2018年3 浮动收^贸易信托有限 无 资金信托计划68 2,000 2,000 54.36 54.36 否 ^月20日 月29日 益 ^公司 期-27（捷信消费^贷款项目） ^五矿信托-顺禾1^五矿国际信托 2017年11 2018年11 浮动收^无 号集合资金信托 15,000 15,000 1,095.00 1,095.00 否 ^有限公司 月17日 月17日 益 ^计划 ^五矿信托-基建一^五矿国际信托 2017年11 2019年6 浮动收^无 号集合资金信托 20,000 2,317.81 1,212.33 否 ^有限公司 月29日 月16日 益 ^计划 ^五矿信托-基建一^五矿国际信托 2017年11 2019年6 浮动收^无 号集合资金信托 7,500 869.18 594.86 否 ^有限公司 月29日 月16日 益 ^计划 ^五矿信托-马安一^五矿国际信托 2017年12 2018年12 浮动收^无 号集合资金信托 10,000 10,000 730.00 730.00 否 ^有限公司 月4日 月4日 益 ^计划 ^华润信托-金辉路^华润深国投信 2017年12 2019年12 浮动收^无 劲佛山项目集合 20,000 3,000.00 1,565.75 否 ^托有限公司 月5日 月5日 益 ^资金信托计划 ^华融•阳光1号信^华融国际信托 2017年12 2018年12 浮动收^无 托贷款集合资金 20,000 20,000 1,460.00 1,480.28 否 ^有限责任公司 月5日 月5日 益 ^信托计划 ^五矿信托-马安1^五矿国际信托 2018年1 2018年8 浮动收^无 号集合资金信托 5,000 5,000 194.66 194.66 否 ^有限公司 月17日 月8日 益 ^计划 ^五矿信托-马安1^五矿国际信托 2018年1 2018年10 浮动收^无 号集合资金信托 6,000 6,000 351.37 351.37 否 ^有限公司 月17日 月29日 益 ^计划 ^五矿信托-博雅投^五矿国际信托 2018年2 2018年10 浮动收^无 资1号集合资金 10,000 10,000 499.32 499.32 否 ^有限公司 月9日 月10日 益 ^信托计划 ^华润信托·鼎新^华润深国投信 2018年2 2018年11 浮动收^无 175号集合信托计 10,000 10,000 585.62 585.62 否 ^托有限公司 月8日 月20日 益 ^划 \\', \\'五矿信托-优享未^五矿国际信托 2018年3 2019年3 浮动收^无 来2号集合资金 20,000 1,541.11 1,190.67 否 ^有限公司 月13日 月13日 益 ^信托计划 ^华润信托•鼎新^华润深国投信 2018年3 2018年11 浮动收^无 175号集合信托计 10,000 10,000 503.42 503.42 否 ^托有限公司 月20日 月20日 益 ^划 ^华融•阳光1号信^华融国际信托 2018年5 2019年5 浮动收^无 托贷款集合资金 5,000 425.83 254.33 否 ^有限责任公司 月16日 月16日 益 ^信托计划 ^中建投信托•安泉^中建投信托有 305号（合景天峻） 2018年5 2018年11 浮动收^无 20,000 20,000 879.11 879.31 否 ^限责任公司 集合资金信托计 月25日 月25日 益 ^划 ^合计 328,480 -- -- -- 240,980 29,903.63 25,654.57 -- ^']\n"
    }
   ],
   "source": [
    "print(val_content_df[val_content_df[\"sample_id\"]==\"446\"][\"text\"].values)"
   ]
  },
  {
   "cell_type": "markdown",
   "metadata": {},
   "source": [
    "# 理财名称所属文本提取"
   ]
  },
  {
   "cell_type": "markdown",
   "metadata": {},
   "source": [
    "# 理财信息字段提取"
   ]
  },
  {
   "cell_type": "markdown",
   "metadata": {},
   "source": [
    "# 理财信息字段整合"
   ]
  },
  {
   "cell_type": "markdown",
   "metadata": {},
   "source": [
    "# 检验筛选"
   ]
  }
 ]
}