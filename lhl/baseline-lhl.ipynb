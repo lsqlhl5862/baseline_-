{
 "cells": [
  {
   "cell_type": "markdown",
   "metadata": {},
   "source": [
    "# 导入相关包"
   ]
  },
  {
   "cell_type": "code",
   "execution_count": 20,
   "metadata": {},
   "outputs": [],
   "source": [
    "# 导入相关包\n",
    "import os\n",
    "import pathlib as pl\n",
    "import pandas as pd\n",
    "import numpy as np\n",
    "import re\n",
    "from io import StringIO\n",
    "from datetime import datetime \n",
    "import time\n",
    "from IPython.core.interactiveshell import InteractiveShell\n",
    "from tqdm.autonotebook import *\n",
    "import pdfplumber\n",
    "tqdm.pandas()\n",
    "InteractiveShell.ast_node_interactivity = \"all\"\n"
   ]
  },
  {
   "cell_type": "markdown",
   "metadata": {
    "tags": []
   },
   "source": [
    "def extract_pdf_content(pdf_path):\n",
    "    text_list = []\n",
    "    table_list = []\n",
    "    with pdfplumber.open(pdf_path) as pdf:\n",
    "        for index_page in np.arange(0, len(pdf.pages), 1):\n",
    "            # 读取多页\n",
    "            page = pdf.pages[index_page]   # 第n页的信息\n",
    "            text = page.extract_text()\n",
    "            text_list.append(text)\n",
    "            table = page.extract_tables()\n",
    "            for t in table:\n",
    "                table_list.append(t)\n",
    "    return text_list, table_list\n",
    "\n",
    "# a='train_output'\n",
    "# b=\"train\"+r\"_\\d\"\n",
    "# print(re.match(b,a))\n",
    "def csv_2_df(file_path):\n",
    "    file_list=file_path.parents[0].glob(\"*.csv\")\n",
    "    result=None\n",
    "    for item in file_list:\n",
    "        if re.match(file_path.stem.split(\"_\")[0]+r\"_\\d\",item.stem) is not None:\n",
    "            print(item.name)\n",
    "            result=pd.read_csv(item) if result is None else pd.concat([result,pd.read_csv(item)])\n",
    "    return result\n",
    "\n",
    "test_path = pl.Path('datasets/train_1.csv')\n",
    "\n",
    "test_df = csv_2_df(test_path)\n",
    "test_df.to_csv(\"datasets/train.csv\",index=None)"
   ]
  },
  {
   "cell_type": "markdown",
   "metadata": {},
   "source": [
    "# PDF解析原始数据 \n",
    "## 加载数据并采用pdfplumber抽取PDF中的文字和表格\n"
   ]
  },
  {
   "cell_type": "code",
   "execution_count": 21,
   "metadata": {},
   "outputs": [
    {
     "output_type": "execute_result",
     "data": {
      "text/plain": "   sample_id       认购日期        理财产品名称     产品发行方名称    理财类型  认购金额(万元)  \\\n0          1 2019-03-27         汇聚金1号  中融国际信托有限公司      信托   10000.0   \n1          1 2019-03-27  招商银行步步生金8699        招商银行  银行理财产品     200.0   \n\n       产品起息日      产品到息日  产品期限  资金来源    实际购买公司名称 实际购买公司和上市公司关系 买卖方是否有关联关系  \\\n0 2019-03-27 2019-09-23  180天  自有资金  恒生电子股份有限公司          公司本身          否   \n1 2019-03-27        NaT   NaN  自有资金  恒生电子股份有限公司          公司本身          否   \n\n        公告日期  \n0 2019-04-25  \n1 2019-04-25  ",
      "text/html": "<div>\n<style scoped>\n    .dataframe tbody tr th:only-of-type {\n        vertical-align: middle;\n    }\n\n    .dataframe tbody tr th {\n        vertical-align: top;\n    }\n\n    .dataframe thead th {\n        text-align: right;\n    }\n</style>\n<table border=\"1\" class=\"dataframe\">\n  <thead>\n    <tr style=\"text-align: right;\">\n      <th></th>\n      <th>sample_id</th>\n      <th>认购日期</th>\n      <th>理财产品名称</th>\n      <th>产品发行方名称</th>\n      <th>理财类型</th>\n      <th>认购金额(万元)</th>\n      <th>产品起息日</th>\n      <th>产品到息日</th>\n      <th>产品期限</th>\n      <th>资金来源</th>\n      <th>实际购买公司名称</th>\n      <th>实际购买公司和上市公司关系</th>\n      <th>买卖方是否有关联关系</th>\n      <th>公告日期</th>\n    </tr>\n  </thead>\n  <tbody>\n    <tr>\n      <th>0</th>\n      <td>1</td>\n      <td>2019-03-27</td>\n      <td>汇聚金1号</td>\n      <td>中融国际信托有限公司</td>\n      <td>信托</td>\n      <td>10000.0</td>\n      <td>2019-03-27</td>\n      <td>2019-09-23</td>\n      <td>180天</td>\n      <td>自有资金</td>\n      <td>恒生电子股份有限公司</td>\n      <td>公司本身</td>\n      <td>否</td>\n      <td>2019-04-25</td>\n    </tr>\n    <tr>\n      <th>1</th>\n      <td>1</td>\n      <td>2019-03-27</td>\n      <td>招商银行步步生金8699</td>\n      <td>招商银行</td>\n      <td>银行理财产品</td>\n      <td>200.0</td>\n      <td>2019-03-27</td>\n      <td>NaT</td>\n      <td>NaN</td>\n      <td>自有资金</td>\n      <td>恒生电子股份有限公司</td>\n      <td>公司本身</td>\n      <td>否</td>\n      <td>2019-04-25</td>\n    </tr>\n  </tbody>\n</table>\n</div>"
     },
     "metadata": {},
     "execution_count": 21
    },
    {
     "output_type": "execute_result",
     "data": {
      "text/plain": "   sample_id                  file_path  \\\n0          1  datasets/train_data/1.PDF   \n1          2  datasets/train_data/2.PDF   \n\n                                                text  \\\n0  ['                                            ...   \n1  ['                                            ...   \n\n                                               tabel  \n0  [[['', None, None, '', None, None, '', None, N...  \n1  [[['', None, None, '', None, None, '', None, N...  ",
      "text/html": "<div>\n<style scoped>\n    .dataframe tbody tr th:only-of-type {\n        vertical-align: middle;\n    }\n\n    .dataframe tbody tr th {\n        vertical-align: top;\n    }\n\n    .dataframe thead th {\n        text-align: right;\n    }\n</style>\n<table border=\"1\" class=\"dataframe\">\n  <thead>\n    <tr style=\"text-align: right;\">\n      <th></th>\n      <th>sample_id</th>\n      <th>file_path</th>\n      <th>text</th>\n      <th>tabel</th>\n    </tr>\n  </thead>\n  <tbody>\n    <tr>\n      <th>0</th>\n      <td>1</td>\n      <td>datasets/train_data/1.PDF</td>\n      <td>['                                            ...</td>\n      <td>[[['', None, None, '', None, None, '', None, N...</td>\n    </tr>\n    <tr>\n      <th>1</th>\n      <td>2</td>\n      <td>datasets/train_data/2.PDF</td>\n      <td>['                                            ...</td>\n      <td>[[['', None, None, '', None, None, '', None, N...</td>\n    </tr>\n  </tbody>\n</table>\n</div>"
     },
     "metadata": {},
     "execution_count": 21
    },
    {
     "output_type": "execute_result",
     "data": {
      "text/plain": "   sample_id                     file_path  \\\n0      11188  datasets/test_data/11188.PDF   \n1      11189  datasets/test_data/11189.PDF   \n\n                                                text tabel  \n0  ['北京京西文化旅游股份有限公司监事会\\n \\n \\n关于使用部分闲置募集资金购买理财产品的...    []  \n1  ['北京京西文化旅游股份有限公司 \\n监事会关于使用部分自有资金购买理财产品的意见 \\n根据...    []  ",
      "text/html": "<div>\n<style scoped>\n    .dataframe tbody tr th:only-of-type {\n        vertical-align: middle;\n    }\n\n    .dataframe tbody tr th {\n        vertical-align: top;\n    }\n\n    .dataframe thead th {\n        text-align: right;\n    }\n</style>\n<table border=\"1\" class=\"dataframe\">\n  <thead>\n    <tr style=\"text-align: right;\">\n      <th></th>\n      <th>sample_id</th>\n      <th>file_path</th>\n      <th>text</th>\n      <th>tabel</th>\n    </tr>\n  </thead>\n  <tbody>\n    <tr>\n      <th>0</th>\n      <td>11188</td>\n      <td>datasets/test_data/11188.PDF</td>\n      <td>['北京京西文化旅游股份有限公司监事会\\n \\n \\n关于使用部分闲置募集资金购买理财产品的...</td>\n      <td>[]</td>\n    </tr>\n    <tr>\n      <th>1</th>\n      <td>11189</td>\n      <td>datasets/test_data/11189.PDF</td>\n      <td>['北京京西文化旅游股份有限公司 \\n监事会关于使用部分自有资金购买理财产品的意见 \\n根据...</td>\n      <td>[]</td>\n    </tr>\n  </tbody>\n</table>\n</div>"
     },
     "metadata": {},
     "execution_count": 21
    }
   ],
   "source": [
    "# 数据准备(train_output文件中格式有点问题，需要提前用excel或者wps打开然后另存为excel文件)\n",
    "train_outputs = pd.read_excel('datasets/train_output.xlsx')\n",
    "\n",
    "# 获取pdf中文字和表格\n",
    "def extract_pdf_content(pdf_path):\n",
    "    text_list = []\n",
    "    table_list = []\n",
    "    with pdfplumber.open(pdf_path) as pdf:\n",
    "        for index_page in np.arange(0, len(pdf.pages), 1):\n",
    "            # 读取多页\n",
    "            page = pdf.pages[index_page]   # 第n页的信息\n",
    "            text = page.extract_text()\n",
    "            text_list.append(text)\n",
    "            table = page.extract_tables()\n",
    "            for t in table:\n",
    "                table_list.append(t)\n",
    "    return text_list, table_list\n",
    "\n",
    "def get_dir_file(path):\n",
    "    '''\n",
    "    输入文件夹位置，输出整理好的dataframe\n",
    "    '''\n",
    "    path_list = os.listdir(path)\n",
    "    id_list = []\n",
    "    file_path_list = []\n",
    "    text_list = []\n",
    "    table_list = []\n",
    "    for i in tqdm(path_list):\n",
    "        if '.PDF' in i:\n",
    "            file_path = path + i\n",
    "            id_list.append(int(i.split('.')[0]))\n",
    "            file_path_list.append(file_path)\n",
    "            try:\n",
    "                text_temp, table_temp = extract_pdf_content(file_path)\n",
    "            except Exception:\n",
    "                print('此pdf无法读取')\n",
    "                text_temp, table_temp = [], []\n",
    "            text_list.append(text_temp)\n",
    "            table_list.append(table_temp)\n",
    "            \n",
    "    df = pd.DataFrame()\n",
    "    df['sample_id'] = id_list\n",
    "    df['file_path'] = file_path_list\n",
    "    df['text'] = text_list\n",
    "    df['tabel'] = table_list\n",
    "    df = df.sort_values('sample_id')\n",
    "    return df\n",
    "\n",
    "# 文件处理太慢，可持续化保存文件\n",
    "train_path = 'datasets/train.csv'\n",
    "if os.path.exists(train_path):\n",
    "    train_df = pd.read_csv(train_path)\n",
    "else:\n",
    "    train_df = get_dir_file('datasets/train_data/')\n",
    "    train_df.to_csv(train_path,index=False)\n",
    "    train_df = pd.read_csv(train_path)\n",
    "\n",
    "test_path =  'datasets/test.csv'\n",
    "if os.path.exists(test_path):\n",
    "    test_df = pd.read_csv(test_path)\n",
    "else:\n",
    "    test_df = get_dir_file('datasets/test_data/')\n",
    "    test_df.to_csv(test_path,index=False)\n",
    "    test_df = pd.read_csv(test_path)\n",
    "\n",
    "train_outputs.head(2)\n",
    "train_df.head(2)\n",
    "test_df.head(2)"
   ]
  },
  {
   "cell_type": "code",
   "execution_count": 22,
   "metadata": {},
   "outputs": [],
   "source": [
    "# 构造训练集验证集\n",
    "train_df = train_df.sample(frac=1, random_state=1017)\n",
    "val_df = train_df[:1800]\n",
    "train_df = train_df[1800:]"
   ]
  },
  {
   "cell_type": "markdown",
   "metadata": {},
   "source": [
    "# 数据处理\n",
    "## 抽取整体数据（一个sampleid内此字段内容都相同）\n",
    "## 公告时间，实际购买公司"
   ]
  },
  {
   "cell_type": "markdown",
   "metadata": {},
   "source": [
    "#### 1.抽取公告时间"
   ]
  },
  {
   "cell_type": "code",
   "execution_count": 23,
   "metadata": {
    "tags": []
   },
   "outputs": [
    {
     "output_type": "stream",
     "name": "stderr",
     "text": "100%|██████████| 1800/1800 [00:00<00:00, 4438.02it/s]\n"
    },
    {
     "output_type": "execute_result",
     "data": {
      "text/plain": "0.4583333333333333"
     },
     "metadata": {},
     "execution_count": 23
    },
    {
     "output_type": "stream",
     "name": "stderr",
     "text": "100%|██████████| 1800/1800 [00:00<00:00, 5005.14it/s]\n100%|██████████| 8660/8660 [00:01<00:00, 6869.16it/s]\n"
    }
   ],
   "source": [
    "# 首先针对任务抽取时间（每个时间跟每个id是一一对应的）\n",
    "# 要不是取第一个时间，要不就是取最后一个时间（或者时间加一）这里可以建立一个模型预测\n",
    "# base这里面直接取最后一个时间作为发布日期\n",
    "\n",
    "CN_NUM = {\n",
    "    u'〇': 0, u'一': 1, u'二': 2, u'三': 3,\n",
    "    u'四': 4, u'五': 5, u'六': 6, u'七': 7,\n",
    "    u'八': 8, u'九': 9, u'零': 0, u'壹': 1,\n",
    "    u'贰': 2, u'叁': 3, u'肆': 4, u'伍': 5,\n",
    "    u'陆': 6, u'柒': 7, u'捌': 8, u'玖': 9,\n",
    "    u'貮': 2, u'两': 2,\n",
    "}\n",
    "\n",
    "\n",
    "def get_put_time_from_text(row):\n",
    "    row = row.replace(' ', '').replace('\\\\n', '')\n",
    "    for key in CN_NUM:\n",
    "        row = row.replace(key, str(CN_NUM[key]))   \n",
    "    r = row.replace(\"年\", \"-\").replace(\"月\", \"-\").replace(\"日\", \" \").replace(\"/\", \"-\").strip()\n",
    "    regex = \"(\\d{4}-\\d{1,2}-\\d{1,2})\"\n",
    "    r = re.findall(regex, r)\n",
    "    if len(r)==0:\n",
    "        return np.nan\n",
    "    time_str = r[-1]\n",
    "    first = time_str.split('-')[0]\n",
    "    second = time_str.split('-')[1]\n",
    "    last = time_str.split('-')[-1]\n",
    "    second = str.zfill(second, 2)\n",
    "    last = str.zfill(last, 2)\n",
    "    r = '-'.join([first, second, last])\n",
    "    return r\n",
    "\n",
    "val_result = pd.DataFrame()\n",
    "val_result['sample_id'] = val_df['sample_id']\n",
    "val_result['predict_time'] = val_df.progress_apply(lambda row: get_put_time_from_text(row['text']), axis=1)\n",
    "test_gg = train_outputs.groupby('sample_id').apply(lambda row:list(row['公告日期'])[0]).reset_index()\n",
    "test_gg.columns = ['sample_id', 'time']\n",
    "val_result = pd.merge(val_result, test_gg, on='sample_id', how='left')\n",
    "\n",
    "# 判断验证集的准确率\n",
    "np.sum(val_result['predict_time'].astype(str) == val_result['time'].astype(str))/len(val_result)\n",
    "\n",
    "val_time = val_df.progress_apply(lambda row: get_put_time_from_text(row['text']), axis=1)\n",
    "test_time = test_df.progress_apply(lambda row: get_put_time_from_text(row['text']), axis=1)"
   ]
  },
  {
   "cell_type": "markdown",
   "metadata": {},
   "source": [
    "#### 2.抽取实际购买公司"
   ]
  },
  {
   "cell_type": "code",
   "execution_count": 24,
   "metadata": {
    "tags": []
   },
   "outputs": [
    {
     "output_type": "stream",
     "name": "stderr",
     "text": "100%|██████████| 1800/1800 [00:00<00:00, 4643.92it/s]\n100%|██████████| 8660/8660 [00:01<00:00, 6825.82it/s]\n"
    }
   ],
   "source": [
    "# 抽取购买公司\n",
    "# 前几句话出现\n",
    "# 将其按照\\\\n 和空格切割\n",
    "def get_gm(row):\n",
    "    result = re.split('[\\\\\\\\n ]',row)\n",
    "    for i in result:\n",
    "        if '公司' in i:\n",
    "            return i\n",
    "\n",
    "val_gm = val_df.progress_apply(lambda row:get_gm(row['text']), axis=1)\n",
    "test_gm = test_df.progress_apply(lambda row:get_gm(row['text']), axis=1)"
   ]
  },
  {
   "cell_type": "markdown",
   "metadata": {},
   "source": [
    "#### 3.清洗提取出来的tabel数据，主要是清洗掉有问题的列 "
   ]
  },
  {
   "cell_type": "code",
   "execution_count": 25,
   "metadata": {
    "tags": []
   },
   "outputs": [
    {
     "output_type": "stream",
     "name": "stderr",
     "text": "100%|██████████| 7217/7217 [00:08<00:00, 871.04it/s]\n100%|██████████| 1800/1800 [00:01<00:00, 1010.00it/s]\n100%|██████████| 8660/8660 [00:03<00:00, 2554.16it/s]\n"
    }
   ],
   "source": [
    "# 将table转换格式以及处理\n",
    "def deal_tabel(row):\n",
    "    row = eval(row)\n",
    "    if len(row)==0:\n",
    "        return []\n",
    "    else:\n",
    "        new_row = []\n",
    "        for i in row:\n",
    "            for d in i:\n",
    "                new_temp = []\n",
    "                for h in d:\n",
    "                    # 这里处理空数据或者错误的数据\n",
    "                    h = str(h).replace('None', '').replace('\\n','').replace(' ', '')                    \n",
    "                    if h=='':\n",
    "                        continue\n",
    "                    if h=='.':\n",
    "                        continue\n",
    "                    if h=='/':\n",
    "                        continue\n",
    "                    new_temp.append(h)\n",
    "                new_row.append(new_temp)\n",
    "        # 这里判断是否构成一个完整得认购数据(通过一个list进行判断)\n",
    "        new_new_row = []\n",
    "        for i in new_row:\n",
    "            if len(i) == 0:\n",
    "                continue\n",
    "            elif len(i) <= 4:\n",
    "                continue\n",
    "            else:\n",
    "                new_new_row.append(i)\n",
    "        return new_new_row\n",
    "train_df_tabel = train_df['tabel'].progress_apply(lambda row:deal_tabel(row))\n",
    "val_df_tabel = val_df['tabel'].progress_apply(lambda row:deal_tabel(row))\n",
    "test_df_tabel = test_df['tabel'].progress_apply(lambda row:deal_tabel(row))"
   ]
  },
  {
   "cell_type": "markdown",
   "metadata": {},
   "source": [
    "#### 4.抽取的是单独的数据包含\n",
    "#### 起息日，到息日， 金额，认购日期，产品发行方，理财产品"
   ]
  },
  {
   "cell_type": "code",
   "execution_count": 26,
   "metadata": {
    "tags": []
   },
   "outputs": [
    {
     "output_type": "stream",
     "name": "stderr",
     "text": "100%|██████████| 1800/1800 [06:29<00:00,  4.62it/s]\n100%|██████████| 8660/8660 [13:15<00:00, 10.88it/s]\n"
    }
   ],
   "source": [
    "# 直接提取时间\n",
    "# 如果出现两个时间第一个就是起息日，第二个就是到期日\n",
    "# 如果出现一个时间就是起息日\n",
    "# 出现的第一个money就是最后的金额\n",
    "# 从这里面抽取所有序列\n",
    "# 这里认为有逗号出现的就是money\n",
    "\n",
    "def is_number(s):\n",
    "    try:\n",
    "        float(s)\n",
    "        return True\n",
    "    except ValueError:\n",
    "        pass\n",
    " \n",
    "    try:\n",
    "        import unicodedata\n",
    "        unicodedata.numeric(s)\n",
    "        return True\n",
    "    except (TypeError, ValueError):\n",
    "        pass\n",
    "    return False\n",
    "\n",
    "from src.time_extractor import TimeFinder\n",
    "import datetime\n",
    "def get_list_data(df):\n",
    "    df = list(df)\n",
    "    new_df = []\n",
    "    for i in tqdm(df):\n",
    "        temp_df = []\n",
    "        for h in i:\n",
    "            new_h = []\n",
    "            for digital in h:\n",
    "                if ',' in digital:\n",
    "                    # 这里也是为了统一数据有些是用元，有些是用万元\n",
    "                    try:\n",
    "                        ttt = float(digital.replace(',', '').replace('万元', '').replace('人民币', '').replace('元', ''))\n",
    "                    except Exception:\n",
    "                        continue\n",
    "                    if ttt > 20000:\n",
    "                        ttt = ttt/10000\n",
    "                    new_h.append(ttt)\n",
    "                else:\n",
    "                    continue\n",
    "            if len(new_h) == 0:\n",
    "                continue\n",
    "            temp_single = {}\n",
    "            a = '_'.join(h)\n",
    "            # 抽取时间和money\n",
    "            t = TimeFinder()\n",
    "            time_all = t.find_time(a)\n",
    "            if time_all == None:\n",
    "                continue\n",
    "            rgrq = time_all[0]\n",
    "            cpqxr = time_all[0]\n",
    "            if len(time_all) > 1:\n",
    "                try:\n",
    "                    cpdxr = time_all[1]\n",
    "                    # 相减\n",
    "                    d1 = datetime.datetime.strptime(cpqxr, '%Y-%m-%d')\n",
    "                    d2 = datetime.datetime.strptime(cpdxr, '%Y-%m-%d')\n",
    "                    d = d2 - d1\n",
    "                    cpqx = str(d.days) + '天'\n",
    "                except Exception:\n",
    "                    cpdxr = np.nan\n",
    "                    cpqx = np.nan\n",
    "            else:\n",
    "                cpdxr = np.nan\n",
    "                cpqx = np.nan\n",
    "                \n",
    "            # 筛选出除开数字与包含时间的列\n",
    "            # 末尾是\n",
    "            last_two = ['公司', '银行', '信托', '证券',  '分行', '支行', '中心', '业部', '商行', '建行']\n",
    "            mowei = np.nan\n",
    "            selected_bank_and_works = []\n",
    "            for l in h:\n",
    "                new_l = list(str(l))\n",
    "                new_l_test = ''.join(l[-2:])\n",
    "                if new_l_test in last_two:\n",
    "                    mowei = l\n",
    "                    continue\n",
    "                if '资金' in l:\n",
    "                    continue\n",
    "                if '收益' in l:\n",
    "                    continue\n",
    "                if '到期' in l:\n",
    "                    continue\n",
    "                if ',' in l:\n",
    "                    continue\n",
    "                if '.' in l:\n",
    "                    continue\n",
    "                if '/' in l:\n",
    "                    continue\n",
    "                if '年' in l:\n",
    "                    continue\n",
    "                if '-' in l:\n",
    "                    continue\n",
    "                if len(l) < 4:\n",
    "                    continue\n",
    "                if is_number(l):\n",
    "                    continue\n",
    "                selected_bank_and_works.append(l)\n",
    "            if len(selected_bank_and_works) < 1:\n",
    "                continue\n",
    "            \n",
    "            temp_single['认购日期'] = rgrq\n",
    "            temp_single['产品起息日'] = cpqxr\n",
    "            temp_single['产品到期日'] = cpdxr\n",
    "            temp_single['产品期限'] = cpqx\n",
    "            temp_single['认购金额(万元)'] = new_h[0]\n",
    "            temp_single['产品发行方名称'] = mowei\n",
    "            temp_single['理财产品名称'] = selected_bank_and_works[0]\n",
    "            temp_df.append(temp_single)\n",
    "        new_df.append(temp_df)\n",
    "    return new_df\n",
    "\n",
    "val_contain_date = get_list_data(val_df_tabel)\n",
    "test_contain_data = get_list_data(test_df_tabel) "
   ]
  },
  {
   "cell_type": "markdown",
   "metadata": {},
   "source": [
    "#### 5.汇总整理数据"
   ]
  },
  {
   "cell_type": "code",
   "execution_count": 27,
   "metadata": {},
   "outputs": [],
   "source": [
    "# 将前面提取到的数据整理成对应格式\n",
    "sample_id_list = []\n",
    "rgrq_list = []\n",
    "lccp_list = []\n",
    "cpfxf_list = []\n",
    "rgje_list = []\n",
    "cpqxr_list = []\n",
    "cpdxr_list = []\n",
    "cpqx_list = []\n",
    "sjgmgsmc_list = []\n",
    "ggrq_list = []\n",
    "\n",
    "sample_id = list(val_df['sample_id'])\n",
    "gg = list(val_gm)\n",
    "time = list(val_time)\n",
    "for i, value in enumerate(sample_id):\n",
    "    for j in val_contain_date[i]:\n",
    "        sample_id_list.append(sample_id[i])\n",
    "        rgrq_list.append(j['认购日期'])\n",
    "        lccp_list.append(j['理财产品名称'])\n",
    "        cpfxf_list.append(j['产品发行方名称'])\n",
    "        rgje_list.append(j['认购金额(万元)'])\n",
    "        cpqxr_list.append(j['产品起息日'])\n",
    "        cpdxr_list.append(j['产品到期日'])\n",
    "        cpqx_list.append(j['产品期限'])\n",
    "        sjgmgsmc_list.append(gg[i])\n",
    "        ggrq_list.append(time[i])\n",
    "\n",
    "result = pd.DataFrame()\n",
    "result['sample_id'] = sample_id_list\n",
    "result['认购日期'] = rgrq_list\n",
    "result['理财产品名称'] = lccp_list\n",
    "result['产品发行方名称'] = cpfxf_list\n",
    "result['认购金额(万元)'] = rgje_list\n",
    "result['产品起息日'] = cpqxr_list\n",
    "result['产品到期日'] = cpdxr_list\n",
    "result['产品期限'] = cpqx_list\n",
    "result['实际购买公司名称'] = sjgmgsmc_list\n",
    "result['公告日期'] = ggrq_list\n",
    "val_result = result"
   ]
  },
  {
   "cell_type": "code",
   "execution_count": 28,
   "metadata": {},
   "outputs": [
    {
     "output_type": "execute_result",
     "data": {
      "text/plain": "       sample_id        认购日期                         理财产品名称  \\\n0          11190  2016-06-28                           星河文化   \n1          11190  2016-07-01                           西藏星河   \n2          11190  2016-07-28                          持有期不定   \n3          11190  2016-08-03                           西藏星河   \n4          11190  2016-10-10                           北京京艺   \n...          ...         ...                            ...   \n24566      22332  2015-10-16         平安银行卓越计划滚动型保本人民币公司理财产品   \n24567      22337  2019-03-01  中国工商银行法人“添利宝”净值型理财产品（TLB1801)   \n24568      22338  2019-01-07                          结构性存款   \n24569      22340  2017-01-19         中信理财之共赢保本步步高升B款人民币理财产品   \n24570      22360  2016-10-12                           花王股份   \n\n                 产品发行方名称  认购金额(万元)       产品起息日       产品到期日  产品期限  \\\n0                   建设银行    1000.0  2016-06-28         NaN   NaN   \n1                   包商银行   11500.0  2016-07-01  2016-12-26  178天   \n2                   工商银行   13700.0  2016-07-28         NaN   NaN   \n3                   南京银行    1000.0  2016-08-03  2016-11-12  101天   \n4                   交通银行    1000.0  2016-10-10  2016-11-07   28天   \n...                  ...       ...         ...         ...   ...   \n24566                NaN    3900.0  2015-10-16         NaN   NaN   \n24567             中国工商银行   10000.0  2019-03-01         NaN   NaN   \n24568  招商银行股份有限公司长沙韶山路支行   12000.0  2019-01-07  2019-03-08   60天   \n24569               中信银行    4100.0  2017-01-19         NaN   NaN   \n24570           中信银行丹阳支行   10000.0  2016-10-12  2017-01-11   91天   \n\n               实际购买公司名称        公告日期  \n0        北京京西文化旅游股份有限公司  2016-11-23  \n1        北京京西文化旅游股份有限公司  2016-11-23  \n2        北京京西文化旅游股份有限公司  2016-11-23  \n3        北京京西文化旅游股份有限公司  2016-11-23  \n4        北京京西文化旅游股份有限公司  2016-11-23  \n...                 ...         ...  \n24566    赛轮金宇集团股份有限公司关于  2016-05-12  \n24567  北京东方新星石化工程股份有限公司  2019-03-04  \n24568      三诺生物传感股份有限公司  2019-01-72  \n24569      丝路视觉科技股份有限公司  2018-01-25  \n24570      江苏花王园艺股份有限公司  2016-10-14  \n\n[24571 rows x 10 columns]",
      "text/html": "<div>\n<style scoped>\n    .dataframe tbody tr th:only-of-type {\n        vertical-align: middle;\n    }\n\n    .dataframe tbody tr th {\n        vertical-align: top;\n    }\n\n    .dataframe thead th {\n        text-align: right;\n    }\n</style>\n<table border=\"1\" class=\"dataframe\">\n  <thead>\n    <tr style=\"text-align: right;\">\n      <th></th>\n      <th>sample_id</th>\n      <th>认购日期</th>\n      <th>理财产品名称</th>\n      <th>产品发行方名称</th>\n      <th>认购金额(万元)</th>\n      <th>产品起息日</th>\n      <th>产品到期日</th>\n      <th>产品期限</th>\n      <th>实际购买公司名称</th>\n      <th>公告日期</th>\n    </tr>\n  </thead>\n  <tbody>\n    <tr>\n      <th>0</th>\n      <td>11190</td>\n      <td>2016-06-28</td>\n      <td>星河文化</td>\n      <td>建设银行</td>\n      <td>1000.0</td>\n      <td>2016-06-28</td>\n      <td>NaN</td>\n      <td>NaN</td>\n      <td>北京京西文化旅游股份有限公司</td>\n      <td>2016-11-23</td>\n    </tr>\n    <tr>\n      <th>1</th>\n      <td>11190</td>\n      <td>2016-07-01</td>\n      <td>西藏星河</td>\n      <td>包商银行</td>\n      <td>11500.0</td>\n      <td>2016-07-01</td>\n      <td>2016-12-26</td>\n      <td>178天</td>\n      <td>北京京西文化旅游股份有限公司</td>\n      <td>2016-11-23</td>\n    </tr>\n    <tr>\n      <th>2</th>\n      <td>11190</td>\n      <td>2016-07-28</td>\n      <td>持有期不定</td>\n      <td>工商银行</td>\n      <td>13700.0</td>\n      <td>2016-07-28</td>\n      <td>NaN</td>\n      <td>NaN</td>\n      <td>北京京西文化旅游股份有限公司</td>\n      <td>2016-11-23</td>\n    </tr>\n    <tr>\n      <th>3</th>\n      <td>11190</td>\n      <td>2016-08-03</td>\n      <td>西藏星河</td>\n      <td>南京银行</td>\n      <td>1000.0</td>\n      <td>2016-08-03</td>\n      <td>2016-11-12</td>\n      <td>101天</td>\n      <td>北京京西文化旅游股份有限公司</td>\n      <td>2016-11-23</td>\n    </tr>\n    <tr>\n      <th>4</th>\n      <td>11190</td>\n      <td>2016-10-10</td>\n      <td>北京京艺</td>\n      <td>交通银行</td>\n      <td>1000.0</td>\n      <td>2016-10-10</td>\n      <td>2016-11-07</td>\n      <td>28天</td>\n      <td>北京京西文化旅游股份有限公司</td>\n      <td>2016-11-23</td>\n    </tr>\n    <tr>\n      <th>...</th>\n      <td>...</td>\n      <td>...</td>\n      <td>...</td>\n      <td>...</td>\n      <td>...</td>\n      <td>...</td>\n      <td>...</td>\n      <td>...</td>\n      <td>...</td>\n      <td>...</td>\n    </tr>\n    <tr>\n      <th>24566</th>\n      <td>22332</td>\n      <td>2015-10-16</td>\n      <td>平安银行卓越计划滚动型保本人民币公司理财产品</td>\n      <td>NaN</td>\n      <td>3900.0</td>\n      <td>2015-10-16</td>\n      <td>NaN</td>\n      <td>NaN</td>\n      <td>赛轮金宇集团股份有限公司关于</td>\n      <td>2016-05-12</td>\n    </tr>\n    <tr>\n      <th>24567</th>\n      <td>22337</td>\n      <td>2019-03-01</td>\n      <td>中国工商银行法人“添利宝”净值型理财产品（TLB1801)</td>\n      <td>中国工商银行</td>\n      <td>10000.0</td>\n      <td>2019-03-01</td>\n      <td>NaN</td>\n      <td>NaN</td>\n      <td>北京东方新星石化工程股份有限公司</td>\n      <td>2019-03-04</td>\n    </tr>\n    <tr>\n      <th>24568</th>\n      <td>22338</td>\n      <td>2019-01-07</td>\n      <td>结构性存款</td>\n      <td>招商银行股份有限公司长沙韶山路支行</td>\n      <td>12000.0</td>\n      <td>2019-01-07</td>\n      <td>2019-03-08</td>\n      <td>60天</td>\n      <td>三诺生物传感股份有限公司</td>\n      <td>2019-01-72</td>\n    </tr>\n    <tr>\n      <th>24569</th>\n      <td>22340</td>\n      <td>2017-01-19</td>\n      <td>中信理财之共赢保本步步高升B款人民币理财产品</td>\n      <td>中信银行</td>\n      <td>4100.0</td>\n      <td>2017-01-19</td>\n      <td>NaN</td>\n      <td>NaN</td>\n      <td>丝路视觉科技股份有限公司</td>\n      <td>2018-01-25</td>\n    </tr>\n    <tr>\n      <th>24570</th>\n      <td>22360</td>\n      <td>2016-10-12</td>\n      <td>花王股份</td>\n      <td>中信银行丹阳支行</td>\n      <td>10000.0</td>\n      <td>2016-10-12</td>\n      <td>2017-01-11</td>\n      <td>91天</td>\n      <td>江苏花王园艺股份有限公司</td>\n      <td>2016-10-14</td>\n    </tr>\n  </tbody>\n</table>\n<p>24571 rows × 10 columns</p>\n</div>"
     },
     "metadata": {},
     "execution_count": 28
    }
   ],
   "source": [
    "sample_id_list = []\n",
    "rgrq_list = []\n",
    "lccp_list = []\n",
    "cpfxf_list = []\n",
    "rgje_list = []\n",
    "cpqxr_list = []\n",
    "cpdxr_list = []\n",
    "cpqx_list = []\n",
    "sjgmgsmc_list = []\n",
    "ggrq_list = []\n",
    "\n",
    "sample_id = list(test_df['sample_id'])\n",
    "gg = list(test_gm)\n",
    "time = list(test_time)\n",
    "for i, value in enumerate(sample_id):\n",
    "    for j in test_contain_data[i]:\n",
    "        sample_id_list.append(sample_id[i])\n",
    "        rgrq_list.append(j['认购日期'])\n",
    "        lccp_list.append(j['理财产品名称'])\n",
    "        cpfxf_list.append(j['产品发行方名称'])\n",
    "        rgje_list.append(j['认购金额(万元)'])\n",
    "        cpqxr_list.append(j['产品起息日'])\n",
    "        cpdxr_list.append(j['产品到期日'])\n",
    "        cpqx_list.append(j['产品期限'])\n",
    "        sjgmgsmc_list.append(gg[i])\n",
    "        ggrq_list.append(time[i])\n",
    "\n",
    "result = pd.DataFrame()\n",
    "result['sample_id'] = sample_id_list\n",
    "result['认购日期'] = rgrq_list\n",
    "result['理财产品名称'] = lccp_list\n",
    "result['产品发行方名称'] = cpfxf_list\n",
    "result['认购金额(万元)'] = rgje_list\n",
    "result['产品起息日'] = cpqxr_list\n",
    "result['产品到期日'] = cpdxr_list\n",
    "result['产品期限'] = cpqx_list\n",
    "result['实际购买公司名称'] = sjgmgsmc_list\n",
    "result['公告日期'] = ggrq_list\n",
    "test_result = result\n",
    "test_result"
   ]
  },
  {
   "cell_type": "markdown",
   "metadata": {},
   "source": [
    "# 建模过程（预处理模型）"
   ]
  },
  {
   "cell_type": "markdown",
   "metadata": {},
   "source": [
    "### 1.采用LSTM网络用提取好的部分跟pdf中的text做交互预测\n",
    "#### 理财类型、资金来源、实际购买公司和上市公司关系、买卖方是否有关联关系"
   ]
  },
  {
   "cell_type": "code",
   "execution_count": 29,
   "metadata": {},
   "outputs": [],
   "source": [
    "# 最后一部分字段采用预测好的部分，跟提取的text做交互采用双输入lstm在dense层做交互预测最后几个字段\n",
    "train_lstm_input = pd.merge(train_df, train_outputs, on='sample_id', how='left')\n",
    "train_lstm_input = train_lstm_input.fillna('否')\n",
    "# label_1理财类型-10  label_2资金来源-3 label_3实际购买公司和上市公司关系-3 label_4买卖方是否有关联关系-2\n",
    "from sklearn.preprocessing import LabelEncoder\n",
    "label_1 = LabelEncoder()\n",
    "label_2 = LabelEncoder()\n",
    "label_3 = LabelEncoder()\n",
    "label_4 = LabelEncoder()\n",
    "\n",
    "train_data = pd.DataFrame()\n",
    "train_data['text_1'] = train_lstm_input['理财产品名称'].astype(str) + '_' + train_lstm_input['产品发行方名称'].astype(str)\n",
    "train_data['text_2'] = train_lstm_input['text'].astype(str)\n",
    "\n",
    "train_data['label_1'] = label_1.fit_transform(train_lstm_input['理财类型'])\n",
    "train_data['label_2'] = label_2.fit_transform(train_lstm_input['资金来源'])\n",
    "train_data['label_3'] = label_3.fit_transform(train_lstm_input['实际购买公司和上市公司关系'])\n",
    "train_data['label_4'] = label_4.fit_transform(train_lstm_input['买卖方是否有关联关系'])\n"
   ]
  },
  {
   "cell_type": "code",
   "execution_count": 30,
   "metadata": {},
   "outputs": [],
   "source": [
    "# 导入相关库\n",
    "import os\n",
    "import pandas as pd\n",
    "from tqdm.autonotebook import *\n",
    "from sklearn.decomposition import LatentDirichletAllocation\n",
    "from sklearn.metrics import accuracy_score\n",
    "import time\n",
    "from sklearn.feature_extraction.text import TfidfTransformer\n",
    "from sklearn.feature_extraction.text import CountVectorizer\n",
    "from sklearn.feature_extraction.text import TfidfVectorizer\n",
    "from scipy.sparse import hstack\n",
    "from sklearn.model_selection import StratifiedKFold\n",
    "from gensim.models import FastText, Word2Vec\n",
    "import re\n",
    "from keras.layers import *\n",
    "from keras.models import *\n",
    "from keras.preprocessing.text import Tokenizer, text_to_word_sequence\n",
    "from keras.preprocessing.sequence import pad_sequences\n",
    "from keras.preprocessing import text, sequence\n",
    "from keras.callbacks import *\n",
    "from keras.layers.advanced_activations import LeakyReLU, PReLU\n",
    "import keras.backend as K\n",
    "from keras.optimizers import *\n",
    "from keras.utils import to_categorical\n",
    "import tensorflow as tf\n",
    "import random as rn\n",
    "import gc\n",
    "import logging\n",
    "import gensim\n",
    "import jieba\n",
    "tqdm.pandas()\n",
    "os.environ['PYTHONHASHSEED'] = '0'\n",
    "# 显卡使用（如没显卡需要注释掉）\n",
    "os.environ['CUDA_VISIBLE_DEVICES'] = \"0\"\n",
    "np.random.seed(1024)\n",
    "rn.seed(1024)\n",
    "tf.random.set_seed(1024)"
   ]
  },
  {
   "cell_type": "code",
   "execution_count": 31,
   "metadata": {
    "tags": []
   },
   "outputs": [
    {
     "output_type": "stream",
     "name": "stderr",
     "text": "0%|          | 0/27154 [00:00<?, ?it/s]Building prefix dict from the default dictionary ...\nLoading model from cache C:\\Users\\lsqlh\\AppData\\Local\\Temp\\jieba.cache\nLoading model cost 0.862 seconds.\nPrefix dict has been built successfully.\n100%|██████████| 27154/27154 [00:04<00:00, 5597.57it/s]\n100%|██████████| 27154/27154 [12:03<00:00, 37.56it/s]\n"
    },
    {
     "output_type": "execute_result",
     "data": {
      "text/plain": "                                              text_1  \\\n0  中银 保本 理财 - 人民币 按期 开放 理财产品 _ 中国银行 股份 有限公司 广州 东山 支行   \n1  中银 保本 理财 - 人民币 按期 开放 理财产品 _ 中国银行 股份 有限公司 广州 东山 支行   \n2                  与 利率 挂钩 的 结构性 产品 _ 中国民生银行 股份 有限公司   \n3  广发 银行 “ 薪 加薪 ” 16 号 XJXCKJ2578 _ 广发 银行 股份 有限公司...   \n4  兴业银行 “ 金 雪球 - 优悦 ” 保本 开放式 人民币 理财产品 ( 2M ) _ 兴业...   \n\n                                              text_2  label_1  label_2  \\\n0  [ ' 证券 代码 ： 600728                 证券 简称 ： 佳 都...        9        1   \n1  [ ' 证券 代码 ： 600728                 证券 简称 ： 佳 都...        9        1   \n2  [ ' 证券 代码 ： 600211                            ...        9        0   \n3  [ ' 证券 代码 ： 002171                            ...        9        1   \n4  [ ' 证券 代码 ： 002171                            ...        9        1   \n\n   label_3  label_4  \n0        0        0  \n1        0        0  \n2        0        0  \n3        2        0  \n4        0        0  ",
      "text/html": "<div>\n<style scoped>\n    .dataframe tbody tr th:only-of-type {\n        vertical-align: middle;\n    }\n\n    .dataframe tbody tr th {\n        vertical-align: top;\n    }\n\n    .dataframe thead th {\n        text-align: right;\n    }\n</style>\n<table border=\"1\" class=\"dataframe\">\n  <thead>\n    <tr style=\"text-align: right;\">\n      <th></th>\n      <th>text_1</th>\n      <th>text_2</th>\n      <th>label_1</th>\n      <th>label_2</th>\n      <th>label_3</th>\n      <th>label_4</th>\n    </tr>\n  </thead>\n  <tbody>\n    <tr>\n      <th>0</th>\n      <td>中银 保本 理财 - 人民币 按期 开放 理财产品 _ 中国银行 股份 有限公司 广州 东山 支行</td>\n      <td>[ ' 证券 代码 ： 600728                 证券 简称 ： 佳 都...</td>\n      <td>9</td>\n      <td>1</td>\n      <td>0</td>\n      <td>0</td>\n    </tr>\n    <tr>\n      <th>1</th>\n      <td>中银 保本 理财 - 人民币 按期 开放 理财产品 _ 中国银行 股份 有限公司 广州 东山 支行</td>\n      <td>[ ' 证券 代码 ： 600728                 证券 简称 ： 佳 都...</td>\n      <td>9</td>\n      <td>1</td>\n      <td>0</td>\n      <td>0</td>\n    </tr>\n    <tr>\n      <th>2</th>\n      <td>与 利率 挂钩 的 结构性 产品 _ 中国民生银行 股份 有限公司</td>\n      <td>[ ' 证券 代码 ： 600211                            ...</td>\n      <td>9</td>\n      <td>0</td>\n      <td>0</td>\n      <td>0</td>\n    </tr>\n    <tr>\n      <th>3</th>\n      <td>广发 银行 “ 薪 加薪 ” 16 号 XJXCKJ2578 _ 广发 银行 股份 有限公司...</td>\n      <td>[ ' 证券 代码 ： 002171                            ...</td>\n      <td>9</td>\n      <td>1</td>\n      <td>2</td>\n      <td>0</td>\n    </tr>\n    <tr>\n      <th>4</th>\n      <td>兴业银行 “ 金 雪球 - 优悦 ” 保本 开放式 人民币 理财产品 ( 2M ) _ 兴业...</td>\n      <td>[ ' 证券 代码 ： 002171                            ...</td>\n      <td>9</td>\n      <td>1</td>\n      <td>0</td>\n      <td>0</td>\n    </tr>\n  </tbody>\n</table>\n</div>"
     },
     "metadata": {},
     "execution_count": 31
    }
   ],
   "source": [
    "train_data['text_1'] = train_data['text_1'].progress_apply(lambda row:' '.join(jieba.lcut(str(row))))\n",
    "train_data['text_2'] = train_data['text_2'].progress_apply(lambda row:' '.join(jieba.lcut(str(row))))\n",
    "train_data.head(5)"
   ]
  },
  {
   "cell_type": "code",
   "execution_count": 32,
   "metadata": {},
   "outputs": [],
   "source": [
    "### Tokenizer 序列化文本\n",
    "def set_tokenizer(docs, split_char=' ', max_len=100):\n",
    "    '''\n",
    "    输入\n",
    "    docs:文本列表\n",
    "    split_char:按什么字符切割\n",
    "    max_len:截取的最大长度\n",
    "    \n",
    "    输出\n",
    "    X:序列化后的数据\n",
    "    word_index:文本和数字对应的索引\n",
    "    '''\n",
    "    tokenizer = Tokenizer(lower=False, char_level=False, split=split_char)\n",
    "    tokenizer.fit_on_texts(docs)\n",
    "    X = tokenizer.texts_to_sequences(docs)\n",
    "    maxlen = max_len\n",
    "    X = pad_sequences(X, maxlen=maxlen, value=0)\n",
    "    word_index=tokenizer.word_index\n",
    "    return X, word_index, tokenizer\n",
    "\n",
    "### 做embedding 这里采用word2vec 可以换成其他例如（glove词向量）\n",
    "def trian_save_word2vec(docs, embed_size=300, save_name='w2v.txt', split_char=' '):\n",
    "    '''\n",
    "    输入\n",
    "    docs:输入的文本列表\n",
    "    embed_size:embed长度\n",
    "    save_name:保存的word2vec位置\n",
    "    \n",
    "    输出\n",
    "    w2v:返回的模型\n",
    "    '''\n",
    "    input_docs = []\n",
    "    for i in docs:\n",
    "        input_docs.append(i.split(split_char))\n",
    "    logging.basicConfig(\n",
    "    format='%(asctime)s:%(levelname)s:%(message)s', level=logging.INFO)\n",
    "    w2v = Word2Vec(input_docs, size=embed_size, sg=1, window=8, seed=1017, workers=24, min_count=1, iter=10)\n",
    "    w2v.save(save_name)\n",
    "    print(\"w2v model done\")\n",
    "    return w2v\n",
    "\n",
    "# 得到embedding矩阵\n",
    "def get_embedding_matrix(word_index, embed_size=300, Emed_path=\"w2v_300.txt\"):\n",
    "    embeddings_index = Word2Vec.load(Emed_path)\n",
    "    nb_words = len(word_index)+1\n",
    "    embedding_matrix = np.zeros((nb_words, embed_size))\n",
    "    count = 0\n",
    "    for word, i in tqdm(word_index.items()):\n",
    "        if i >= nb_words:\n",
    "            continue\n",
    "        try:\n",
    "            embedding_vector = embeddings_index[word]\n",
    "        except:\n",
    "            embedding_vector = np.zeros(embed_size)\n",
    "            count += 1\n",
    "        if embedding_vector is not None:\n",
    "            embedding_matrix[i] = embedding_vector  \n",
    "    print(\"null cnt\",count)\n",
    "    return embedding_matrix\n",
    "\n",
    "# 得到fasttext矩阵\n",
    "def load_fasttext(word_index, path):  \n",
    "    count=0\n",
    "    null_list=[]\n",
    "    def get_coefs(word,*arr): return word, np.asarray(arr, dtype='float32')\n",
    "    embeddings_index = dict(get_coefs(*o.split(\" \")) for o in open(path, encoding='utf-8') if len(o)>100)\n",
    "\n",
    "    all_embs = np.stack(embeddings_index.values())\n",
    "    emb_mean,emb_std = all_embs.mean(), all_embs.std()\n",
    "    embed_size = all_embs.shape[1]\n",
    "\n",
    "    # word_index = tokenizer.word_index\n",
    "    nb_words =  len(word_index)+1\n",
    "    embedding_matrix = np.random.normal(emb_mean, emb_std, (nb_words, embed_size))\n",
    "    for word, i in word_index.items():\n",
    "        if i >= nb_words: continue\n",
    "        embedding_vector = embeddings_index.get(word)\n",
    "        if embedding_vector is not None: \n",
    "            embedding_matrix[i] = embedding_vector\n",
    "        else:\n",
    "            null_list.append(word)\n",
    "            count+=1\n",
    "    print(\"null cnt:\",count)\n",
    "    return embedding_matrix\n",
    "\n",
    "def get_embedding_matrix_txt(word_index,embed_size=200,Emed_path=\"w2v_300.txt\"):\n",
    "    embeddings_index = gensim.models.KeyedVectors.load_word2vec_format(\n",
    "        Emed_path, binary=False)\n",
    "    nb_words = len(word_index)+1\n",
    "    embedding_matrix = np.zeros((nb_words, embed_size))\n",
    "    count = 0\n",
    "    for word, i in tqdm(word_index.items()):\n",
    "        if i >= nb_words:\n",
    "            continue\n",
    "        try:\n",
    "            embedding_vector = embeddings_index[word]\n",
    "        except:\n",
    "            embedding_vector = np.zeros(embed_size)\n",
    "            count += 1\n",
    "        if embedding_vector is not None:\n",
    "            embedding_matrix[i] = embedding_vector\n",
    "    print(\"null cnt\",count)\n",
    "    return embedding_matrix"
   ]
  },
  {
   "cell_type": "markdown",
   "metadata": {},
   "source": [
    "### 2.训练得到word2vec"
   ]
  },
  {
   "cell_type": "code",
   "execution_count": 33,
   "metadata": {
    "tags": []
   },
   "outputs": [
    {
     "output_type": "stream",
     "name": "stdout",
     "text": "开始序列化\n序列化完成\n"
    },
    {
     "output_type": "execute_result",
     "data": {
      "text/plain": "0"
     },
     "metadata": {},
     "execution_count": 33
    },
    {
     "output_type": "stream",
     "name": "stderr",
     "text": "74:INFO:worker thread finished; awaiting finish of 16 more threads\n2020-08-30 16:05:32,294:INFO:worker thread finished; awaiting finish of 15 more threads\n2020-08-30 16:05:32,302:INFO:worker thread finished; awaiting finish of 14 more threads\n2020-08-30 16:05:32,310:INFO:worker thread finished; awaiting finish of 13 more threads\n2020-08-30 16:05:32,320:INFO:worker thread finished; awaiting finish of 12 more threads\n2020-08-30 16:05:32,324:INFO:worker thread finished; awaiting finish of 11 more threads\n2020-08-30 16:05:32,332:INFO:worker thread finished; awaiting finish of 10 more threads\n2020-08-30 16:05:32,336:INFO:worker thread finished; awaiting finish of 9 more threads\n2020-08-30 16:05:32,337:INFO:worker thread finished; awaiting finish of 8 more threads\n2020-08-30 16:05:32,345:INFO:worker thread finished; awaiting finish of 7 more threads\n2020-08-30 16:05:32,349:INFO:worker thread finished; awaiting finish of 6 more threads\n2020-08-30 16:05:32,352:INFO:worker thread finished; awaiting finish of 5 more threads\n2020-08-30 16:05:32,367:INFO:worker thread finished; awaiting finish of 4 more threads\n2020-08-30 16:05:32,370:INFO:worker thread finished; awaiting finish of 3 more threads\n2020-08-30 16:05:32,370:INFO:worker thread finished; awaiting finish of 2 more threads\n2020-08-30 16:05:32,375:INFO:worker thread finished; awaiting finish of 1 more threads\n2020-08-30 16:05:32,379:INFO:worker thread finished; awaiting finish of 0 more threads\n2020-08-30 16:05:32,382:INFO:EPOCH - 2 : training on 175141 raw words (106593 effective words) took 0.3s, 341581 effective words/s\n2020-08-30 16:05:32,419:INFO:worker thread finished; awaiting finish of 23 more threads\n2020-08-30 16:05:32,421:INFO:worker thread finished; awaiting finish of 22 more threads\n2020-08-30 16:05:32,424:INFO:worker thread finished; awaiting finish of 21 more threads\n2020-08-30 16:05:32,435:INFO:worker thread finished; awaiting finish of 20 more threads\n2020-08-30 16:05:32,454:INFO:worker thread finished; awaiting finish of 19 more threads\n2020-08-30 16:05:32,472:INFO:worker thread finished; awaiting finish of 18 more threads\n2020-08-30 16:05:32,549:INFO:worker thread finished; awaiting finish of 17 more threads\n2020-08-30 16:05:32,628:INFO:worker thread finished; awaiting finish of 16 more threads\n2020-08-30 16:05:32,638:INFO:worker thread finished; awaiting finish of 15 more threads\n2020-08-30 16:05:32,644:INFO:worker thread finished; awaiting finish of 14 more threads\n2020-08-30 16:05:32,648:INFO:worker thread finished; awaiting finish of 13 more threads\n2020-08-30 16:05:32,658:INFO:worker thread finished; awaiting finish of 12 more threads\n2020-08-30 16:05:32,661:INFO:worker thread finished; awaiting finish of 11 more threads\n2020-08-30 16:05:32,664:INFO:worker thread finished; awaiting finish of 10 more threads\n2020-08-30 16:05:32,672:INFO:worker thread finished; awaiting finish of 9 more threads\n2020-08-30 16:05:32,680:INFO:worker thread finished; awaiting finish of 8 more threads\n2020-08-30 16:05:32,685:INFO:worker thread finished; awaiting finish of 7 more threads\n2020-08-30 16:05:32,688:INFO:worker thread finished; awaiting finish of 6 more threads\n2020-08-30 16:05:32,693:INFO:worker thread finished; awaiting finish of 5 more threads\n2020-08-30 16:05:32,701:INFO:worker thread finished; awaiting finish of 4 more threads\n2020-08-30 16:05:32,704:INFO:worker thread finished; awaiting finish of 3 more threads\n2020-08-30 16:05:32,706:INFO:worker thread finished; awaiting finish of 2 more threads\n2020-08-30 16:05:32,715:INFO:worker thread finished; awaiting finish of 1 more threads\n2020-08-30 16:05:32,731:INFO:worker thread finished; awaiting finish of 0 more threads\n2020-08-30 16:05:32,733:INFO:EPOCH - 3 : training on 175141 raw words (106750 effective words) took 0.3s, 324916 effective words/s\n2020-08-30 16:05:32,773:INFO:worker thread finished; awaiting finish of 23 more threads\n2020-08-30 16:05:32,774:INFO:worker thread finished; awaiting finish of 22 more threads\n2020-08-30 16:05:32,776:INFO:worker thread finished; awaiting finish of 21 more threads\n2020-08-30 16:05:32,786:INFO:worker thread finished; awaiting finish of 20 more threads\n2020-08-30 16:05:32,801:INFO:worker thread finished; awaiting finish of 19 more threads\n2020-08-30 16:05:32,825:INFO:worker thread finished; awaiting finish of 18 more threads\n2020-08-30 16:05:32,927:INFO:worker thread finished; awaiting finish of 17 more threads\n2020-08-30 16:05:33,018:INFO:worker thread finished; awaiting finish of 16 more threads\n2020-08-30 16:05:33,024:INFO:worker thread finished; awaiting finish of 15 more threads\n2020-08-30 16:05:33,027:INFO:worker thread finished; awaiting finish of 14 more threads\n2020-08-30 16:05:33,036:INFO:worker thread finished; awaiting finish of 13 more threads\n2020-08-30 16:05:33,043:INFO:worker thread finished; awaiting finish of 12 more threads\n2020-08-30 16:05:33,092:INFO:worker thread finished; awaiting finish of 11 more threads\n2020-08-30 16:05:33,100:INFO:worker thread finished; awaiting finish of 10 more threads\n2020-08-30 16:05:33,103:INFO:worker thread finished; awaiting finish of 9 more threads\n2020-08-30 16:05:33,107:INFO:worker thread finished; awaiting finish of 8 more threads\n2020-08-30 16:05:33,111:INFO:worker thread finished; awaiting finish of 7 more threads\n2020-08-30 16:05:33,122:INFO:worker thread finished; awaiting finish of 6 more threads\n2020-08-30 16:05:33,126:INFO:worker thread finished; awaiting finish of 5 more threads\n2020-08-30 16:05:33,128:INFO:worker thread finished; awaiting finish of 4 more threads\n2020-08-30 16:05:33,132:INFO:worker thread finished; awaiting finish of 3 more threads\n2020-08-30 16:05:33,134:INFO:worker thread finished; awaiting finish of 2 more threads\n2020-08-30 16:05:33,136:INFO:worker thread finished; awaiting finish of 1 more threads\n2020-08-30 16:05:33,141:INFO:worker thread finished; awaiting finish of 0 more threads\n2020-08-30 16:05:33,143:INFO:EPOCH - 4 : training on 175141 raw words (106650 effective words) took 0.4s, 275573 effective words/s\n2020-08-30 16:05:33,192:INFO:worker thread finished; awaiting finish of 23 more threads\n2020-08-30 16:05:33,210:INFO:worker thread finished; awaiting finish of 22 more threads\n2020-08-30 16:05:33,211:INFO:worker thread finished; awaiting finish of 21 more threads\n2020-08-30 16:05:33,228:INFO:worker thread finished; awaiting finish of 20 more threads\n2020-08-30 16:05:33,244:INFO:worker thread finished; awaiting finish of 19 more threads\n2020-08-30 16:05:33,269:INFO:worker thread finished; awaiting finish of 18 more threads\n2020-08-30 16:05:33,289:INFO:worker thread finished; awaiting finish of 17 more threads\n2020-08-30 16:05:33,361:INFO:worker thread finished; awaiting finish of 16 more threads\n2020-08-30 16:05:33,426:INFO:worker thread finished; awaiting finish of 15 more threads\n2020-08-30 16:05:33,428:INFO:worker thread finished; awaiting finish of 14 more threads\n2020-08-30 16:05:33,436:INFO:worker thread finished; awaiting finish of 13 more threads\n2020-08-30 16:05:33,442:INFO:worker thread finished; awaiting finish of 12 more threads\n2020-08-30 16:05:33,446:INFO:worker thread finished; awaiting finish of 11 more threads\n2020-08-30 16:05:33,452:INFO:worker thread finished; awaiting finish of 10 more threads\n2020-08-30 16:05:33,458:INFO:worker thread finished; awaiting finish of 9 more threads\n2020-08-30 16:05:33,461:INFO:worker thread finished; awaiting finish of 8 more threads\n2020-08-30 16:05:33,487:INFO:worker thread finished; awaiting finish of 7 more threads\n2020-08-30 16:05:33,504:INFO:worker thread finished; awaiting finish of 6 more threads\n2020-08-30 16:05:33,508:INFO:worker thread finished; awaiting finish of 5 more threads\n2020-08-30 16:05:33,511:INFO:worker thread finished; awaiting finish of 4 more threads\n2020-08-30 16:05:33,517:INFO:worker thread finished; awaiting finish of 3 more threads\n2020-08-30 16:05:33,521:INFO:worker thread finished; awaiting finish of 2 more threads\n2020-08-30 16:05:33,523:INFO:worker thread finished; awaiting finish of 1 more threads\n2020-08-30 16:05:33,557:INFO:worker thread finished; awaiting finish of 0 more threads\n2020-08-30 16:05:33,559:INFO:EPOCH - 5 : training on 175141 raw words (106550 effective words) took 0.4s, 279442 effective words/s\n2020-08-30 16:05:33,610:INFO:worker thread finished; awaiting finish of 23 more threads\n2020-08-30 16:05:33,620:INFO:worker thread finished; awaiting finish of 22 more threads\n2020-08-30 16:05:33,628:INFO:worker thread finished; awaiting finish of 21 more threads\n2020-08-30 16:05:33,644:INFO:worker thread finished; awaiting finish of 20 more threads\n2020-08-30 16:05:33,677:INFO:worker thread finished; awaiting finish of 19 more threads\n2020-08-30 16:05:33,686:INFO:worker thread finished; awaiting finish of 18 more threads\n2020-08-30 16:05:33,725:INFO:worker thread finished; awaiting finish of 17 more threads\n2020-08-30 16:05:33,768:INFO:worker thread finished; awaiting finish of 16 more threads\n2020-08-30 16:05:33,832:INFO:worker thread finished; awaiting finish of 15 more threads\n2020-08-30 16:05:33,846:INFO:worker thread finished; awaiting finish of 14 more threads\n2020-08-30 16:05:33,848:INFO:worker thread finished; awaiting finish of 13 more threads\n2020-08-30 16:05:33,855:INFO:worker thread finished; awaiting finish of 12 more threads\n2020-08-30 16:05:33,858:INFO:worker thread finished; awaiting finish of 11 more threads\n2020-08-30 16:05:33,863:INFO:worker thread finished; awaiting finish of 10 more threads\n2020-08-30 16:05:33,870:INFO:worker thread finished; awaiting finish of 9 more threads\n2020-08-30 16:05:33,878:INFO:worker thread finished; awaiting finish of 8 more threads\n2020-08-30 16:05:33,885:INFO:worker thread finished; awaiting finish of 7 more threads\n2020-08-30 16:05:33,889:INFO:worker thread finished; awaiting finish of 6 more threads\n2020-08-30 16:05:33,906:INFO:worker thread finished; awaiting finish of 5 more threads\n2020-08-30 16:05:33,913:INFO:worker thread finished; awaiting finish of 4 more threads\n2020-08-30 16:05:33,918:INFO:worker thread finished; awaiting finish of 3 more threads\n2020-08-30 16:05:33,923:INFO:worker thread finished; awaiting finish of 2 more threads\n2020-08-30 16:05:33,927:INFO:worker thread finished; awaiting finish of 1 more threads\n2020-08-30 16:05:33,933:INFO:worker thread finished; awaiting finish of 0 more threads\n2020-08-30 16:05:33,935:INFO:EPOCH - 6 : training on 175141 raw words (106838 effective words) took 0.3s, 311238 effective words/s\n2020-08-30 16:05:33,975:INFO:worker thread finished; awaiting finish of 23 more threads\n2020-08-30 16:05:33,988:INFO:worker thread finished; awaiting finish of 22 more threads\n2020-08-30 16:05:33,992:INFO:worker thread finished; awaiting finish of 21 more threads\n2020-08-30 16:05:34,003:INFO:worker thread finished; awaiting finish of 20 more threads\n2020-08-30 16:05:34,025:INFO:worker thread finished; awaiting finish of 19 more threads\n2020-08-30 16:05:34,042:INFO:worker thread finished; awaiting finish of 18 more threads\n2020-08-30 16:05:34,092:INFO:worker thread finished; awaiting finish of 17 more threads\n2020-08-30 16:05:34,121:INFO:worker thread finished; awaiting finish of 16 more threads\n2020-08-30 16:05:34,182:INFO:worker thread finished; awaiting finish of 15 more threads\n2020-08-30 16:05:34,184:INFO:worker thread finished; awaiting finish of 14 more threads\n2020-08-30 16:05:34,186:INFO:worker thread finished; awaiting finish of 13 more threads\n2020-08-30 16:05:34,187:INFO:worker thread finished; awaiting finish of 12 more threads\n2020-08-30 16:05:34,207:INFO:worker thread finished; awaiting finish of 11 more threads\n2020-08-30 16:05:34,209:INFO:worker thread finished; awaiting finish of 10 more threads\n2020-08-30 16:05:34,217:INFO:worker thread finished; awaiting finish of 9 more threads\n2020-08-30 16:05:34,219:INFO:worker thread finished; awaiting finish of 8 more threads\n2020-08-30 16:05:34,230:INFO:worker thread finished; awaiting finish of 7 more threads\n2020-08-30 16:05:34,233:INFO:worker thread finished; awaiting finish of 6 more threads\n2020-08-30 16:05:34,241:INFO:worker thread finished; awaiting finish of 5 more threads\n2020-08-30 16:05:34,244:INFO:worker thread finished; awaiting finish of 4 more threads\n2020-08-30 16:05:34,250:INFO:worker thread finished; awaiting finish of 3 more threads\n2020-08-30 16:05:34,258:INFO:worker thread finished; awaiting finish of 2 more threads\n2020-08-30 16:05:34,280:INFO:worker thread finished; awaiting finish of 1 more threads\n2020-08-30 16:05:34,286:INFO:worker thread finished; awaiting finish of 0 more threads\n2020-08-30 16:05:34,288:INFO:EPOCH - 7 : training on 175141 raw words (106500 effective words) took 0.3s, 324098 effective words/s\n2020-08-30 16:05:34,327:INFO:worker thread finished; awaiting finish of 23 more threads\n2020-08-30 16:05:34,329:INFO:worker thread finished; awaiting finish of 22 more threads\n2020-08-30 16:05:34,334:INFO:worker thread finished; awaiting finish of 21 more threads\n2020-08-30 16:05:34,355:INFO:worker thread finished; awaiting finish of 20 more threads\n2020-08-30 16:05:34,374:INFO:worker thread finished; awaiting finish of 19 more threads\n2020-08-30 16:05:34,386:INFO:worker thread finished; awaiting finish of 18 more threads\n2020-08-30 16:05:34,394:INFO:worker thread finished; awaiting finish of 17 more threads\n2020-08-30 16:05:34,529:INFO:worker thread finished; awaiting finish of 16 more threads\n2020-08-30 16:05:34,571:INFO:worker thread finished; awaiting finish of 15 more threads\n2020-08-30 16:05:34,576:INFO:worker thread finished; awaiting finish of 14 more threads\n2020-08-30 16:05:34,579:INFO:worker thread finished; awaiting finish of 13 more threads\n2020-08-30 16:05:34,581:INFO:worker thread finished; awaiting finish of 12 more threads\n2020-08-30 16:05:34,587:INFO:worker thread finished; awaiting finish of 11 more threads\n2020-08-30 16:05:34,595:INFO:worker thread finished; awaiting finish of 10 more threads\n2020-08-30 16:05:34,599:INFO:worker thread finished; awaiting finish of 9 more threads\n2020-08-30 16:05:34,608:INFO:worker thread finished; awaiting finish of 8 more threads\n2020-08-30 16:05:34,623:INFO:worker thread finished; awaiting finish of 7 more threads\n2020-08-30 16:05:34,634:INFO:worker thread finished; awaiting finish of 6 more threads\n2020-08-30 16:05:34,637:INFO:worker thread finished; awaiting finish of 5 more threads\n2020-08-30 16:05:34,652:INFO:worker thread finished; awaiting finish of 4 more threads\n2020-08-30 16:05:34,654:INFO:worker thread finished; awaiting finish of 3 more threads\n2020-08-30 16:05:34,659:INFO:worker thread finished; awaiting finish of 2 more threads\n2020-08-30 16:05:34,663:INFO:worker thread finished; awaiting finish of 1 more threads\n2020-08-30 16:05:34,667:INFO:worker thread finished; awaiting finish of 0 more threads\n2020-08-30 16:05:34,669:INFO:EPOCH - 8 : training on 175141 raw words (106699 effective words) took 0.4s, 297901 effective words/s\n2020-08-30 16:05:34,705:INFO:worker thread finished; awaiting finish of 23 more threads\n2020-08-30 16:05:34,706:INFO:worker thread finished; awaiting finish of 22 more threads\n2020-08-30 16:05:34,710:INFO:worker thread finished; awaiting finish of 21 more threads\n2020-08-30 16:05:34,717:INFO:worker thread finished; awaiting finish of 20 more threads\n2020-08-30 16:05:34,752:INFO:worker thread finished; awaiting finish of 19 more threads\n2020-08-30 16:05:34,760:INFO:worker thread finished; awaiting finish of 18 more threads\n2020-08-30 16:05:34,788:INFO:worker thread finished; awaiting finish of 17 more threads\n2020-08-30 16:05:34,934:INFO:worker thread finished; awaiting finish of 16 more threads\n2020-08-30 16:05:34,937:INFO:worker thread finished; awaiting finish of 15 more threads\n2020-08-30 16:05:34,939:INFO:worker thread finished; awaiting finish of 14 more threads\n2020-08-30 16:05:34,941:INFO:worker thread finished; awaiting finish of 13 more threads\n2020-08-30 16:05:34,949:INFO:worker thread finished; awaiting finish of 12 more threads\n2020-08-30 16:05:34,952:INFO:worker thread finished; awaiting finish of 11 more threads\n2020-08-30 16:05:34,962:INFO:worker thread finished; awaiting finish of 10 more threads\n2020-08-30 16:05:34,964:INFO:worker thread finished; awaiting finish of 9 more threads\n2020-08-30 16:05:34,968:INFO:worker thread finished; awaiting finish of 8 more threads\n2020-08-30 16:05:34,971:INFO:worker thread finished; awaiting finish of 7 more threads\n2020-08-30 16:05:34,972:INFO:worker thread finished; awaiting finish of 6 more threads\n2020-08-30 16:05:34,981:INFO:worker thread finished; awaiting finish of 5 more threads\n2020-08-30 16:05:34,999:INFO:worker thread finished; awaiting finish of 4 more threads\n2020-08-30 16:05:35,002:INFO:worker thread finished; awaiting finish of 3 more threads\n2020-08-30 16:05:35,004:INFO:worker thread finished; awaiting finish of 2 more threads\n2020-08-30 16:05:35,007:INFO:worker thread finished; awaiting finish of 1 more threads\n2020-08-30 16:05:35,007:INFO:worker thread finished; awaiting finish of 0 more threads\n2020-08-30 16:05:35,008:INFO:EPOCH - 9 : training on 175141 raw words (106586 effective words) took 0.3s, 334475 effective words/s\n2020-08-30 16:05:35,048:INFO:worker thread finished; awaiting finish of 23 more threads\n2020-08-30 16:05:35,059:INFO:worker thread finished; awaiting finish of 22 more threads\n2020-08-30 16:05:35,064:INFO:worker thread finished; awaiting finish of 21 more threads\n2020-08-30 16:05:35,079:INFO:worker thread finished; awaiting finish of 20 more threads\n2020-08-30 16:05:35,119:INFO:worker thread finished; awaiting finish of 19 more threads\n2020-08-30 16:05:35,129:INFO:worker thread finished; awaiting finish of 18 more threads\n2020-08-30 16:05:35,205:INFO:worker thread finished; awaiting finish of 17 more threads\n2020-08-30 16:05:35,207:INFO:worker thread finished; awaiting finish of 16 more threads\n2020-08-30 16:05:35,271:INFO:worker thread finished; awaiting finish of 15 more threads\n2020-08-30 16:05:35,274:INFO:worker thread finished; awaiting finish of 14 more threads\n2020-08-30 16:05:35,286:INFO:worker thread finished; awaiting finish of 13 more threads\n2020-08-30 16:05:35,288:INFO:worker thread finished; awaiting finish of 12 more threads\n2020-08-30 16:05:35,300:INFO:worker thread finished; awaiting finish of 11 more threads\n2020-08-30 16:05:35,302:INFO:worker thread finished; awaiting finish of 10 more threads\n2020-08-30 16:05:35,305:INFO:worker thread finished; awaiting finish of 9 more threads\n2020-08-30 16:05:35,317:INFO:worker thread finished; awaiting finish of 8 more threads\n2020-08-30 16:05:35,321:INFO:worker thread finished; awaiting finish of 7 more threads\n2020-08-30 16:05:35,323:INFO:worker thread finished; awaiting finish of 6 more threads\n2020-08-30 16:05:35,330:INFO:worker thread finished; awaiting finish of 5 more threads\n2020-08-30 16:05:35,336:INFO:worker thread finished; awaiting finish of 4 more threads\n2020-08-30 16:05:35,348:INFO:worker thread finished; awaiting finish of 3 more threads\n2020-08-30 16:05:35,358:INFO:worker thread finished; awaiting finish of 2 more threads\n2020-08-30 16:05:35,360:INFO:worker thread finished; awaiting finish of 1 more threads\n2020-08-30 16:05:35,363:INFO:worker thread finished; awaiting finish of 0 more threads\n2020-08-30 16:05:35,364:INFO:EPOCH - 10 : training on 175141 raw words (106600 effective words) took 0.3s, 320484 effective words/s\n2020-08-30 16:05:35,365:INFO:training on a 1751410 raw words (1066592 effective words) took 3.7s, 287733 effective words/s\n2020-08-30 16:05:35,366:WARNING:under 10 jobs per worker: consider setting a smaller `batch_words' for smoother alpha decay\n2020-08-30 16:05:35,367:INFO:saving Word2Vec object under models/w2v_300_1.txt, separately None\n2020-08-30 16:05:35,367:INFO:not storing attribute vectors_norm\n2020-08-30 16:05:35,368:INFO:not storing attribute cum_table\n2020-08-30 16:05:35,542:INFO:saved models/w2v_300_1.txt\nw2v model done\n"
    },
    {
     "output_type": "execute_result",
     "data": {
      "text/plain": "<gensim.models.word2vec.Word2Vec at 0x1b4d6663670>"
     },
     "metadata": {},
     "execution_count": 33
    },
    {
     "output_type": "execute_result",
     "data": {
      "text/plain": "0"
     },
     "metadata": {},
     "execution_count": 33
    },
    {
     "output_type": "stream",
     "name": "stderr",
     "text": "10:44,589:INFO:EPOCH 8 - PROGRESS: at 12.53% examples, 258177 words/s, in_qsize 47, out_qsize 0\n2020-08-30 16:10:45,601:INFO:EPOCH 8 - PROGRESS: at 14.82% examples, 254832 words/s, in_qsize 47, out_qsize 1\n2020-08-30 16:10:46,613:INFO:EPOCH 8 - PROGRESS: at 17.63% examples, 256824 words/s, in_qsize 47, out_qsize 0\n2020-08-30 16:10:47,623:INFO:EPOCH 8 - PROGRESS: at 20.51% examples, 260702 words/s, in_qsize 47, out_qsize 0\n2020-08-30 16:10:48,671:INFO:EPOCH 8 - PROGRESS: at 22.36% examples, 260051 words/s, in_qsize 47, out_qsize 0\n2020-08-30 16:10:49,675:INFO:EPOCH 8 - PROGRESS: at 24.98% examples, 260755 words/s, in_qsize 47, out_qsize 0\n2020-08-30 16:10:50,705:INFO:EPOCH 8 - PROGRESS: at 28.00% examples, 261374 words/s, in_qsize 44, out_qsize 3\n2020-08-30 16:10:51,709:INFO:EPOCH 8 - PROGRESS: at 30.89% examples, 261739 words/s, in_qsize 47, out_qsize 0\n2020-08-30 16:10:52,737:INFO:EPOCH 8 - PROGRESS: at 33.29% examples, 261778 words/s, in_qsize 47, out_qsize 0\n2020-08-30 16:10:53,769:INFO:EPOCH 8 - PROGRESS: at 35.08% examples, 262872 words/s, in_qsize 47, out_qsize 0\n2020-08-30 16:10:54,796:INFO:EPOCH 8 - PROGRESS: at 36.27% examples, 261317 words/s, in_qsize 48, out_qsize 0\n2020-08-30 16:10:55,814:INFO:EPOCH 8 - PROGRESS: at 38.91% examples, 263273 words/s, in_qsize 47, out_qsize 0\n2020-08-30 16:10:56,841:INFO:EPOCH 8 - PROGRESS: at 40.37% examples, 259842 words/s, in_qsize 47, out_qsize 0\n2020-08-30 16:10:57,925:INFO:EPOCH 8 - PROGRESS: at 42.08% examples, 263134 words/s, in_qsize 47, out_qsize 0\n2020-08-30 16:10:58,993:INFO:EPOCH 8 - PROGRESS: at 44.14% examples, 262487 words/s, in_qsize 47, out_qsize 0\n2020-08-30 16:11:00,036:INFO:EPOCH 8 - PROGRESS: at 46.11% examples, 264632 words/s, in_qsize 46, out_qsize 1\n2020-08-30 16:11:01,096:INFO:EPOCH 8 - PROGRESS: at 47.75% examples, 264283 words/s, in_qsize 47, out_qsize 0\n2020-08-30 16:11:02,214:INFO:EPOCH 8 - PROGRESS: at 49.83% examples, 262697 words/s, in_qsize 46, out_qsize 1\n2020-08-30 16:11:03,217:INFO:EPOCH 8 - PROGRESS: at 51.82% examples, 261260 words/s, in_qsize 47, out_qsize 0\n2020-08-30 16:11:04,276:INFO:EPOCH 8 - PROGRESS: at 53.83% examples, 259115 words/s, in_qsize 48, out_qsize 1\n2020-08-30 16:11:05,288:INFO:EPOCH 8 - PROGRESS: at 56.13% examples, 259204 words/s, in_qsize 47, out_qsize 0\n2020-08-30 16:11:06,296:INFO:EPOCH 8 - PROGRESS: at 58.38% examples, 260925 words/s, in_qsize 47, out_qsize 0\n2020-08-30 16:11:07,344:INFO:EPOCH 8 - PROGRESS: at 60.24% examples, 259993 words/s, in_qsize 47, out_qsize 0\n2020-08-30 16:11:08,351:INFO:EPOCH 8 - PROGRESS: at 62.04% examples, 259933 words/s, in_qsize 47, out_qsize 0\n2020-08-30 16:11:09,364:INFO:EPOCH 8 - PROGRESS: at 65.84% examples, 261177 words/s, in_qsize 47, out_qsize 0\n2020-08-30 16:11:10,372:INFO:EPOCH 8 - PROGRESS: at 69.56% examples, 261127 words/s, in_qsize 47, out_qsize 0\n2020-08-30 16:11:11,380:INFO:EPOCH 8 - PROGRESS: at 72.70% examples, 261343 words/s, in_qsize 47, out_qsize 0\n2020-08-30 16:11:12,408:INFO:EPOCH 8 - PROGRESS: at 75.83% examples, 260515 words/s, in_qsize 47, out_qsize 0\n2020-08-30 16:11:13,410:INFO:EPOCH 8 - PROGRESS: at 78.35% examples, 259599 words/s, in_qsize 47, out_qsize 0\n2020-08-30 16:11:14,451:INFO:EPOCH 8 - PROGRESS: at 81.44% examples, 258331 words/s, in_qsize 48, out_qsize 0\n2020-08-30 16:11:15,513:INFO:EPOCH 8 - PROGRESS: at 84.03% examples, 257560 words/s, in_qsize 47, out_qsize 0\n2020-08-30 16:11:16,519:INFO:EPOCH 8 - PROGRESS: at 87.60% examples, 257555 words/s, in_qsize 47, out_qsize 0\n2020-08-30 16:11:17,520:INFO:EPOCH 8 - PROGRESS: at 90.76% examples, 256665 words/s, in_qsize 47, out_qsize 0\n2020-08-30 16:11:18,556:INFO:EPOCH 8 - PROGRESS: at 93.98% examples, 255985 words/s, in_qsize 47, out_qsize 0\n2020-08-30 16:11:19,643:INFO:EPOCH 8 - PROGRESS: at 96.92% examples, 254613 words/s, in_qsize 47, out_qsize 0\n2020-08-30 16:11:20,280:INFO:worker thread finished; awaiting finish of 23 more threads\n2020-08-30 16:11:20,284:INFO:worker thread finished; awaiting finish of 22 more threads\n2020-08-30 16:11:20,286:INFO:worker thread finished; awaiting finish of 21 more threads\n2020-08-30 16:11:20,288:INFO:worker thread finished; awaiting finish of 20 more threads\n2020-08-30 16:11:20,292:INFO:worker thread finished; awaiting finish of 19 more threads\n2020-08-30 16:11:20,298:INFO:worker thread finished; awaiting finish of 18 more threads\n2020-08-30 16:11:20,305:INFO:worker thread finished; awaiting finish of 17 more threads\n2020-08-30 16:11:20,311:INFO:worker thread finished; awaiting finish of 16 more threads\n2020-08-30 16:11:20,316:INFO:worker thread finished; awaiting finish of 15 more threads\n2020-08-30 16:11:20,327:INFO:worker thread finished; awaiting finish of 14 more threads\n2020-08-30 16:11:20,330:INFO:worker thread finished; awaiting finish of 13 more threads\n2020-08-30 16:11:20,333:INFO:worker thread finished; awaiting finish of 12 more threads\n2020-08-30 16:11:20,338:INFO:worker thread finished; awaiting finish of 11 more threads\n2020-08-30 16:11:20,342:INFO:worker thread finished; awaiting finish of 10 more threads\n2020-08-30 16:11:20,347:INFO:worker thread finished; awaiting finish of 9 more threads\n2020-08-30 16:11:20,350:INFO:worker thread finished; awaiting finish of 8 more threads\n2020-08-30 16:11:20,370:INFO:worker thread finished; awaiting finish of 7 more threads\n2020-08-30 16:11:20,373:INFO:worker thread finished; awaiting finish of 6 more threads\n2020-08-30 16:11:20,378:INFO:worker thread finished; awaiting finish of 5 more threads\n2020-08-30 16:11:20,380:INFO:worker thread finished; awaiting finish of 4 more threads\n2020-08-30 16:11:20,409:INFO:worker thread finished; awaiting finish of 3 more threads\n2020-08-30 16:11:20,425:INFO:worker thread finished; awaiting finish of 2 more threads\n2020-08-30 16:11:20,512:INFO:worker thread finished; awaiting finish of 1 more threads\n2020-08-30 16:11:20,528:INFO:worker thread finished; awaiting finish of 0 more threads\n2020-08-30 16:11:20,529:INFO:EPOCH - 8 : training on 21113789 raw words (10775066 effective words) took 42.2s, 255192 effective words/s\n2020-08-30 16:11:21,753:INFO:EPOCH 9 - PROGRESS: at 1.03% examples, 132746 words/s, in_qsize 48, out_qsize 2\n2020-08-30 16:11:22,763:INFO:EPOCH 9 - PROGRESS: at 2.34% examples, 182761 words/s, in_qsize 47, out_qsize 0\n2020-08-30 16:11:23,789:INFO:EPOCH 9 - PROGRESS: at 4.62% examples, 219223 words/s, in_qsize 47, out_qsize 0\n2020-08-30 16:11:24,806:INFO:EPOCH 9 - PROGRESS: at 6.93% examples, 228269 words/s, in_qsize 39, out_qsize 8\n2020-08-30 16:11:25,810:INFO:EPOCH 9 - PROGRESS: at 9.49% examples, 247262 words/s, in_qsize 47, out_qsize 0\n2020-08-30 16:11:26,815:INFO:EPOCH 9 - PROGRESS: at 11.59% examples, 248502 words/s, in_qsize 46, out_qsize 1\n2020-08-30 16:11:27,878:INFO:EPOCH 9 - PROGRESS: at 14.68% examples, 256099 words/s, in_qsize 48, out_qsize 0\n2020-08-30 16:11:28,912:INFO:EPOCH 9 - PROGRESS: at 17.21% examples, 256814 words/s, in_qsize 46, out_qsize 1\n2020-08-30 16:11:29,921:INFO:EPOCH 9 - PROGRESS: at 20.43% examples, 261405 words/s, in_qsize 47, out_qsize 0\n2020-08-30 16:11:30,957:INFO:EPOCH 9 - PROGRESS: at 22.38% examples, 263318 words/s, in_qsize 47, out_qsize 0\n2020-08-30 16:11:31,965:INFO:EPOCH 9 - PROGRESS: at 24.86% examples, 263302 words/s, in_qsize 47, out_qsize 0\n2020-08-30 16:11:32,981:INFO:EPOCH 9 - PROGRESS: at 27.93% examples, 263533 words/s, in_qsize 47, out_qsize 0\n2020-08-30 16:11:33,982:INFO:EPOCH 9 - PROGRESS: at 31.20% examples, 266643 words/s, in_qsize 48, out_qsize 1\n2020-08-30 16:11:35,003:INFO:EPOCH 9 - PROGRESS: at 33.26% examples, 263741 words/s, in_qsize 47, out_qsize 0\n2020-08-30 16:11:36,006:INFO:EPOCH 9 - PROGRESS: at 34.89% examples, 261808 words/s, in_qsize 47, out_qsize 0\n2020-08-30 16:11:37,016:INFO:EPOCH 9 - PROGRESS: at 36.06% examples, 262495 words/s, in_qsize 47, out_qsize 0\n2020-08-30 16:11:38,039:INFO:EPOCH 9 - PROGRESS: at 38.56% examples, 263429 words/s, in_qsize 47, out_qsize 0\n2020-08-30 16:11:39,057:INFO:EPOCH 9 - PROGRESS: at 40.26% examples, 261648 words/s, in_qsize 48, out_qsize 0\n2020-08-30 16:11:40,128:INFO:EPOCH 9 - PROGRESS: at 41.91% examples, 263338 words/s, in_qsize 47, out_qsize 0\n2020-08-30 16:11:41,234:INFO:EPOCH 9 - PROGRESS: at 43.81% examples, 262340 words/s, in_qsize 48, out_qsize 0\n2020-08-30 16:11:42,243:INFO:EPOCH 9 - PROGRESS: at 45.85% examples, 265265 words/s, in_qsize 47, out_qsize 0\n2020-08-30 16:11:43,244:INFO:EPOCH 9 - PROGRESS: at 47.48% examples, 265229 words/s, in_qsize 47, out_qsize 0\n2020-08-30 16:11:44,252:INFO:EPOCH 9 - PROGRESS: at 49.27% examples, 265376 words/s, in_qsize 47, out_qsize 0\n2020-08-30 16:11:45,267:INFO:EPOCH 9 - PROGRESS: at 51.78% examples, 264975 words/s, in_qsize 47, out_qsize 0\n2020-08-30 16:11:46,333:INFO:EPOCH 9 - PROGRESS: at 54.36% examples, 264614 words/s, in_qsize 47, out_qsize 0\n2020-08-30 16:11:47,362:INFO:EPOCH 9 - PROGRESS: at 56.78% examples, 265407 words/s, in_qsize 45, out_qsize 2\n2020-08-30 16:11:48,401:INFO:EPOCH 9 - PROGRESS: at 58.61% examples, 265083 words/s, in_qsize 47, out_qsize 0\n2020-08-30 16:11:49,405:INFO:EPOCH 9 - PROGRESS: at 60.82% examples, 266088 words/s, in_qsize 47, out_qsize 0\n2020-08-30 16:11:50,451:INFO:EPOCH 9 - PROGRESS: at 62.88% examples, 264935 words/s, in_qsize 47, out_qsize 0\n2020-08-30 16:11:51,554:INFO:EPOCH 9 - PROGRESS: at 67.42% examples, 265772 words/s, in_qsize 47, out_qsize 0\n2020-08-30 16:11:52,567:INFO:EPOCH 9 - PROGRESS: at 70.09% examples, 264547 words/s, in_qsize 47, out_qsize 0\n2020-08-30 16:11:53,591:INFO:EPOCH 9 - PROGRESS: at 72.99% examples, 263539 words/s, in_qsize 47, out_qsize 0\n2020-08-30 16:11:54,605:INFO:EPOCH 9 - PROGRESS: at 76.16% examples, 262692 words/s, in_qsize 47, out_qsize 0\n2020-08-30 16:11:55,613:INFO:EPOCH 9 - PROGRESS: at 78.71% examples, 262009 words/s, in_qsize 47, out_qsize 0\n2020-08-30 16:11:56,613:INFO:EPOCH 9 - PROGRESS: at 81.73% examples, 261026 words/s, in_qsize 47, out_qsize 0\n2020-08-30 16:11:57,625:INFO:EPOCH 9 - PROGRESS: at 84.23% examples, 260008 words/s, in_qsize 47, out_qsize 0\n2020-08-30 16:11:58,641:INFO:EPOCH 9 - PROGRESS: at 87.37% examples, 258906 words/s, in_qsize 47, out_qsize 0\n2020-08-30 16:11:59,686:INFO:EPOCH 9 - PROGRESS: at 90.84% examples, 258383 words/s, in_qsize 47, out_qsize 0\n2020-08-30 16:12:00,744:INFO:EPOCH 9 - PROGRESS: at 94.48% examples, 257816 words/s, in_qsize 46, out_qsize 1\n2020-08-30 16:12:01,777:INFO:EPOCH 9 - PROGRESS: at 96.85% examples, 256104 words/s, in_qsize 47, out_qsize 0\n2020-08-30 16:12:02,421:INFO:worker thread finished; awaiting finish of 23 more threads\n2020-08-30 16:12:02,430:INFO:worker thread finished; awaiting finish of 22 more threads\n2020-08-30 16:12:02,432:INFO:worker thread finished; awaiting finish of 21 more threads\n2020-08-30 16:12:02,434:INFO:worker thread finished; awaiting finish of 20 more threads\n2020-08-30 16:12:02,436:INFO:worker thread finished; awaiting finish of 19 more threads\n2020-08-30 16:12:02,461:INFO:worker thread finished; awaiting finish of 18 more threads\n2020-08-30 16:12:02,467:INFO:worker thread finished; awaiting finish of 17 more threads\n2020-08-30 16:12:02,483:INFO:worker thread finished; awaiting finish of 16 more threads\n2020-08-30 16:12:02,485:INFO:worker thread finished; awaiting finish of 15 more threads\n2020-08-30 16:12:02,486:INFO:worker thread finished; awaiting finish of 14 more threads\n2020-08-30 16:12:02,497:INFO:worker thread finished; awaiting finish of 13 more threads\n2020-08-30 16:12:02,505:INFO:worker thread finished; awaiting finish of 12 more threads\n2020-08-30 16:12:02,510:INFO:worker thread finished; awaiting finish of 11 more threads\n2020-08-30 16:12:02,513:INFO:worker thread finished; awaiting finish of 10 more threads\n2020-08-30 16:12:02,542:INFO:worker thread finished; awaiting finish of 9 more threads\n2020-08-30 16:12:02,548:INFO:worker thread finished; awaiting finish of 8 more threads\n2020-08-30 16:12:02,569:INFO:worker thread finished; awaiting finish of 7 more threads\n2020-08-30 16:12:02,573:INFO:worker thread finished; awaiting finish of 6 more threads\n2020-08-30 16:12:02,589:INFO:worker thread finished; awaiting finish of 5 more threads\n2020-08-30 16:12:02,601:INFO:worker thread finished; awaiting finish of 4 more threads\n2020-08-30 16:12:02,606:INFO:worker thread finished; awaiting finish of 3 more threads\n2020-08-30 16:12:02,610:INFO:worker thread finished; awaiting finish of 2 more threads\n2020-08-30 16:12:02,662:INFO:worker thread finished; awaiting finish of 1 more threads\n2020-08-30 16:12:02,669:INFO:worker thread finished; awaiting finish of 0 more threads\n2020-08-30 16:12:02,674:INFO:EPOCH - 9 : training on 21113789 raw words (10773145 effective words) took 42.0s, 256703 effective words/s\n2020-08-30 16:12:03,855:INFO:EPOCH 10 - PROGRESS: at 1.26% examples, 171991 words/s, in_qsize 48, out_qsize 0\n2020-08-30 16:12:04,942:INFO:EPOCH 10 - PROGRESS: at 2.52% examples, 183916 words/s, in_qsize 47, out_qsize 0\n2020-08-30 16:12:05,977:INFO:EPOCH 10 - PROGRESS: at 4.32% examples, 206040 words/s, in_qsize 48, out_qsize 0\n2020-08-30 16:12:07,004:INFO:EPOCH 10 - PROGRESS: at 6.76% examples, 217760 words/s, in_qsize 47, out_qsize 0\n2020-08-30 16:12:08,036:INFO:EPOCH 10 - PROGRESS: at 8.75% examples, 229562 words/s, in_qsize 47, out_qsize 1\n2020-08-30 16:12:09,058:INFO:EPOCH 10 - PROGRESS: at 11.00% examples, 237486 words/s, in_qsize 47, out_qsize 0\n2020-08-30 16:12:10,070:INFO:EPOCH 10 - PROGRESS: at 13.50% examples, 241803 words/s, in_qsize 47, out_qsize 0\n2020-08-30 16:12:11,080:INFO:EPOCH 10 - PROGRESS: at 16.60% examples, 248176 words/s, in_qsize 47, out_qsize 0\n2020-08-30 16:12:12,094:INFO:EPOCH 10 - PROGRESS: at 20.00% examples, 253345 words/s, in_qsize 47, out_qsize 0\n2020-08-30 16:12:13,100:INFO:EPOCH 10 - PROGRESS: at 21.88% examples, 255331 words/s, in_qsize 47, out_qsize 0\n2020-08-30 16:12:14,127:INFO:EPOCH 10 - PROGRESS: at 23.84% examples, 253010 words/s, in_qsize 47, out_qsize 0\n2020-08-30 16:12:15,159:INFO:EPOCH 10 - PROGRESS: at 27.18% examples, 254838 words/s, in_qsize 46, out_qsize 1\n2020-08-30 16:12:16,160:INFO:EPOCH 10 - PROGRESS: at 30.16% examples, 257485 words/s, in_qsize 47, out_qsize 0\n2020-08-30 16:12:17,169:INFO:EPOCH 10 - PROGRESS: at 32.16% examples, 255451 words/s, in_qsize 47, out_qsize 0\n2020-08-30 16:12:18,232:INFO:EPOCH 10 - PROGRESS: at 34.61% examples, 255765 words/s, in_qsize 47, out_qsize 0\n2020-08-30 16:12:19,239:INFO:EPOCH 10 - PROGRESS: at 35.76% examples, 258531 words/s, in_qsize 47, out_qsize 0\n2020-08-30 16:12:20,308:INFO:EPOCH 10 - PROGRESS: at 38.05% examples, 257752 words/s, in_qsize 44, out_qsize 3\n2020-08-30 16:12:21,350:INFO:EPOCH 10 - PROGRESS: at 40.07% examples, 257764 words/s, in_qsize 46, out_qsize 2\n2020-08-30 16:12:22,386:INFO:EPOCH 10 - PROGRESS: at 41.73% examples, 259120 words/s, in_qsize 47, out_qsize 0\n2020-08-30 16:12:23,398:INFO:EPOCH 10 - PROGRESS: at 43.60% examples, 259995 words/s, in_qsize 47, out_qsize 0\n2020-08-30 16:12:24,419:INFO:EPOCH 10 - PROGRESS: at 44.82% examples, 258468 words/s, in_qsize 48, out_qsize 1\n2020-08-30 16:12:25,425:INFO:EPOCH 10 - PROGRESS: at 46.72% examples, 259875 words/s, in_qsize 47, out_qsize 0\n2020-08-30 16:12:26,456:INFO:EPOCH 10 - PROGRESS: at 48.44% examples, 260319 words/s, in_qsize 46, out_qsize 1\n2020-08-30 16:12:27,477:INFO:EPOCH 10 - PROGRESS: at 50.91% examples, 260722 words/s, in_qsize 47, out_qsize 0\n2020-08-30 16:12:28,512:INFO:EPOCH 10 - PROGRESS: at 53.22% examples, 259790 words/s, in_qsize 48, out_qsize 1\n2020-08-30 16:12:29,561:INFO:EPOCH 10 - PROGRESS: at 55.87% examples, 260647 words/s, in_qsize 48, out_qsize 0\n2020-08-30 16:12:30,640:INFO:EPOCH 10 - PROGRESS: at 57.91% examples, 260408 words/s, in_qsize 46, out_qsize 1\n2020-08-30 16:12:31,659:INFO:EPOCH 10 - PROGRESS: at 59.85% examples, 260919 words/s, in_qsize 47, out_qsize 0\n2020-08-30 16:12:32,760:INFO:EPOCH 10 - PROGRESS: at 61.95% examples, 260844 words/s, in_qsize 48, out_qsize 0\n2020-08-30 16:12:33,777:INFO:EPOCH 10 - PROGRESS: at 65.54% examples, 261673 words/s, in_qsize 47, out_qsize 0\n2020-08-30 16:12:34,826:INFO:EPOCH 10 - PROGRESS: at 69.18% examples, 260994 words/s, in_qsize 47, out_qsize 0\n2020-08-30 16:12:35,961:INFO:EPOCH 10 - PROGRESS: at 72.67% examples, 261013 words/s, in_qsize 47, out_qsize 0\n2020-08-30 16:12:37,033:INFO:EPOCH 10 - PROGRESS: at 76.31% examples, 261093 words/s, in_qsize 47, out_qsize 0\n2020-08-30 16:12:38,110:INFO:EPOCH 10 - PROGRESS: at 78.84% examples, 259745 words/s, in_qsize 44, out_qsize 3\n2020-08-30 16:12:39,113:INFO:EPOCH 10 - PROGRESS: at 81.87% examples, 258822 words/s, in_qsize 44, out_qsize 3\n2020-08-30 16:12:40,129:INFO:EPOCH 10 - PROGRESS: at 84.74% examples, 258574 words/s, in_qsize 47, out_qsize 0\n2020-08-30 16:12:41,137:INFO:EPOCH 10 - PROGRESS: at 87.80% examples, 257425 words/s, in_qsize 47, out_qsize 0\n2020-08-30 16:12:42,192:INFO:EPOCH 10 - PROGRESS: at 91.10% examples, 256467 words/s, in_qsize 47, out_qsize 0\n2020-08-30 16:12:43,226:INFO:EPOCH 10 - PROGRESS: at 94.51% examples, 255773 words/s, in_qsize 47, out_qsize 0\n2020-08-30 16:12:44,229:INFO:EPOCH 10 - PROGRESS: at 97.20% examples, 254869 words/s, in_qsize 47, out_qsize 0\n2020-08-30 16:12:44,762:INFO:worker thread finished; awaiting finish of 23 more threads\n2020-08-30 16:12:44,779:INFO:worker thread finished; awaiting finish of 22 more threads\n2020-08-30 16:12:44,782:INFO:worker thread finished; awaiting finish of 21 more threads\n2020-08-30 16:12:44,795:INFO:worker thread finished; awaiting finish of 20 more threads\n2020-08-30 16:12:44,811:INFO:worker thread finished; awaiting finish of 19 more threads\n2020-08-30 16:12:44,813:INFO:worker thread finished; awaiting finish of 18 more threads\n2020-08-30 16:12:44,825:INFO:worker thread finished; awaiting finish of 17 more threads\n2020-08-30 16:12:44,827:INFO:worker thread finished; awaiting finish of 16 more threads\n2020-08-30 16:12:44,829:INFO:worker thread finished; awaiting finish of 15 more threads\n2020-08-30 16:12:44,830:INFO:worker thread finished; awaiting finish of 14 more threads\n2020-08-30 16:12:44,834:INFO:worker thread finished; awaiting finish of 13 more threads\n2020-08-30 16:12:44,868:INFO:worker thread finished; awaiting finish of 12 more threads\n2020-08-30 16:12:44,914:INFO:worker thread finished; awaiting finish of 11 more threads\n2020-08-30 16:12:44,932:INFO:worker thread finished; awaiting finish of 10 more threads\n2020-08-30 16:12:44,943:INFO:worker thread finished; awaiting finish of 9 more threads\n2020-08-30 16:12:44,956:INFO:worker thread finished; awaiting finish of 8 more threads\n2020-08-30 16:12:44,975:INFO:worker thread finished; awaiting finish of 7 more threads\n2020-08-30 16:12:44,979:INFO:worker thread finished; awaiting finish of 6 more threads\n2020-08-30 16:12:44,981:INFO:worker thread finished; awaiting finish of 5 more threads\n2020-08-30 16:12:44,994:INFO:worker thread finished; awaiting finish of 4 more threads\n2020-08-30 16:12:44,997:INFO:worker thread finished; awaiting finish of 3 more threads\n2020-08-30 16:12:45,017:INFO:worker thread finished; awaiting finish of 2 more threads\n2020-08-30 16:12:45,022:INFO:worker thread finished; awaiting finish of 1 more threads\n2020-08-30 16:12:45,024:INFO:worker thread finished; awaiting finish of 0 more threads\n2020-08-30 16:12:45,025:INFO:EPOCH - 10 : training on 21113789 raw words (10775341 effective words) took 42.2s, 255489 effective words/s\n2020-08-30 16:12:45,026:INFO:training on a 211137890 raw words (107756632 effective words) took 414.9s, 259695 effective words/s\n2020-08-30 16:12:45,027:INFO:saving Word2Vec object under models/w2v_300_3.txt, separately None\n2020-08-30 16:12:45,029:INFO:storing np array 'vectors' to models/w2v_300_3.txt.wv.vectors.npy\n2020-08-30 16:12:45,179:INFO:not storing attribute vectors_norm\n2020-08-30 16:12:45,181:INFO:storing np array 'syn1neg' to models/w2v_300_3.txt.trainables.syn1neg.npy\n2020-08-30 16:12:45,324:INFO:not storing attribute cum_table\n2020-08-30 16:12:45,500:INFO:saved models/w2v_300_3.txt\nw2v model done\n"
    },
    {
     "output_type": "execute_result",
     "data": {
      "text/plain": "<gensim.models.word2vec.Word2Vec at 0x1b4d4e8d070>"
     },
     "metadata": {},
     "execution_count": 33
    },
    {
     "output_type": "execute_result",
     "data": {
      "text/plain": "0"
     },
     "metadata": {},
     "execution_count": 33
    },
    {
     "output_type": "stream",
     "name": "stderr",
     "text": "2020-08-30 16:12:46,664:INFO:loading Word2Vec object from models/w2v_300_1.txt\n2020-08-30 16:12:46,855:INFO:loading wv recursively from models/w2v_300_1.txt.wv.* with mmap=None\n2020-08-30 16:12:46,857:INFO:setting ignored attribute vectors_norm to None\n2020-08-30 16:12:46,858:INFO:loading vocabulary recursively from models/w2v_300_1.txt.vocabulary.* with mmap=None\n2020-08-30 16:12:46,860:INFO:loading trainables recursively from models/w2v_300_1.txt.trainables.* with mmap=None\n2020-08-30 16:12:46,861:INFO:setting ignored attribute cum_table to None\n2020-08-30 16:12:46,862:INFO:loaded models/w2v_300_1.txt\n100%|██████████| 7189/7189 [00:00<00:00, 54108.35it/s]\n2020-08-30 16:12:47,037:INFO:loading Word2Vec object from models/w2v_300_3.txt\n2020-08-30 16:12:47,153:INFO:loading wv recursively from models/w2v_300_3.txt.wv.* with mmap=None\n2020-08-30 16:12:47,155:INFO:loading vectors from models/w2v_300_3.txt.wv.vectors.npy with mmap=None\n2020-08-30 16:12:47,202:INFO:setting ignored attribute vectors_norm to None\n2020-08-30 16:12:47,204:INFO:loading vocabulary recursively from models/w2v_300_3.txt.vocabulary.* with mmap=None\n2020-08-30 16:12:47,206:INFO:loading trainables recursively from models/w2v_300_3.txt.trainables.* with mmap=None\n2020-08-30 16:12:47,206:INFO:loading syn1neg from models/w2v_300_3.txt.trainables.syn1neg.npy with mmap=None\nnull cnt 5\n2020-08-30 16:12:47,255:INFO:setting ignored attribute cum_table to None\n2020-08-30 16:12:47,258:INFO:loaded models/w2v_300_3.txt\n100%|██████████| 28458/28458 [00:00<00:00, 49977.43it/s]\nnull cnt 1202\n"
    },
    {
     "output_type": "execute_result",
     "data": {
      "text/plain": "31"
     },
     "metadata": {},
     "execution_count": 33
    }
   ],
   "source": [
    "text_1_list = np.unique(train_data['text_1'])\n",
    "text_3_list = np.unique(train_data['text_2'])\n",
    "\n",
    "print('开始序列化')\n",
    "x1, index_1, token_1 = set_tokenizer(train_data['text_1'], split_char=' ', max_len=30)\n",
    "x3, index_3, token_3 = set_tokenizer(train_data['text_2'], split_char=' ', max_len=600)\n",
    "print('序列化完成')\n",
    "gc.collect()\n",
    "\n",
    "trian_save_word2vec(text_1_list, save_name='models/w2v_300_1.txt', split_char=' ')\n",
    "gc.collect()\n",
    "trian_save_word2vec(text_3_list, save_name='models/w2v_300_3.txt', split_char=' ')\n",
    "gc.collect()\n",
    "\n",
    "# 得到emb矩阵\n",
    "emb1 = get_embedding_matrix(index_1, Emed_path='models/w2v_300_1.txt')\n",
    "emb3 = get_embedding_matrix(index_3, Emed_path='models/w2v_300_3.txt')\n",
    "gc.collect()"
   ]
  },
  {
   "cell_type": "markdown",
   "metadata": {},
   "source": [
    "# 构建抽取模型"
   ]
  },
  {
   "cell_type": "markdown",
   "metadata": {},
   "source": [
    "#### 1.网络结构"
   ]
  },
  {
   "cell_type": "code",
   "execution_count": 34,
   "metadata": {},
   "outputs": [
    {
     "output_type": "execute_result",
     "data": {
      "text/plain": "0"
     },
     "metadata": {},
     "execution_count": 34
    }
   ],
   "source": [
    "from keras.initializers import *\n",
    "\n",
    "def model_conv(emb1, emb3):\n",
    "    '''\n",
    "    注意这个inputs\n",
    "    seq1、seq2分别是两个输入\n",
    "    是否做emb可选可不选，\n",
    "    这个就是我们之前训练已经得到的用于embedding的（embedding_matrix1， embedding_matrix2）\n",
    "    '''\n",
    "    K.clear_session()\n",
    "\n",
    "    emb_layer_1 = Embedding(\n",
    "        input_dim=emb1.shape[0],\n",
    "        output_dim=emb1.shape[1],\n",
    "        weights=[emb1],\n",
    "        input_length=30,\n",
    "        trainable=False\n",
    "    )\n",
    "    \n",
    "    emb_layer_3 = Embedding(\n",
    "        input_dim=emb3.shape[0],\n",
    "        output_dim=emb3.shape[1],\n",
    "        weights=[emb3],\n",
    "        input_length=600,\n",
    "        trainable=False\n",
    "    )\n",
    "    \n",
    "    \n",
    "    seq1 = Input(shape=(30,))\n",
    "    seq3 = Input(shape=(600,))    \n",
    "    \n",
    "    x1 = emb_layer_1(seq1)\n",
    "    x3 = emb_layer_3(seq3)\n",
    "    \n",
    "    sdrop=SpatialDropout1D(rate=0.2)\n",
    "\n",
    "    x1 = sdrop(x1)\n",
    "    x3 = sdrop(x3)\n",
    "     \n",
    "    x = Dropout(0.2)(Bidirectional(GRU(128, return_sequences=True))(x1))\n",
    "    semantic = TimeDistributed(Dense(100, activation=\"tanh\"))(x)\n",
    "    merged_1 = Lambda(lambda x: K.max(x, axis=1), output_shape=(100,))(semantic)\n",
    "    \n",
    "    x = Dropout(0.2)(Bidirectional(GRU(128, return_sequences=True))(x3))\n",
    "    semantic = TimeDistributed(Dense(100, activation=\"tanh\"))(x)\n",
    "    merged_3 = Lambda(lambda x: K.max(x, axis=1), output_shape=(100,))(semantic)\n",
    "    \n",
    "    \n",
    "    x = Multiply()([merged_1, merged_3])\n",
    "    \n",
    "    x = Dropout(0.2)(Activation(activation=\"relu\")(BatchNormalization()(Dense(1000)(x))))\n",
    "    x = Activation(activation=\"relu\")(BatchNormalization()(Dense(500)(x)))\n",
    "    pred_1 = Dense(10, activation='softmax')(x)\n",
    "    pred_2 = Dense(3, activation='softmax')(x)\n",
    "    pred_3 = Dense(3, activation='softmax')(x)\n",
    "    pred_4 = Dense(2, activation='softmax')(x)\n",
    "    model = Model(inputs=[seq1, seq3], outputs=[pred_1, pred_2, pred_3, pred_4])\n",
    "    model.compile(loss='categorical_crossentropy',\n",
    "                  optimizer=Adam(lr=0.0001),metrics=[\"accuracy\"])\n",
    "    return model\n",
    "gc.collect()"
   ]
  },
  {
   "cell_type": "code",
   "execution_count": 35,
   "metadata": {
    "scrolled": true,
    "tags": []
   },
   "outputs": [
    {
     "output_type": "stream",
     "name": "stdout",
     "text": "Model: \"functional_1\"\n__________________________________________________________________________________________________\nLayer (type)                    Output Shape         Param #     Connected to                     \n==================================================================================================\ninput_1 (InputLayer)            [(None, 30)]         0                                            \n__________________________________________________________________________________________________\ninput_2 (InputLayer)            [(None, 600)]        0                                            \n__________________________________________________________________________________________________\nembedding (Embedding)           (None, 30, 300)      2157000     input_1[0][0]                    \n__________________________________________________________________________________________________\nembedding_1 (Embedding)         (None, 600, 300)     8537700     input_2[0][0]                    \n__________________________________________________________________________________________________\nspatial_dropout1d (SpatialDropo multiple             0           embedding[0][0]                  \n                                                                 embedding_1[0][0]                \n__________________________________________________________________________________________________\nbidirectional (Bidirectional)   (None, 30, 256)      330240      spatial_dropout1d[0][0]          \n__________________________________________________________________________________________________\nbidirectional_1 (Bidirectional) (None, 600, 256)     330240      spatial_dropout1d[1][0]          \n__________________________________________________________________________________________________\ndropout (Dropout)               (None, 30, 256)      0           bidirectional[0][0]              \n__________________________________________________________________________________________________\ndropout_1 (Dropout)             (None, 600, 256)     0           bidirectional_1[0][0]            \n__________________________________________________________________________________________________\ntime_distributed (TimeDistribut (None, 30, 100)      25700       dropout[0][0]                    \n__________________________________________________________________________________________________\ntime_distributed_1 (TimeDistrib (None, 600, 100)     25700       dropout_1[0][0]                  \n__________________________________________________________________________________________________\nlambda (Lambda)                 (None, 100)          0           time_distributed[0][0]           \n__________________________________________________________________________________________________\nlambda_1 (Lambda)               (None, 100)          0           time_distributed_1[0][0]         \n__________________________________________________________________________________________________\nmultiply (Multiply)             (None, 100)          0           lambda[0][0]                     \n                                                                 lambda_1[0][0]                   \n__________________________________________________________________________________________________\ndense_2 (Dense)                 (None, 1000)         101000      multiply[0][0]                   \n__________________________________________________________________________________________________\nbatch_normalization (BatchNorma (None, 1000)         4000        dense_2[0][0]                    \n__________________________________________________________________________________________________\nactivation (Activation)         (None, 1000)         0           batch_normalization[0][0]        \n__________________________________________________________________________________________________\ndropout_2 (Dropout)             (None, 1000)         0           activation[0][0]                 \n__________________________________________________________________________________________________\ndense_3 (Dense)                 (None, 500)          500500      dropout_2[0][0]                  \n__________________________________________________________________________________________________\nbatch_normalization_1 (BatchNor (None, 500)          2000        dense_3[0][0]                    \n__________________________________________________________________________________________________\nactivation_1 (Activation)       (None, 500)          0           batch_normalization_1[0][0]      \n__________________________________________________________________________________________________\ndense_4 (Dense)                 (None, 10)           5010        activation_1[0][0]               \n__________________________________________________________________________________________________\ndense_5 (Dense)                 (None, 3)            1503        activation_1[0][0]               \n__________________________________________________________________________________________________\ndense_6 (Dense)                 (None, 3)            1503        activation_1[0][0]               \n__________________________________________________________________________________________________\ndense_7 (Dense)                 (None, 2)            1002        activation_1[0][0]               \n==================================================================================================\nTotal params: 12,023,098\nTrainable params: 1,325,398\nNon-trainable params: 10,697,700\n__________________________________________________________________________________________________\nEpoch 1/8\n107/107 [==============================] - 1946s 18s/step - loss: 2.7899 - dense_4_loss: 0.7795 - dense_5_loss: 0.7968 - dense_6_loss: 0.9564 - dense_7_loss: 0.2572 - dense_4_accuracy: 0.7918 - dense_5_accuracy: 0.6317 - dense_6_accuracy: 0.5738 - dense_7_accuracy: 0.9173\nEpoch 2/8\n107/107 [==============================] - 2647s 25s/step - loss: 1.4186 - dense_4_loss: 0.1559 - dense_5_loss: 0.6626 - dense_6_loss: 0.5552 - dense_7_loss: 0.0449 - dense_4_accuracy: 0.9659 - dense_5_accuracy: 0.6823 - dense_6_accuracy: 0.7816 - dense_7_accuracy: 0.9986\nEpoch 3/8\n107/107 [==============================] - 2854s 27s/step - loss: 1.2178 - dense_4_loss: 0.1200 - dense_5_loss: 0.5855 - dense_6_loss: 0.4879 - dense_7_loss: 0.0245 - dense_4_accuracy: 0.9722 - dense_5_accuracy: 0.7341 - dense_6_accuracy: 0.7963 - dense_7_accuracy: 0.9986\nEpoch 4/8\n107/107 [==============================] - 2967s 28s/step - loss: 1.0572 - dense_4_loss: 0.1008 - dense_5_loss: 0.4935 - dense_6_loss: 0.4452 - dense_7_loss: 0.0177 - dense_4_accuracy: 0.9748 - dense_5_accuracy: 0.7943 - dense_6_accuracy: 0.8125 - dense_7_accuracy: 0.9986\nEpoch 5/8\n107/107 [==============================] - 2795s 26s/step - loss: 0.9463 - dense_4_loss: 0.0907 - dense_5_loss: 0.4490 - dense_6_loss: 0.3918 - dense_7_loss: 0.0147 - dense_4_accuracy: 0.9767 - dense_5_accuracy: 0.8160 - dense_6_accuracy: 0.8310 - dense_7_accuracy: 0.9986\nEpoch 6/8\n107/107 [==============================] - 2798s 26s/step - loss: 0.8677 - dense_4_loss: 0.0810 - dense_5_loss: 0.4139 - dense_6_loss: 0.3602 - dense_7_loss: 0.0126 - dense_4_accuracy: 0.9786 - dense_5_accuracy: 0.8326 - dense_6_accuracy: 0.8442 - dense_7_accuracy: 0.9986\nEpoch 7/8\n107/107 [==============================] - 2798s 26s/step - loss: 0.8074 - dense_4_loss: 0.0740 - dense_5_loss: 0.3868 - dense_6_loss: 0.3352 - dense_7_loss: 0.0114 - dense_4_accuracy: 0.9798 - dense_5_accuracy: 0.8432 - dense_6_accuracy: 0.8582 - dense_7_accuracy: 0.9986\nEpoch 8/8\n107/107 [==============================] - 2817s 26s/step - loss: 0.7543 - dense_4_loss: 0.0672 - dense_5_loss: 0.3604 - dense_6_loss: 0.3161 - dense_7_loss: 0.0105 - dense_4_accuracy: 0.9817 - dense_5_accuracy: 0.8539 - dense_6_accuracy: 0.8659 - dense_7_accuracy: 0.9986\n"
    },
    {
     "output_type": "execute_result",
     "data": {
      "text/plain": "<tensorflow.python.keras.callbacks.History at 0x1b4a9347b20>"
     },
     "metadata": {},
     "execution_count": 35
    }
   ],
   "source": [
    "model = model_conv(emb1, emb3)\n",
    "model.summary()\n",
    "l1 = to_categorical(train_data['label_1'], 10)\n",
    "l2 = to_categorical(train_data['label_2'], 3)\n",
    "l3 = to_categorical(train_data['label_3'], 3)\n",
    "l4 = to_categorical(train_data['label_4'], 2)\n",
    "model.fit([x1, x3],[l1, l2, l3, l4], batch_size=256, epochs=8, verbose=1, shuffle=True)"
   ]
  },
  {
   "cell_type": "code",
   "execution_count": 36,
   "metadata": {},
   "outputs": [],
   "source": [
    "#保存权重\n",
    "model.save_weights('models/lstm_model.h5')"
   ]
  },
  {
   "cell_type": "markdown",
   "metadata": {},
   "source": [
    "#### 2.保存结果"
   ]
  },
  {
   "cell_type": "code",
   "execution_count": 37,
   "metadata": {
    "tags": []
   },
   "outputs": [
    {
     "output_type": "stream",
     "name": "stderr",
     "text": "100%|██████████| 13095/13095 [00:01<00:00, 9478.23it/s]\n100%|██████████| 13095/13095 [05:10<00:00, 42.11it/s]\n13/13 [==============================] - 98s 8s/step\n"
    }
   ],
   "source": [
    "# 预测验证集\n",
    "val_result_for_pred = pd.merge(val_result, val_df, on='sample_id', how='left')\n",
    "val_result_for_pred['text_1'] = val_result_for_pred['理财产品名称'].astype(str) + '_' + val_result_for_pred['产品发行方名称'].astype(str)\n",
    "val_result_for_pred['text_2'] = val_result_for_pred['text'].astype(str)\n",
    "\n",
    "val_result_for_pred['text_1'] = val_result_for_pred['text_1'].progress_apply(lambda row:' '.join(jieba.lcut(str(row))))\n",
    "val_result_for_pred['text_2'] = val_result_for_pred['text_2'].progress_apply(lambda row:' '.join(jieba.lcut(str(row))))\n",
    "\n",
    "x1 = token_1.texts_to_sequences(val_result_for_pred['text_1'])\n",
    "x1 = pad_sequences(x1, maxlen=30, value=0)\n",
    "x3 = token_3.texts_to_sequences(val_result_for_pred['text_2'])\n",
    "x3 = pad_sequences(x3, maxlen=600, value=0)\n",
    "pred_result = model.predict([x1, x3], batch_size=1024, verbose=1)\n",
    "pred_1 = label_1.inverse_transform(np.argmax(pred_result[0], axis=1))\n",
    "pred_2 = label_2.inverse_transform(np.argmax(pred_result[1], axis=1))\n",
    "pred_3 = label_3.inverse_transform(np.argmax(pred_result[2], axis=1))\n",
    "pred_4 = label_4.inverse_transform(np.argmax(pred_result[3], axis=1))\n"
   ]
  },
  {
   "cell_type": "code",
   "execution_count": 38,
   "metadata": {},
   "outputs": [],
   "source": [
    "val_result['理财类型'] = pred_1\n",
    "val_result['资金来源'] = pred_2\n",
    "val_result['实际购买公司和上市公司关系'] = pred_3\n",
    "val_result['买卖方是否有关联关系'] = pred_4"
   ]
  },
  {
   "cell_type": "markdown",
   "metadata": {},
   "source": [
    "#### 3.离线验证评估"
   ]
  },
  {
   "cell_type": "code",
   "execution_count": 39,
   "metadata": {},
   "outputs": [
    {
     "output_type": "execute_result",
     "data": {
      "text/plain": "0.020044780893485447"
     },
     "metadata": {},
     "execution_count": 39
    }
   ],
   "source": [
    "# 计算线下f1\n",
    "# R（召回率）=抽取正确的记录数量/（抽取正确的目标数量+漏抽取的记录数量）\n",
    "# P（准确率）=抽取正确的记录数量/（抽取错误的记录数量+抽取正确的记录数量）\n",
    "def get_F1(val_pred, val_true):\n",
    "    val_pred = list(val_pred)\n",
    "    val_true = list(val_true)\n",
    "    curr = list(set(val_pred).intersection(set(val_true)))\n",
    "    R = len(curr)/len(val_true)\n",
    "    P = len(curr)/len(val_pred)\n",
    "    return 2*P*R/(P+R)\n",
    "\n",
    "r = pd.merge(val_df[['sample_id']], train_outputs, on='sample_id', how='left')\n",
    "val_true = r['sample_id'].astype(str) + r['认购日期'].astype(str) + r['理财产品名称'].astype(str) + r['理财类型'].astype(str) + r['认购金额(万元)'].astype(str) + r['产品起息日'].astype(str)+ r['产品到息日'].astype(str) + r['产品期限'].astype(str) + r['资金来源'].astype(str) + r['实际购买公司名称'].astype(str) + r['实际购买公司和上市公司关系'].astype(str) + r['买卖方是否有关联关系'].astype(str) + r['公告日期'].astype(str)\n",
    "\n",
    "r = val_result\n",
    "val_pred = r['sample_id'].astype(str) + r['认购日期'].astype(str) + r['理财产品名称'].astype(str) + r['理财类型'].astype(str) + r['认购金额(万元)'].astype(str) + r['产品起息日'].astype(str)+ r['产品到期日'].astype(str) + r['产品期限'].astype(str) + r['资金来源'].astype(str) + r['实际购买公司名称'].astype(str) + r['实际购买公司和上市公司关系'].astype(str) + r['买卖方是否有关联关系'].astype(str) + r['公告日期'].astype(str)\n",
    "\n",
    "score = get_F1(val_pred, val_true)\n",
    "score\n"
   ]
  },
  {
   "cell_type": "code",
   "execution_count": 45,
   "metadata": {},
   "outputs": [],
   "source": [
    "val_true_file=pl.Path(\"results/val_true.csv\")\n",
    "val_pred_file=pl.Path(\"results/val_pred.csv\")\n",
    "\n",
    "tr_true_file=pl.Path(\"results/tr_true.csv\")\n",
    "\n",
    "val_result.copy().sort_values(by=\"sample_id\").sort_index(axis=1).to_csv(val_pred_file,index=None)\n",
    "pd.merge(val_df[['sample_id']], train_outputs, on='sample_id', how='left').sort_index(axis=1).sort_values(by=\"sample_id\").to_csv(val_true_file,index=None)\n",
    "pd.merge(train_df[['sample_id']], train_outputs, on='sample_id', how='left').sort_index(axis=1).sort_values(by=\"sample_id\").to_csv(tr_true_file,index=None)"
   ]
  },
  {
   "cell_type": "markdown",
   "metadata": {},
   "source": [
    "#### 4.最终输出结果"
   ]
  },
  {
   "cell_type": "code",
   "execution_count": 21,
   "metadata": {
    "tags": []
   },
   "outputs": [
    {
     "output_type": "stream",
     "name": "stderr",
     "text": "100%|██████████| 24571/24571 [00:03<00:00, 7761.44it/s]\n100%|██████████| 24571/24571 [07:05<00:00, 57.74it/s]\n24/24 [==============================] - 158s 7s/step\n"
    }
   ],
   "source": [
    "# 预测测试集\n",
    "test_result_for_pred = pd.merge(test_result, test_df, on='sample_id', how='left')\n",
    "test_result_for_pred['text_1'] = test_result_for_pred['理财产品名称'].astype(str) + '_' + test_result_for_pred['产品发行方名称'].astype(str)\n",
    "test_result_for_pred['text_2'] = test_result_for_pred['text'].astype(str)\n",
    "\n",
    "test_result_for_pred['text_1'] = test_result_for_pred['text_1'].progress_apply(lambda row:' '.join(jieba.lcut(str(row))))\n",
    "test_result_for_pred['text_2'] = test_result_for_pred['text_2'].progress_apply(lambda row:' '.join(jieba.lcut(str(row))))\n",
    "\n",
    "x1 = token_1.texts_to_sequences(test_result_for_pred['text_1'])\n",
    "x1 = pad_sequences(x1, maxlen=30, value=0)\n",
    "x3 = token_3.texts_to_sequences(test_result_for_pred['text_2'])\n",
    "x3 = pad_sequences(x3, maxlen=600, value=0)\n",
    "pred_result = model.predict([x1, x3], batch_size=1024, verbose=1)\n",
    "pred_1 = label_1.inverse_transform(np.argmax(pred_result[0], axis=1))\n",
    "pred_2 = label_2.inverse_transform(np.argmax(pred_result[1], axis=1))\n",
    "pred_3 = label_3.inverse_transform(np.argmax(pred_result[2], axis=1))\n",
    "pred_4 = label_4.inverse_transform(np.argmax(pred_result[3], axis=1))\n",
    "\n",
    "test_result['理财类型'] = pred_1\n",
    "test_result['资金来源'] = pred_2\n",
    "test_result['实际购买公司和上市公司关系'] = pred_3\n",
    "test_result['买卖方是否有关联关系'] = pred_4"
   ]
  },
  {
   "cell_type": "code",
   "execution_count": 22,
   "metadata": {},
   "outputs": [],
   "source": [
    "test_result.to_csv('results/re_lstm_base.csv', index=False)"
   ]
  },
  {
   "cell_type": "code",
   "execution_count": null,
   "metadata": {},
   "outputs": [],
   "source": []
  }
 ],
 "metadata": {
  "kernelspec": {
   "display_name": "Python 3",
   "language": "python",
   "name": "python3"
  },
  "language_info": {
   "codemirror_mode": {
    "name": "ipython",
    "version": 3
   },
   "file_extension": ".py",
   "mimetype": "text/x-python",
   "name": "python",
   "nbconvert_exporter": "python",
   "pygments_lexer": "ipython3",
   "version": "3.8.3-final"
  }
 },
 "nbformat": 4,
 "nbformat_minor": 4
}