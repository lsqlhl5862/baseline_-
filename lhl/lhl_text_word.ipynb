{
 "cells": [
  {
   "cell_type": "markdown",
   "metadata": {},
   "source": [
    "# 导入相关包"
   ]
  },
  {
   "cell_type": "code",
   "execution_count": 1,
   "metadata": {},
   "outputs": [],
   "source": [
    "# 导入相关包\n",
    "import os\n",
    "import pathlib as pl\n",
    "import pandas as pd\n",
    "import numpy as np\n",
    "import re\n",
    "from io import StringIO\n",
    "from datetime import datetime,timedelta\n",
    "import time\n",
    "from IPython.core.interactiveshell import InteractiveShell\n",
    "from tqdm.autonotebook import *\n",
    "import pdfplumber\n",
    "tqdm.pandas()\n",
    "InteractiveShell.ast_node_interactivity = \"all\"\n",
    "sys.path.append(\"..\")\n",
    "\n",
    "from tgrocery import Grocery\n",
    "import jieba"
   ]
  },
  {
   "cell_type": "code",
   "execution_count": null,
   "metadata": {},
   "outputs": [],
   "source": []
  },
  {
   "cell_type": "markdown",
   "metadata": {},
   "source": [
    "# PDF解析原始数据 \n",
    "## 加载数据并采用pdfplumber抽取PDF中的文字和表格\n"
   ]
  },
  {
   "cell_type": "code",
   "execution_count": 2,
   "metadata": {},
   "outputs": [
    {
     "output_type": "execute_result",
     "data": {
      "text/plain": "   sample_id       认购日期        理财产品名称     产品发行方名称    理财类型  认购金额(万元)  \\\n0          1 2019-03-27         汇聚金1号  中融国际信托有限公司      信托   10000.0   \n1          1 2019-03-27  招商银行步步生金8699        招商银行  银行理财产品     200.0   \n\n       产品起息日      产品到息日  产品期限  资金来源    实际购买公司名称 实际购买公司和上市公司关系 买卖方是否有关联关系  \\\n0 2019-03-27 2019-09-23  180天  自有资金  恒生电子股份有限公司          公司本身          否   \n1 2019-03-27        NaT   NaN  自有资金  恒生电子股份有限公司          公司本身          否   \n\n        公告日期  \n0 2019-04-25  \n1 2019-04-25  ",
      "text/html": "<div>\n<style scoped>\n    .dataframe tbody tr th:only-of-type {\n        vertical-align: middle;\n    }\n\n    .dataframe tbody tr th {\n        vertical-align: top;\n    }\n\n    .dataframe thead th {\n        text-align: right;\n    }\n</style>\n<table border=\"1\" class=\"dataframe\">\n  <thead>\n    <tr style=\"text-align: right;\">\n      <th></th>\n      <th>sample_id</th>\n      <th>认购日期</th>\n      <th>理财产品名称</th>\n      <th>产品发行方名称</th>\n      <th>理财类型</th>\n      <th>认购金额(万元)</th>\n      <th>产品起息日</th>\n      <th>产品到息日</th>\n      <th>产品期限</th>\n      <th>资金来源</th>\n      <th>实际购买公司名称</th>\n      <th>实际购买公司和上市公司关系</th>\n      <th>买卖方是否有关联关系</th>\n      <th>公告日期</th>\n    </tr>\n  </thead>\n  <tbody>\n    <tr>\n      <th>0</th>\n      <td>1</td>\n      <td>2019-03-27</td>\n      <td>汇聚金1号</td>\n      <td>中融国际信托有限公司</td>\n      <td>信托</td>\n      <td>10000.0</td>\n      <td>2019-03-27</td>\n      <td>2019-09-23</td>\n      <td>180天</td>\n      <td>自有资金</td>\n      <td>恒生电子股份有限公司</td>\n      <td>公司本身</td>\n      <td>否</td>\n      <td>2019-04-25</td>\n    </tr>\n    <tr>\n      <th>1</th>\n      <td>1</td>\n      <td>2019-03-27</td>\n      <td>招商银行步步生金8699</td>\n      <td>招商银行</td>\n      <td>银行理财产品</td>\n      <td>200.0</td>\n      <td>2019-03-27</td>\n      <td>NaT</td>\n      <td>NaN</td>\n      <td>自有资金</td>\n      <td>恒生电子股份有限公司</td>\n      <td>公司本身</td>\n      <td>否</td>\n      <td>2019-04-25</td>\n    </tr>\n  </tbody>\n</table>\n</div>"
     },
     "metadata": {},
     "execution_count": 2
    },
    {
     "output_type": "execute_result",
     "data": {
      "text/plain": "   sample_id                  file_path  \\\n0          1  datasets/train_data/1.PDF   \n1          2  datasets/train_data/2.PDF   \n\n                                                text  \\\n0  ['                                            ...   \n1  ['                                            ...   \n\n                                               tabel  \n0  [[['', None, None, '', None, None, '', None, N...  \n1  [[['', None, None, '', None, None, '', None, N...  ",
      "text/html": "<div>\n<style scoped>\n    .dataframe tbody tr th:only-of-type {\n        vertical-align: middle;\n    }\n\n    .dataframe tbody tr th {\n        vertical-align: top;\n    }\n\n    .dataframe thead th {\n        text-align: right;\n    }\n</style>\n<table border=\"1\" class=\"dataframe\">\n  <thead>\n    <tr style=\"text-align: right;\">\n      <th></th>\n      <th>sample_id</th>\n      <th>file_path</th>\n      <th>text</th>\n      <th>tabel</th>\n    </tr>\n  </thead>\n  <tbody>\n    <tr>\n      <th>0</th>\n      <td>1</td>\n      <td>datasets/train_data/1.PDF</td>\n      <td>['                                            ...</td>\n      <td>[[['', None, None, '', None, None, '', None, N...</td>\n    </tr>\n    <tr>\n      <th>1</th>\n      <td>2</td>\n      <td>datasets/train_data/2.PDF</td>\n      <td>['                                            ...</td>\n      <td>[[['', None, None, '', None, None, '', None, N...</td>\n    </tr>\n  </tbody>\n</table>\n</div>"
     },
     "metadata": {},
     "execution_count": 2
    },
    {
     "output_type": "execute_result",
     "data": {
      "text/plain": "   sample_id                     file_path  \\\n0      11188  datasets/test_data/11188.PDF   \n1      11189  datasets/test_data/11189.PDF   \n\n                                                text tabel  \n0  ['北京京西文化旅游股份有限公司监事会\\n \\n \\n关于使用部分闲置募集资金购买理财产品的...    []  \n1  ['北京京西文化旅游股份有限公司 \\n监事会关于使用部分自有资金购买理财产品的意见 \\n根据...    []  ",
      "text/html": "<div>\n<style scoped>\n    .dataframe tbody tr th:only-of-type {\n        vertical-align: middle;\n    }\n\n    .dataframe tbody tr th {\n        vertical-align: top;\n    }\n\n    .dataframe thead th {\n        text-align: right;\n    }\n</style>\n<table border=\"1\" class=\"dataframe\">\n  <thead>\n    <tr style=\"text-align: right;\">\n      <th></th>\n      <th>sample_id</th>\n      <th>file_path</th>\n      <th>text</th>\n      <th>tabel</th>\n    </tr>\n  </thead>\n  <tbody>\n    <tr>\n      <th>0</th>\n      <td>11188</td>\n      <td>datasets/test_data/11188.PDF</td>\n      <td>['北京京西文化旅游股份有限公司监事会\\n \\n \\n关于使用部分闲置募集资金购买理财产品的...</td>\n      <td>[]</td>\n    </tr>\n    <tr>\n      <th>1</th>\n      <td>11189</td>\n      <td>datasets/test_data/11189.PDF</td>\n      <td>['北京京西文化旅游股份有限公司 \\n监事会关于使用部分自有资金购买理财产品的意见 \\n根据...</td>\n      <td>[]</td>\n    </tr>\n  </tbody>\n</table>\n</div>"
     },
     "metadata": {},
     "execution_count": 2
    }
   ],
   "source": [
    "# 数据准备(train_output文件中格式有点问题，需要提前用excel或者wps打开然后另存为excel文件)\n",
    "train_outputs = pd.read_excel('../datasets/train_output.xlsx')\n",
    "\n",
    "# 获取pdf中文字和表格\n",
    "def extract_pdf_content(pdf_path):\n",
    "    text_list = []\n",
    "    table_list = []\n",
    "    with pdfplumber.open(pdf_path) as pdf:\n",
    "        for index_page in np.arange(0, len(pdf.pages), 1):\n",
    "            # 读取多页\n",
    "            page = pdf.pages[index_page]   # 第n页的信息\n",
    "            text = page.extract_text()\n",
    "            text_list.append(text)\n",
    "            table = page.extract_tables()\n",
    "            for t in table:\n",
    "                table_list.append(t)\n",
    "    return text_list, table_list\n",
    "\n",
    "def get_dir_file(path):\n",
    "    '''\n",
    "    输入文件夹位置，输出整理好的dataframe\n",
    "    '''\n",
    "    path_list = os.listdir(path)\n",
    "    id_list = []\n",
    "    file_path_list = []\n",
    "    text_list = []\n",
    "    table_list = []\n",
    "    for i in tqdm(path_list):\n",
    "        if '.PDF' in i:\n",
    "            file_path = path + i\n",
    "            id_list.append(int(i.split('.')[0]))\n",
    "            file_path_list.append(file_path)\n",
    "            try:\n",
    "                text_temp, table_temp = extract_pdf_content(file_path)\n",
    "            except Exception:\n",
    "                print('此pdf无法读取')\n",
    "                text_temp, table_temp = [], []\n",
    "            text_list.append(text_temp)\n",
    "            table_list.append(table_temp)\n",
    "            \n",
    "    df = pd.DataFrame()\n",
    "    df['sample_id'] = id_list\n",
    "    df['file_path'] = file_path_list\n",
    "    df['text'] = text_list\n",
    "    df['tabel'] = table_list\n",
    "    df = df.sort_values('sample_id')\n",
    "    return df\n",
    "\n",
    "# 文件处理太慢，可持续化保存文件\n",
    "train_path = '../datasets/train.csv'\n",
    "if os.path.exists(train_path):\n",
    "    train_df = pd.read_csv(train_path)\n",
    "else:\n",
    "    train_df = get_dir_file('datasets/train_data/')\n",
    "    train_df.to_csv(train_path,index=False)\n",
    "    train_df = pd.read_csv(train_path)\n",
    "\n",
    "test_path =  '../datasets/test.csv'\n",
    "if os.path.exists(test_path):\n",
    "    test_df = pd.read_csv(test_path)\n",
    "else:\n",
    "    test_df = get_dir_file('datasets/test_data/')\n",
    "    test_df.to_csv(test_path,index=False)\n",
    "    test_df = pd.read_csv(test_path)\n",
    "\n",
    "train_outputs.head(2)\n",
    "train_df.head(2)\n",
    "test_df.head(2)"
   ]
  },
  {
   "cell_type": "code",
   "execution_count": 3,
   "metadata": {},
   "outputs": [],
   "source": [
    "# 构造训练集验证集\n",
    "train_df = train_df.sample(frac=1, random_state=1017)\n",
    "val_df = train_df[:1800]\n",
    "train_df = train_df[1800:]"
   ]
  },
  {
   "cell_type": "code",
   "execution_count": 5,
   "metadata": {},
   "outputs": [
    {
     "output_type": "execute_result",
     "data": {
      "text/plain": "array([\"[' \\\\n证券代码：603337  证券简称：杰克股份  公告编号：2018-002 \\\\n杰克缝纫机股份有限公司 \\\\n关于公司使用自有闲置资金购买理财产品到期赎回 \\\\n并继续使用部分闲置自有资金购买理财产品的实施公告 \\\\n \\\\n本公司董事会及全体董事保证本公告内容不存在任何虚假记载、误导\\\\n性陈述或者重大遗漏，并对其内容的真实性、准确性和完整性承担个别及\\\\n连带责任。 \\\\n \\\\n杰克缝纫机股份有限公司（以下简称“公司”或“杰克股份”）于 2017 年 1\\\\n月 7 日召开 2017 年第一次临时股东大会，审议通过了《关于公司闲置自有资\\\\n金购买理财的议案》，为提高公司资金使用效率，合理利用自有资金，最大限\\\\n度地发挥短期富余自有资金的作用，在不影响正常经营及风险可控的前提下，\\\\n公司拟使用自有闲置资金购买低风险理财产品，公司使用累计不超过人民币\\\\n70,000 万元的闲置资金购买理财产品。在该额度内，资金可以滚动使用。购买\\\\n理财产品以公司名义进行，公司董事会授权公司财务总监在上述额度范围内行\\\\n使具体决策权，包括但不限于：选择合格专业理财机构作为受托方、明确理财\\\\n金额、期间、选择理财产品品种、签署合同及协议等。2017 年 4 月 13 日，公\\\\n司第四届董事会第一次会议审议通过了《关于增加闲置自有资金购买理财产品\\\\n额度的议案》，同意公司及其控股子公司增加人民币 50,000 万元的闲置自有\\\\n资金购买理财的额度，额度增加后，累计不超过人民币 120,000 万元的闲置资\\\\n金购买理财产品。在该额度内，资金可以滚动使用。有效期自 2017 年第四次', ' \\\\n临时股东大会之日起至 2017 年年度股东大会召开之日止（公告编号：\\\\n2017-027）。2017 年 5 月 2 日，2017 年第四次临时股东大会审议通过了《关\\\\n于增加闲置自有资金购买理财产品额度的议案》（公告编号：2017-045）。 \\\\n \\\\n \\\\n一、 公司使用自有闲置资金购买理财产品到期赎回的情况 \\\\n \\\\n \\\\n金额 （购\\\\n产品购买 产品名 产品类 产品起 产品到 预计年化 赎回金额 收益\\\\n序号  购买单位  签约银行  （万 买）公 赎回日期 \\\\n日期  称  型  息日  期日  收利率  （万元）  （元） \\\\n元）  告号 \\\\n兴业银行股 兴业金雪 非保本\\\\n2017/12/2 2017/12/ 随时赎 2017-\\\\n1  杰克股份 份有限公司 球-优先1 2,928  浮动收 3.60%  2017/12/29  2,660  / \\\\n7  27  回  128 \\\\n台州分行  号  益型 \\\\n兴业银行股 兴业金雪 非保本 2017/12/29  340 \\\\n2017/12/2 2017/12/ 随时赎 2017-\\\\n2  杰克股份 份有限公司 球-优先1 900  浮动收 3.60%  2018/1/12  500  / \\\\n8  28  回  128 \\\\n台州分行  号  益型  2018/1/15  60 \\\\n中国银行股 中银日积 非保本 2018/1/9  200 \\\\n2017/12/2 2017/12/ 随时赎 2018-\\\\n3  杰克股份 份有限公司 月累_日 800  浮动收 3.00%  / \\\\n9  29  回  002  2018/1/10  600 \\\\n台州市分行  计划  益型 \\\\n上海浦东发\\\\n非保本\\\\n2017/12/2 展银行股份 天添利1 2017/12/ 随时赎 2018-\\\\n4  杰克股份  900  浮动收 3.20%  2018/1/10  900  9,468.48 \\\\n9  有限公司椒 号  29  回  002 \\\\n益型 \\\\n江支行 \\\\n中国银行股 中银日积 非保本 2018/1/10  200 \\\\n随时赎 2018-\\\\n5  2018/1/8  杰克股份 份有限公司 月累_日 500  浮动收 2018/1/8  3.00%  / \\\\n回  002  2018/1/12  300 \\\\n台州市分行  计划  益型 \\\\n兴业银行股 兴业金雪 非保本\\\\n随时赎 2018-\\\\n6  2018/1/3  杰克股份 份有限公司 球-优先 650  浮动收 2018/1/3  3.60%  2018/1/15  540  / \\\\n回  002 \\\\n台州分行  1号  益型 \\\\n中信银行股 非保本\\\\n共赢稳健 2018/1/1 随时赎 2018-\\\\n7  2018/1/11 杰克股份 份有限公司 980  浮动收 3.50%  2018/1/12  980  / \\\\n天天快A  1  回  002 \\\\n台州分行  益型 ', ' \\\\n中国银行股 中银日积 非保本\\\\n2018/1/1 随时赎 2018-\\\\n8  2018/1/12 杰克股份 份有限公司 月累_日 650  浮动收 3.00%  2018/1/15  650  / \\\\n2  回  002 \\\\n台州市分行  计划  益型 \\\\n中信银行股 非保本\\\\n共赢稳健 2018/1/1 随时赎 2018-\\\\n9  2018/1/12 杰克股份 份有限公司 648  浮动收 3.50%  2018/1/15  648  / \\\\n天天快A  2  回  002 \\\\n台州分行  益型 \\\\n兴业银行股\\\\n兴业金雪 非保本\\\\n2017/12/1 份有限公司 2017/12/ 随时赎 2017-\\\\n10  拓卡奔马  球-优先 145  浮动收 3.40%  2018/1/2  64  / \\\\n1  台州临海支 11  回  123 \\\\n1号  益型 \\\\n行 \\\\n兴业银行股\\\\n兴业金雪 非保本\\\\n2017/12/2 份有限公司 2017/12/ 随时赎 2017-\\\\n11  拓卡奔马  球-优先 95  浮动收 3.60%  2018/1/2  36  / \\\\n5  台州临海支 25  回  126 \\\\n1号  益型 \\\\n行 \\\\n \\\\n上述理财产品本金均已到账，杰克股份购买的“兴业金雪球-优先 1 号  ”、\\\\n“中银日积月累_日计划”和“共赢稳健天天快 A”以及拓卡奔马购买的“兴\\\\n业金雪球-优先 1 号”的收益未到账。 \\\\n \\\\n二、 公司继续使用部分闲置自有资金购买理财产品的情况 \\\\n \\\\n根据日常经营资金需求，2017 年 12 月 29 日—2018 年 1 月 15 日，公司使\\\\n用自有闲置资金购买人民币为 10,771.00 万元低风险理财产品，现将具体情况\\\\n公告如下： \\\\n（一）、本次购买理财产品的基本情况 \\\\n \\\\n产品购 购买单 金额（万 产品到期 预计年化\\\\n序号  签约机构  产品名称  产品编号  产品类型  产品起息日 \\\\n买日期  位  元）  日  收利率 ', ' \\\\n2017/12/ 拓卡奔 兴业银行股份有限兴业金雪球-优 非保本浮动收益\\\\n1  07810011  183  2017/12/29  随时赎回  3.60% \\\\n29  马  公司台州临海支行  先1号  型 \\\\n拓卡奔 兴业银行股份有限兴业金雪球-优 非保本浮动收益\\\\n2  2018/1/4  07810011  353  2018/1/4  随时赎回  3.60% \\\\n马  公司台州临海支行  先1号  型 \\\\n拓卡奔 兴业银行股份有限兴业金雪球-优 非保本浮动收益\\\\n3  2018/1/5  07810011  73  2018/1/5  随时赎回  3.60% \\\\n马  公司台州临海支行  先1号  型 \\\\n拓卡奔 兴业银行股份有限兴业金雪球-优 非保本浮动收益\\\\n4  2018/1/8  07810011  202  2018/1/8  随时赎回  3.60% \\\\n马  公司台州临海支行  先1号  型 \\\\n2017/12/ 杰克股 兴业银行股份有限兴业金雪球-优 非保本浮动收益\\\\n5  96512011  100  2017/12/29  随时赎回  3.60% \\\\n29  份  公司台州分行  先3号  型 \\\\n2017/12/ 杰克股 中国银行股份有限中银日积月累_ 非保本浮动收益\\\\n6  AMRJYL01  800  2017/12/29  随时赎回  3.00% \\\\n29  份  公司台州市分行  日计划  型 \\\\n上海浦东发展银行\\\\n2017/12/ 杰克股 非保本浮动收益\\\\n7  股份有限公司椒江 天添利1号  2301147031  900  2017/12/29  随时赎回  3.20% \\\\n29  份  型 \\\\n支行 \\\\n中信理财之共\\\\n赢利率结构\\\\n2017/12/ 杰克股 中信银行股份有限\\\\n8  18608期人民 C172Q0108  3,000  保本浮动收益型  2017/12/29  2018/7/2  4.75% \\\\n29  份  公司台州分行 \\\\n币结构性理财\\\\n产品 \\\\n杰克股 兴业银行股份有限兴业金雪球-优 非保本浮动收益\\\\n9  2018/1/2  96512011  1,232  2018/1/2  随时赎回  3.60% \\\\n份  公司台州分行  先3号  型 \\\\n杰克股 兴业银行股份有限兴业金雪球-优 非保本浮动收益\\\\n10  2018/1/3  07810011  650  2018/1/3  随时赎回  3.60% \\\\n份  公司台州分行  先1号  型 \\\\n杰克股 宁波银行股份有限 非保本浮动收益\\\\n11  2018/1/4  现金盈1号  /  500  2018/1/5  随时赎回  5.16% \\\\n份  公司台州分行  型 \\\\n杰克股 中国银行股份有限中银日积月累_ 非保本浮动收益\\\\n12  2018/1/8  AMRJYL01  500  2018/1/8  随时赎回  3.00% \\\\n份  公司台州市分行  日计划  型 \\\\n2018/1/1 杰克股 中信银行股份有限 共赢稳健天天 非保本浮动收益\\\\n13  B160C0152  980  2018/1/11  随时赎回  3.50% \\\\n1  份  公司台州分行  快A  型 \\\\n2018/1/1 杰克股 中国银行股份有限中银日积月累_ 非保本浮动收益\\\\n14  AMRJYL01  650  2018/1/12  随时赎回  3.00% \\\\n2  份  公司台州市分行  日计划  型 \\\\n2018/1/1 杰克股 中信银行股份有限 共赢稳健天天 非保本浮动收益\\\\n15  B160C0152  648  2018/1/12  随时赎回  3.50% \\\\n2  份  公司台州分行  快A  型 \\\\n \\\\n公司与兴业银行股份有限公司台州分行、中国银行股份有限公司台州市分\\\\n行、上海浦东发展银行股份有限公司椒江支行、中信银行股份有限公司台州分\\\\n行、宁波银行股份有限公司台州分行和兴业银行股份有限公司台州临海支行不', ' \\\\n存在关联关系。 \\\\n（二）、风险控制措施 \\\\n公司高度关注理财产品的相关风险并采取以下措施控制风险： \\\\n1、严格遵守审慎投资原则，筛选发行主体，选择信誉好、有能力保障资\\\\n金安全的发行机构。 \\\\n2、财务中心建立投资台账，做好账务处理，及时分析和跟踪理财产品投\\\\n向、进展情况，一旦发现存在可能影响公司资金安全的风险因素，将及时采取\\\\n保全措施，控制投资风险。 \\\\n3、内部审计部门负责对公司购买理财产品的资金使用与保管情况进行审\\\\n计与监督，每个季度对所有理财产品投资项目进行全面检查；根据谨慎性原则，\\\\n合理预计各项投资可能发生的收益和损失，并向公司董事会审计委员会报告。 \\\\n4、独立董事、监事会有权对公司投资理财产品的情况进行定期或不定期\\\\n检查，必要时可以聘请专业机构进行审计。 \\\\n（三）、对公司日常经营的影响 \\\\n公司本次使用闲置自有资金进行理财，充分考虑了日常经营资金需求，确\\\\n保不会影响正常经营、不会影响主营业务正常发展；购买的理财产品为股份制\\\\n银行发行的安全性高、流动性好的短期理财产品，可以提高闲置资金使用效率，\\\\n获得一定的投资收益，为公司和股东谋求更多回报。 \\\\n（四）、截至本公告日，公司累计进行自有闲置资金理财的情况 \\\\n截止本公告日，公司使用闲置自有资金购买理财产品未到期余额为人民币\\\\n103,709.00万元（含本次）。 \\\\n（五）、备查文件 ', ' \\\\n1、《中信理财之共赢稳健天天快车A款人民币理财产品说明书》 \\\\n2、《“兴业金雪球-优先1号”人民币理财产品说明书》 \\\\n3、《“兴业金雪球-优先3号”人民币理财产品说明书》 \\\\n4、《上海浦东发展银行天添利1号理财产品说明书》 \\\\n5、《中信理财之共赢利率结构  18608期人⺠币结构性理财产品说明书》 \\\\n6、《永赢货币市场基金合同》 \\\\n7、《中银日积月累-日计划产品说明书》 \\\\n特此公告。 \\\\n \\\\n杰克缝纫机股份有限公司董事会 \\\\n                                                                    2018 年 1 月 15 日 ']\"],\n      dtype=object)"
     },
     "metadata": {},
     "execution_count": 5
    }
   ],
   "source": [
    "train_df[train_df[\"sample_id\"]==53][\"text\"].values"
   ]
  },
  {
   "cell_type": "code",
   "execution_count": 106,
   "metadata": {
    "tags": []
   },
   "outputs": [
    {
     "output_type": "stream",
     "name": "stderr",
     "text": "100%|██████████| 1800/1800 [00:38<00:00, 46.51it/s]\n100%|██████████| 7217/7217 [01:51<00:00, 65.02it/s]\n"
    }
   ],
   "source": [
    "\n",
    "\n",
    "def get_title(text):\n",
    "    global title_num_char\n",
    "    title_list=[]\n",
    "    title_type_list=[]\n",
    "    text_start_iter_list=[]\n",
    "    text_end_iter_list=[]\n",
    "    for item in title_num_char:\n",
    "        pattern = re.compile(item+r\"[ ]*?[^ ]+?[ ]\")\n",
    "        tmp=pattern.finditer(text)\n",
    "        for i in tmp:\n",
    "            title_list.append(i.group())\n",
    "            text_start_iter_list.append(i.span(0)[0])\n",
    "            title_type_list.append(1)\n",
    "            # text_end_iter_list.append(i.span(0)[1]) #把标题纳入text\n",
    "            text_end_iter_list.append(i.span(0)[0])\n",
    "    \n",
    "    # for item in title_list:\n",
    "    for item in s_title_num_char:\n",
    "        pattern = re.compile(item+r\"[ ]*?[^ ]+?[ ]\")\n",
    "        tmp=pattern.finditer(text)\n",
    "        for i in tmp:\n",
    "            title_list.append(i.group())\n",
    "            text_start_iter_list.append(i.span(0)[0])\n",
    "            title_type_list.append(2)\n",
    "            # text_end_iter_list.append(i.span(0)[1]) #把标题纳入text\n",
    "            text_end_iter_list.append(i.span(0)[0])\n",
    "\n",
    "    title_list.append(\"引言\")\n",
    "    title_type_list.append(1)\n",
    "    text_start_iter_list.append(0)\n",
    "    text_end_iter_list.append(0)\n",
    "\n",
    "    result_df=pd.DataFrame([title_list,title_type_list,text_start_iter_list,text_end_iter_list]).T.sort_values(by=2).reset_index(drop=True)\n",
    "    # print(result_df)\n",
    "    return result_df\n",
    "\n",
    "def get_title_text(text,title_df):\n",
    "    # print(title_df)\n",
    "    title_1_df=title_df[title_df[1]==1]\n",
    "    text_iter_list=[]\n",
    "    text_list=[]\n",
    "    # print(title_1_df)\n",
    "    for iter1,iter2 in title_1_df[[2,3]].values:\n",
    "        # print(iter1)\n",
    "        if(len(text_iter_list)!=0):\n",
    "            text_iter_list.append(iter1)\n",
    "        text_iter_list.append(iter2)\n",
    "    # text_iter_list.append(text_iter_list[len(text_iter_list)-1])\n",
    "    text_iter_list.append(len(text))\n",
    "    for index in range(int(len(text_iter_list)/2)):\n",
    "        text_list.append(text[text_iter_list[2*index]:text_iter_list[2*index+1]])\n",
    "    \n",
    "    if len(text_list)!=0:\n",
    "        title_1_df[4]=text_list\n",
    "    else:\n",
    "        text_list.append(text)\n",
    "        title_1_df[4]=text_list\n",
    "\n",
    "    return title_1_df.reset_index(drop=True)\n",
    "\n",
    "from fuzzywuzzy import fuzz\n",
    "def judge_title(sample_id=0,text=r\"test\\n\"):\n",
    "    # print(text)\n",
    "    text=text.replace(r\"\\^\",\"\")\n",
    "    # count=re.findall(r\".*?\\^.*?\",text)\n",
    "    # if (count is not None and len(count)>0):\n",
    "    #     print(len(count))\n",
    "    #     print(sample_id)\n",
    "    #     print(\"————————————————\")\n",
    "    text=text.replace(r\"\\n\",\"^\").replace(\"（\",\"(\").replace(\"）\",\")\")\n",
    "    text=re.sub(\"[ ]+?[ ]+\",\"\",text)\n",
    "    title_df=get_title(text)\n",
    "    # count=re.findall(r\".*?\\^.*?\",text)\n",
    "    # if (count is not None and len(count)>0):\n",
    "    #     print(len(count))\n",
    "    #     print(sample_id)\n",
    "    #     print(\"————————————————\")\n",
    "    title_df[\"sample_id\"]=[sample_id for x in range(title_df.shape[0])]\n",
    "    # print(title_df)\n",
    "    title_1_df=get_title_text(text,title_df)[[\"sample_id\",0,1,2,3,4]]\n",
    "\n",
    "    \n",
    "\n",
    "    global val_df\n",
    "    global train_outputs\n",
    "    val_true_name=train_outputs[train_outputs[\"sample_id\"]==sample_id][\"理财产品名称\"]\n",
    "    \n",
    "    index=0\n",
    "    neg_index=[]\n",
    "    for title_des in title_1_df[0].values:\n",
    "        for item in title_neg_words:\n",
    "            if re.search(item,title_des) is not None:\n",
    "                neg_index.append(index)\n",
    "                break\n",
    "        index+=1\n",
    "\n",
    "\n",
    "    return title_1_df.drop(neg_index)\n",
    "    # print(title_list)\n",
    "\n",
    "def get_judge_title_result(val_df):\n",
    "\n",
    "    judge_title_result=None\n",
    "\n",
    "\n",
    "    for sample_id,text in tqdm(val_df[[\"sample_id\",\"text\"]].values):\n",
    "        # print(sample_id)\n",
    "        # print(text)\n",
    "        judge_title_result= judge_title(sample_id,text) if judge_title_result is None else pd.concat([judge_title_result,judge_title(sample_id,text)])\n",
    "    \n",
    "    return judge_title_result\n",
    "\n",
    "title_num_char=[\"一、\",\"二、\",\"三、\",\"四、\",\"五、\",\"六、\",\"七、\",\"八、\",\"九、\",\"十、\",\"十一、\",\"十二、\",\"十三、\",\"十四、\",\"十五、\"]\n",
    "s_title_num_char=[\"（一）\",\"（二）\",\"（三）\",\"（四）\",\"（五）\",\"（六）\",\"（七）\",\"（八）\",\"（九）\",\"（十）\",\"（十一）\",\"（十二）\",\"（十三）\",\"（十四）\",\"（十五）\"]\n",
    "s_title_num_char.extend([\"[(]一[)]\",\"[(]二[)]\",\"[(]三[)]\",\"[(]四[)]\",\"[(]五[)]\",\"[(]六[)]\",\"[(]七[)]\",\"[(]八[)]\",\"[(]九[)]\",\"[(]十[)]\",\"[(]十一[)]\",\"[(]十二[)]\",\"[(]十三[)]\",\"[(]十四[)]\",\"[(]十五[)]\"])\n",
    "\n",
    "title_pos_words=[]\n",
    "title_neg_words=[\"备查\",\"日前\",\"过去\",\"履行\",\"审批\",\"程序\",\"风险\",\"措施\",\"影响\",\"累计\",\"赎回\",\"到期\",\"截至\",\"意见\",\"十二个月内\",\"公告前\",\"报备文件\",\"前期\"]\n",
    "\n",
    "val_judge_title_result=get_judge_title_result(val_df)\n",
    "train_judge_title_result=get_judge_title_result(train_df)\n",
    "# test_judge_title_result=get_judge_title_result(test_df)\n",
    "# judge_title_result.to_excel(\"训练集段落标题分类结果.xlsx\",index=None)\n"
   ]
  },
  {
   "cell_type": "markdown",
   "metadata": {},
   "source": [
    "# 发行方\\实际购买公司\\上下文分类器"
   ]
  },
  {
   "cell_type": "code",
   "execution_count": 109,
   "metadata": {},
   "outputs": [],
   "source": [
    "# 提取公司\n",
    "# train_lstm_input = pd.merge(train_df, train_outputs, on='sample_id', how='left')\n",
    "# result_matrix\n",
    "train_lstm_input = pd.merge(train_df, train_outputs, on='sample_id', how='left')\n",
    "\n",
    "train_lstm_input = train_lstm_input.fillna('否')\n",
    "\n",
    "# label_1理财类型-10  label_2资金来源-3 label_3实际购买公司和上市公司关系-3 label_4买卖方是否有关联关系-2\n",
    "# label_2 = LabelEncoder()\n",
    "# label_3 = LabelEncoder()\n",
    "# label_4 = LabelEncoder()\n",
    "\n",
    "train_data = pd.DataFrame()\n",
    "tmp=pd.DataFrame()\n",
    "# train_data['sample_id']=train_lstm_input['sample_id'].astype(str) \n",
    "# train_data['text_1'] = train_lstm_input['理财产品名称'].astype(str) \n",
    "\n",
    "# # train_data['text_1'] = train_lstm_input['理财产品名称'].astype(str) + '_' + train_lstm_input['产品发行方名称'].astype(str)\n",
    "\n",
    "# # train_data['text_2'] = train_lstm_input['text'].astype(str)\n",
    "\n",
    "# # train_lstm_input[\"文本类别\"]=\"理财产品\"\n",
    "\n",
    "# train_data['label_1'] = \"理财产品\"\n",
    "\n",
    "\n",
    "train_data2=train_lstm_input[train_lstm_input[\"产品发行方名称\"]!=\"否\"].reset_index(drop=True)\n",
    "\n",
    "# train_data2[\"文本类别\"]=\"发行方\"\n",
    "tmp['sample_id']=train_data2['sample_id'].astype(str) \n",
    "tmp['text_1']=train_data2[\"产品发行方名称\"].astype(str)\n",
    "\n",
    "# tmp['text_2']= train_data2[\"text\"].astype(str)\n",
    "\n",
    "tmp['label_1']=\"发行方\"\n",
    "\n",
    "train_data = pd.concat([train_data,tmp]).reset_index(drop=True)\n",
    "\n",
    "train_data2=train_lstm_input[train_lstm_input[\"实际购买公司名称\"]!=\"否\"].reset_index(drop=True)\n",
    "\n",
    "# train_data2[\"文本类别\"]=\"发行方\"\n",
    "tmp['sample_id']=train_data2['sample_id'].astype(str) \n",
    "tmp['text_1']=train_data2[\"实际购买公司名称\"].astype(str)\n",
    "\n",
    "# tmp['text_2']= train_data2[\"text\"].astype(str)\n",
    "\n",
    "tmp['label_1']=\"购买公司\"\n",
    "\n",
    "train_data = pd.concat([train_data,tmp]).reset_index(drop=True)\n",
    "\n",
    "train_data=train_data.drop_duplicates(subset=[\"sample_id\",\"text_1\"])\n",
    "# train_data\n",
    "sample_text={}\n",
    "sample_text[\"sample_id\"]=[]\n",
    "sample_text[\"text\"]=[]\n",
    "for sample_id in train_judge_title_result[\"sample_id\"].unique():\n",
    "    text_list=[]\n",
    "    for item in train_judge_title_result[train_judge_title_result[\"sample_id\"]==sample_id][4].values:\n",
    "        text_list.append(item)\n",
    "    sample_text[\"text\"].append((\"\").join(i for i in text_list))\n",
    "    sample_text[\"sample_id\"].append(sample_id)\n",
    "\n",
    "sample_text=pd.DataFrame(sample_text)\n",
    "sample_text[\"sample_id\"]=sample_text[\"sample_id\"].astype(str)\n",
    "\n",
    "train_data[\"sample_id\"]=train_data[\"sample_id\"].astype(str)\n",
    "# for  item in \n",
    "\n",
    "# train_src=[]\n",
    "# for text,label in train_data[[\"text_1\",\"label_1\"]].values:\n",
    "#     train_src.append([label,text])\n",
    "\n",
    "\n",
    "# grocery_word_selector=Grocery(\"wordSelector\")\n",
    "\n",
    "\n",
    "# grocery_word_selector.train(train_src)\n",
    "\n",
    "# grocery_word_selector.save()\n",
    "\n"
   ]
  },
  {
   "cell_type": "code",
   "execution_count": 110,
   "metadata": {
    "tags": []
   },
   "outputs": [
    {
     "output_type": "stream",
     "name": "stderr",
     "text": "  5%|▍         | 1050/22432 [00:07<02:05, 170.41it/s]"
    },
    {
     "output_type": "execute_result",
     "data": {
      "text/plain": "'2448'"
     },
     "metadata": {},
     "execution_count": 110
    },
    {
     "output_type": "execute_result",
     "data": {
      "text/plain": "'江苏银行'"
     },
     "metadata": {},
     "execution_count": 110
    },
    {
     "output_type": "stream",
     "name": "stderr",
     "text": "  7%|▋         | 1599/22432 [00:11<02:12, 157.34it/s]"
    },
    {
     "output_type": "execute_result",
     "data": {
      "text/plain": "'5942'"
     },
     "metadata": {},
     "execution_count": 110
    },
    {
     "output_type": "execute_result",
     "data": {
      "text/plain": "'山东沂源农村商业银行股份有限公司'"
     },
     "metadata": {},
     "execution_count": 110
    },
    {
     "output_type": "stream",
     "name": "stderr",
     "text": "  8%|▊         | 1820/22432 [00:12<02:03, 166.45it/s]"
    },
    {
     "output_type": "execute_result",
     "data": {
      "text/plain": "'5935'"
     },
     "metadata": {},
     "execution_count": 110
    },
    {
     "output_type": "execute_result",
     "data": {
      "text/plain": "'山东沂源农村商业银行股份有限公司'"
     },
     "metadata": {},
     "execution_count": 110
    },
    {
     "output_type": "execute_result",
     "data": {
      "text/plain": "'5952'"
     },
     "metadata": {},
     "execution_count": 110
    },
    {
     "output_type": "execute_result",
     "data": {
      "text/plain": "'交通银行股份有限公司'"
     },
     "metadata": {},
     "execution_count": 110
    },
    {
     "output_type": "stream",
     "name": "stderr",
     "text": "8%|▊         | 1840/22432 [00:12<02:00, 170.35it/s]"
    },
    {
     "output_type": "execute_result",
     "data": {
      "text/plain": "'5952'"
     },
     "metadata": {},
     "execution_count": 110
    },
    {
     "output_type": "execute_result",
     "data": {
      "text/plain": "'山东沂源农村商业银行股份有限公司'"
     },
     "metadata": {},
     "execution_count": 110
    },
    {
     "output_type": "stream",
     "name": "stderr",
     "text": " 14%|█▍        | 3091/22432 [00:21<02:08, 149.96it/s]"
    },
    {
     "output_type": "execute_result",
     "data": {
      "text/plain": "'5934'"
     },
     "metadata": {},
     "execution_count": 110
    },
    {
     "output_type": "execute_result",
     "data": {
      "text/plain": "'山东沂源农村商业银行股份有限公司'"
     },
     "metadata": {},
     "execution_count": 110
    },
    {
     "output_type": "stream",
     "name": "stderr",
     "text": " 18%|█▊        | 4105/22432 [00:30<03:11, 95.59it/s]"
    },
    {
     "output_type": "execute_result",
     "data": {
      "text/plain": "'5924'"
     },
     "metadata": {},
     "execution_count": 110
    },
    {
     "output_type": "execute_result",
     "data": {
      "text/plain": "'山东沂源农村商业银行股份有限公司'"
     },
     "metadata": {},
     "execution_count": 110
    },
    {
     "output_type": "stream",
     "name": "stderr",
     "text": " 18%|█▊        | 4148/22432 [00:30<02:38, 115.04it/s]"
    },
    {
     "output_type": "execute_result",
     "data": {
      "text/plain": "'5941'"
     },
     "metadata": {},
     "execution_count": 110
    },
    {
     "output_type": "execute_result",
     "data": {
      "text/plain": "'山东沂源农村商业银行股份有限公司'"
     },
     "metadata": {},
     "execution_count": 110
    },
    {
     "output_type": "stream",
     "name": "stderr",
     "text": " 22%|██▏       | 4827/22432 [00:35<02:11, 134.06it/s]"
    },
    {
     "output_type": "execute_result",
     "data": {
      "text/plain": "'4515'"
     },
     "metadata": {},
     "execution_count": 110
    },
    {
     "output_type": "execute_result",
     "data": {
      "text/plain": "'长江证券'"
     },
     "metadata": {},
     "execution_count": 110
    },
    {
     "output_type": "stream",
     "name": "stderr",
     "text": " 25%|██▍       | 5509/22432 [00:40<01:51, 151.50it/s]"
    },
    {
     "output_type": "execute_result",
     "data": {
      "text/plain": "'5947'"
     },
     "metadata": {},
     "execution_count": 110
    },
    {
     "output_type": "execute_result",
     "data": {
      "text/plain": "'山东沂源农村商业银行股份有限公司'"
     },
     "metadata": {},
     "execution_count": 110
    },
    {
     "output_type": "stream",
     "name": "stderr",
     "text": " 28%|██▊       | 6196/22432 [00:45<02:21, 114.68it/s]"
    },
    {
     "output_type": "execute_result",
     "data": {
      "text/plain": "'4514'"
     },
     "metadata": {},
     "execution_count": 110
    },
    {
     "output_type": "execute_result",
     "data": {
      "text/plain": "'长江证券'"
     },
     "metadata": {},
     "execution_count": 110
    },
    {
     "output_type": "stream",
     "name": "stderr",
     "text": " 29%|██▉       | 6565/22432 [00:47<01:59, 133.13it/s]"
    },
    {
     "output_type": "execute_result",
     "data": {
      "text/plain": "'1715'"
     },
     "metadata": {},
     "execution_count": 110
    },
    {
     "output_type": "execute_result",
     "data": {
      "text/plain": "'中国银行彭州支行'"
     },
     "metadata": {},
     "execution_count": 110
    },
    {
     "output_type": "stream",
     "name": "stderr",
     "text": " 30%|███       | 6738/22432 [00:48<01:33, 167.00it/s]"
    },
    {
     "output_type": "execute_result",
     "data": {
      "text/plain": "'5953'"
     },
     "metadata": {},
     "execution_count": 110
    },
    {
     "output_type": "execute_result",
     "data": {
      "text/plain": "'山东沂源农村商业银行股份有限公司'"
     },
     "metadata": {},
     "execution_count": 110
    },
    {
     "output_type": "stream",
     "name": "stderr",
     "text": " 31%|███       | 6929/22432 [00:50<02:16, 113.69it/s]"
    },
    {
     "output_type": "execute_result",
     "data": {
      "text/plain": "'5918'"
     },
     "metadata": {},
     "execution_count": 110
    },
    {
     "output_type": "execute_result",
     "data": {
      "text/plain": "'山东沂源农村商业银行股份有限公司'"
     },
     "metadata": {},
     "execution_count": 110
    },
    {
     "output_type": "stream",
     "name": "stderr",
     "text": " 32%|███▏      | 7080/22432 [00:51<02:01, 125.96it/s]"
    },
    {
     "output_type": "execute_result",
     "data": {
      "text/plain": "'5951'"
     },
     "metadata": {},
     "execution_count": 110
    },
    {
     "output_type": "execute_result",
     "data": {
      "text/plain": "'山东沂源农村商业银行股份有限公司'"
     },
     "metadata": {},
     "execution_count": 110
    },
    {
     "output_type": "stream",
     "name": "stderr",
     "text": " 44%|████▍     | 9943/22432 [01:15<01:29, 140.31it/s]"
    },
    {
     "output_type": "execute_result",
     "data": {
      "text/plain": "'4516'"
     },
     "metadata": {},
     "execution_count": 110
    },
    {
     "output_type": "execute_result",
     "data": {
      "text/plain": "'长江证券'"
     },
     "metadata": {},
     "execution_count": 110
    },
    {
     "output_type": "stream",
     "name": "stderr",
     "text": " 51%|█████     | 11397/22432 [01:25<01:16, 144.91it/s]"
    },
    {
     "output_type": "execute_result",
     "data": {
      "text/plain": "'6855'"
     },
     "metadata": {},
     "execution_count": 110
    },
    {
     "output_type": "execute_result",
     "data": {
      "text/plain": "'九江银行合肥分行'"
     },
     "metadata": {},
     "execution_count": 110
    },
    {
     "output_type": "stream",
     "name": "stderr",
     "text": " 51%|█████     | 11428/22432 [01:25<01:22, 134.15it/s]"
    },
    {
     "output_type": "execute_result",
     "data": {
      "text/plain": "'5928'"
     },
     "metadata": {},
     "execution_count": 110
    },
    {
     "output_type": "execute_result",
     "data": {
      "text/plain": "'山东沂源农村商业银行股份有限公司'"
     },
     "metadata": {},
     "execution_count": 110
    },
    {
     "output_type": "stream",
     "name": "stderr",
     "text": " 53%|█████▎    | 11867/22432 [01:28<01:17, 136.18it/s]"
    },
    {
     "output_type": "execute_result",
     "data": {
      "text/plain": "'4523'"
     },
     "metadata": {},
     "execution_count": 110
    },
    {
     "output_type": "execute_result",
     "data": {
      "text/plain": "'平安证券'"
     },
     "metadata": {},
     "execution_count": 110
    },
    {
     "output_type": "stream",
     "name": "stderr",
     "text": " 57%|█████▋    | 12876/22432 [01:35<00:59, 160.14it/s]"
    },
    {
     "output_type": "execute_result",
     "data": {
      "text/plain": "'4543'"
     },
     "metadata": {},
     "execution_count": 110
    },
    {
     "output_type": "execute_result",
     "data": {
      "text/plain": "'平安证券'"
     },
     "metadata": {},
     "execution_count": 110
    },
    {
     "output_type": "stream",
     "name": "stderr",
     "text": "100%|██████████| 22432/22432 [03:05<00:00, 120.62it/s]\n"
    },
    {
     "output_type": "execute_result",
     "data": {
      "text/plain": "      sample_id                   text_1 label_1\n0          6761                      公司与     上下文\n1          6761                  不存在关联关系     上下文\n2          7442                      公司与     上下文\n3          7442                   (以下^简称     上下文\n4         10746                     日购买了     上下文\n...         ...                      ...     ...\n60533      8778                    (以下简称     上下文\n60534      5808                        ^     上下文\n60535      5808                        ^     上下文\n60536      5808                        (     上下文\n60537      5808  关于使用^暂时闲置的募集资金进行现金管理的公告     上下文\n\n[60538 rows x 3 columns]",
      "text/html": "<div>\n<style scoped>\n    .dataframe tbody tr th:only-of-type {\n        vertical-align: middle;\n    }\n\n    .dataframe tbody tr th {\n        vertical-align: top;\n    }\n\n    .dataframe thead th {\n        text-align: right;\n    }\n</style>\n<table border=\"1\" class=\"dataframe\">\n  <thead>\n    <tr style=\"text-align: right;\">\n      <th></th>\n      <th>sample_id</th>\n      <th>text_1</th>\n      <th>label_1</th>\n    </tr>\n  </thead>\n  <tbody>\n    <tr>\n      <th>0</th>\n      <td>6761</td>\n      <td>公司与</td>\n      <td>上下文</td>\n    </tr>\n    <tr>\n      <th>1</th>\n      <td>6761</td>\n      <td>不存在关联关系</td>\n      <td>上下文</td>\n    </tr>\n    <tr>\n      <th>2</th>\n      <td>7442</td>\n      <td>公司与</td>\n      <td>上下文</td>\n    </tr>\n    <tr>\n      <th>3</th>\n      <td>7442</td>\n      <td>(以下^简称</td>\n      <td>上下文</td>\n    </tr>\n    <tr>\n      <th>4</th>\n      <td>10746</td>\n      <td>日购买了</td>\n      <td>上下文</td>\n    </tr>\n    <tr>\n      <th>...</th>\n      <td>...</td>\n      <td>...</td>\n      <td>...</td>\n    </tr>\n    <tr>\n      <th>60533</th>\n      <td>8778</td>\n      <td>(以下简称</td>\n      <td>上下文</td>\n    </tr>\n    <tr>\n      <th>60534</th>\n      <td>5808</td>\n      <td>^</td>\n      <td>上下文</td>\n    </tr>\n    <tr>\n      <th>60535</th>\n      <td>5808</td>\n      <td>^</td>\n      <td>上下文</td>\n    </tr>\n    <tr>\n      <th>60536</th>\n      <td>5808</td>\n      <td>(</td>\n      <td>上下文</td>\n    </tr>\n    <tr>\n      <th>60537</th>\n      <td>5808</td>\n      <td>关于使用^暂时闲置的募集资金进行现金管理的公告</td>\n      <td>上下文</td>\n    </tr>\n  </tbody>\n</table>\n<p>60538 rows × 3 columns</p>\n</div>"
     },
     "metadata": {},
     "execution_count": 110
    }
   ],
   "source": [
    "neg_train_data={}\n",
    "neg_train_data[\"sample_id\"]=[]\n",
    "neg_train_data[\"text_1\"]=[]\n",
    "for sample_id,item in tqdm(train_data[[\"sample_id\",\"text_1\"]].values):\n",
    "    # sample_id\n",
    "    # item\n",
    "    try:\n",
    "        text=sample_text[sample_text[\"sample_id\"]==sample_id][\"text\"].iloc[0]\n",
    "        raw_word=item\n",
    "        char_list=[]\n",
    "        for char in item:\n",
    "            char_list.append(\"[\"+char+\"]\")\n",
    "        word=(\"[\\^ ]*?\").join(i for i in char_list)\n",
    "        # word\n",
    "        word_pattern=re.compile(word)\n",
    "        tmp_text=text\n",
    "        for i in word_pattern.finditer(text):\n",
    "            len_word=i.span(0)[1]-i.span(0)[0]\n",
    "            # i.group()\n",
    "            tmp=re.search(\"[A-Za-z\\u4e00-\\u9fa5\\^()（）]*\"+word,tmp_text)\n",
    "            if(len(tmp.group()[:len(tmp.group())-len_word])>0):\n",
    "                neg_train_data[\"sample_id\"].append(sample_id)\n",
    "                neg_train_data[\"text_1\"].append(tmp.group()[:len(tmp.group())-len_word])\n",
    "            tmp_text=text[i.span(0)[1]+1:]\n",
    "\n",
    "        tmp_text=text\n",
    "        for i in word_pattern.finditer(text):\n",
    "            len_word=i.span(0)[1]-i.span(0)[0]\n",
    "            # i.group()\n",
    "            tmp=re.search(word+\"[A-Za-z\\u4e00-\\u9fa5\\^()（）]*\",tmp_text)\n",
    "            if(len(tmp.group()[len_word:])>0):\n",
    "                neg_train_data[\"sample_id\"].append(sample_id)\n",
    "                neg_train_data[\"text_1\"].append(tmp.group()[len_word:])\n",
    "            tmp_text=text[i.span(0)[1]+1:]\n",
    "    except:\n",
    "        pass\n",
    "        sample_id\n",
    "        item\n",
    "\n",
    "neg_train_data=pd.DataFrame(neg_train_data)\n",
    "neg_train_data[\"label_1\"]=\"上下文\"\n",
    "neg_train_data\n",
    "        # text\n",
    "    # firm_pattern=re.compile(\"[0-9A-Za-z\\u4e00-\\u9fa5\\^()（）]+?\"+word+\"[0-9A-Za-z\\u4e00-\\u9fa5\\^()（）]*\")\n",
    "    # re_result=firm_pattern.findall(text)\n",
    "\n",
    "    "
   ]
  },
  {
   "cell_type": "code",
   "execution_count": 111,
   "metadata": {
    "tags": []
   },
   "outputs": [
    {
     "output_type": "execute_result",
     "data": {
      "text/plain": "<tgrocery.Grocery at 0x20e5f03c3a0>"
     },
     "metadata": {},
     "execution_count": 111
    }
   ],
   "source": [
    "train_src=[]\n",
    "for text,label in pd.concat([train_data,neg_train_data])[[\"text_1\",\"label_1\"]].values:\n",
    "    train_src.append([label,text])\n",
    "\n",
    "\n",
    "grocery_word_selector=Grocery(\"wordSelector\")\n",
    "\n",
    "\n",
    "grocery_word_selector.train(train_src)\n",
    "\n",
    "grocery_word_selector.save()"
   ]
  },
  {
   "cell_type": "markdown",
   "metadata": {},
   "source": [
    "# 产品名称\\发行方\\其他字段分类器 "
   ]
  },
  {
   "cell_type": "code",
   "execution_count": 329,
   "metadata": {},
   "outputs": [
    {
     "output_type": "execute_result",
     "data": {
      "text/plain": "                              text_1 label_1\n0                 中银保本理财-人民币按期开放理财产品    理财产品\n1                 中银保本理财-人民币按期开放理财产品    理财产品\n2                        与利率挂钩的结构性产品    理财产品\n3             广发银行“薪加薪”16号XJXCKJ2578    理财产品\n4       兴业银行“金雪球-优悦”保本开放式人民币理财产品(2M)    理财产品\n...                              ...     ...\n185903                  上海浦兴投资发展有限公司      其它\n185904                  上海浦兴投资发展有限公司      其它\n185905                  上海浦兴投资发展有限公司      其它\n185906                  上海浦兴投资发展有限公司      其它\n185907             上海市浦东新区建设(集团)有限公司      其它\n\n[185908 rows x 2 columns]",
      "text/html": "<div>\n<style scoped>\n    .dataframe tbody tr th:only-of-type {\n        vertical-align: middle;\n    }\n\n    .dataframe tbody tr th {\n        vertical-align: top;\n    }\n\n    .dataframe thead th {\n        text-align: right;\n    }\n</style>\n<table border=\"1\" class=\"dataframe\">\n  <thead>\n    <tr style=\"text-align: right;\">\n      <th></th>\n      <th>text_1</th>\n      <th>label_1</th>\n    </tr>\n  </thead>\n  <tbody>\n    <tr>\n      <th>0</th>\n      <td>中银保本理财-人民币按期开放理财产品</td>\n      <td>理财产品</td>\n    </tr>\n    <tr>\n      <th>1</th>\n      <td>中银保本理财-人民币按期开放理财产品</td>\n      <td>理财产品</td>\n    </tr>\n    <tr>\n      <th>2</th>\n      <td>与利率挂钩的结构性产品</td>\n      <td>理财产品</td>\n    </tr>\n    <tr>\n      <th>3</th>\n      <td>广发银行“薪加薪”16号XJXCKJ2578</td>\n      <td>理财产品</td>\n    </tr>\n    <tr>\n      <th>4</th>\n      <td>兴业银行“金雪球-优悦”保本开放式人民币理财产品(2M)</td>\n      <td>理财产品</td>\n    </tr>\n    <tr>\n      <th>...</th>\n      <td>...</td>\n      <td>...</td>\n    </tr>\n    <tr>\n      <th>185903</th>\n      <td>上海浦兴投资发展有限公司</td>\n      <td>其它</td>\n    </tr>\n    <tr>\n      <th>185904</th>\n      <td>上海浦兴投资发展有限公司</td>\n      <td>其它</td>\n    </tr>\n    <tr>\n      <th>185905</th>\n      <td>上海浦兴投资发展有限公司</td>\n      <td>其它</td>\n    </tr>\n    <tr>\n      <th>185906</th>\n      <td>上海浦兴投资发展有限公司</td>\n      <td>其它</td>\n    </tr>\n    <tr>\n      <th>185907</th>\n      <td>上海市浦东新区建设(集团)有限公司</td>\n      <td>其它</td>\n    </tr>\n  </tbody>\n</table>\n<p>185908 rows × 2 columns</p>\n</div>"
     },
     "metadata": {},
     "execution_count": 329
    },
    {
     "output_type": "execute_result",
     "data": {
      "text/plain": "<tgrocery.Grocery at 0x20e60ec1a00>"
     },
     "metadata": {},
     "execution_count": 329
    }
   ],
   "source": [
    "# 最后一部分字段采用预测好的部分，跟提取的text做交互采用双输入lstm在dense层做交互预测最后几个字段\n",
    "\n",
    "# train_lstm_input = pd.merge(train_df, train_outputs, on='sample_id', how='left')\n",
    "# result_matrix\n",
    "# from tgrocery import Grocery\n",
    "train_lstm_input = pd.merge(train_df, train_outputs, on='sample_id', how='left')\n",
    "\n",
    "train_lstm_input = train_lstm_input.fillna('否')\n",
    "\n",
    "# label_1理财类型-10  label_2资金来源-3 label_3实际购买公司和上市公司关系-3 label_4买卖方是否有关联关系-2\n",
    "# from sklearn.preprocessing import LabelEncoder\n",
    "# label_2 = LabelEncoder()\n",
    "# label_3 = LabelEncoder()\n",
    "# label_4 = LabelEncoder()\n",
    "\n",
    "train_data = pd.DataFrame()\n",
    "tmp=pd.DataFrame()\n",
    "train_data['text_1'] = train_lstm_input['理财产品名称'].astype(str) \n",
    "\n",
    "# train_data['text_1'] = train_lstm_input['理财产品名称'].astype(str) + '_' + train_lstm_input['产品发行方名称'].astype(str)\n",
    "\n",
    "# train_data['text_2'] = train_lstm_input['text'].astype(str)\n",
    "\n",
    "# train_lstm_input[\"文本类别\"]=\"理财产品\"\n",
    "\n",
    "train_data['label_1'] = \"理财产品\"\n",
    "\n",
    "\n",
    "train_data2=train_lstm_input[train_lstm_input[\"产品发行方名称\"]!=\"否\"].reset_index(drop=True)\n",
    "\n",
    "# train_data2[\"文本类别\"]=\"发行方\"\n",
    "\n",
    "tmp['text_1']=train_data2[\"产品发行方名称\"].astype(str)\n",
    "\n",
    "# tmp['text_2']= train_data2[\"text\"].astype(str)\n",
    "\n",
    "tmp['label_1']=\"发行方\"\n",
    "\n",
    "train_data = pd.concat([train_data,tmp]).reset_index(drop=True)\n",
    "\n",
    "# train_data2=train_lstm_input[train_lstm_input[\"实际购买公司名称\"]!=\"否\"].reset_index(drop=True)\n",
    "\n",
    "# # train_data2[\"文本类别\"]=\"发行方\"\n",
    "\n",
    "# tmp['text_1']=train_data2[\"实际购买公司名称\"].astype(str)\n",
    "\n",
    "# # tmp['text_2']= train_data2[\"text\"].astype(str)\n",
    "\n",
    "# tmp['label_1']=\"购买公司\"\n",
    "\n",
    "# train_data = pd.concat([train_data,tmp]).reset_index(drop=True)\n",
    "\n",
    "\n",
    "other_columns_list=[\"认购金额(万元)\",\"认购日期\",\"资金来源\",\"实际购买公司和上市公司关系\",\"实际购买公司名称\"]\n",
    "\n",
    "for item in other_columns_list:\n",
    "    train_lstm_input[item]=train_lstm_input[item].astype(str)\n",
    "\n",
    "    train_data2=train_lstm_input[train_lstm_input[item]!=\"否\"].reset_index(drop=True)\n",
    "\n",
    "    # train_data2[\"文本类别\"]=item\n",
    "\n",
    "    tmp['text_1']=train_data2[item].astype(str)\n",
    "\n",
    "    # tmp['text_2']= train_data2[\"text\"].astype(str)\n",
    "\n",
    "    tmp['label_1']=\"其它\"\n",
    "\n",
    "    \n",
    "    train_data = pd.concat([train_data,tmp]).reset_index(drop=True)\n",
    "\n",
    "\n",
    "\n",
    "# train_data['label_2'] = label_2.fit_transform(train_lstm_input['资金来源'])\n",
    "# train_data['label_3'] = label_3.fit_transform(train_lstm_input['实际购买公司和上市公司关系'])\n",
    "# train_data['label_4'] = label_4.fit_transform(train_lstm_input['买卖方是否有关联关系'])\n",
    "train_data\n",
    "\n",
    "train_src=[]\n",
    "for text,label in train_data[[\"text_1\",\"label_1\"]].values:\n",
    "    train_src.append([label,text])\n",
    "\n",
    "\n",
    "grocery=Grocery(\"productOrcounter\")\n",
    "\n",
    "\n",
    "grocery.train(train_src)\n",
    "\n",
    "grocery.save()\n",
    "\n"
   ]
  },
  {
   "cell_type": "code",
   "execution_count": 6,
   "metadata": {
    "tags": []
   },
   "outputs": [
    {
     "output_type": "stream",
     "name": "stderr",
     "text": "100%|██████████| 32818/32818 [00:00<00:00, 596697.94it/s]\n"
    }
   ],
   "source": [
    "import jieba.analyse\n",
    "import jieba\n",
    "\n",
    "text_list=[]\n",
    "for product_name in tqdm(train_outputs[\"产品发行方名称\"].values):\n",
    "    text_list.append(str(product_name))\n",
    "\n",
    "# text_list\n",
    "\n",
    "a_list=[]\n",
    "\n",
    "for x in jieba.analyse.extract_tags((\",\").join(i for i in text_list),topK=100):#可以再添加一个参数指定输出个数\n",
    "    a_list.append(x)#直接输出关键词和词频\n",
    "\n",
    "# a_list\n",
    "\n",
    "# text_list=[]\n",
    "# for product_name in tqdm(train_outputs[\"理财产品名称\"].values):\n",
    "#     text_list.append(str(product_name))\n",
    "\n",
    "# b_list=[]\n",
    "\n",
    "# for x in jieba.analyse.extract_tags((\",\").join(i for i in text_list)):#可以再添加一个参数指定输出个数\n",
    "#     b_list.append(x)\n",
    "\n",
    "# set(b_list).difference(a_list)"
   ]
  },
  {
   "cell_type": "code",
   "execution_count": 157,
   "metadata": {
    "tags": []
   },
   "outputs": [
    {
     "output_type": "execute_result",
     "data": {
      "text/plain": "'123567'"
     },
     "metadata": {},
     "execution_count": 157
    },
    {
     "output_type": "execute_result",
     "data": {
      "text/plain": "True"
     },
     "metadata": {},
     "execution_count": 157
    }
   ],
   "source": [
    "# a=\"^潜江永安药业股份有限公司\"\n",
    "# firm=['公司', '银行', '分行', '支行', '中心', '业部', '商行', '建行']\n",
    "# for i in firm:\n",
    "#     i\n",
    "#     grocery_word_selector.predict(i).dec_values\n",
    "\n",
    "# a=\"信赢    步步高升4号(B15C0873)\"\n",
    "# a=jieba.cut(a)\n",
    "# print(list(a))\n",
    "a=\"123456:123567\"\n",
    "b=\"123456123567\"\n",
    "index=a.index(\":\")\n",
    "a[index+1:]\n",
    "\n",
    "set(b).issubset(a)"
   ]
  },
  {
   "cell_type": "markdown",
   "metadata": {
    "tags": []
   },
   "source": [
    "# firm=['公司', '银行', '分行', '支行', '中心', '业部', '商行', '建行']\n",
    "\n",
    "\n",
    "delta_limit=0.2\n",
    "value_limit=0.7\n",
    "\n",
    "def item_combine(raw_word,item_list):\n",
    "    global grocery_word_selector\n",
    "    # print(raw_word)\n",
    "    # print(item_list)\n",
    "    key_location_list=[]\n",
    "    while(\" \" in item_list):\n",
    "        item_list.remove(\" \")\n",
    "    for index in range(len(item_list)):\n",
    "        if(re.search(raw_word,item_list[index]) is not None):\n",
    "            key_location_list.append(index)\n",
    "    \n",
    "    result_dict={}\n",
    "    result_dict[\"发行方\"]=[]\n",
    "    result_dict[\"购买公司\"]=[]\n",
    "    result_dict[\"上下文\"]=[]\n",
    "\n",
    "    # print(key_location_list)\n",
    "    \n",
    "    for location in key_location_list:\n",
    "        complete_word=[item_list[location]]\n",
    "        low_location=location-1\n",
    "\n",
    "        dec_values=None\n",
    "\n",
    "        while(low_location>=0):\n",
    "            # print(item_list[low_location])\n",
    "            a=[item_list[low_location]]\n",
    "            a.extend(complete_word)\n",
    "            \n",
    "            tmp_word=(\"\").join(i for i in a)\n",
    "            # print(tmp_word)\n",
    "            # print(grocery_word_selector.predict(tmp_word).dec_values)\n",
    "            \n",
    "            if(dec_values is not None):\n",
    "                delta=grocery_word_selector.predict(tmp_word).dec_values[\"上下文\"]-dec_values\n",
    "                dec_values=grocery_word_selector.predict(tmp_word).dec_values[\"上下文\"]\n",
    "                tmp_label=grocery_word_selector.predict(tmp_word)\n",
    "                if(len(complete_word)>2):\n",
    "                    if(str(tmp_label)==\"上下文\" or (delta>delta_limit and tmp_label.dec_values[str(tmp_label)]<value_limit)):\n",
    "                        break\n",
    "                    else:\n",
    "                        complete_word=a\n",
    "                complete_word=a\n",
    "            else:\n",
    "                dec_values=grocery_word_selector.predict(tmp_word).dec_values[\"上下文\"]\n",
    "                complete_word=a\n",
    "            low_location-=1\n",
    "        # dec_values=None\n",
    "        high_location=location+1\n",
    "        while(high_location<len(item_list)):\n",
    "            complete_word.append(item_list[high_location])\n",
    "            tmp_word=(\"\").join(i for i in complete_word)\n",
    "            # print(tmp_word)\n",
    "            # print(grocery_word_selector.predict(tmp_word).dec_values)\n",
    "\n",
    "            if(dec_values is not None):\n",
    "                delta=grocery_word_selector.predict(tmp_word).dec_values[\"上下文\"]-dec_values\n",
    "                dec_values=grocery_word_selector.predict(tmp_word).dec_values[\"上下文\"]\n",
    "                if(len(complete_word)>2):\n",
    "                    tmp_label=grocery_word_selector.predict(tmp_word)\n",
    "                    if(str(tmp_label)==\"上下文\" or (delta>delta_limit and tmp_label.dec_values[str(tmp_label)]<value_limit)):\n",
    "                        complete_word.pop()\n",
    "                        break\n",
    "                    else:\n",
    "                        pass\n",
    "                pass\n",
    "            else:\n",
    "                dec_values=grocery_word_selector.predict(tmp_word).dec_values[\"上下文\"]\n",
    "            high_location+=1\n",
    "        \n",
    "        result_word=(\"\").join(i for i in complete_word)\n",
    "\n",
    "        result_label=str(grocery_word_selector.predict(result_word))\n",
    "        result_dict[result_label].append(result_word)\n",
    "    \n",
    "    return result_dict    \n",
    "\n",
    "\n",
    "def get_firm_and_counter(sample_id,val_judge_title_result):\n",
    "    text_list=[]\n",
    "    for item in val_judge_title_result[val_judge_title_result[\"sample_id\"]==sample_id][4].values:\n",
    "        text_list.append(item)\n",
    "\n",
    "    text=(\"\").join(i for i in text_list)\n",
    "    text\n",
    "\n",
    "    firm=['公司', '银行', '分行', '支行', '中心', '业部', '商行', '建行',\"中行\",\"股份有限\"]\n",
    "    firm_list=[]\n",
    "    result_dict={}\n",
    "    result_dict[\"发行方\"]=[]\n",
    "    result_dict[\"购买公司\"]=[]\n",
    "    for word in firm:\n",
    "        raw_word=word\n",
    "        char_list=[]\n",
    "        for char in word:\n",
    "            char_list.append(\"[\"+char+\"]\")\n",
    "        word=(\"\").join(i for i in char_list)\n",
    "        firm_pattern=re.compile(\"[A-Za-z\\u4e00-\\u9fa5\\^()（）]+?\"+word+\"[A-Za-z\\u4e00-\\u9fa5\\^()（）]*\")\n",
    "        re_result=firm_pattern.findall(text)\n",
    "\n",
    "        if re_result is None:\n",
    "            break\n",
    "\n",
    "        tmp_score=grocery_word_selector.predict(item).dec_values\n",
    "        result={}\n",
    "\n",
    "        for key in tmp_score:\n",
    "            result[key]=[]\n",
    "        \n",
    "        for item in re_result:\n",
    "            w_s_result=grocery_word_selector.predict(item)\n",
    "            key=str(w_s_result)\n",
    "            result[key].append(item)\n",
    "\n",
    "        # result\n",
    "        for item in result[\"上下文\"]:\n",
    "            tmp=list(jieba.cut(re.sub(\"[ ]+[ ]+\",\" \",item.replace(\"^\",\"\"))))\n",
    "            # if(\"向\" in tmp):\n",
    "            #     tmp.remove(\"向\")\n",
    "            # if(\"与\" in tmp):\n",
    "            #     tmp.remove(\"与\")\n",
    "            tmp_dict=item_combine(raw_word,tmp)\n",
    "            result_dict[\"发行方\"].extend(tmp_dict[\"发行方\"])\n",
    "            result_dict[\"购买公司\"].extend(tmp_dict[\"购买公司\"])\n",
    "    result_dict\n",
    "\n",
    "\n",
    "    word_clear=[\"^.{0,2}[)]\",\"[(].{0,3}$\",\"^.*?孙公司\",\"^.*?子公司\",\"^.*?[与]\",\"^.*?[向]\",\"^.*?万元\",\"^.*购买\",\"之间.*?$\",\"负责.*?$\",\"使用.*?$\",\"无.{0,3}$\",\"企业金融.*?$\",\"提前.*?$\",\"^.*?如果\",\"合计.*?$\",\".*保本.*\",\".*存款.*\",\"将.{0,3}$\",\".*办理.*\",\"的.{0,3}$\",\"不存在.{0,3}$\",\"利多多.{0,3}$\",\"认购{0,3}$\",\"不.{0,2}$\",\"^.{0,1}公司\",\"^.{0,1}情况\",\"签署.{0,2}$\",\".*产品名称.*\",\"^.{0,1}收到\",\"支付.{0,3}$\",\"^.*?对方为\",\"签订.{0,3}$\",\"按照.{0,3}$\",\"委托.{0,3}$\",\"保持.{0,3}$\",\"^.{0,1}了\",\"均.{0,2}$\",\"开立.{0,2}$\",\"^.{0,2}在\",\"募集.{0,2}$\"]\n",
    "\n",
    "    for index in range(len(result_dict[\"发行方\"])):\n",
    "        tmp_item=result_dict[\"发行方\"][index]\n",
    "        for i in word_clear:\n",
    "            # print(i)\n",
    "            tmp_item=re.sub(i,\"\",tmp_item)\n",
    "        result_dict[\"发行方\"][index]=tmp_item\n",
    "\n",
    "    for index in range(len(result_dict[\"购买公司\"])):\n",
    "        tmp_item=result_dict[\"购买公司\"][index]\n",
    "        for i in word_clear:\n",
    "            # print(i)\n",
    "            tmp_item=re.sub(i,\"\",tmp_item)\n",
    "        result_dict[\"购买公司\"][index]=tmp_item\n",
    "\n",
    "    for key in result_dict:\n",
    "        result_dict[key]=list(set(result_dict[key]))\n",
    "\n",
    "    result_dict\n",
    "\n",
    "    tmp_list=[]\n",
    "    for key in result_dict:\n",
    "        for item in result_dict[key]:\n",
    "            tmp_list.append(item)\n",
    "\n",
    "    result_df=pd.DataFrame()\n",
    "    result_df[\"item\"]=tmp_list\n",
    "    result_df[\"label\"]=result_df[\"item\"].map(lambda x:str(grocery_word_selector.predict(x)))\n",
    "    result_df[\"value\"]=result_df[\"item\"].map(lambda x:grocery_word_selector.predict(x).dec_values[str(grocery_word_selector.predict(x))])\n",
    "\n",
    "    print(result_df)\n",
    "\n",
    "    drop_list=[]\n",
    "    index=-1\n",
    "    for item,label,value in result_df.values:\n",
    "\n",
    "        index+=1\n",
    "        if(re.search(\"中国银行\",item) is not None):\n",
    "            continue\n",
    "        flag=True\n",
    "        n=-1\n",
    "        for i,l,v in result_df.values:\n",
    "            n+=1\n",
    "            if(re.search(\"中国银行\",i) is not None):\n",
    "                continue\n",
    "            if item == i:\n",
    "                continue\n",
    "            else:\n",
    "                if (set(item).issubset(i)):\n",
    "                    if(value>v+0.35 and abs(len(item)-len(i))<6):\n",
    "                        drop_list.append(n)\n",
    "                    else:\n",
    "                        flag=False\n",
    "                    break\n",
    "                if set(i).issubset(item) :\n",
    "                    if(value+0.35<v and (abs(len(item)-len(i))<6)):\n",
    "                        drop_list.append(index)\n",
    "                        flag=False\n",
    "                    break\n",
    "        if not flag or len(item)>28:\n",
    "            drop_list.append(index)\n",
    "\n",
    "    \n",
    "    result_df=result_df.drop(list(set(drop_list))).reset_index(drop=True)\n",
    "    print(result_df)\n",
    "    drop_list=[]\n",
    "    index=-1\n",
    "    for item,label,value in result_df.values:\n",
    "        index+=1\n",
    "        if str(grocery.predict(item))==\"理财产品\":\n",
    "            drop_list.append(index)\n",
    "        if(re.search(\"中国银行\",item) is not None):\n",
    "            continue\n",
    "        flag=True\n",
    "        n=-1\n",
    "        for i,l,v in result_df.values:\n",
    "            n+=1\n",
    "            if item == i:\n",
    "                continue\n",
    "            else:\n",
    "                if (set(item).issubset(i)):\n",
    "                    # print(item)\n",
    "                    flag=False\n",
    "                    break\n",
    "        if not flag:\n",
    "            drop_list.append(index)\n",
    "\n",
    "    # print(drop_list)\n",
    "    result_df=result_df.drop(list(set(drop_list))).reset_index(drop=True)\n",
    "    result_df[\"sample_id\"]=str(sample_id)\n",
    "    return result_df\n",
    "\n",
    "result_df=get_firm_and_counter(446,val_judge_title_result)\n",
    "result_df\n",
    "# for item\n",
    "\n",
    "    # for item in  "
   ]
  },
  {
   "cell_type": "code",
   "execution_count": 228,
   "metadata": {},
   "outputs": [
    {
     "output_type": "execute_result",
     "data": {
      "text/plain": "{'发行方': 0.8192201441132655,\n '购买公司': -0.5656924144816621,\n '上下文': -0.2535277296316181}"
     },
     "metadata": {},
     "execution_count": 228
    },
    {
     "output_type": "execute_result",
     "data": {
      "text/plain": "{'发行方': 0.8069655438003583,\n '购买公司': -0.14412617842953895,\n '上下文': -0.6628393653708312}"
     },
     "metadata": {},
     "execution_count": 228
    },
    {
     "output_type": "execute_result",
     "data": {
      "text/plain": "{'发行方': 0.4805379891207882,\n '购买公司': -0.7132887882562079,\n '上下文': 0.2327507991354057}"
     },
     "metadata": {},
     "execution_count": 228
    },
    {
     "output_type": "execute_result",
     "data": {
      "text/plain": "'123567'"
     },
     "metadata": {},
     "execution_count": 228
    },
    {
     "output_type": "execute_result",
     "data": {
      "text/plain": "False"
     },
     "metadata": {},
     "execution_count": 228
    }
   ],
   "source": [
    "# a=\"^潜江永安药业股份有限公司\"\n",
    "# firm=['公司', '银行', '分行', '支行', '中心', '业部', '商行', '建行']\n",
    "# for i in firm:\n",
    "#     i\n",
    "i='建设银行股份有限公司洛阳分行'\n",
    "grocery_word_selector.predict(i).dec_values\n",
    "\n",
    "i='建设银行股份有限公司洛阳'\n",
    "grocery_word_selector.predict(i).dec_values\n",
    "\n",
    "i='建设银行股份有限公司洛阳分行无关联'\n",
    "grocery_word_selector.predict(i).dec_values\n",
    "# a=\"信赢    步步高升4号(B15C0873)\"\n",
    "# a=jieba.cut(a)\n",
    "# print(list(a))\n",
    "a=\"123456:123567\"\n",
    "b=\"1234561235678\"\n",
    "index=a.index(\":\")\n",
    "a[index+1:]\n",
    "\n",
    "set(b).issubset(a)"
   ]
  },
  {
   "cell_type": "code",
   "execution_count": 42,
   "metadata": {},
   "outputs": [
    {
     "output_type": "execute_result",
     "data": {
      "text/plain": "26"
     },
     "metadata": {},
     "execution_count": 42
    },
    {
     "output_type": "execute_result",
     "data": {
      "text/plain": "28"
     },
     "metadata": {},
     "execution_count": 42
    }
   ],
   "source": [
    "a=train_outputs\n",
    "a[\"len_firm\"]=train_outputs[\"实际购买公司名称\"].map(lambda x:len(x) if type(x) is str else 0)\n",
    "np.max(a[\"len_firm\"])\n",
    "a[\"len_counter\"]=train_outputs[\"产品发行方名称\"].map(lambda x:len(x) if type(x) is str else 0)\n",
    "np.max(a[\"len_counter\"])"
   ]
  },
  {
   "cell_type": "markdown",
   "metadata": {},
   "source": [
    "#### 1.抽取公告时间"
   ]
  },
  {
   "cell_type": "code",
   "execution_count": null,
   "metadata": {
    "tags": []
   },
   "outputs": [],
   "source": [
    "# 首先针对任务抽取时间（每个时间跟每个id是一一对应的）\n",
    "# 要不是取第一个时间，要不就是取最后一个时间（或者时间加一）这里可以建立一个模型预测\n",
    "# base这里面直接取最后一个时间作为发布日期\n",
    "\n",
    "CN_NUM = {\n",
    "    u'〇': 0, u'一': 1, u'二': 2, u'三': 3,\n",
    "    u'四': 4, u'五': 5, u'六': 6, u'七': 7,\n",
    "    u'八': 8, u'九': 9, u'零': 0, u'壹': 1,\n",
    "    u'贰': 2, u'叁': 3, u'肆': 4, u'伍': 5,\n",
    "    u'陆': 6, u'柒': 7, u'捌': 8, u'玖': 9,\n",
    "    u'貮': 2, u'两': 2,\n",
    "}\n",
    "\n",
    "\n",
    "def get_put_time_from_text(row):\n",
    "    row = row.replace(' ', '').replace('\\\\n', '')\n",
    "    for key in CN_NUM:\n",
    "        row = row.replace(key, str(CN_NUM[key]))   \n",
    "    r = row.replace(\"年\", \"-\").replace(\"月\", \"-\").replace(\"日\", \" \").replace(\"/\", \"-\").strip()\n",
    "    regex = \"(\\d{4}-\\d{1,2}-\\d{1,2})\"\n",
    "    r = re.findall(regex, r)\n",
    "    if len(r)==0:\n",
    "        return np.nan\n",
    "    time_str = r[-1]\n",
    "    first = time_str.split('-')[0]\n",
    "    second = time_str.split('-')[1]\n",
    "    last = time_str.split('-')[-1]\n",
    "    second = str.zfill(second, 2)\n",
    "    last = str.zfill(last, 2)\n",
    "    r = '-'.join([first, second, last])\n",
    "    return r\n",
    "\n",
    "val_result = pd.DataFrame()\n",
    "val_result['sample_id'] = val_df['sample_id']\n",
    "val_result['predict_time'] = val_df.progress_apply(lambda row: get_put_time_from_text(row['text']), axis=1)\n",
    "test_gg = train_outputs.groupby('sample_id').apply(lambda row:list(row['公告日期'])[0]).reset_index()\n",
    "test_gg.columns = ['sample_id', 'time']\n",
    "val_result = pd.merge(val_result, test_gg, on='sample_id', how='left')\n",
    "\n",
    "# 判断验证集的准确率\n",
    "np.sum(val_result['predict_time'].astype(str) == val_result['time'].astype(str))/len(val_result)\n",
    "\n",
    "val_time = val_df.progress_apply(lambda row: get_put_time_from_text(row['text']), axis=1)\n",
    "# test_time = test_df.progress_apply(lambda row: get_put_time_from_text(row['text']), axis=1)"
   ]
  },
  {
   "cell_type": "markdown",
   "metadata": {},
   "source": [
    "#### 2.抽取实际购买公司"
   ]
  },
  {
   "cell_type": "code",
   "execution_count": null,
   "metadata": {
    "tags": []
   },
   "outputs": [],
   "source": [
    "# 抽取购买公司\n",
    "# 前几句话出现\n",
    "# 将其按照\\\\n 和空格切割\n",
    "def get_gm(row):\n",
    "    result = re.split('[\\\\\\\\n ]',row)\n",
    "    for i in result:\n",
    "        if '公司' in i:\n",
    "            return i\n",
    "\n",
    "val_gm = val_df.progress_apply(lambda row:get_gm(row['text']), axis=1)\n",
    "# test_gm = test_df.progress_apply(lambda row:get_gm(row['text']), axis=1)"
   ]
  },
  {
   "cell_type": "code",
   "execution_count": null,
   "metadata": {},
   "outputs": [],
   "source": [
    "# 最后一部分字段采用预测好的部分，跟提取的text做交互采用双输入lstm在dense层做交互预测最后几个字段\n",
    "\n",
    "# train_lstm_input = pd.merge(train_df, train_outputs, on='sample_id', how='left')\n",
    "result_matrix\n",
    "train_lstm_input = pd.merge(train_table_df, train_outputs, on='sample_id', how='left')\n",
    "\n",
    "train_lstm_input = train_lstm_input.fillna('否')\n",
    "\n",
    "# label_1理财类型-10  label_2资金来源-3 label_3实际购买公司和上市公司关系-3 label_4买卖方是否有关联关系-2\n",
    "from sklearn.preprocessing import LabelEncoder\n",
    "label_1 = LabelEncoder()\n",
    "# label_2 = LabelEncoder()\n",
    "# label_3 = LabelEncoder()\n",
    "# label_4 = LabelEncoder()\n",
    "\n",
    "train_data = pd.DataFrame()\n",
    "tmp=pd.DataFrame()\n",
    "train_data['text_1'] = train_lstm_input['理财产品名称'].astype(str) \n",
    "\n",
    "# train_data['text_1'] = train_lstm_input['理财产品名称'].astype(str) + '_' + train_lstm_input['产品发行方名称'].astype(str)\n",
    "\n",
    "train_data['text_2'] = train_lstm_input['text'].astype(str)\n",
    "\n",
    "train_lstm_input[\"文本类别\"]=\"理财产品\"\n",
    "\n",
    "train_data['label_1'] = label_1.fit_transform(train_lstm_input[\"文本类别\"])\n",
    "\n",
    "\n",
    "train_data2=train_lstm_input[train_lstm_input[\"产品发行方名称\"]!=\"无\"].reset_index(drop=True)\n",
    "\n",
    "train_data2[\"文本类别\"]=\"发行方\"\n",
    "\n",
    "tmp['text_1']=train_data2[\"产品发行方名称\"].astype(str)\n",
    "\n",
    "tmp['text_2']= train_data2[\"text\"].astype(str)\n",
    "\n",
    "tmp['label_1']=label_1.fit_transform(train_data2[\"文本类别\"])\n",
    "\n",
    "train_data = pd.concat([train_data,tmp]).reset_index(drop=True)\n",
    "\n",
    "\n",
    "other_columns_list=[\"认购金额(万元)\",\"认购日期\"]\n",
    "\n",
    "for item in other_columns_list:\n",
    "\n",
    "    train_data2=train_lstm_input[train_lstm_input[item]!=\"无\"].reset_index(drop=True)\n",
    "\n",
    "    train_data2[\"文本类别\"]=\"其他\"\n",
    "\n",
    "    tmp['text_1']=train_data2[item].astype(str)\n",
    "\n",
    "    tmp['text_2']= train_data2[\"text\"].astype(str)\n",
    "\n",
    "    tmp['label_1']=label_1.fit_transform(train_data2[\"文本类别\"])\n",
    "\n",
    "    \n",
    "    train_data = pd.concat([train_data,tmp]).reset_index(drop=True)\n",
    "\n",
    "\n",
    "\n",
    "# train_data['label_2'] = label_2.fit_transform(train_lstm_input['资金来源'])\n",
    "# train_data['label_3'] = label_3.fit_transform(train_lstm_input['实际购买公司和上市公司关系'])\n",
    "# train_data['label_4'] = label_4.fit_transform(train_lstm_input['买卖方是否有关联关系'])\n",
    "train_data\n"
   ]
  }
 ],
 "metadata": {
  "kernelspec": {
   "display_name": "Python 3",
   "language": "python",
   "name": "python3"
  },
  "language_info": {
   "codemirror_mode": {
    "name": "ipython",
    "version": 3
   },
   "file_extension": ".py",
   "mimetype": "text/x-python",
   "name": "python",
   "nbconvert_exporter": "python",
   "pygments_lexer": "ipython3",
   "version": "3.8.5-final"
  }
 },
 "nbformat": 4,
 "nbformat_minor": 4
}