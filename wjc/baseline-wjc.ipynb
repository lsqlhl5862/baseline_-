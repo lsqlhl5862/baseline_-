{
 "cells": [
  {
   "cell_type": "markdown",
   "metadata": {},
   "source": [
    "# 导入相关包"
   ]
  },
  {
   "cell_type": "code",
   "execution_count": 7,
   "metadata": {},
   "outputs": [],
   "source": [
    "# 导入相关包\n",
    "import os\n",
    "import pathlib as pl\n",
    "import pandas as pd\n",
    "import numpy as np\n",
    "import re\n",
    "from io import StringIO\n",
    "from datetime import datetime \n",
    "import time\n",
    "from IPython.core.interactiveshell import InteractiveShell\n",
    "from tqdm.autonotebook import *\n",
    "import pdfplumber\n",
    "tqdm.pandas()\n",
    "InteractiveShell.ast_node_interactivity = \"all\"\n",
    "sys.path.append(\"..\")\n"
   ]
  },
  {
   "cell_type": "markdown",
   "metadata": {},
   "source": [
    "# PDF解析原始数据 \n",
    "## 加载数据并采用pdfplumber抽取PDF中的文字和表格\n"
   ]
  },
  {
   "cell_type": "code",
   "execution_count": 8,
   "metadata": {},
   "outputs": [
    {
     "output_type": "execute_result",
     "data": {
      "text/plain": "   sample_id       认购日期        理财产品名称     产品发行方名称    理财类型  认购金额(万元)  \\\n0          1 2019-03-27         汇聚金1号  中融国际信托有限公司      信托   10000.0   \n1          1 2019-03-27  招商银行步步生金8699        招商银行  银行理财产品     200.0   \n\n       产品起息日      产品到息日  产品期限  资金来源    实际购买公司名称 实际购买公司和上市公司关系 买卖方是否有关联关系  \\\n0 2019-03-27 2019-09-23  180天  自有资金  恒生电子股份有限公司          公司本身          否   \n1 2019-03-27        NaT   NaN  自有资金  恒生电子股份有限公司          公司本身          否   \n\n        公告日期  \n0 2019-04-25  \n1 2019-04-25  ",
      "text/html": "<div>\n<style scoped>\n    .dataframe tbody tr th:only-of-type {\n        vertical-align: middle;\n    }\n\n    .dataframe tbody tr th {\n        vertical-align: top;\n    }\n\n    .dataframe thead th {\n        text-align: right;\n    }\n</style>\n<table border=\"1\" class=\"dataframe\">\n  <thead>\n    <tr style=\"text-align: right;\">\n      <th></th>\n      <th>sample_id</th>\n      <th>认购日期</th>\n      <th>理财产品名称</th>\n      <th>产品发行方名称</th>\n      <th>理财类型</th>\n      <th>认购金额(万元)</th>\n      <th>产品起息日</th>\n      <th>产品到息日</th>\n      <th>产品期限</th>\n      <th>资金来源</th>\n      <th>实际购买公司名称</th>\n      <th>实际购买公司和上市公司关系</th>\n      <th>买卖方是否有关联关系</th>\n      <th>公告日期</th>\n    </tr>\n  </thead>\n  <tbody>\n    <tr>\n      <th>0</th>\n      <td>1</td>\n      <td>2019-03-27</td>\n      <td>汇聚金1号</td>\n      <td>中融国际信托有限公司</td>\n      <td>信托</td>\n      <td>10000.0</td>\n      <td>2019-03-27</td>\n      <td>2019-09-23</td>\n      <td>180天</td>\n      <td>自有资金</td>\n      <td>恒生电子股份有限公司</td>\n      <td>公司本身</td>\n      <td>否</td>\n      <td>2019-04-25</td>\n    </tr>\n    <tr>\n      <th>1</th>\n      <td>1</td>\n      <td>2019-03-27</td>\n      <td>招商银行步步生金8699</td>\n      <td>招商银行</td>\n      <td>银行理财产品</td>\n      <td>200.0</td>\n      <td>2019-03-27</td>\n      <td>NaT</td>\n      <td>NaN</td>\n      <td>自有资金</td>\n      <td>恒生电子股份有限公司</td>\n      <td>公司本身</td>\n      <td>否</td>\n      <td>2019-04-25</td>\n    </tr>\n  </tbody>\n</table>\n</div>"
     },
     "metadata": {},
     "execution_count": 8
    },
    {
     "output_type": "execute_result",
     "data": {
      "text/plain": "   sample_id                  file_path  \\\n0          1  datasets/train_data/1.PDF   \n1          2  datasets/train_data/2.PDF   \n\n                                                text  \\\n0  ['                                            ...   \n1  ['                                            ...   \n\n                                               tabel  \n0  [[['', None, None, '', None, None, '', None, N...  \n1  [[['', None, None, '', None, None, '', None, N...  ",
      "text/html": "<div>\n<style scoped>\n    .dataframe tbody tr th:only-of-type {\n        vertical-align: middle;\n    }\n\n    .dataframe tbody tr th {\n        vertical-align: top;\n    }\n\n    .dataframe thead th {\n        text-align: right;\n    }\n</style>\n<table border=\"1\" class=\"dataframe\">\n  <thead>\n    <tr style=\"text-align: right;\">\n      <th></th>\n      <th>sample_id</th>\n      <th>file_path</th>\n      <th>text</th>\n      <th>tabel</th>\n    </tr>\n  </thead>\n  <tbody>\n    <tr>\n      <th>0</th>\n      <td>1</td>\n      <td>datasets/train_data/1.PDF</td>\n      <td>['                                            ...</td>\n      <td>[[['', None, None, '', None, None, '', None, N...</td>\n    </tr>\n    <tr>\n      <th>1</th>\n      <td>2</td>\n      <td>datasets/train_data/2.PDF</td>\n      <td>['                                            ...</td>\n      <td>[[['', None, None, '', None, None, '', None, N...</td>\n    </tr>\n  </tbody>\n</table>\n</div>"
     },
     "metadata": {},
     "execution_count": 8
    },
    {
     "output_type": "execute_result",
     "data": {
      "text/plain": "   sample_id                     file_path  \\\n0      11188  datasets/test_data/11188.PDF   \n1      11189  datasets/test_data/11189.PDF   \n2      11190  datasets/test_data/11190.PDF   \n3      11191  datasets/test_data/11191.PDF   \n4      11192  datasets/test_data/11192.PDF   \n\n                                                text  \\\n0  ['北京京西文化旅游股份有限公司监事会\\n \\n \\n关于使用部分闲置募集资金购买理财产品的...   \n1  ['北京京西文化旅游股份有限公司 \\n监事会关于使用部分自有资金购买理财产品的意见 \\n根据...   \n2  ['证券代码：000802         证券简称：北京文化         公告编号：2...   \n3  ['证券代码：000802         证券简称：北京文化         公告编号：2...   \n4  ['证券代码：000802         证券简称：北京文化         公告编号：2...   \n\n                                               tabel  \n0                                                 []  \n1                                                 []  \n2  [[['委托方', '受托方', '产品 \\n类型', '认购金额\\n（万元）', '起息日...  \n3  [[['委托方', '受托方', '产品 \\n类型', '认购金额\\n（万元）', '起息日...  \n4                                                 []  ",
      "text/html": "<div>\n<style scoped>\n    .dataframe tbody tr th:only-of-type {\n        vertical-align: middle;\n    }\n\n    .dataframe tbody tr th {\n        vertical-align: top;\n    }\n\n    .dataframe thead th {\n        text-align: right;\n    }\n</style>\n<table border=\"1\" class=\"dataframe\">\n  <thead>\n    <tr style=\"text-align: right;\">\n      <th></th>\n      <th>sample_id</th>\n      <th>file_path</th>\n      <th>text</th>\n      <th>tabel</th>\n    </tr>\n  </thead>\n  <tbody>\n    <tr>\n      <th>0</th>\n      <td>11188</td>\n      <td>datasets/test_data/11188.PDF</td>\n      <td>['北京京西文化旅游股份有限公司监事会\\n \\n \\n关于使用部分闲置募集资金购买理财产品的...</td>\n      <td>[]</td>\n    </tr>\n    <tr>\n      <th>1</th>\n      <td>11189</td>\n      <td>datasets/test_data/11189.PDF</td>\n      <td>['北京京西文化旅游股份有限公司 \\n监事会关于使用部分自有资金购买理财产品的意见 \\n根据...</td>\n      <td>[]</td>\n    </tr>\n    <tr>\n      <th>2</th>\n      <td>11190</td>\n      <td>datasets/test_data/11190.PDF</td>\n      <td>['证券代码：000802         证券简称：北京文化         公告编号：2...</td>\n      <td>[[['委托方', '受托方', '产品 \\n类型', '认购金额\\n（万元）', '起息日...</td>\n    </tr>\n    <tr>\n      <th>3</th>\n      <td>11191</td>\n      <td>datasets/test_data/11191.PDF</td>\n      <td>['证券代码：000802         证券简称：北京文化         公告编号：2...</td>\n      <td>[[['委托方', '受托方', '产品 \\n类型', '认购金额\\n（万元）', '起息日...</td>\n    </tr>\n    <tr>\n      <th>4</th>\n      <td>11192</td>\n      <td>datasets/test_data/11192.PDF</td>\n      <td>['证券代码：000802         证券简称：北京文化         公告编号：2...</td>\n      <td>[]</td>\n    </tr>\n  </tbody>\n</table>\n</div>"
     },
     "metadata": {},
     "execution_count": 8
    }
   ],
   "source": [
    "# 数据准备(train_output文件中格式有点问题，需要提前用excel或者wps打开然后另存为excel文件)\n",
    "train_outputs = pd.read_excel('../datasets/train_output.xlsx')\n",
    "\n",
    "# 获取pdf中文字和表格\n",
    "def extract_pdf_content(pdf_path):\n",
    "    text_list = []\n",
    "    table_list = []\n",
    "    with pdfplumber.open(pdf_path) as pdf:\n",
    "        for index_page in np.arange(0, len(pdf.pages), 1):\n",
    "            # 读取多页\n",
    "            page = pdf.pages[index_page]   # 第n页的信息\n",
    "            text = page.extract_text()\n",
    "            text_list.append(text)\n",
    "            table = page.extract_tables()\n",
    "            for t in table:\n",
    "                table_list.append(t)\n",
    "    return text_list, table_list\n",
    "\n",
    "def get_dir_file(path):\n",
    "    '''\n",
    "    输入文件夹位置，输出整理好的dataframe\n",
    "    '''\n",
    "    path_list = os.listdir(path)\n",
    "    id_list = []\n",
    "    file_path_list = []\n",
    "    text_list = []\n",
    "    table_list = []\n",
    "    for i in tqdm(path_list):\n",
    "        if '.PDF' in i:\n",
    "            file_path = path + i\n",
    "            id_list.append(int(i.split('.')[0]))\n",
    "            file_path_list.append(file_path)\n",
    "            try:\n",
    "                text_temp, table_temp = extract_pdf_content(file_path)\n",
    "            except Exception:\n",
    "                print('此pdf无法读取')\n",
    "                text_temp, table_temp = [], []\n",
    "            text_list.append(text_temp)\n",
    "            table_list.append(table_temp)\n",
    "            \n",
    "    df = pd.DataFrame()\n",
    "    df['sample_id'] = id_list\n",
    "    df['file_path'] = file_path_list\n",
    "    df['text'] = text_list\n",
    "    df['tabel'] = table_list\n",
    "    df = df.sort_values('sample_id')\n",
    "    return df\n",
    "\n",
    "# 文件处理太慢，可持续化保存文件\n",
    "train_path = '../datasets/train.csv'\n",
    "if os.path.exists(train_path):\n",
    "    train_df = pd.read_csv(train_path)\n",
    "else:\n",
    "    train_df = get_dir_file('datasets/train_data/')\n",
    "    train_df.to_csv(train_path,index=False)\n",
    "    train_df = pd.read_csv(train_path)\n",
    "\n",
    "test_path =  '../datasets/test.csv'\n",
    "if os.path.exists(test_path):\n",
    "    test_df = pd.read_csv(test_path)\n",
    "else:\n",
    "    test_df = get_dir_file('datasets/test_data/')\n",
    "    test_df.to_csv(test_path,index=False)\n",
    "    test_df = pd.read_csv(test_path)\n",
    "\n",
    "train_outputs.head(2)\n",
    "train_df.head(2)\n",
    "test_df.head(5)"
   ]
  },
  {
   "cell_type": "code",
   "execution_count": 9,
   "metadata": {},
   "outputs": [],
   "source": [
    "# 构造训练集验证集\n",
    "train_df = train_df.sample(frac=1, random_state=1017)\n",
    "val_df = train_df[:1800]\n",
    "train_df = train_df[1800:]"
   ]
  },
  {
   "cell_type": "markdown",
   "metadata": {},
   "source": [
    "# 数据处理\n",
    "## 抽取整体数据（一个sampleid内此字段内容都相同）\n",
    "## 公告时间，实际购买公司"
   ]
  },
  {
   "cell_type": "markdown",
   "metadata": {},
   "source": [
    "#### 1.抽取公告时间"
   ]
  },
  {
   "cell_type": "code",
   "execution_count": 32,
   "metadata": {
    "tags": []
   },
   "outputs": [
    {
     "output_type": "stream",
     "name": "stderr",
     "text": "100%|██████████| 1800/1800 [00:00<00:00, 3927.35it/s]\nSeries([], Name: text, dtype: object)\n290    [' \\n证券代码：001696             证券简称：宗申动力       公告编号： 2017-61 \\n债券代码：112045            债券简称：11宗申债 \\n重庆宗申动力机械股份有限公司 \\n关于自有资金购买理财产品的进展公告 \\n本公司及监事会全体成员保证公告内容的真实、准确和完整，没有虚假记\\n载、误导性陈述或者重大遗漏。 \\n重庆宗申动力机械股份有限公司（简称“公司”）第九届董事会第六次会议\\n和 2016 年年度股东大会审议通过《关于公司开展理财业务的议案》和《关于使\\n用部分闲置募集资金购买银行保本理财产品的议案》：批准使用总额度不超过人\\n民币 15 亿元的自有资金和最高额度不超过 7 亿元的闲置募集资金购买低风险理\\n财产品，在不超过上述总额度的前提下，可以滚动投资，有效期至公司 2017 年\\n年度股东大会重新核定额度前。具体内容详见公司于 2017 年 4 月 8 日、5 月 20\\n日在巨潮资讯网（www.cninfo.com.cn）上披露的相关公告。 \\n公司于2017年8月29日在巨潮资讯网（www.cninfo.com.cn）上披露了《关\\n于自有资金购买理财产品的进展公告》（公告编号：2017-45），对公司 2017\\n年1月1日至2017年6月30 日的理财情况进行了披露。 \\n自 2017 年 7 月 1 日至 2017 年 9 月 30 日，公司及子公司使用自有资金和部\\n分闲置募集资金累计购买理财产品发生额为 83,739 万元；截止 2017 年 9 月 30\\n日，公司及子公司使用自有资金和部分闲置募集资金购买理财产品余额为\\n131,776万元。以上购买理财产品的交易均不构成关联交易，具体情况请见附件 \\n《重庆宗申动力机械股份有限公司购买银行理财产品情况表》。 \\n特此公告！ \\n重庆宗申动力机械股份有限公司 \\n董事会 \\n                                        2017年10月28日 \\n \\n \\n 1 / 6 \\n ', ' \\n附件：重庆宗申动力机械股份有限公司购买银行理财产品情况表 \\n单位：万元 \\n 本期实际  报告期实\\n受托人 关联 是否关 产品类  委托理 终止 报酬确定方   预计\\n起始日期  收回本金金 际损益金\\n名称  关系  联交易  型  财金额   日期  式  收益   \\n额   额  \\n中国农\\n业银行 金钥匙.       2016-9-2 2017-                      \\n无  否  协议约定 \\n袁家岗 本利丰  5,000   7  9-22  5,000  143.01   99.32  \\n支行 \\n重庆股 恒和小\\n      2016-11- 2017-                       \\n份转让 无  否  贷私募 协议约定 \\n2,000   29  11-29  -   1 40.00   116.99  \\n中心  债 \\n兴业银\\n结构性       2016-12- 2017-                       \\n行江南 无  否  协议约定 \\n存款  9,200   21  12-21  -   3 31.20   242.26  \\n支行 \\n兴业银\\n结构性      2016-12- 2017-                       \\n行江南 无  否  协议约定 \\n存款  13,000   26  12-26  -   4 68.00   336.27  \\n支行 \\n重庆农\\n村商业\\n江渝财\\n银行股       2018-                            \\n无  否  富“天添 2017-1-6  协议约定 \\n份有限 5,000   1-5  -   1 72.03   -  \\n金” \\n公司营\\n业部 \\n中信理\\n财之共\\n赢利率\\n中信银\\n结构\\n行重庆       2017-2-1 2017-                       \\n无  否  17097 协议约定 \\n星光大 5,000   0  8-16  5,000  83.25   78.54  \\n期人民\\n道支行 \\n币结构\\n性理财\\n产品 \\n兴业银\\n结构性      2017-5-1 2017-                       \\n行江南 无  否  协议约定 \\n存款  10,000   7  11-1  -     195.62   149.39  \\n支行 \\n兴业银\\n结构性       2017-5-2 2017-                            \\n行江南 无  否  协议约定 \\n存款  6,000   7  11-1  -     109.08   -  \\n支行 \\n兴业银\\n结构性       2017-                         \\n行江南 无  否  2017-6-1  协议约定 \\n存款  2,000   12-1  -     42.12   26.27  \\n支行 \\n浦发银 无  否  结构性       2017-6-5  2017- 协议约定                         \\n 2 / 6 \\n ', ' \\n行大渡 存款  4,800   12-4  -     100.52   60.96  \\n口支行 \\n重庆金\\n16龙阳      2018-                       \\n融资产 无  否  2017-6-9  协议约定 \\n01  10,000   1-3  -     284.93   146.03  \\n交易所 \\n中国建\\n设银行 乾元-鑫      2017-6-2 2017-                       \\n无  否  协议约定 \\n巴南支 鑫向荣  10,000   2  11-1  -     171.78   130.14  \\n行 \\n平安银\\n结构性      2017-6-2 2017-                    \\n行沙坪 无  否  协议约定 \\n存款  26,000   8  9-28  26,000   281.80   265.85  \\n坝支行 \\n浦发银 财富班\\n     2017-                       \\n行大渡 无  否  车进取 2017-7-6  协议约定 \\n10,000   10-4  -     120.82   115.45  \\n口支行  3号 \\n中国建\\n设银行 乾元-鑫      2017-                       \\n无  否  2017-7-5  协议约定 \\n巴南支 鑫向荣  10,000   11-1  -     154.86   113.22  \\n行 \\n重庆农\\n村商业\\n江渝财\\n银行股      2017-                       \\n无  否  富“天添 2017-7-7  协议约定 \\n份有限 10,000   10-27  -     145.75   110.62  \\n金” \\n公司营\\n业部 \\n浦发银 财富班\\n     2017-7-1 2017-                       \\n行大渡 无  否  车进取 协议约定 \\n10,000   3  10-11  -     123.29   108.22  \\n口支行  3号 \\n财通证\\n润富1\\n券邹容       2017-8-1 2017-                         \\n无  否  号资管 协议约定 \\n路证券 1,000   5  9-12  1,000   3.49   3.49  \\n计划 \\n营业部 \\n中信银\\n行重庆 结构性       2017-8-2 2017-                          \\n无  否  协议约定 \\n星光大 存款  2,000   5  12-6  -     23.14   7.63  \\n道支行 \\n浦发银\\n结构性       2017-8-1 2017-                         \\n行大渡 无  否  协议约定 \\n存款  3,000   8  11-16  -     32.18   14.50  \\n口支行 \\n中国银\\n行重庆 外汇掉         2017-                           \\n无  否  2017-9-7  协议约定 \\n市分行 期业务  583   9-15  589   0.17   0.16  \\n九龙坡\\n 3 / 6 \\n ', ' \\n支行 \\n中国银\\n行重庆\\n外汇掉       2017-9-1 2017-                         \\n市分行 无  否  协议约定 \\n期业务  5,776   8  9-27  5,834   1.97   1.86  \\n九龙坡\\n支行 \\n中国银\\n行重庆\\n外汇掉       2017-9-2 2017-                           \\n市分行 无  否  协议约定 \\n期业务  5,976   9  10-11  -     3.59   0.52  \\n九龙坡\\n支行 \\n平安银\\n结构性       2017-9-2 2017-                          \\n行洋河 无  否  协议约定 \\n存款  5,000   7  12-27  -     56.24   1.73  \\n支行 \\n中国银 按期开\\n       2017-6-2 2017-                           \\n行巴南 无  否  放理财 协议约定 \\n750   9  7-31  750   2.30   2.17  \\n支行  产品 \\n中国银 按期开\\n        2017-                           \\n行巴南 无  否  放理财 2017-7-3  协议约定 \\n700   7-21  700   1.04   0.98  \\n支行  产品 \\n中国银 按期开\\n        2017-                           \\n行巴南 无  否  放理财 2017-7-3  协议约定 \\n900   7-25  900   1.90   1.79  \\n支行  产品 \\n中国银 按期开\\n       2017-7-2 2017-                           \\n行巴南 无  否  放理财 协议约定 \\n500   6  8-25  500   1.48   1.40  \\n支行  产品 \\n中国银 按期开\\n        2017-                           \\n行巴南 无  否  放理财 2017-8-1  协议约定 \\n700   8-31  700   2.07   1.95  \\n支行  产品 \\n中国银 按期开\\n       2017-8-2 2017-                           \\n行巴南 无  否  放理财 协议约定 \\n355   5  9-25  355   1.09   1.02  \\n支行  产品 \\n中国银 按期开\\n        2017-                           \\n行巴南 无  否  放理财 2017-9-1  协议约定 \\n650   9-25  650   1.50   1.41  \\n支行  产品 \\n中国银 按期开\\n       2017-9-1 2017-                                 \\n行巴南 无  否  放理财 协议约定 \\n300   2  10-12  -     -   -  \\n支行  产品 \\n中国银 按期开\\n       2017-9-2 2017-                                 \\n行巴南 无  否  放理财 协议约定 \\n500   5  10-23  -     -   -  \\n支行  产品 \\n中国银 无  否  按期开        2017-9-2 2017- 协议约定                            \\n 4 / 6 \\n ', ' \\n行巴南 放理财 500   6  9-30  500   0.13   0.12  \\n支行  产品 \\n2017-                           \\n无  否  2017-7-4  协议约定 \\n7-19  100   0.69   0.65  \\n平安银\\n       2017-7-1 2017-                           \\n行洋河 无  否  天天利  协议约定 \\n500   9  7-27  100   0.30   0.29  \\n支行 \\n2017-7-2 2017-                           \\n无  否  协议约定 \\n7  7-28  300   0.03   0.03  \\n建行李\\n乾元-周        2017-8-3 2017-                           \\n渡新区 无  否  协议约定 \\n周利  500   0  9-27  500   1.00   0.94  \\n支行 \\n2017-                 \\n无  否  2017-7-6  协议约定 \\n7-13  4.86   4.59  \\n2017-7-1 2017-                 \\n无  否  协议约定 \\n3  7-20  4.55   4.29  \\n2017-7-2 2017-                 \\n无  否  协议约定 \\n平安银 0  7-27  3.50   3.30  \\n行股份 2017-7-2 2017-                 \\n无  否  卓越计 协议约定 \\n有限公       7  8-3          3.16   2.99  \\n划 \\n司重庆 6,500   2017- 6,500                   \\n无  否  滚动型  2017-8-3  协议约定 \\n洋河支 8-10  3.12   2.95  \\n行  2017-8-1 2017-                 \\n无  否  协议约定 \\n0  8-17  2.55   2.41  \\n2017-8-1 2017-                 \\n无  否  协议约定 \\n7  8-24  2.35   2.21  \\n2017-8-2 2017-                 \\n无  否  协议约定 \\n4  8-31  1.93   1.82  \\n平安银 2017-                 \\n无  否  2017-7-5  协议约定 \\n行股份 7-9  0.43   0.40  \\n有限公                   \\n天天利 \\n司重庆 900   2017-7-1 2017- 900                   \\n无  否  协议约定 \\n洋河支 0  7-17  0.58   0.55  \\n行 \\n平安银\\n行股份\\n有限公        2017-7-3 2017-                           \\n无  否  天天利  协议约定 \\n司重庆 900   1  8-8  900   0.66   0.62  \\n洋河支\\n行 \\n平安银 2017-                 \\n无  否  2017-9-4  协议约定 \\n行股份       9-11          1.88   1.77  \\n天天利 \\n有限公 3,000   2017-9-1 2017- 3,000                   \\n无  否  协议约定 \\n司重庆 1  9-14  0.58   0.55  \\n 5 / 6 \\n ', ' \\n洋河支 2017-9-1 2017-                 \\n无  否  协议约定 \\n行  4  9-27  1.40   1.32  \\n平安银\\n行股份\\n卓越计\\n有限公       2017-9-3 2017-                              \\n无  否  划滚动 协议约定 \\n司重庆 1,000   0  10-13  -     1.35   -  \\n型 \\n洋河支\\n行 \\n兴业银\\n结构性       2017-9-3 2017-                              \\n行江南 无  否  协议约定 \\n存款  2,000   0  10-13  -     2.78   -  \\n支行 \\n     \\n              \\n合计  --  --      3,238.0\\n192,489   60,778   2,171.93  \\n5  \\n \\n 6 / 6 \\n ']\nName: text, dtype: object\n4694\n11055\n3597\n312\n1258\n6375\n"
    },
    {
     "output_type": "execute_result",
     "data": {
      "text/plain": "0.5255555555555556"
     },
     "metadata": {},
     "execution_count": 32
    },
    {
     "output_type": "stream",
     "name": "stderr",
     "text": "100%|██████████| 1800/1800 [00:00<00:00, 2956.40it/s]\n100%|██████████| 8660/8660 [00:01<00:00, 4571.11it/s]\n"
    }
   ],
   "source": [
    "# 首先针对任务抽取时间（每个时间跟每个id是一一对应的）\n",
    "# 要不是取第一个时间，要不就是取最后一个时间（或者时间加一）这里可以建立一个模型预测\n",
    "# base这里面直接取最后一个时间作为发布日期\n",
    "\n",
    "##wjc字典里添加了十\n",
    "CN_NUM = {\n",
    "    u'月十日':'月10日', u'十日': '0日', u'十': 1, u'○': 0,\n",
    "    u'〇': 0, u'一': 1, u'二': 2, u'三': 3,\n",
    "    u'四': 4, u'五': 5, u'六': 6, u'七': 7,\n",
    "    u'八': 8, u'九': 9, u'零': 0, u'壹': 1,\n",
    "    u'贰': 2, u'叁': 3, u'肆': 4, u'伍': 5,\n",
    "    u'陆': 6, u'柒': 7, u'捌': 8, u'玖': 9,\n",
    "    u'貮': 2, u'两': 2,  \n",
    "}\n",
    "\n",
    "\n",
    "\n",
    "def get_put_time_from_text(row):\n",
    "    row = row.replace(' ', '').replace('\\\\n', '')\n",
    "    for key in CN_NUM:\n",
    "        row = row.replace(key, str(CN_NUM[key]))   \n",
    "    r = row.replace(\"年\", \"-\").replace(\"月\", \"-\").replace(\"日\", \" \").replace(\"/\", \"-\").strip()\n",
    "    regex = \"(\\d{4}-\\d{1,2}-\\d{1,2})\"\n",
    "    r = re.findall(regex, r)\n",
    "    if len(r)==0:\n",
    "        return np.nan\n",
    "    time_str = r[-1]\n",
    "    first = time_str.split('-')[0]\n",
    "    second = time_str.split('-')[1]\n",
    "    last = time_str.split('-')[-1]\n",
    "    second = str.zfill(second, 2)\n",
    "    last = str.zfill(last, 2)\n",
    "    r = '-'.join([first, second, last])\n",
    "    return r\n",
    "\n",
    "\n",
    "\n",
    "val_result = pd.DataFrame()\n",
    "val_result['sample_id'] = val_df['sample_id']\n",
    "val_result['predict_time'] = val_df.progress_apply(lambda row: get_put_time_from_text(row['text']), axis=1)\n",
    "test_gg = train_outputs.groupby('sample_id').apply(lambda row:list(row['公告日期'])[0]).reset_index()\n",
    "test_gg.columns = ['sample_id', 'time']\n",
    "val_result = pd.merge(val_result, test_gg, on='sample_id', how='left')\n",
    "##val_result['time'].head(10)\n",
    "###val_result['predict_time'].head(10)\n",
    "\n",
    "np.set_printoptions(threshold=np.inf)\n",
    "pd.set_option('max_colwidth',10000)\n",
    "print(train_df[train_df.sample_id==4694]['text'].astype(str))\n",
    "print(val_df[val_df.sample_id==312]['text'].astype(str))\n",
    "# 对于每一行，通过列名name访问对应的元素\n",
    "for index,row in val_result.iterrows():\n",
    "    #type(row['predict_time'])\n",
    "    #print(row['sample_id'],row['predict_time']) # 输出每一行\n",
    "    try:\n",
    "        row['predict_time']=datetime.strptime(row['predict_time'], \"%Y-%m-%d\").strftime('%Y/%m/%d')\n",
    "    except:\n",
    "        print(row['sample_id'])\n",
    "        # print(val_df[val_df.sample_id==row['sample_id']]['text'].astype(str))\n",
    "        row['predict_time']='0000/00/00'\n",
    "    \n",
    "\n",
    "# val_result['predict_time_inf']=pd.to_datetime(val_result['predict_time'],format='%Y/%m/%d')\n",
    "# val_result['predict_time_inf'].head(10)\n",
    "\n",
    "#val_result['predict_time1'] = datetime.strptime(val_result['predict_time'], \"%Y-%m-%d\").strftime('%Y/%m/%d')\n",
    "#val_result['predict_time_inf']=pd.to_datetime(val_result['predict_time1'],format='%Y/%m/%d')\n",
    "#val_result['日期差值']=val_result['predict_time_inf']-val_result['time']\n",
    "#val_result.head(10)\n",
    "\n",
    "# 判断验证集的准确率\n",
    "np.sum(val_result['predict_time'].astype(str) == val_result['time'].astype(str))/len(val_result)\n",
    "\n",
    "val_time = val_df.progress_apply(lambda row: get_put_time_from_text(row['text']), axis=1)\n",
    "test_time = test_df.progress_apply(lambda row: get_put_time_from_text(row['text']), axis=1)\n",
    "\n"
   ]
  },
  {
   "cell_type": "markdown",
   "metadata": {},
   "source": [
    "#### 2.抽取实际购买公司"
   ]
  },
  {
   "cell_type": "code",
   "execution_count": 17,
   "metadata": {
    "tags": []
   },
   "outputs": [
    {
     "output_type": "stream",
     "name": "stderr",
     "text": "100%|██████████| 1800/1800 [00:00<00:00, 3906.42it/s]\n100%|██████████| 8660/8660 [00:01<00:00, 5923.14it/s]\n100%|██████████| 1800/1800 [00:00<00:00, 4001.80it/s]\n"
    },
    {
     "output_type": "execute_result",
     "data": {
      "text/plain": "0.7016666666666667"
     },
     "metadata": {},
     "execution_count": 17
    }
   ],
   "source": [
    "# 抽取购买公司\n",
    "# 前几句话出现\n",
    "# 将其按照\\\\n 和空格切割\n",
    "def get_gm(row):\n",
    "    result = re.split('[\\\\\\\\n ]',row)\n",
    "    for i in result:\n",
    "        if '公司' in i:\n",
    "            return i\n",
    "\n",
    "val_gm = val_df.progress_apply(lambda row:get_gm(row['text']), axis=1)\n",
    "test_gm = test_df.progress_apply(lambda row:get_gm(row['text']), axis=1)\n",
    "\n",
    "\n",
    "\n",
    "my_val_result = pd.DataFrame()\n",
    "my_val_result['sample_id'] = val_df['sample_id']\n",
    "my_val_result['predict_gs'] = val_df.progress_apply(lambda row: get_gm(row['text']), axis=1)\n",
    "my_test_gs = train_outputs.groupby('sample_id').apply(lambda row:list(row['实际购买公司名称'])[0]).reset_index()\n",
    "my_test_gs.columns = ['sample_id', 'gs']\n",
    "my_val_result = pd.merge(my_val_result, my_test_gs, on='sample_id', how='left')\n",
    "\n",
    "# 判断验证集的准确率\n",
    "np.sum(my_val_result['predict_gs'].astype(str) == my_val_result['gs'].astype(str))/len(my_val_result)"
   ]
  },
  {
   "cell_type": "markdown",
   "metadata": {},
   "source": [
    "#### 3.清洗提取出来的tabel数据，主要是清洗掉有问题的列 "
   ]
  },
  {
   "cell_type": "code",
   "execution_count": 21,
   "metadata": {
    "tags": []
   },
   "outputs": [
    {
     "output_type": "stream",
     "name": "stderr",
     "text": "100%|██████████| 7217/7217 [00:09<00:00, 753.25it/s]\n100%|██████████| 1800/1800 [00:02<00:00, 807.64it/s]\n100%|██████████| 8660/8660 [00:03<00:00, 2201.34it/s]\n"
    }
   ],
   "source": [
    "# 将table转换格式以及处理\n",
    "def deal_tabel(row):\n",
    "    row = eval(row)\n",
    "    if len(row)==0:\n",
    "        return []\n",
    "    else:\n",
    "        new_row = []\n",
    "        for i in row:\n",
    "            for d in i:\n",
    "                new_temp = []\n",
    "                for h in d:\n",
    "                    # 这里处理空数据或者错误的数据\n",
    "                    h = str(h).replace('None', '').replace('\\n','').replace(' ', '')                    \n",
    "                    if h=='':\n",
    "                        continue\n",
    "                    if h=='.':\n",
    "                        continue\n",
    "                    if h=='/':\n",
    "                        continue\n",
    "                    new_temp.append(h)\n",
    "                new_row.append(new_temp)\n",
    "        # 这里判断是否构成一个完整得认购数据(通过一个list进行判断)\n",
    "        new_new_row = []\n",
    "        for i in new_row:\n",
    "            if len(i) == 0:\n",
    "                continue\n",
    "            elif len(i) <= 4:\n",
    "                continue\n",
    "            else:\n",
    "                new_new_row.append(i)\n",
    "        return new_new_row\n",
    "train_df_tabel = train_df['tabel'].progress_apply(lambda row:deal_tabel(row))\n",
    "val_df_tabel = val_df['tabel'].progress_apply(lambda row:deal_tabel(row))\n",
    "test_df_tabel = test_df['tabel'].progress_apply(lambda row:deal_tabel(row))"
   ]
  },
  {
   "cell_type": "markdown",
   "metadata": {},
   "source": [
    "#### 4.抽取的是单独的数据包含\n",
    "#### 起息日，到息日， 金额，认购日期，产品发行方，理财产品"
   ]
  },
  {
   "cell_type": "code",
   "execution_count": 7,
   "metadata": {
    "tags": []
   },
   "outputs": [
    {
     "output_type": "error",
     "ename": "NameError",
     "evalue": "name 'val_df_tabel' is not defined",
     "traceback": [
      "\u001b[1;31m---------------------------------------------------------------------------\u001b[0m",
      "\u001b[1;31mNameError\u001b[0m                                 Traceback (most recent call last)",
      "\u001b[1;32m<ipython-input-7-a502b37fada1>\u001b[0m in \u001b[0;36m<module>\u001b[1;34m\u001b[0m\n\u001b[0;32m    114\u001b[0m     \u001b[1;32mreturn\u001b[0m \u001b[0mnew_df\u001b[0m\u001b[1;33m\u001b[0m\u001b[1;33m\u001b[0m\u001b[0m\n\u001b[0;32m    115\u001b[0m \u001b[1;33m\u001b[0m\u001b[0m\n\u001b[1;32m--> 116\u001b[1;33m \u001b[0mval_contain_date\u001b[0m \u001b[1;33m=\u001b[0m \u001b[0mget_list_data\u001b[0m\u001b[1;33m(\u001b[0m\u001b[0mval_df_tabel\u001b[0m\u001b[1;33m)\u001b[0m\u001b[1;33m\u001b[0m\u001b[1;33m\u001b[0m\u001b[0m\n\u001b[0m\u001b[0;32m    117\u001b[0m \u001b[0mtest_contain_data\u001b[0m \u001b[1;33m=\u001b[0m \u001b[0mget_list_data\u001b[0m\u001b[1;33m(\u001b[0m\u001b[0mtest_df_tabel\u001b[0m\u001b[1;33m)\u001b[0m\u001b[1;33m\u001b[0m\u001b[1;33m\u001b[0m\u001b[0m\n",
      "\u001b[1;31mNameError\u001b[0m: name 'val_df_tabel' is not defined"
     ]
    }
   ],
   "source": [
    "# 直接提取时间\n",
    "# 如果出现两个时间第一个就是起息日，第二个就是到期日\n",
    "# 如果出现一个时间就是起息日\n",
    "# 出现的第一个money就是最后的金额\n",
    "# 从这里面抽取所有序列\n",
    "# 这里认为有逗号出现的就是money\n",
    "\n",
    "def is_number(s):\n",
    "    try:\n",
    "        float(s)\n",
    "        return True\n",
    "    except ValueError:\n",
    "        pass\n",
    " \n",
    "    try:\n",
    "        import unicodedata\n",
    "        unicodedata.numeric(s)\n",
    "        return True\n",
    "    except (TypeError, ValueError):\n",
    "        pass\n",
    "    return False\n",
    "\n",
    "from src.time_extractor import TimeFinder\n",
    "import datetime\n",
    "def get_list_data(df):\n",
    "    df = list(df)\n",
    "    new_df = []\n",
    "    for i in tqdm(df):\n",
    "        temp_df = []\n",
    "        for h in i:\n",
    "            new_h = []\n",
    "            for digital in h:\n",
    "                if ',' in digital:\n",
    "                    # 这里也是为了统一数据有些是用元，有些是用万元\n",
    "                    try:\n",
    "                        ttt = float(digital.replace(',', '').replace('万元', '').replace('人民币', '').replace('元', ''))\n",
    "                    except Exception:\n",
    "                        continue\n",
    "                    if ttt > 20000:\n",
    "                        ttt = ttt/10000\n",
    "                    new_h.append(ttt)\n",
    "                else:\n",
    "                    continue\n",
    "            if len(new_h) == 0:\n",
    "                continue\n",
    "            temp_single = {}\n",
    "            a = '_'.join(h)\n",
    "            # 抽取时间和money\n",
    "            t = TimeFinder()\n",
    "            time_all = t.find_time(a)\n",
    "            if time_all == None:\n",
    "                continue\n",
    "            rgrq = time_all[0]\n",
    "            cpqxr = time_all[0]\n",
    "            if len(time_all) > 1:\n",
    "                try:\n",
    "                    cpdxr = time_all[1]\n",
    "                    # 相减\n",
    "                    d1 = datetime.datetime.strptime(cpqxr, '%Y-%m-%d')\n",
    "                    d2 = datetime.datetime.strptime(cpdxr, '%Y-%m-%d')\n",
    "                    d = d2 - d1\n",
    "                    cpqx = str(d.days) + '天'\n",
    "                except Exception:\n",
    "                    cpdxr = np.nan\n",
    "                    cpqx = np.nan\n",
    "            else:\n",
    "                cpdxr = np.nan\n",
    "                cpqx = np.nan\n",
    "                \n",
    "            # 筛选出除开数字与包含时间的列\n",
    "            # 末尾是\n",
    "            last_two = ['公司', '银行', '信托', '证券',  '分行', '支行', '中心', '业部', '商行', '建行']\n",
    "            mowei = np.nan\n",
    "            selected_bank_and_works = []\n",
    "            for l in h:\n",
    "                new_l = list(str(l))\n",
    "                new_l_test = ''.join(l[-2:])\n",
    "                if new_l_test in last_two:\n",
    "                    mowei = l\n",
    "                    continue\n",
    "                if '资金' in l:\n",
    "                    continue\n",
    "                if '收益' in l:\n",
    "                    continue\n",
    "                if '到期' in l:\n",
    "                    continue\n",
    "                if ',' in l:\n",
    "                    continue\n",
    "                if '.' in l:\n",
    "                    continue\n",
    "                if '/' in l:\n",
    "                    continue\n",
    "                if '年' in l:\n",
    "                    continue\n",
    "                if '-' in l:\n",
    "                    continue\n",
    "                if len(l) < 4:\n",
    "                    continue\n",
    "                if is_number(l):\n",
    "                    continue\n",
    "                selected_bank_and_works.append(l)\n",
    "            if len(selected_bank_and_works) < 1:\n",
    "                continue\n",
    "            \n",
    "            temp_single['认购日期'] = rgrq\n",
    "            temp_single['产品起息日'] = cpqxr\n",
    "            temp_single['产品到期日'] = cpdxr\n",
    "            temp_single['产品期限'] = cpqx\n",
    "            temp_single['认购金额(万元)'] = new_h[0]\n",
    "            temp_single['产品发行方名称'] = mowei\n",
    "            temp_single['理财产品名称'] = selected_bank_and_works[0]\n",
    "            temp_df.append(temp_single)\n",
    "        new_df.append(temp_df)\n",
    "    return new_df\n",
    "\n",
    "val_contain_date = get_list_data(val_df_tabel)\n",
    "test_contain_data = get_list_data(test_df_tabel) "
   ]
  },
  {
   "cell_type": "markdown",
   "metadata": {},
   "source": [
    "#### 5.汇总整理数据"
   ]
  },
  {
   "cell_type": "code",
   "execution_count": 8,
   "metadata": {},
   "outputs": [
    {
     "output_type": "error",
     "ename": "NameError",
     "evalue": "name 'val_df' is not defined",
     "traceback": [
      "\u001b[1;31m---------------------------------------------------------------------------\u001b[0m",
      "\u001b[1;31mNameError\u001b[0m                                 Traceback (most recent call last)",
      "\u001b[1;32m<ipython-input-8-6055024a2d9d>\u001b[0m in \u001b[0;36m<module>\u001b[1;34m\u001b[0m\n\u001b[0;32m     11\u001b[0m \u001b[0mggrq_list\u001b[0m \u001b[1;33m=\u001b[0m \u001b[1;33m[\u001b[0m\u001b[1;33m]\u001b[0m\u001b[1;33m\u001b[0m\u001b[1;33m\u001b[0m\u001b[0m\n\u001b[0;32m     12\u001b[0m \u001b[1;33m\u001b[0m\u001b[0m\n\u001b[1;32m---> 13\u001b[1;33m \u001b[0msample_id\u001b[0m \u001b[1;33m=\u001b[0m \u001b[0mlist\u001b[0m\u001b[1;33m(\u001b[0m\u001b[0mval_df\u001b[0m\u001b[1;33m[\u001b[0m\u001b[1;34m'sample_id'\u001b[0m\u001b[1;33m]\u001b[0m\u001b[1;33m)\u001b[0m\u001b[1;33m\u001b[0m\u001b[1;33m\u001b[0m\u001b[0m\n\u001b[0m\u001b[0;32m     14\u001b[0m \u001b[0mgg\u001b[0m \u001b[1;33m=\u001b[0m \u001b[0mlist\u001b[0m\u001b[1;33m(\u001b[0m\u001b[0mval_gm\u001b[0m\u001b[1;33m)\u001b[0m\u001b[1;33m\u001b[0m\u001b[1;33m\u001b[0m\u001b[0m\n\u001b[0;32m     15\u001b[0m \u001b[0mtime\u001b[0m \u001b[1;33m=\u001b[0m \u001b[0mlist\u001b[0m\u001b[1;33m(\u001b[0m\u001b[0mval_time\u001b[0m\u001b[1;33m)\u001b[0m\u001b[1;33m\u001b[0m\u001b[1;33m\u001b[0m\u001b[0m\n",
      "\u001b[1;31mNameError\u001b[0m: name 'val_df' is not defined"
     ]
    }
   ],
   "source": [
    "# 将前面提取到的数据整理成对应格式\n",
    "sample_id_list = []\n",
    "rgrq_list = []\n",
    "lccp_list = []\n",
    "cpfxf_list = []\n",
    "rgje_list = []\n",
    "cpqxr_list = []\n",
    "cpdxr_list = []\n",
    "cpqx_list = []\n",
    "sjgmgsmc_list = []\n",
    "ggrq_list = []\n",
    "\n",
    "sample_id = list(val_df['sample_id'])\n",
    "gg = list(val_gm)\n",
    "time = list(val_time)\n",
    "for i, value in enumerate(sample_id):\n",
    "    for j in val_contain_date[i]:\n",
    "        sample_id_list.append(sample_id[i])\n",
    "        rgrq_list.append(j['认购日期'])\n",
    "        lccp_list.append(j['理财产品名称'])\n",
    "        cpfxf_list.append(j['产品发行方名称'])\n",
    "        rgje_list.append(j['认购金额(万元)'])\n",
    "        cpqxr_list.append(j['产品起息日'])\n",
    "        cpdxr_list.append(j['产品到期日'])\n",
    "        cpqx_list.append(j['产品期限'])\n",
    "        sjgmgsmc_list.append(gg[i])\n",
    "        ggrq_list.append(time[i])\n",
    "\n",
    "result = pd.DataFrame()\n",
    "result['sample_id'] = sample_id_list\n",
    "result['认购日期'] = rgrq_list\n",
    "result['理财产品名称'] = lccp_list\n",
    "result['产品发行方名称'] = cpfxf_list\n",
    "result['认购金额(万元)'] = rgje_list\n",
    "result['产品起息日'] = cpqxr_list\n",
    "result['产品到期日'] = cpdxr_list\n",
    "result['产品期限'] = cpqx_list\n",
    "result['实际购买公司名称'] = sjgmgsmc_list\n",
    "result['公告日期'] = ggrq_list\n",
    "val_result = result"
   ]
  },
  {
   "cell_type": "code",
   "execution_count": 9,
   "metadata": {},
   "outputs": [
    {
     "output_type": "error",
     "ename": "NameError",
     "evalue": "name 'test_df' is not defined",
     "traceback": [
      "\u001b[1;31m---------------------------------------------------------------------------\u001b[0m",
      "\u001b[1;31mNameError\u001b[0m                                 Traceback (most recent call last)",
      "\u001b[1;32m<ipython-input-9-b4c6950dc117>\u001b[0m in \u001b[0;36m<module>\u001b[1;34m\u001b[0m\n\u001b[0;32m     10\u001b[0m \u001b[0mggrq_list\u001b[0m \u001b[1;33m=\u001b[0m \u001b[1;33m[\u001b[0m\u001b[1;33m]\u001b[0m\u001b[1;33m\u001b[0m\u001b[1;33m\u001b[0m\u001b[0m\n\u001b[0;32m     11\u001b[0m \u001b[1;33m\u001b[0m\u001b[0m\n\u001b[1;32m---> 12\u001b[1;33m \u001b[0msample_id\u001b[0m \u001b[1;33m=\u001b[0m \u001b[0mlist\u001b[0m\u001b[1;33m(\u001b[0m\u001b[0mtest_df\u001b[0m\u001b[1;33m[\u001b[0m\u001b[1;34m'sample_id'\u001b[0m\u001b[1;33m]\u001b[0m\u001b[1;33m)\u001b[0m\u001b[1;33m\u001b[0m\u001b[1;33m\u001b[0m\u001b[0m\n\u001b[0m\u001b[0;32m     13\u001b[0m \u001b[0mgg\u001b[0m \u001b[1;33m=\u001b[0m \u001b[0mlist\u001b[0m\u001b[1;33m(\u001b[0m\u001b[0mtest_gm\u001b[0m\u001b[1;33m)\u001b[0m\u001b[1;33m\u001b[0m\u001b[1;33m\u001b[0m\u001b[0m\n\u001b[0;32m     14\u001b[0m \u001b[0mtime\u001b[0m \u001b[1;33m=\u001b[0m \u001b[0mlist\u001b[0m\u001b[1;33m(\u001b[0m\u001b[0mtest_time\u001b[0m\u001b[1;33m)\u001b[0m\u001b[1;33m\u001b[0m\u001b[1;33m\u001b[0m\u001b[0m\n",
      "\u001b[1;31mNameError\u001b[0m: name 'test_df' is not defined"
     ]
    }
   ],
   "source": [
    "sample_id_list = []\n",
    "rgrq_list = []\n",
    "lccp_list = []\n",
    "cpfxf_list = []\n",
    "rgje_list = []\n",
    "cpqxr_list = []\n",
    "cpdxr_list = []\n",
    "cpqx_list = []\n",
    "sjgmgsmc_list = []\n",
    "ggrq_list = []\n",
    "\n",
    "sample_id = list(test_df['sample_id'])\n",
    "gg = list(test_gm)\n",
    "time = list(test_time)\n",
    "for i, value in enumerate(sample_id):\n",
    "    for j in test_contain_data[i]:\n",
    "        sample_id_list.append(sample_id[i])\n",
    "        rgrq_list.append(j['认购日期'])\n",
    "        lccp_list.append(j['理财产品名称'])\n",
    "        cpfxf_list.append(j['产品发行方名称'])\n",
    "        rgje_list.append(j['认购金额(万元)'])\n",
    "        cpqxr_list.append(j['产品起息日'])\n",
    "        cpdxr_list.append(j['产品到期日'])\n",
    "        cpqx_list.append(j['产品期限'])\n",
    "        sjgmgsmc_list.append(gg[i])\n",
    "        ggrq_list.append(time[i])\n",
    "\n",
    "result = pd.DataFrame()\n",
    "result['sample_id'] = sample_id_list\n",
    "result['认购日期'] = rgrq_list\n",
    "result['理财产品名称'] = lccp_list\n",
    "result['产品发行方名称'] = cpfxf_list\n",
    "result['认购金额(万元)'] = rgje_list\n",
    "result['产品起息日'] = cpqxr_list\n",
    "result['产品到期日'] = cpdxr_list\n",
    "result['产品期限'] = cpqx_list\n",
    "result['实际购买公司名称'] = sjgmgsmc_list\n",
    "result['公告日期'] = ggrq_list\n",
    "test_result = result\n",
    "test_result"
   ]
  }
 ],
 "metadata": {
  "kernelspec": {
   "display_name": "Python 3",
   "language": "python",
   "name": "python3"
  },
  "language_info": {
   "codemirror_mode": {
    "name": "ipython",
    "version": 3
   },
   "file_extension": ".py",
   "mimetype": "text/x-python",
   "name": "python",
   "nbconvert_exporter": "python",
   "pygments_lexer": "ipython3",
   "version": "3.8.3-final"
  }
 },
 "nbformat": 4,
 "nbformat_minor": 4
}